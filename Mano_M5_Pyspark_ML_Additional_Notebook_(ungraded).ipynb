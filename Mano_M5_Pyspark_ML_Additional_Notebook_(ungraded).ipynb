{
  "nbformat": 4,
  "nbformat_minor": 0,
  "metadata": {
    "kernelspec": {
      "display_name": "Python 3",
      "language": "python",
      "name": "python3"
    },
    "language_info": {
      "codemirror_mode": {
        "name": "ipython",
        "version": 3
      },
      "file_extension": ".py",
      "mimetype": "text/x-python",
      "name": "python",
      "nbconvert_exporter": "python",
      "pygments_lexer": "ipython3",
      "version": "3.8.5"
    },
    "colab": {
      "provenance": [],
      "include_colab_link": true
    }
  },
  "cells": [
    {
      "cell_type": "markdown",
      "metadata": {
        "id": "view-in-github",
        "colab_type": "text"
      },
      "source": [
        "<a href=\"https://colab.research.google.com/github/maverick98/CDS/blob/main/Mano_M5_Pyspark_ML_Additional_Notebook_(ungraded).ipynb\" target=\"_parent\"><img src=\"https://colab.research.google.com/assets/colab-badge.svg\" alt=\"Open In Colab\"/></a>"
      ]
    },
    {
      "cell_type": "markdown",
      "metadata": {
        "id": "5gco6DBlYANg"
      },
      "source": [
        "# Advanced Certification Program in Computational Data Science\n",
        "## A Program by IISc and TalentSprint\n",
        "### Additional Notebook (ungraded) on PySpark ML\n"
      ]
    },
    {
      "cell_type": "markdown",
      "metadata": {
        "id": "c3WtQbQ6YANo"
      },
      "source": [
        "## Learning Objectives"
      ]
    },
    {
      "cell_type": "markdown",
      "metadata": {
        "id": "5e7GNBKzYANp"
      },
      "source": [
        "At the end of the experiment, you will be able to\n",
        "\n",
        "* understand the concept of machine learning using PySpark\n",
        "* Explore and visualize California housing dataset\n",
        "* understand code implementation for performing machine learning using PySpark"
      ]
    },
    {
      "cell_type": "markdown",
      "metadata": {
        "id": "T0Ww4neyYANq"
      },
      "source": [
        "### Introduction"
      ]
    },
    {
      "cell_type": "markdown",
      "source": [
        "### Machine Learning using PySpark"
      ],
      "metadata": {
        "id": "E5rRP3nka1HH"
      }
    },
    {
      "cell_type": "markdown",
      "source": [
        "PySpark MLlib is a machine-learning library. It is like a wrapper over PySpark Core to do data analysis using machine-learning algorithms. It works on distributed systems and is scalable. It can be used for classification, clustering, linear regression, and other machine-learning algorithms in PySpark MLlib."
      ],
      "metadata": {
        "id": "5B_BXJwHa3Ra"
      }
    },
    {
      "cell_type": "markdown",
      "source": [
        "* It has a number advantages such as it is faster than previous approaches like MapReduce.\n",
        "* It has multiple functions that it offers such as running distributed SQL.\n",
        "\n",
        "To know more about a pyspark's ML pipeline click [here](https://spark.apache.org/docs/2.3.1/api/python/pyspark.ml.html#module-pyspark.ml.classification)"
      ],
      "metadata": {
        "id": "GhbanVfWd7Uv"
      }
    },
    {
      "cell_type": "markdown",
      "source": [
        "\n",
        "**Problem Statement:** Predicting House Prices using California Housing Dataset"
      ],
      "metadata": {
        "id": "jLyDqEafOmYg"
      }
    },
    {
      "cell_type": "markdown",
      "source": [
        "In this section, we'll make use of the California Housing data set. Note, of course, that this is actually 'small', but, the purpose of this notebook is meant to give you an idea of how we can use PySpark to build a machine learning model."
      ],
      "metadata": {
        "id": "3zbRzn_2WIoB"
      }
    },
    {
      "cell_type": "markdown",
      "source": [
        "**Dataset Description** : The California Housing data set appeared in a 1997 paper titled Sparse Spatial Autoregressions, written by Pace, R. Kelley and Ronald Barry and published in the Statistics and Probability Letters journal. The researchers built this data set by using the 1990 California census data.\n",
        "\n",
        "The data contains one row per census block group. A block group is the smallest geographical unit for which the U.S. Census Bureau publishes sample data (a block group typically has a population of 600 to 3,000 people). In this sample a block group on average includes 1425.5 individuals living in a geographically compact area.\n",
        "\n",
        "These spatial data contain 20,640 observations on housing prices with 9 economic variables:\n",
        "\n",
        "`Longitude`:refers to the angular distance of a geographic place north or south of the earth’s equator for each block group\n",
        "\n",
        "`Latitude` :refers to the angular distance of a geographic place east or west of the earth’s equator for each block group\n",
        "\n",
        "`Housing Median Age`:is the median age of the people that belong to a block group. Note that the median is the value that lies at the midpoint of a frequency distribution of observed values\n",
        "\n",
        "`Total Rooms`:is the total number of rooms in the houses per block group\n",
        "\n",
        "`Total Bedrooms`:is the total number of bedrooms in the houses per block group\n",
        "\n",
        "`Population`:is the number of inhabitants of a block group\n",
        "\n",
        "`Households`:refers to units of houses and their occupants per block group\n",
        "\n",
        "`Median Income`:is used to register the median income of people that belong to a block group\n",
        "\n",
        "`Median House Value`:is the dependent variable and refers to the median house value per block group\n",
        "\n",
        "\n",
        "The Median house value is the dependent variable and will be assigned the role of the target variable in our ML model."
      ],
      "metadata": {
        "id": "5nZn6MKYWgiy"
      }
    },
    {
      "cell_type": "code",
      "source": [
        "#@title Run this cell to download the dataset\n",
        "from IPython import get_ipython\n",
        "ipython = get_ipython()\n",
        "ipython.magic(\"sx wget https://cdn.iisc.talentsprint.com/DLFA/Experiment_related_data/cal_housing.data\")"
      ],
      "metadata": {
        "cellView": "form",
        "id": "nOj2rcqJWBYN",
        "colab": {
          "base_uri": "https://localhost:8080/"
        },
        "outputId": "e9aaabce-47c6-4c72-c510-b0a9bf775640"
      },
      "execution_count": 1,
      "outputs": [
        {
          "output_type": "execute_result",
          "data": {
            "text/plain": [
              "['--2023-02-11 08:22:24--  https://cdn.iisc.talentsprint.com/DLFA/Experiment_related_data/cal_housing.data',\n",
              " 'Resolving cdn.iisc.talentsprint.com (cdn.iisc.talentsprint.com)... 172.105.52.210',\n",
              " 'Connecting to cdn.iisc.talentsprint.com (cdn.iisc.talentsprint.com)|172.105.52.210|:443... connected.',\n",
              " 'HTTP request sent, awaiting response... 200 OK',\n",
              " 'Length: 2071484 (2.0M) [application/octet-stream]',\n",
              " 'Saving to: ‘cal_housing.data’',\n",
              " '',\n",
              " '',\n",
              " 'cal_housing.data      0%[                    ]       0  --.-KB/s               ',\n",
              " 'cal_housing.data      1%[                    ]  39.75K   125KB/s               ',\n",
              " 'cal_housing.data      4%[                    ]  87.75K   138KB/s               ',\n",
              " 'cal_housing.data      7%[>                   ] 151.75K   159KB/s               ',\n",
              " 'cal_housing.data     15%[==>                 ] 311.75K   245KB/s               ',\n",
              " 'cal_housing.data     32%[=====>              ] 647.75K   408KB/s               ',\n",
              " 'cal_housing.data     63%[===========>        ]   1.26M   676KB/s               ',\n",
              " 'cal_housing.data    100%[===================>]   1.97M  1.03MB/s    in 1.9s    ',\n",
              " '',\n",
              " '2023-02-11 08:22:27 (1.03 MB/s) - ‘cal_housing.data’ saved [2071484/2071484]',\n",
              " '']"
            ]
          },
          "metadata": {},
          "execution_count": 1
        }
      ]
    },
    {
      "cell_type": "markdown",
      "source": [
        "### Importing the required libraries and packages"
      ],
      "metadata": {
        "id": "tqvn3NfldIEv"
      }
    },
    {
      "cell_type": "code",
      "source": [
        "!pip install pyspark"
      ],
      "metadata": {
        "id": "O68_-GPiXoG5",
        "colab": {
          "base_uri": "https://localhost:8080/"
        },
        "outputId": "f4b9bc31-2163-4e6e-d67b-2d992ea9e7fc"
      },
      "execution_count": 2,
      "outputs": [
        {
          "output_type": "stream",
          "name": "stdout",
          "text": [
            "Looking in indexes: https://pypi.org/simple, https://us-python.pkg.dev/colab-wheels/public/simple/\n",
            "Collecting pyspark\n",
            "  Downloading pyspark-3.3.1.tar.gz (281.4 MB)\n",
            "\u001b[2K     \u001b[90m━━━━━━━━━━━━━━━━━━━━━━━━━━━━━━━━━━━━━━━\u001b[0m \u001b[32m281.4/281.4 MB\u001b[0m \u001b[31m3.1 MB/s\u001b[0m eta \u001b[36m0:00:00\u001b[0m\n",
            "\u001b[?25h  Preparing metadata (setup.py) ... \u001b[?25l\u001b[?25hdone\n",
            "Collecting py4j==0.10.9.5\n",
            "  Downloading py4j-0.10.9.5-py2.py3-none-any.whl (199 kB)\n",
            "\u001b[2K     \u001b[90m━━━━━━━━━━━━━━━━━━━━━━━━━━━━━━━━━━━━━━\u001b[0m \u001b[32m199.7/199.7 KB\u001b[0m \u001b[31m19.1 MB/s\u001b[0m eta \u001b[36m0:00:00\u001b[0m\n",
            "\u001b[?25hBuilding wheels for collected packages: pyspark\n",
            "  Building wheel for pyspark (setup.py) ... \u001b[?25l\u001b[?25hdone\n",
            "  Created wheel for pyspark: filename=pyspark-3.3.1-py2.py3-none-any.whl size=281845512 sha256=b29faa813e8305b87c54d377135861cbb8c7cc50fcaee046e1f2b4c3e195e4e2\n",
            "  Stored in directory: /root/.cache/pip/wheels/43/dc/11/ec201cd671da62fa9c5cc77078235e40722170ceba231d7598\n",
            "Successfully built pyspark\n",
            "Installing collected packages: py4j, pyspark\n",
            "Successfully installed py4j-0.10.9.5 pyspark-3.3.1\n"
          ]
        }
      ]
    },
    {
      "cell_type": "code",
      "source": [
        "import pandas as pd\n",
        "import numpy as np\n",
        "\n",
        "from pyspark import SparkConf, SparkContext\n",
        "from pyspark.sql import SparkSession, SQLContext\n",
        "\n",
        "from pyspark.sql.types import StructType\n",
        "from pyspark.sql.types import StructField\n",
        "from pyspark.sql.types import FloatType\n",
        "\n",
        "import pyspark.sql.functions as F\n",
        "from pyspark.sql.functions import udf, col\n",
        "\n",
        "from pyspark.ml.regression import LinearRegression\n",
        "from pyspark.mllib.evaluation import RegressionMetrics\n",
        "\n",
        "from pyspark.ml.tuning import ParamGridBuilder, CrossValidator, CrossValidatorModel\n",
        "from pyspark.ml.feature import VectorAssembler, StandardScaler\n",
        "from pyspark.ml.evaluation import RegressionEvaluator\n",
        "import seaborn as sns\n",
        "import matplotlib.pyplot as plt"
      ],
      "metadata": {
        "id": "BNbIkL9DXtKo"
      },
      "execution_count": 3,
      "outputs": []
    },
    {
      "cell_type": "code",
      "source": [
        "# Visualization\n",
        "from IPython.core.interactiveshell import InteractiveShell\n",
        "InteractiveShell.ast_node_interactivity = \"all\"\n",
        "\n",
        "pd.set_option('display.max_columns', 200)\n",
        "pd.set_option('display.max_colwidth', 400)\n",
        "\n",
        "from matplotlib import rcParams\n",
        "sns.set(context='notebook', style='whitegrid', rc={'figure.figsize': (18,4)})\n",
        "rcParams['figure.figsize'] = 18,4\n",
        "\n",
        "%matplotlib inline\n",
        "%config InlineBackend.figure_format = 'retina'"
      ],
      "metadata": {
        "id": "LTce0dhxX55K"
      },
      "execution_count": 4,
      "outputs": []
    },
    {
      "cell_type": "code",
      "source": [
        "# Setting random seed\n",
        "rnd_seed=23\n",
        "np.random.seed=rnd_seed\n",
        "np.random.set_state=rnd_seed"
      ],
      "metadata": {
        "id": "RS3bziWhX67h"
      },
      "execution_count": 5,
      "outputs": []
    },
    {
      "cell_type": "markdown",
      "source": [
        "#### Creating the Spark Session"
      ],
      "metadata": {
        "id": "jegkXn3xX_hc"
      }
    },
    {
      "cell_type": "code",
      "source": [
        "spark = SparkSession.builder.master(\"local[2]\").appName(\"Linear-Regression-California-Housing\").getOrCreate()"
      ],
      "metadata": {
        "id": "WubepuVEX9EE"
      },
      "execution_count": 6,
      "outputs": []
    },
    {
      "cell_type": "code",
      "source": [
        "spark"
      ],
      "metadata": {
        "id": "7UKlmmf7YFLj",
        "colab": {
          "base_uri": "https://localhost:8080/",
          "height": 220
        },
        "outputId": "d66dfff9-1338-469e-ef65-6585282eba02"
      },
      "execution_count": 7,
      "outputs": [
        {
          "output_type": "execute_result",
          "data": {
            "text/plain": [
              "<pyspark.sql.session.SparkSession at 0x7f443c6fb6d0>"
            ],
            "text/html": [
              "\n",
              "            <div>\n",
              "                <p><b>SparkSession - in-memory</b></p>\n",
              "                \n",
              "        <div>\n",
              "            <p><b>SparkContext</b></p>\n",
              "\n",
              "            <p><a href=\"http://4233a133f424:4040\">Spark UI</a></p>\n",
              "\n",
              "            <dl>\n",
              "              <dt>Version</dt>\n",
              "                <dd><code>v3.3.1</code></dd>\n",
              "              <dt>Master</dt>\n",
              "                <dd><code>local[2]</code></dd>\n",
              "              <dt>AppName</dt>\n",
              "                <dd><code>Linear-Regression-California-Housing</code></dd>\n",
              "            </dl>\n",
              "        </div>\n",
              "        \n",
              "            </div>\n",
              "        "
            ]
          },
          "metadata": {},
          "execution_count": 7
        }
      ]
    },
    {
      "cell_type": "markdown",
      "source": [
        "Creating Spark Context"
      ],
      "metadata": {
        "id": "1wszx0QCSTxa"
      }
    },
    {
      "cell_type": "code",
      "source": [
        "sc = spark.sparkContext\n",
        "sc"
      ],
      "metadata": {
        "id": "7Kv9LhAFYF2c",
        "colab": {
          "base_uri": "https://localhost:8080/",
          "height": 197
        },
        "outputId": "7ac4172c-d263-475a-bcad-8e85dcf396ac"
      },
      "execution_count": 8,
      "outputs": [
        {
          "output_type": "execute_result",
          "data": {
            "text/plain": [
              "<SparkContext master=local[2] appName=Linear-Regression-California-Housing>"
            ],
            "text/html": [
              "\n",
              "        <div>\n",
              "            <p><b>SparkContext</b></p>\n",
              "\n",
              "            <p><a href=\"http://4233a133f424:4040\">Spark UI</a></p>\n",
              "\n",
              "            <dl>\n",
              "              <dt>Version</dt>\n",
              "                <dd><code>v3.3.1</code></dd>\n",
              "              <dt>Master</dt>\n",
              "                <dd><code>local[2]</code></dd>\n",
              "              <dt>AppName</dt>\n",
              "                <dd><code>Linear-Regression-California-Housing</code></dd>\n",
              "            </dl>\n",
              "        </div>\n",
              "        "
            ]
          },
          "metadata": {},
          "execution_count": 8
        }
      ]
    },
    {
      "cell_type": "markdown",
      "source": [
        "Creating SQL Context"
      ],
      "metadata": {
        "id": "v6l38V69SUe-"
      }
    },
    {
      "cell_type": "code",
      "source": [
        "sqlContext = SQLContext(spark.sparkContext)\n",
        "sqlContext"
      ],
      "metadata": {
        "id": "0ppSUWhNYK7g",
        "colab": {
          "base_uri": "https://localhost:8080/"
        },
        "outputId": "86671f3f-8ac4-4b6b-ede8-213f4c35925c"
      },
      "execution_count": 9,
      "outputs": [
        {
          "output_type": "stream",
          "name": "stderr",
          "text": [
            "/usr/local/lib/python3.8/dist-packages/pyspark/sql/context.py:112: FutureWarning: Deprecated in 3.0.0. Use SparkSession.builder.getOrCreate() instead.\n",
            "  warnings.warn(\n"
          ]
        },
        {
          "output_type": "execute_result",
          "data": {
            "text/plain": [
              "<pyspark.sql.context.SQLContext at 0x7f440be36ca0>"
            ]
          },
          "metadata": {},
          "execution_count": 9
        }
      ]
    },
    {
      "cell_type": "markdown",
      "source": [
        "#### Load The Data From the File"
      ],
      "metadata": {
        "id": "b57grHvvYPLQ"
      }
    },
    {
      "cell_type": "code",
      "source": [
        "HOUSING_DATA = '/content/cal_housing.data'"
      ],
      "metadata": {
        "id": "Kaun7WFJYOy8"
      },
      "execution_count": 10,
      "outputs": []
    },
    {
      "cell_type": "markdown",
      "source": [
        "Specifying the schema when loading data into a DataFrame will give better performance than schema inference."
      ],
      "metadata": {
        "id": "jSrwug1lXq5s"
      }
    },
    {
      "cell_type": "code",
      "source": [
        "# Define the schema, corresponding to a line in the csv data file.\n",
        "schema = StructType([\n",
        "    StructField(\"long\", FloatType(), nullable=True),\n",
        "    StructField(\"lat\", FloatType(), nullable=True),\n",
        "    StructField(\"medage\", FloatType(), nullable=True),\n",
        "    StructField(\"totrooms\", FloatType(), nullable=True),\n",
        "    StructField(\"totbdrms\", FloatType(), nullable=True),\n",
        "    StructField(\"pop\", FloatType(), nullable=True),\n",
        "    StructField(\"houshlds\", FloatType(), nullable=True),\n",
        "    StructField(\"medinc\", FloatType(), nullable=True),\n",
        "    StructField(\"medhv\", FloatType(), nullable=True)]\n",
        ")"
      ],
      "metadata": {
        "id": "aLQDkA4-YYll"
      },
      "execution_count": 11,
      "outputs": []
    },
    {
      "cell_type": "code",
      "source": [
        "# Load housing data\n",
        "housing_df = spark.read.csv(path=HOUSING_DATA, schema=schema).cache()"
      ],
      "metadata": {
        "id": "LRqtjRYuYbod"
      },
      "execution_count": 12,
      "outputs": []
    },
    {
      "cell_type": "code",
      "source": [
        "# Inspect first five rows\n",
        "housing_df.take(5)"
      ],
      "metadata": {
        "id": "5pqBm42nYd4m",
        "colab": {
          "base_uri": "https://localhost:8080/"
        },
        "outputId": "149ce03f-7560-40dc-ea96-7a63b53a35c4"
      },
      "execution_count": 13,
      "outputs": [
        {
          "output_type": "execute_result",
          "data": {
            "text/plain": [
              "[Row(long=-122.2300033569336, lat=37.880001068115234, medage=41.0, totrooms=880.0, totbdrms=129.0, pop=322.0, houshlds=126.0, medinc=8.325200080871582, medhv=452600.0),\n",
              " Row(long=-122.22000122070312, lat=37.86000061035156, medage=21.0, totrooms=7099.0, totbdrms=1106.0, pop=2401.0, houshlds=1138.0, medinc=8.301400184631348, medhv=358500.0),\n",
              " Row(long=-122.23999786376953, lat=37.849998474121094, medage=52.0, totrooms=1467.0, totbdrms=190.0, pop=496.0, houshlds=177.0, medinc=7.257400035858154, medhv=352100.0),\n",
              " Row(long=-122.25, lat=37.849998474121094, medage=52.0, totrooms=1274.0, totbdrms=235.0, pop=558.0, houshlds=219.0, medinc=5.643099784851074, medhv=341300.0),\n",
              " Row(long=-122.25, lat=37.849998474121094, medage=52.0, totrooms=1627.0, totbdrms=280.0, pop=565.0, houshlds=259.0, medinc=3.8461999893188477, medhv=342200.0)]"
            ]
          },
          "metadata": {},
          "execution_count": 13
        }
      ]
    },
    {
      "cell_type": "code",
      "source": [
        "# Display first five rows\n",
        "housing_df.show(5)"
      ],
      "metadata": {
        "id": "zmXg02AnYgNu",
        "colab": {
          "base_uri": "https://localhost:8080/"
        },
        "outputId": "d93ca9e1-c596-4ee2-c425-671b632e1f72"
      },
      "execution_count": 14,
      "outputs": [
        {
          "output_type": "stream",
          "name": "stdout",
          "text": [
            "+-------+-----+------+--------+--------+------+--------+------+--------+\n",
            "|   long|  lat|medage|totrooms|totbdrms|   pop|houshlds|medinc|   medhv|\n",
            "+-------+-----+------+--------+--------+------+--------+------+--------+\n",
            "|-122.23|37.88|  41.0|   880.0|   129.0| 322.0|   126.0|8.3252|452600.0|\n",
            "|-122.22|37.86|  21.0|  7099.0|  1106.0|2401.0|  1138.0|8.3014|358500.0|\n",
            "|-122.24|37.85|  52.0|  1467.0|   190.0| 496.0|   177.0|7.2574|352100.0|\n",
            "|-122.25|37.85|  52.0|  1274.0|   235.0| 558.0|   219.0|5.6431|341300.0|\n",
            "|-122.25|37.85|  52.0|  1627.0|   280.0| 565.0|   259.0|3.8462|342200.0|\n",
            "+-------+-----+------+--------+--------+------+--------+------+--------+\n",
            "only showing top 5 rows\n",
            "\n"
          ]
        }
      ]
    },
    {
      "cell_type": "code",
      "source": [
        "# Show the dataframe columns\n",
        "housing_df.columns"
      ],
      "metadata": {
        "id": "-OpkyOitYjd8",
        "colab": {
          "base_uri": "https://localhost:8080/"
        },
        "outputId": "473e7453-a333-43f2-a211-2d22f7ab4562"
      },
      "execution_count": 15,
      "outputs": [
        {
          "output_type": "execute_result",
          "data": {
            "text/plain": [
              "['long',\n",
              " 'lat',\n",
              " 'medage',\n",
              " 'totrooms',\n",
              " 'totbdrms',\n",
              " 'pop',\n",
              " 'houshlds',\n",
              " 'medinc',\n",
              " 'medhv']"
            ]
          },
          "metadata": {},
          "execution_count": 15
        }
      ]
    },
    {
      "cell_type": "code",
      "source": [
        "# Show the schema of the dataframe\n",
        "housing_df.printSchema()"
      ],
      "metadata": {
        "id": "zLfr1YhyYmBP",
        "colab": {
          "base_uri": "https://localhost:8080/"
        },
        "outputId": "8ff6367a-b55f-46a8-fec0-60bc4c3b11f3"
      },
      "execution_count": 16,
      "outputs": [
        {
          "output_type": "stream",
          "name": "stdout",
          "text": [
            "root\n",
            " |-- long: float (nullable = true)\n",
            " |-- lat: float (nullable = true)\n",
            " |-- medage: float (nullable = true)\n",
            " |-- totrooms: float (nullable = true)\n",
            " |-- totbdrms: float (nullable = true)\n",
            " |-- pop: float (nullable = true)\n",
            " |-- houshlds: float (nullable = true)\n",
            " |-- medinc: float (nullable = true)\n",
            " |-- medhv: float (nullable = true)\n",
            "\n"
          ]
        }
      ]
    },
    {
      "cell_type": "markdown",
      "source": [
        "### Data Exploration"
      ],
      "metadata": {
        "id": "CwYmcgSKXF_J"
      }
    },
    {
      "cell_type": "code",
      "source": [
        "# Run a sample selection\n",
        "housing_df.select('pop','totbdrms').show(10)"
      ],
      "metadata": {
        "id": "qrQ7_tk3YxTt",
        "colab": {
          "base_uri": "https://localhost:8080/"
        },
        "outputId": "f5045506-815a-4c71-85ae-5bd261b271cc"
      },
      "execution_count": 17,
      "outputs": [
        {
          "output_type": "stream",
          "name": "stdout",
          "text": [
            "+------+--------+\n",
            "|   pop|totbdrms|\n",
            "+------+--------+\n",
            "| 322.0|   129.0|\n",
            "|2401.0|  1106.0|\n",
            "| 496.0|   190.0|\n",
            "| 558.0|   235.0|\n",
            "| 565.0|   280.0|\n",
            "| 413.0|   213.0|\n",
            "|1094.0|   489.0|\n",
            "|1157.0|   687.0|\n",
            "|1206.0|   665.0|\n",
            "|1551.0|   707.0|\n",
            "+------+--------+\n",
            "only showing top 10 rows\n",
            "\n"
          ]
        }
      ]
    },
    {
      "cell_type": "markdown",
      "source": [
        "### Distribution of the median age of the people living in the area"
      ],
      "metadata": {
        "id": "khdWEHL8ZCOZ"
      }
    },
    {
      "cell_type": "code",
      "source": [
        "# Group by housing median age and see the distribution\n",
        "result_df = housing_df.groupBy(\"medage\").count().sort(\"medage\", ascending=False)"
      ],
      "metadata": {
        "id": "iQRixh37ZIPF"
      },
      "execution_count": 18,
      "outputs": []
    },
    {
      "cell_type": "code",
      "source": [
        "result_df.show(10)"
      ],
      "metadata": {
        "id": "NuUu_qf6ZKWe",
        "colab": {
          "base_uri": "https://localhost:8080/"
        },
        "outputId": "30b3b94c-b808-4d85-ae7b-31e576fafa51"
      },
      "execution_count": 19,
      "outputs": [
        {
          "output_type": "stream",
          "name": "stdout",
          "text": [
            "+------+-----+\n",
            "|medage|count|\n",
            "+------+-----+\n",
            "|  52.0| 1273|\n",
            "|  51.0|   48|\n",
            "|  50.0|  136|\n",
            "|  49.0|  134|\n",
            "|  48.0|  177|\n",
            "|  47.0|  198|\n",
            "|  46.0|  245|\n",
            "|  45.0|  294|\n",
            "|  44.0|  356|\n",
            "|  43.0|  353|\n",
            "+------+-----+\n",
            "only showing top 10 rows\n",
            "\n"
          ]
        }
      ]
    },
    {
      "cell_type": "code",
      "source": [
        "result_df.toPandas().plot.bar(x='medage',figsize=(14, 6))"
      ],
      "metadata": {
        "id": "F4dqFsBbZNLW",
        "colab": {
          "base_uri": "https://localhost:8080/",
          "height": 425
        },
        "outputId": "89ba5a83-bc9e-42a4-b2aa-f583199efe9d"
      },
      "execution_count": 20,
      "outputs": [
        {
          "output_type": "execute_result",
          "data": {
            "text/plain": [
              "<matplotlib.axes._subplots.AxesSubplot at 0x7f440b5ad880>"
            ]
          },
          "metadata": {},
          "execution_count": 20
        },
        {
          "output_type": "display_data",
          "data": {
            "text/plain": [
              "<Figure size 1008x432 with 1 Axes>"
            ],
            "image/png": "[encoded data removed]"
          },
          "metadata": {
            "image/png": {
              "width": 833,
              "height": 390
            },
            "needs_background": "light"
          }
        }
      ]
    },
    {
      "cell_type": "markdown",
      "source": [
        "Most of the residents are either in their youth or middle age group. "
      ],
      "metadata": {
        "id": "7kWbLAAeZQlV"
      }
    },
    {
      "cell_type": "markdown",
      "source": [
        "#### Summary Statistics\n",
        "Spark DataFrames include some built-in functions for statistical processing. The describe() function performs summary statistics calculations on all numeric columns and returns them as a DataFrame."
      ],
      "metadata": {
        "id": "YRZxvrYXZazY"
      }
    },
    {
      "cell_type": "code",
      "source": [
        "(housing_df.describe().select(\n",
        "                    \"summary\",\n",
        "                    F.round(\"medage\", 4).alias(\"medage\"),\n",
        "                    F.round(\"totrooms\", 4).alias(\"totrooms\"),\n",
        "                    F.round(\"totbdrms\", 4).alias(\"totbdrms\"),\n",
        "                    F.round(\"pop\", 4).alias(\"pop\"),\n",
        "                    F.round(\"houshlds\", 4).alias(\"houshlds\"),\n",
        "                    F.round(\"medinc\", 4).alias(\"medinc\"),\n",
        "                    F.round(\"medhv\", 4).alias(\"medhv\"))\n",
        "                    .show())"
      ],
      "metadata": {
        "id": "yvtyaiIKZlL9",
        "colab": {
          "base_uri": "https://localhost:8080/"
        },
        "outputId": "26d08dce-15e2-4969-f449-fdae1bec2798"
      },
      "execution_count": 21,
      "outputs": [
        {
          "output_type": "stream",
          "name": "stdout",
          "text": [
            "+-------+-------+---------+--------+---------+--------+-------+-----------+\n",
            "|summary| medage| totrooms|totbdrms|      pop|houshlds| medinc|      medhv|\n",
            "+-------+-------+---------+--------+---------+--------+-------+-----------+\n",
            "|  count|20640.0|  20640.0| 20640.0|  20640.0| 20640.0|20640.0|    20640.0|\n",
            "|   mean|28.6395|2635.7631| 537.898|1425.4767|499.5397| 3.8707|206855.8169|\n",
            "| stddev|12.5856|2181.6153|421.2479|1132.4621|382.3298| 1.8998|115395.6159|\n",
            "|    min|    1.0|      2.0|     1.0|      3.0|     1.0| 0.4999|    14999.0|\n",
            "|    max|   52.0|  39320.0|  6445.0|  35682.0|  6082.0|15.0001|   500001.0|\n",
            "+-------+-------+---------+--------+---------+--------+-------+-----------+\n",
            "\n"
          ]
        }
      ]
    },
    {
      "cell_type": "markdown",
      "source": [
        "Look at the minimum and maximum values of all the (numerical) attributes. We see that multiple attributes have a wide range of values: we will need to normalize the dataset."
      ],
      "metadata": {
        "id": "Orq7db7MZn_z"
      }
    },
    {
      "cell_type": "markdown",
      "source": [
        "### Data Preprocessing\n",
        "\n",
        "* Standardize the data, as we have seen that the range of minimum and maximum values is quite big.\n",
        "\n",
        "* There are possibly some additional attributes that we could add, such as a feature that registers the number of bedrooms per room or the rooms per household.\n",
        "\n",
        "* The dependent variable is large in value; To make it easier to work with it, we will slightly adjust the values."
      ],
      "metadata": {
        "id": "0G3QsvbZZqj5"
      }
    },
    {
      "cell_type": "markdown",
      "source": [
        "#### Preprocessing The Target Values\n",
        "\n",
        "First, let's start with the medianHouseValue, the dependent variable. To facilitate our working with the target values, we will express the house values in units of 100,000. That means that a target such as 452600.000000 should become 4.526."
      ],
      "metadata": {
        "id": "mGclV3HdaP7A"
      }
    },
    {
      "cell_type": "code",
      "source": [
        "# Adjust the values of `medianHouseValue`\n",
        "housing_df = housing_df.withColumn(\"medhv\", col(\"medhv\")/100000)"
      ],
      "metadata": {
        "id": "om6Ht0rwae1V"
      },
      "execution_count": 22,
      "outputs": []
    },
    {
      "cell_type": "code",
      "source": [
        "# Show the first 2 lines of `df`\n",
        "housing_df.show(2)"
      ],
      "metadata": {
        "id": "51BUNk1zahZI",
        "colab": {
          "base_uri": "https://localhost:8080/"
        },
        "outputId": "58da248a-dd86-4d7d-c6b4-3d4a5d721f77"
      },
      "execution_count": 23,
      "outputs": [
        {
          "output_type": "stream",
          "name": "stdout",
          "text": [
            "+-------+-----+------+--------+--------+------+--------+------+-----+\n",
            "|   long|  lat|medage|totrooms|totbdrms|   pop|houshlds|medinc|medhv|\n",
            "+-------+-----+------+--------+--------+------+--------+------+-----+\n",
            "|-122.23|37.88|  41.0|   880.0|   129.0| 322.0|   126.0|8.3252|4.526|\n",
            "|-122.22|37.86|  21.0|  7099.0|  1106.0|2401.0|  1138.0|8.3014|3.585|\n",
            "+-------+-----+------+--------+--------+------+--------+------+-----+\n",
            "only showing top 2 rows\n",
            "\n"
          ]
        }
      ]
    },
    {
      "cell_type": "markdown",
      "source": [
        "We can clearly see that the values have been adjusted correctly when we look at the result of the show() method."
      ],
      "metadata": {
        "id": "WHOGyeksaj9V"
      }
    },
    {
      "cell_type": "markdown",
      "source": [
        "### Feature Engineering"
      ],
      "metadata": {
        "id": "VHitBip4anG5"
      }
    },
    {
      "cell_type": "markdown",
      "source": [
        "Now that we have adjusted the values in medianHouseValue, we will now add the following columns to the data set:\n",
        "\n",
        "*   Rooms per household which refers to the number of rooms in households per block group;\n",
        "\n",
        "*   Population per household, which basically gives us an indication of how many people live in households per block group;\n",
        "*   Bedrooms per room which will give us an idea about how many rooms are bedrooms per block group;\n",
        "\n",
        "As we are working with DataFrames, it is best to use the select() method to select the columns that we are going to work with, namely totalRooms, households, and population. Additionally, we need to indicate that we are working with columns by adding the col() function to our code. Otherwise, we won't be able to do element-wise operations like the division step ahead.\n",
        "\n",
        "\n"
      ],
      "metadata": {
        "id": "5ZgBUAcBaoV8"
      }
    },
    {
      "cell_type": "code",
      "source": [
        "housing_df.columns"
      ],
      "metadata": {
        "id": "wmjW3cl3c3sT",
        "colab": {
          "base_uri": "https://localhost:8080/"
        },
        "outputId": "ef62e05a-f6f4-4975-8bb3-660520884b56"
      },
      "execution_count": 24,
      "outputs": [
        {
          "output_type": "execute_result",
          "data": {
            "text/plain": [
              "['long',\n",
              " 'lat',\n",
              " 'medage',\n",
              " 'totrooms',\n",
              " 'totbdrms',\n",
              " 'pop',\n",
              " 'houshlds',\n",
              " 'medinc',\n",
              " 'medhv']"
            ]
          },
          "metadata": {},
          "execution_count": 24
        }
      ]
    },
    {
      "cell_type": "code",
      "source": [
        "# Add the new columns to `df`\n",
        "housing_df = (housing_df.withColumn(\"rms_per_hh\", F.round(col(\"totrooms\")/col(\"houshlds\"), 2))\n",
        "                       .withColumn(\"pop_per_hh\", F.round(col(\"pop\")/col(\"houshlds\"), 2))\n",
        "                       .withColumn(\"bdrms_per_rm\", F.round(col(\"totbdrms\")/col(\"totrooms\"), 2)))"
      ],
      "metadata": {
        "id": "FJiaqvwZc6ps"
      },
      "execution_count": 25,
      "outputs": []
    },
    {
      "cell_type": "code",
      "source": [
        "# Inspect the result\n",
        "housing_df.show(5)"
      ],
      "metadata": {
        "id": "6h0C8KJyc9RL",
        "colab": {
          "base_uri": "https://localhost:8080/"
        },
        "outputId": "f73c5474-bf48-4b95-8b06-991b6ecd5a25"
      },
      "execution_count": 26,
      "outputs": [
        {
          "output_type": "stream",
          "name": "stdout",
          "text": [
            "+-------+-----+------+--------+--------+------+--------+------+-----+----------+----------+------------+\n",
            "|   long|  lat|medage|totrooms|totbdrms|   pop|houshlds|medinc|medhv|rms_per_hh|pop_per_hh|bdrms_per_rm|\n",
            "+-------+-----+------+--------+--------+------+--------+------+-----+----------+----------+------------+\n",
            "|-122.23|37.88|  41.0|   880.0|   129.0| 322.0|   126.0|8.3252|4.526|      6.98|      2.56|        0.15|\n",
            "|-122.22|37.86|  21.0|  7099.0|  1106.0|2401.0|  1138.0|8.3014|3.585|      6.24|      2.11|        0.16|\n",
            "|-122.24|37.85|  52.0|  1467.0|   190.0| 496.0|   177.0|7.2574|3.521|      8.29|       2.8|        0.13|\n",
            "|-122.25|37.85|  52.0|  1274.0|   235.0| 558.0|   219.0|5.6431|3.413|      5.82|      2.55|        0.18|\n",
            "|-122.25|37.85|  52.0|  1627.0|   280.0| 565.0|   259.0|3.8462|3.422|      6.28|      2.18|        0.17|\n",
            "+-------+-----+------+--------+--------+------+--------+------+-----+----------+----------+------------+\n",
            "only showing top 5 rows\n",
            "\n"
          ]
        }
      ]
    },
    {
      "cell_type": "markdown",
      "source": [
        "We can see that, for the first row, there are about 6.98 rooms per household, the households in the block group consist of about 2.5 people and the amount of bedrooms is quite low with 0.14.\n",
        "\n",
        "We do not want to necessarily standardize our target values so we should ensure to to isolate those in our data set. Also let us leave out variables that we do not want to consider in our analysis, such as longitude, latitude, housingMedianAge and totalRooms.\n",
        "\n",
        "In this case, we will use the select() method and passing the column names in the order that is more appropriate. In this case, the target variable medianHouseValue is put first, so that it will not be affected by the standardization."
      ],
      "metadata": {
        "id": "jd9lF6XqdCPO"
      }
    },
    {
      "cell_type": "code",
      "source": [
        "# Re-order and select columns\n",
        "housing_df = housing_df.select(\"medhv\", \n",
        "                              \"totbdrms\", \n",
        "                              \"pop\", \n",
        "                              \"houshlds\", \n",
        "                              \"medinc\", \n",
        "                              \"rms_per_hh\", \n",
        "                              \"pop_per_hh\", \n",
        "                              \"bdrms_per_rm\")"
      ],
      "metadata": {
        "id": "nE117HG0dVIi"
      },
      "execution_count": 27,
      "outputs": []
    },
    {
      "cell_type": "markdown",
      "source": [
        "#### Feature Extraction\n",
        "\n",
        "Now that the data is re-ordered, we are ready to normalize the data. We will choose the features to be normalized."
      ],
      "metadata": {
        "id": "YuWiZwoedX-E"
      }
    },
    {
      "cell_type": "code",
      "source": [
        "featureCols = [\"totbdrms\", \"pop\", \"houshlds\", \"medinc\", \"rms_per_hh\", \"pop_per_hh\", \"bdrms_per_rm\"]"
      ],
      "metadata": {
        "id": "W0Br4YTOdd9y"
      },
      "execution_count": 28,
      "outputs": []
    },
    {
      "cell_type": "markdown",
      "source": [
        "**Use a VectorAssembler to put features into a feature vector column**"
      ],
      "metadata": {
        "id": "NgMFGtcKdgRW"
      }
    },
    {
      "cell_type": "code",
      "source": [
        "# Put features into a feature vector column\n",
        "assembler = VectorAssembler(inputCols=featureCols, outputCol=\"features\") "
      ],
      "metadata": {
        "id": "UZxE_YVedmF0"
      },
      "execution_count": 29,
      "outputs": []
    },
    {
      "cell_type": "code",
      "source": [
        "assembled_df = assembler.transform(housing_df)"
      ],
      "metadata": {
        "id": "D8jhDdLQdoA0"
      },
      "execution_count": 30,
      "outputs": []
    },
    {
      "cell_type": "code",
      "source": [
        "assembled_df.show(10, truncate=False)"
      ],
      "metadata": {
        "id": "tWQ5nZGsdqIl",
        "colab": {
          "base_uri": "https://localhost:8080/"
        },
        "outputId": "a1207bf3-4e07-4580-e0f9-b3a4c0714257"
      },
      "execution_count": 31,
      "outputs": [
        {
          "output_type": "stream",
          "name": "stdout",
          "text": [
            "+-----+--------+------+--------+------+----------+----------+------------+-------------------------------------------------------+\n",
            "|medhv|totbdrms|pop   |houshlds|medinc|rms_per_hh|pop_per_hh|bdrms_per_rm|features                                               |\n",
            "+-----+--------+------+--------+------+----------+----------+------------+-------------------------------------------------------+\n",
            "|4.526|129.0   |322.0 |126.0   |8.3252|6.98      |2.56      |0.15        |[129.0,322.0,126.0,8.325200080871582,6.98,2.56,0.15]   |\n",
            "|3.585|1106.0  |2401.0|1138.0  |8.3014|6.24      |2.11      |0.16        |[1106.0,2401.0,1138.0,8.301400184631348,6.24,2.11,0.16]|\n",
            "|3.521|190.0   |496.0 |177.0   |7.2574|8.29      |2.8       |0.13        |[190.0,496.0,177.0,7.257400035858154,8.29,2.8,0.13]    |\n",
            "|3.413|235.0   |558.0 |219.0   |5.6431|5.82      |2.55      |0.18        |[235.0,558.0,219.0,5.643099784851074,5.82,2.55,0.18]   |\n",
            "|3.422|280.0   |565.0 |259.0   |3.8462|6.28      |2.18      |0.17        |[280.0,565.0,259.0,3.8461999893188477,6.28,2.18,0.17]  |\n",
            "|2.697|213.0   |413.0 |193.0   |4.0368|4.76      |2.14      |0.23        |[213.0,413.0,193.0,4.036799907684326,4.76,2.14,0.23]   |\n",
            "|2.992|489.0   |1094.0|514.0   |3.6591|4.93      |2.13      |0.19        |[489.0,1094.0,514.0,3.65910005569458,4.93,2.13,0.19]   |\n",
            "|2.414|687.0   |1157.0|647.0   |3.12  |4.8       |1.79      |0.22        |[687.0,1157.0,647.0,3.119999885559082,4.8,1.79,0.22]   |\n",
            "|2.267|665.0   |1206.0|595.0   |2.0804|4.29      |2.03      |0.26        |[665.0,1206.0,595.0,2.080399990081787,4.29,2.03,0.26]  |\n",
            "|2.611|707.0   |1551.0|714.0   |3.6912|4.97      |2.17      |0.2         |[707.0,1551.0,714.0,3.691200017929077,4.97,2.17,0.2]   |\n",
            "+-----+--------+------+--------+------+----------+----------+------------+-------------------------------------------------------+\n",
            "only showing top 10 rows\n",
            "\n"
          ]
        }
      ]
    },
    {
      "cell_type": "markdown",
      "source": [
        "All the features have transformed into a Dense Vector.\n",
        "\n"
      ],
      "metadata": {
        "id": "zamnqcAmdx6A"
      }
    },
    {
      "cell_type": "markdown",
      "source": [
        "#### Standardization\n",
        "\n",
        "Next, we can finally scale the data using StandardScaler. The input columns are the features, and the output column with the rescaled values that will be included in the scaled_df will be named \"features_scaled\"."
      ],
      "metadata": {
        "id": "lOd7w4eSd0ex"
      }
    },
    {
      "cell_type": "code",
      "source": [
        "# Initialize the `standardScaler`\n",
        "standardScaler = StandardScaler(inputCol=\"features\", outputCol=\"features_scaled\")"
      ],
      "metadata": {
        "id": "l5G28Ivod8z8"
      },
      "execution_count": 32,
      "outputs": []
    },
    {
      "cell_type": "code",
      "source": [
        "# Fit the DataFrame to the scaler\n",
        "scaled_df = standardScaler.fit(assembled_df).transform(assembled_df)"
      ],
      "metadata": {
        "id": "tCCiEOhBd9jT"
      },
      "execution_count": 33,
      "outputs": []
    },
    {
      "cell_type": "code",
      "source": [
        "# Inspect the result\n",
        "scaled_df.select(\"features\", \"features_scaled\").show(10, truncate=False)"
      ],
      "metadata": {
        "id": "VggKmWUad_3g",
        "colab": {
          "base_uri": "https://localhost:8080/"
        },
        "outputId": "b199ed35-f482-4fda-b4ad-953e27c7b93d"
      },
      "execution_count": 34,
      "outputs": [
        {
          "output_type": "stream",
          "name": "stdout",
          "text": [
            "+-------------------------------------------------------+--------------------------------------------------------------------------------------------------------------------------------------+\n",
            "|features                                               |features_scaled                                                                                                                       |\n",
            "+-------------------------------------------------------+--------------------------------------------------------------------------------------------------------------------------------------+\n",
            "|[129.0,322.0,126.0,8.325200080871582,6.98,2.56,0.15]   |[0.30623297630686513,0.2843362208866199,0.3295584480852433,4.38209543579743,2.8211223886115664,0.24648542140099877,2.5828740130262697]|\n",
            "|[1106.0,2401.0,1138.0,8.301400184631348,6.24,2.11,0.16]|[2.6255323394991694,2.1201592122632746,2.9764882057222772,4.36956799913841,2.522034914747303,0.20315790592035446,2.755065613894688]   |\n",
            "|[190.0,496.0,177.0,7.257400035858154,8.29,2.8,0.13]    |[0.451040817816313,0.4379837439744208,0.4629511532626037,3.820042673324032,3.3505880518037077,0.2695934296573424,2.238490811289434]   |\n",
            "|[235.0,558.0,219.0,5.643099784851074,5.82,2.55,0.18]   |[0.557866274667545,0.4927317119712234,0.5728039692910182,2.970331231769803,2.3522825647162344,0.2455225877236511,3.099448815631524]   |\n",
            "|[280.0,565.0,259.0,3.8461999893188477,6.28,2.18,0.17]  |[0.664691731518777,0.4989129341644108,0.6774256988418891,2.024505748166202,2.538201805226452,0.20989774166178804,2.9272572147631064]  |\n",
            "|[213.0,413.0,193.0,4.036799907684326,4.76,2.14,0.23]   |[0.5056404957624983,0.364692109398056,0.5047998450829521,2.124830908428931,1.9238599670187757,0.20604640695239743,3.960406819973614]  |\n",
            "|[489.0,1094.0,514.0,3.65910005569458,4.93,2.13,0.19]   |[1.1608366311167213,0.9660367256210006,1.344389224728691,1.9260228580003875,1.9925692515551605,0.20508357327504975,3.271640416499942] |\n",
            "|[687.0,1157.0,647.0,3.119999885559082,4.8,1.79,0.22]   |[1.6308686412621423,1.021667725359687,1.6922564754853369,1.6422593001231023,1.9400268574979251,0.1723472282452296,3.788215219105196]  |\n",
            "|[665.0,1206.0,595.0,2.080399990081787,4.29,2.03,0.26]  |[1.5786428623570954,1.0649362807119989,1.5562482270692046,1.0950501144251168,1.7338990038887707,0.19545523650157323,4.476981622578868]|\n",
            "|[707.0,1551.0,714.0,3.691200017929077,4.97,2.17,0.2]   |[1.678346622084912,1.3695822316619488,1.8674978724830456,1.9429191603871925,2.00873614203431,0.20893490798444037,3.44383201736836]    |\n",
            "+-------------------------------------------------------+--------------------------------------------------------------------------------------------------------------------------------------+\n",
            "only showing top 10 rows\n",
            "\n"
          ]
        }
      ]
    },
    {
      "cell_type": "markdown",
      "source": [
        "#### Building A Machine Learning Model With Spark ML"
      ],
      "metadata": {
        "id": "BxrW-IOseFNx"
      }
    },
    {
      "cell_type": "markdown",
      "source": [
        "With all the preprocessing done, it's finally time to start building our Linear Regression model! First, split the data into training and test sets using the randomSplit() method:"
      ],
      "metadata": {
        "id": "YNAYeRqaeKUA"
      }
    },
    {
      "cell_type": "code",
      "source": [
        "# Split the data into train and test sets\n",
        "train_data, test_data = scaled_df.randomSplit([.8,.2], seed=rnd_seed)"
      ],
      "metadata": {
        "id": "WP3iLRxfeMQP"
      },
      "execution_count": 35,
      "outputs": []
    },
    {
      "cell_type": "markdown",
      "source": [
        "We pass in a list with two numbers that represent the size that we want training and test sets to have including a seed.\n",
        "\n",
        "Note that the argument elasticNetParam corresponds to  α  or the vertical intercept and that the regParam or the regularization paramater corresponds to  λ ."
      ],
      "metadata": {
        "id": "hUKlWdmweO91"
      }
    },
    {
      "cell_type": "code",
      "source": [
        "train_data.columns"
      ],
      "metadata": {
        "id": "cNWQusu8eRti",
        "colab": {
          "base_uri": "https://localhost:8080/"
        },
        "outputId": "5894353b-a514-4fe6-dcb9-92e6b70aae88"
      },
      "execution_count": 36,
      "outputs": [
        {
          "output_type": "execute_result",
          "data": {
            "text/plain": [
              "['medhv',\n",
              " 'totbdrms',\n",
              " 'pop',\n",
              " 'houshlds',\n",
              " 'medinc',\n",
              " 'rms_per_hh',\n",
              " 'pop_per_hh',\n",
              " 'bdrms_per_rm',\n",
              " 'features',\n",
              " 'features_scaled']"
            ]
          },
          "metadata": {},
          "execution_count": 36
        }
      ]
    },
    {
      "cell_type": "markdown",
      "source": [
        "**Create an ElasticNet model**\n",
        "\n",
        "ElasticNet is a linear regression model trained with L1 and L2 prior as regularizer. Elastic-net is useful when there are multiple features which are correlated with one another. Lasso is likely to pick one of these at random, while elastic-net is likely to pick both."
      ],
      "metadata": {
        "id": "5WR8wFaNeUYj"
      }
    },
    {
      "cell_type": "code",
      "source": [
        "# Initialize `lr`\n",
        "lr = (LinearRegression(featuresCol='features_scaled', labelCol=\"medhv\", predictionCol='predmedhv', \n",
        "                               maxIter=10, regParam=0.3, elasticNetParam=0.8, standardization=False))"
      ],
      "metadata": {
        "id": "uiQP6iase8yC"
      },
      "execution_count": 37,
      "outputs": []
    },
    {
      "cell_type": "code",
      "source": [
        "# Fit the data to the model\n",
        "linearModel = lr.fit(train_data)"
      ],
      "metadata": {
        "id": "eWBVOqNee_JM"
      },
      "execution_count": 38,
      "outputs": []
    },
    {
      "cell_type": "markdown",
      "source": [
        "### Evaluating the Model\n",
        "\n",
        "We can now generate predictions for our test data by using the transform() method to predict the labels for our test_data. Then, we can use RDD operations to extract the predictions as well as the true labels from the DataFrame."
      ],
      "metadata": {
        "id": "IU8ldByRfCRT"
      }
    },
    {
      "cell_type": "markdown",
      "source": [
        "#### Inspect the Model Co-efficients"
      ],
      "metadata": {
        "id": "w4tbh_wLfVPc"
      }
    },
    {
      "cell_type": "code",
      "source": [
        "# Coefficients for the model\n",
        "linearModel.coefficients"
      ],
      "metadata": {
        "id": "MGun7VXjfZXz",
        "colab": {
          "base_uri": "https://localhost:8080/"
        },
        "outputId": "b23d7441-054e-4db8-992f-5a00b1bb4dba"
      },
      "execution_count": 39,
      "outputs": [
        {
          "output_type": "execute_result",
          "data": {
            "text/plain": [
              "DenseVector([0.0, 0.0, 0.0, 0.5262, 0.0, 0.0, 0.0])"
            ]
          },
          "metadata": {},
          "execution_count": 39
        }
      ]
    },
    {
      "cell_type": "code",
      "source": [
        "featureCols"
      ],
      "metadata": {
        "id": "pG0J_Q4nfcev",
        "colab": {
          "base_uri": "https://localhost:8080/"
        },
        "outputId": "df0cad74-4469-4e3e-c3a5-d4405817dd57"
      },
      "execution_count": 40,
      "outputs": [
        {
          "output_type": "execute_result",
          "data": {
            "text/plain": [
              "['totbdrms',\n",
              " 'pop',\n",
              " 'houshlds',\n",
              " 'medinc',\n",
              " 'rms_per_hh',\n",
              " 'pop_per_hh',\n",
              " 'bdrms_per_rm']"
            ]
          },
          "metadata": {},
          "execution_count": 40
        }
      ]
    },
    {
      "cell_type": "code",
      "source": [
        "# Intercept for the model\n",
        "linearModel.intercept"
      ],
      "metadata": {
        "id": "A_gAhFS3ffkh",
        "colab": {
          "base_uri": "https://localhost:8080/"
        },
        "outputId": "5a8ee994-f715-42f9-c2b5-92ec270ad8c0"
      },
      "execution_count": 41,
      "outputs": [
        {
          "output_type": "execute_result",
          "data": {
            "text/plain": [
              "1.001383351659608"
            ]
          },
          "metadata": {},
          "execution_count": 41
        }
      ]
    },
    {
      "cell_type": "code",
      "source": [
        "coeff_df = pd.DataFrame({\"Feature\": [\"Intercept\"] + featureCols, \"Co-efficients\": np.insert(linearModel.coefficients.toArray(), 0, linearModel.intercept)})\n",
        "coeff_df = coeff_df[[\"Feature\", \"Co-efficients\"]]"
      ],
      "metadata": {
        "id": "Vlc1rXtlfiDS"
      },
      "execution_count": 42,
      "outputs": []
    },
    {
      "cell_type": "code",
      "source": [
        "coeff_df"
      ],
      "metadata": {
        "id": "wX_uGUMUfj-N",
        "colab": {
          "base_uri": "https://localhost:8080/",
          "height": 300
        },
        "outputId": "226b5831-277d-493d-f8fb-36519ac42513"
      },
      "execution_count": 43,
      "outputs": [
        {
          "output_type": "execute_result",
          "data": {
            "text/plain": [
              "        Feature  Co-efficients\n",
              "0     Intercept       1.001383\n",
              "1      totbdrms       0.000000\n",
              "2           pop       0.000000\n",
              "3      houshlds       0.000000\n",
              "4        medinc       0.526157\n",
              "5    rms_per_hh       0.000000\n",
              "6    pop_per_hh       0.000000\n",
              "7  bdrms_per_rm       0.000000"
            ],
            "text/html": [
              "\n",
              "  <div id=\"df-3d7dbf24-64ae-4c8c-a848-da90800a254e\">\n",
              "    <div class=\"colab-df-container\">\n",
              "      <div>\n",
              "<style scoped>\n",
              "    .dataframe tbody tr th:only-of-type {\n",
              "        vertical-align: middle;\n",
              "    }\n",
              "\n",
              "    .dataframe tbody tr th {\n",
              "        vertical-align: top;\n",
              "    }\n",
              "\n",
              "    .dataframe thead th {\n",
              "        text-align: right;\n",
              "    }\n",
              "</style>\n",
              "<table border=\"1\" class=\"dataframe\">\n",
              "  <thead>\n",
              "    <tr style=\"text-align: right;\">\n",
              "      <th></th>\n",
              "      <th>Feature</th>\n",
              "      <th>Co-efficients</th>\n",
              "    </tr>\n",
              "  </thead>\n",
              "  <tbody>\n",
              "    <tr>\n",
              "      <th>0</th>\n",
              "      <td>Intercept</td>\n",
              "      <td>1.001383</td>\n",
              "    </tr>\n",
              "    <tr>\n",
              "      <th>1</th>\n",
              "      <td>totbdrms</td>\n",
              "      <td>0.000000</td>\n",
              "    </tr>\n",
              "    <tr>\n",
              "      <th>2</th>\n",
              "      <td>pop</td>\n",
              "      <td>0.000000</td>\n",
              "    </tr>\n",
              "    <tr>\n",
              "      <th>3</th>\n",
              "      <td>houshlds</td>\n",
              "      <td>0.000000</td>\n",
              "    </tr>\n",
              "    <tr>\n",
              "      <th>4</th>\n",
              "      <td>medinc</td>\n",
              "      <td>0.526157</td>\n",
              "    </tr>\n",
              "    <tr>\n",
              "      <th>5</th>\n",
              "      <td>rms_per_hh</td>\n",
              "      <td>0.000000</td>\n",
              "    </tr>\n",
              "    <tr>\n",
              "      <th>6</th>\n",
              "      <td>pop_per_hh</td>\n",
              "      <td>0.000000</td>\n",
              "    </tr>\n",
              "    <tr>\n",
              "      <th>7</th>\n",
              "      <td>bdrms_per_rm</td>\n",
              "      <td>0.000000</td>\n",
              "    </tr>\n",
              "  </tbody>\n",
              "</table>\n",
              "</div>\n",
              "      <button class=\"colab-df-convert\" onclick=\"convertToInteractive('df-3d7dbf24-64ae-4c8c-a848-da90800a254e')\"\n",
              "              title=\"Convert this dataframe to an interactive table.\"\n",
              "              style=\"display:none;\">\n",
              "        \n",
              "  <svg xmlns=\"http://www.w3.org/2000/svg\" height=\"24px\"viewBox=\"0 0 24 24\"\n",
              "       width=\"24px\">\n",
              "    <path d=\"M0 0h24v24H0V0z\" fill=\"none\"/>\n",
              "    <path d=\"M18.56 5.44l.94 2.06.94-2.06 2.06-.94-2.06-.94-.94-2.06-.94 2.06-2.06.94zm-11 1L8.5 8.5l.94-2.06 2.06-.94-2.06-.94L8.5 2.5l-.94 2.06-2.06.94zm10 10l.94 2.06.94-2.06 2.06-.94-2.06-.94-.94-2.06-.94 2.06-2.06.94z\"/><path d=\"M17.41 7.96l-1.37-1.37c-.4-.4-.92-.59-1.43-.59-.52 0-1.04.2-1.43.59L10.3 9.45l-7.72 7.72c-.78.78-.78 2.05 0 2.83L4 21.41c.39.39.9.59 1.41.59.51 0 1.02-.2 1.41-.59l7.78-7.78 2.81-2.81c.8-.78.8-2.07 0-2.86zM5.41 20L4 18.59l7.72-7.72 1.47 1.35L5.41 20z\"/>\n",
              "  </svg>\n",
              "      </button>\n",
              "      \n",
              "  <style>\n",
              "    .colab-df-container {\n",
              "      display:flex;\n",
              "      flex-wrap:wrap;\n",
              "      gap: 12px;\n",
              "    }\n",
              "\n",
              "    .colab-df-convert {\n",
              "      background-color: #E8F0FE;\n",
              "      border: none;\n",
              "      border-radius: 50%;\n",
              "      cursor: pointer;\n",
              "      display: none;\n",
              "      fill: #1967D2;\n",
              "      height: 32px;\n",
              "      padding: 0 0 0 0;\n",
              "      width: 32px;\n",
              "    }\n",
              "\n",
              "    .colab-df-convert:hover {\n",
              "      background-color: #E2EBFA;\n",
              "      box-shadow: 0px 1px 2px rgba(60, 64, 67, 0.3), 0px 1px 3px 1px rgba(60, 64, 67, 0.15);\n",
              "      fill: #174EA6;\n",
              "    }\n",
              "\n",
              "    [theme=dark] .colab-df-convert {\n",
              "      background-color: #3B4455;\n",
              "      fill: #D2E3FC;\n",
              "    }\n",
              "\n",
              "    [theme=dark] .colab-df-convert:hover {\n",
              "      background-color: #434B5C;\n",
              "      box-shadow: 0px 1px 3px 1px rgba(0, 0, 0, 0.15);\n",
              "      filter: drop-shadow(0px 1px 2px rgba(0, 0, 0, 0.3));\n",
              "      fill: #FFFFFF;\n",
              "    }\n",
              "  </style>\n",
              "\n",
              "      <script>\n",
              "        const buttonEl =\n",
              "          document.querySelector('#df-3d7dbf24-64ae-4c8c-a848-da90800a254e button.colab-df-convert');\n",
              "        buttonEl.style.display =\n",
              "          google.colab.kernel.accessAllowed ? 'block' : 'none';\n",
              "\n",
              "        async function convertToInteractive(key) {\n",
              "          const element = document.querySelector('#df-3d7dbf24-64ae-4c8c-a848-da90800a254e');\n",
              "          const dataTable =\n",
              "            await google.colab.kernel.invokeFunction('convertToInteractive',\n",
              "                                                     [key], {});\n",
              "          if (!dataTable) return;\n",
              "\n",
              "          const docLinkHtml = 'Like what you see? Visit the ' +\n",
              "            '<a target=\"_blank\" href=https://colab.research.google.com/notebooks/data_table.ipynb>data table notebook</a>'\n",
              "            + ' to learn more about interactive tables.';\n",
              "          element.innerHTML = '';\n",
              "          dataTable['output_type'] = 'display_data';\n",
              "          await google.colab.output.renderOutput(dataTable, element);\n",
              "          const docLink = document.createElement('div');\n",
              "          docLink.innerHTML = docLinkHtml;\n",
              "          element.appendChild(docLink);\n",
              "        }\n",
              "      </script>\n",
              "    </div>\n",
              "  </div>\n",
              "  "
            ]
          },
          "metadata": {},
          "execution_count": 43
        }
      ]
    },
    {
      "cell_type": "markdown",
      "source": [
        "#### Generating Predictions"
      ],
      "metadata": {
        "id": "8FzalDN5fY-N"
      }
    },
    {
      "cell_type": "code",
      "source": [
        "# Generate predictions\n",
        "predictions = linearModel.transform(test_data)"
      ],
      "metadata": {
        "id": "5QNIiz4jfqSn"
      },
      "execution_count": 44,
      "outputs": []
    },
    {
      "cell_type": "code",
      "source": [
        "# Extract the predictions and the \"known\" correct labels\n",
        "predandlabels = predictions.select(\"predmedhv\", \"medhv\")"
      ],
      "metadata": {
        "id": "VAGJ0SyxfsXb"
      },
      "execution_count": 45,
      "outputs": []
    },
    {
      "cell_type": "code",
      "source": [
        "predandlabels.show()"
      ],
      "metadata": {
        "id": "XnAVE5DGfuNf",
        "colab": {
          "base_uri": "https://localhost:8080/"
        },
        "outputId": "d71e0f42-1e3f-4ddd-9bbd-267dc91fef0b"
      },
      "execution_count": 46,
      "outputs": [
        {
          "output_type": "stream",
          "name": "stdout",
          "text": [
            "+------------------+-------+\n",
            "|         predmedhv|  medhv|\n",
            "+------------------+-------+\n",
            "|1.1498290146733698|0.14999|\n",
            "| 1.303758290180578|  0.225|\n",
            "|1.7529725743151858|  0.225|\n",
            "|1.6094289295308721|  0.269|\n",
            "|1.5956645319495766|  0.344|\n",
            "|1.2917940087238424|  0.367|\n",
            "|1.8668547795751218|  0.375|\n",
            "|1.3694233397856368|  0.394|\n",
            "| 1.530553343912004|  0.398|\n",
            "|1.5715143715849273|  0.409|\n",
            "|1.3261913014043996|  0.417|\n",
            "|1.2299232046905868|  0.425|\n",
            "| 1.484164070093314|  0.425|\n",
            "|1.3510338217435216|   0.43|\n",
            "|1.2619110212709583|  0.436|\n",
            "|1.3350814464678742|   0.44|\n",
            "|1.4832778453641753|   0.44|\n",
            "|1.4337313361080326|  0.444|\n",
            "|1.3691187093204964|  0.445|\n",
            "|1.4752185586821598|  0.446|\n",
            "+------------------+-------+\n",
            "only showing top 20 rows\n",
            "\n"
          ]
        }
      ]
    },
    {
      "cell_type": "markdown",
      "source": [
        "#### Inspect the Metrics\n",
        "\n",
        "We will now inspect the metrics using the LinearRegressionModel.summary attribute, to pull up the rootMeanSquaredError and the r2 score."
      ],
      "metadata": {
        "id": "Ht6AMM-QfxDs"
      }
    },
    {
      "cell_type": "code",
      "source": [
        "# Get the RMSE\n",
        "print(\"RMSE: {0}\".format(linearModel.summary.rootMeanSquaredError))"
      ],
      "metadata": {
        "id": "urKx_AU6gCD8",
        "colab": {
          "base_uri": "https://localhost:8080/"
        },
        "outputId": "3c9fcc4a-7494-4f02-d700-048271d49772"
      },
      "execution_count": 47,
      "outputs": [
        {
          "output_type": "stream",
          "name": "stdout",
          "text": [
            "RMSE: 0.881985204526886\n"
          ]
        }
      ]
    },
    {
      "cell_type": "code",
      "source": [
        "print(\"MAE: {0}\".format(linearModel.summary.meanAbsoluteError))"
      ],
      "metadata": {
        "id": "meQFEK4dgEco",
        "colab": {
          "base_uri": "https://localhost:8080/"
        },
        "outputId": "1ca8b5df-dc37-4798-af95-e701443356b9"
      },
      "execution_count": 48,
      "outputs": [
        {
          "output_type": "stream",
          "name": "stdout",
          "text": [
            "MAE: 0.678289531991799\n"
          ]
        }
      ]
    },
    {
      "cell_type": "code",
      "source": [
        "# Get the R2\n",
        "print(\"R2: {0}\".format(linearModel.summary.r2))"
      ],
      "metadata": {
        "id": "-fpE6kzIgGzw",
        "colab": {
          "base_uri": "https://localhost:8080/"
        },
        "outputId": "17ebab5c-9308-4c8f-e82e-43a3244d1f18"
      },
      "execution_count": 49,
      "outputs": [
        {
          "output_type": "stream",
          "name": "stdout",
          "text": [
            "R2: 0.4180854895364574\n"
          ]
        }
      ]
    },
    {
      "cell_type": "markdown",
      "source": [
        "**Using the RegressionEvaluator from pyspark.ml package**"
      ],
      "metadata": {
        "id": "mnkCADy9gSZP"
      }
    },
    {
      "cell_type": "code",
      "source": [
        "evaluator = RegressionEvaluator(predictionCol=\"predmedhv\", labelCol='medhv', metricName='rmse')\n",
        "print(\"RMSE: {0}\".format(evaluator.evaluate(predandlabels)))"
      ],
      "metadata": {
        "id": "52v3uAhagYTw",
        "colab": {
          "base_uri": "https://localhost:8080/"
        },
        "outputId": "7023d269-8221-48e5-ea4e-6d18dd7cf142"
      },
      "execution_count": 50,
      "outputs": [
        {
          "output_type": "stream",
          "name": "stdout",
          "text": [
            "RMSE: 0.8677342923034236\n"
          ]
        }
      ]
    },
    {
      "cell_type": "code",
      "source": [
        "evaluator = RegressionEvaluator(predictionCol=\"predmedhv\", labelCol='medhv', metricName='mae')\n",
        "print(\"MAE: {0}\".format(evaluator.evaluate(predandlabels)))"
      ],
      "metadata": {
        "id": "I4nHYuvLgbTH",
        "colab": {
          "base_uri": "https://localhost:8080/"
        },
        "outputId": "369ffca0-7590-40fe-cb8c-aca394ced590"
      },
      "execution_count": 51,
      "outputs": [
        {
          "output_type": "stream",
          "name": "stdout",
          "text": [
            "MAE: 0.673609774576463\n"
          ]
        }
      ]
    },
    {
      "cell_type": "code",
      "source": [
        "evaluator = RegressionEvaluator(predictionCol=\"predmedhv\", labelCol='medhv', metricName='r2')\n",
        "print(\"R2: {0}\".format(evaluator.evaluate(predandlabels)))"
      ],
      "metadata": {
        "id": "F4Zc3OFRgdSZ",
        "colab": {
          "base_uri": "https://localhost:8080/"
        },
        "outputId": "22443c83-d653-4df5-eb96-00f872039d4e"
      },
      "execution_count": 52,
      "outputs": [
        {
          "output_type": "stream",
          "name": "stdout",
          "text": [
            "R2: 0.42517112885139363\n"
          ]
        }
      ]
    },
    {
      "cell_type": "markdown",
      "source": [
        "**Using the RegressionMetrics from pyspark.mllib package**\n",
        "\n"
      ],
      "metadata": {
        "id": "hw1Ozhfzgf09"
      }
    },
    {
      "cell_type": "code",
      "source": [
        "# mllib is old that is why the methods are available in rdd\n",
        "metrics = RegressionMetrics(predandlabels.rdd)"
      ],
      "metadata": {
        "id": "I_uz0MwLgj8T",
        "colab": {
          "base_uri": "https://localhost:8080/"
        },
        "outputId": "a07edd90-9e8e-45b3-f8ad-68cf879f30f4"
      },
      "execution_count": 53,
      "outputs": [
        {
          "output_type": "stream",
          "name": "stderr",
          "text": [
            "/usr/local/lib/python3.8/dist-packages/pyspark/sql/context.py:157: FutureWarning: Deprecated in 3.0.0. Use SparkSession.builder.getOrCreate() instead.\n",
            "  warnings.warn(\n"
          ]
        }
      ]
    },
    {
      "cell_type": "code",
      "source": [
        "print(\"RMSE: {0}\".format(metrics.rootMeanSquaredError))"
      ],
      "metadata": {
        "id": "8TZiMzu1gmk0",
        "colab": {
          "base_uri": "https://localhost:8080/"
        },
        "outputId": "78fbf183-b2a2-4ab3-df31-b1c2d69a222c"
      },
      "execution_count": 54,
      "outputs": [
        {
          "output_type": "stream",
          "name": "stdout",
          "text": [
            "RMSE: 0.8677342923034236\n"
          ]
        }
      ]
    },
    {
      "cell_type": "code",
      "source": [
        "print(\"MAE: {0}\".format(metrics.meanAbsoluteError))"
      ],
      "metadata": {
        "id": "tX-28sEjgoo_",
        "colab": {
          "base_uri": "https://localhost:8080/"
        },
        "outputId": "3ba4ce86-b32d-4373-fb41-46b8047f5fb7"
      },
      "execution_count": 55,
      "outputs": [
        {
          "output_type": "stream",
          "name": "stdout",
          "text": [
            "MAE: 0.673609774576463\n"
          ]
        }
      ]
    },
    {
      "cell_type": "code",
      "source": [
        "print(\"R2: {0}\".format(metrics.r2))"
      ],
      "metadata": {
        "id": "cQyOYD6ggq7e",
        "colab": {
          "base_uri": "https://localhost:8080/"
        },
        "outputId": "ec4ad0ce-262c-4bb3-f6da-c4cc20f7b064"
      },
      "execution_count": 56,
      "outputs": [
        {
          "output_type": "stream",
          "name": "stdout",
          "text": [
            "R2: 0.42517112885139363\n"
          ]
        }
      ]
    },
    {
      "cell_type": "markdown",
      "source": [
        "Improvements to the model are still needed! One should play around with the parameters that we passed to the model and the variables that we included in the original DataFrame."
      ],
      "metadata": {
        "id": "L3WLlyJjgqo1"
      }
    },
    {
      "cell_type": "code",
      "source": [
        "spark.stop()"
      ],
      "metadata": {
        "id": "Tooxdg2CgxrO"
      },
      "execution_count": 57,
      "outputs": []
    }
  ]
}