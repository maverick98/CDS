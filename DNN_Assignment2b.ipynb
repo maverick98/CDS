{
  "nbformat": 4,
  "nbformat_minor": 0,
  "metadata": {
    "colab": {
      "provenance": [],
      "authorship_tag": "ABX9TyMYVluLKrvRJ8Dtl7egQO1Y",
      "include_colab_link": true
    },
    "kernelspec": {
      "name": "python3",
      "display_name": "Python 3"
    },
    "language_info": {
      "name": "python"
    }
  },
  "cells": [
    {
      "cell_type": "markdown",
      "metadata": {
        "id": "view-in-github",
        "colab_type": "text"
      },
      "source": [
        "<a href=\"https://colab.research.google.com/github/maverick98/CDS/blob/main/DNN_Assignment2b.ipynb\" target=\"_parent\"><img src=\"https://colab.research.google.com/assets/colab-badge.svg\" alt=\"Open In Colab\"/></a>"
      ]
    },
    {
      "cell_type": "markdown",
      "source": [
        "## Group No 189\n",
        "\n",
        "## Group Member Names:\n",
        "• MAHESH NARAM (2023aa05876): 100%\n",
        "\n",
        "• GIRIJA SHANKAR SAHOO (023AA05235): 100%\n",
        "\n",
        "• SOURAJEET SAHOO (023aa05029): 100%\n",
        "\n",
        "• MANO RANJAN SAHU (2023aa05738): 100%"
      ],
      "metadata": {
        "id": "UABjesYJEcnP"
      }
    },
    {
      "cell_type": "markdown",
      "source": [
        "#Part 2B: Implement the following topics demonstrated (Lab sheets) in the webinar. (4 marks)\n",
        "\n",
        "    1. Deep Neural Networks and Comparative analysis of optimizer performance\n",
        "    2. Convolutional Neural Networks (CNN)\n",
        "    3. Gated Recurrent Units (GRU)\n",
        "    4. Long Short-Term Memory (LSTM)\n"
      ],
      "metadata": {
        "id": "Cq41t0_qEB7Q"
      }
    },
    {
      "cell_type": "markdown",
      "source": [
        "#1. Deep Neural Networks (DNN)"
      ],
      "metadata": {
        "id": "iOK2R-WtEU_m"
      }
    },
    {
      "cell_type": "code",
      "execution_count": null,
      "metadata": {
        "colab": {
          "base_uri": "https://localhost:8080/"
        },
        "id": "DSIfoZqPD7zz",
        "outputId": "5a013ab7-d9c9-42aa-a535-be1522d8c8cc"
      },
      "outputs": [
        {
          "output_type": "stream",
          "name": "stdout",
          "text": [
            "Downloading data from https://storage.googleapis.com/tensorflow/tf-keras-datasets/mnist.npz\n",
            "\u001b[1m11490434/11490434\u001b[0m \u001b[32m━━━━━━━━━━━━━━━━━━━━\u001b[0m\u001b[37m\u001b[0m \u001b[1m0s\u001b[0m 0us/step\n"
          ]
        },
        {
          "output_type": "stream",
          "name": "stderr",
          "text": [
            "/usr/local/lib/python3.10/dist-packages/keras/src/layers/reshaping/flatten.py:37: UserWarning: Do not pass an `input_shape`/`input_dim` argument to a layer. When using Sequential models, prefer using an `Input(shape)` object as the first layer in the model instead.\n",
            "  super().__init__(**kwargs)\n"
          ]
        },
        {
          "output_type": "stream",
          "name": "stdout",
          "text": [
            "\n",
            "Training with Adam optimizer:\n",
            "Epoch 1/5\n",
            "\u001b[1m1875/1875\u001b[0m \u001b[32m━━━━━━━━━━━━━━━━━━━━\u001b[0m\u001b[37m\u001b[0m \u001b[1m13s\u001b[0m 6ms/step - accuracy: 0.8764 - loss: 0.4246 - val_accuracy: 0.9637 - val_loss: 0.1204\n",
            "Epoch 2/5\n",
            "\u001b[1m1875/1875\u001b[0m \u001b[32m━━━━━━━━━━━━━━━━━━━━\u001b[0m\u001b[37m\u001b[0m \u001b[1m7s\u001b[0m 4ms/step - accuracy: 0.9670 - loss: 0.1082 - val_accuracy: 0.9699 - val_loss: 0.0937\n",
            "Epoch 3/5\n",
            "\u001b[1m1875/1875\u001b[0m \u001b[32m━━━━━━━━━━━━━━━━━━━━\u001b[0m\u001b[37m\u001b[0m \u001b[1m13s\u001b[0m 7ms/step - accuracy: 0.9775 - loss: 0.0718 - val_accuracy: 0.9712 - val_loss: 0.0916\n",
            "Epoch 4/5\n",
            "\u001b[1m1875/1875\u001b[0m \u001b[32m━━━━━━━━━━━━━━━━━━━━\u001b[0m\u001b[37m\u001b[0m \u001b[1m18s\u001b[0m 6ms/step - accuracy: 0.9824 - loss: 0.0542 - val_accuracy: 0.9732 - val_loss: 0.0901\n",
            "Epoch 5/5\n",
            "\u001b[1m1875/1875\u001b[0m \u001b[32m━━━━━━━━━━━━━━━━━━━━\u001b[0m\u001b[37m\u001b[0m \u001b[1m18s\u001b[0m 5ms/step - accuracy: 0.9868 - loss: 0.0401 - val_accuracy: 0.9744 - val_loss: 0.0801\n",
            "\n",
            "Training with SGD optimizer:\n",
            "Epoch 1/5\n",
            "\u001b[1m1875/1875\u001b[0m \u001b[32m━━━━━━━━━━━━━━━━━━━━\u001b[0m\u001b[37m\u001b[0m \u001b[1m6s\u001b[0m 3ms/step - accuracy: 0.7232 - loss: 1.0214 - val_accuracy: 0.9128 - val_loss: 0.3107\n",
            "Epoch 2/5\n",
            "\u001b[1m1875/1875\u001b[0m \u001b[32m━━━━━━━━━━━━━━━━━━━━\u001b[0m\u001b[37m\u001b[0m \u001b[1m10s\u001b[0m 3ms/step - accuracy: 0.9111 - loss: 0.3067 - val_accuracy: 0.9282 - val_loss: 0.2524\n",
            "Epoch 3/5\n",
            "\u001b[1m1875/1875\u001b[0m \u001b[32m━━━━━━━━━━━━━━━━━━━━\u001b[0m\u001b[37m\u001b[0m \u001b[1m10s\u001b[0m 3ms/step - accuracy: 0.9272 - loss: 0.2525 - val_accuracy: 0.9398 - val_loss: 0.2127\n",
            "Epoch 4/5\n",
            "\u001b[1m1870/1875\u001b[0m \u001b[32m━━━━━━━━━━━━━━━━━━━\u001b[0m\u001b[37m━\u001b[0m \u001b[1m0s\u001b[0m 3ms/step - accuracy: 0.9373 - loss: 0.2152"
          ]
        }
      ],
      "source": [
        "import tensorflow as tf\n",
        "from tensorflow.keras import layers, models\n",
        "from tensorflow.keras.optimizers import Adam, SGD, RMSprop\n",
        "from tensorflow.keras.datasets import mnist\n",
        "\n",
        "# Load dataset\n",
        "(x_train, y_train), (x_test, y_test) = mnist.load_data()\n",
        "x_train, x_test = x_train / 255.0, x_test / 255.0\n",
        "\n",
        "# Build a simple DNN model\n",
        "def build_dnn():\n",
        "    model = models.Sequential([\n",
        "        layers.Flatten(input_shape=(28, 28)),\n",
        "        layers.Dense(128, activation='relu'),\n",
        "        layers.Dense(64, activation='relu'),\n",
        "        layers.Dense(10, activation='softmax')\n",
        "    ])\n",
        "    return model\n",
        "\n",
        "# Compile and train with different optimizers\n",
        "optimizers = {'Adam': Adam(), 'SGD': SGD(), 'RMSprop': RMSprop()}\n",
        "for name, opt in optimizers.items():\n",
        "    model = build_dnn()\n",
        "    model.compile(optimizer=opt, loss='sparse_categorical_crossentropy', metrics=['accuracy'])\n",
        "    print(f\"\\nTraining with {name} optimizer:\")\n",
        "    model.fit(x_train, y_train, epochs=5, validation_data=(x_test, y_test))\n"
      ]
    },
    {
      "cell_type": "markdown",
      "source": [
        "# 2. Convolutional Neural Networks (CNN)"
      ],
      "metadata": {
        "id": "qSFBjCTkEi3O"
      }
    },
    {
      "cell_type": "code",
      "source": [
        "# Build a simple CNN model\n",
        "def build_cnn():\n",
        "    model = models.Sequential([\n",
        "        layers.Conv2D(32, (3, 3), activation='relu', input_shape=(28, 28, 1)),\n",
        "        layers.MaxPooling2D((2, 2)),\n",
        "        layers.Conv2D(64, (3, 3), activation='relu'),\n",
        "        layers.MaxPooling2D((2, 2)),\n",
        "        layers.Flatten(),\n",
        "        layers.Dense(64, activation='relu'),\n",
        "        layers.Dense(10, activation='softmax')\n",
        "    ])\n",
        "    return model\n",
        "\n",
        "# Prepare the data for CNN\n",
        "x_train_cnn = x_train[..., None]\n",
        "x_test_cnn = x_test[..., None]\n",
        "\n",
        "for name, opt in optimizers.items():\n",
        "    model = build_cnn()\n",
        "    model.compile(optimizer=opt, loss='sparse_categorical_crossentropy', metrics=['accuracy'])\n",
        "    print(f\"\\nTraining CNN with {name} optimizer:\")\n",
        "    model.fit(x_train_cnn, y_train, epochs=5, validation_data=(x_test_cnn, y_test))\n"
      ],
      "metadata": {
        "id": "fPxuwpsaEknv"
      },
      "execution_count": null,
      "outputs": []
    },
    {
      "cell_type": "markdown",
      "source": [
        "# 3. Gated Recurrent Units (GRU)"
      ],
      "metadata": {
        "id": "EuW3cDR1EoWu"
      }
    },
    {
      "cell_type": "code",
      "source": [
        "# Load sequential data (e.g., IMDB sentiment analysis dataset)\n",
        "from tensorflow.keras.datasets import imdb\n",
        "from tensorflow.keras.preprocessing import sequence\n",
        "\n",
        "max_features = 20000  # Vocabulary size\n",
        "max_len = 500  # Maximum length of sequence\n",
        "\n",
        "(x_train, y_train), (x_test, y_test) = imdb.load_data(num_words=max_features)\n",
        "x_train = sequence.pad_sequences(x_train, maxlen=max_len)\n",
        "x_test = sequence.pad_sequences(x_test, maxlen=max_len)\n",
        "\n",
        "# Build a GRU model\n",
        "def build_gru():\n",
        "    model = models.Sequential([\n",
        "        layers.Embedding(max_features, 128, input_length=max_len),\n",
        "        layers.GRU(128, return_sequences=False),\n",
        "        layers.Dense(1, activation='sigmoid')\n",
        "    ])\n",
        "    return model\n",
        "\n",
        "for name, opt in optimizers.items():\n",
        "    model = build_gru()\n",
        "    model.compile(optimizer=opt, loss='binary_crossentropy', metrics=['accuracy'])\n",
        "    print(f\"\\nTraining GRU with {name} optimizer:\")\n",
        "    model.fit(x_train, y_train, epochs=5, validation_data=(x_test, y_test))\n"
      ],
      "metadata": {
        "id": "npKY1V7PEpmX"
      },
      "execution_count": null,
      "outputs": []
    },
    {
      "cell_type": "markdown",
      "source": [
        "# 4. Long Short-Term Memory (LSTM)"
      ],
      "metadata": {
        "id": "jXpYFEYyEtVm"
      }
    },
    {
      "cell_type": "code",
      "source": [
        "# Build an LSTM model\n",
        "def build_lstm():\n",
        "    model = models.Sequential([\n",
        "        layers.Embedding(max_features, 128, input_length=max_len),\n",
        "        layers.LSTM(128, return_sequences=False),\n",
        "        layers.Dense(1, activation='sigmoid')\n",
        "    ])\n",
        "    return model\n",
        "\n",
        "for name, opt in optimizers.items():\n",
        "    model = build_lstm()\n",
        "    model.compile(optimizer=opt, loss='binary_crossentropy', metrics=['accuracy'])\n",
        "    print(f\"\\nTraining LSTM with {name} optimizer:\")\n",
        "    model.fit(x_train, y_train, epochs=5, validation_data=(x_test, y_test))\n"
      ],
      "metadata": {
        "id": "iR-M88cfEu_1"
      },
      "execution_count": null,
      "outputs": []
    }
  ]
}