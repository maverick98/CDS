{
  "nbformat": 4,
  "nbformat_minor": 0,
  "metadata": {
    "colab": {
      "provenance": [],
      "authorship_tag": "ABX9TyNvaQPgSqBt374AqaLyVUFB",
      "include_colab_link": true
    },
    "kernelspec": {
      "name": "python3",
      "display_name": "Python 3"
    },
    "language_info": {
      "name": "python"
    }
  },
  "cells": [
    {
      "cell_type": "markdown",
      "metadata": {
        "id": "view-in-github",
        "colab_type": "text"
      },
      "source": [
        "<a href=\"https://colab.research.google.com/github/maverick98/CDS/blob/main/DNN_Assignment2b.ipynb\" target=\"_parent\"><img src=\"https://colab.research.google.com/assets/colab-badge.svg\" alt=\"Open In Colab\"/></a>"
      ]
    },
    {
      "cell_type": "markdown",
      "source": [
        "## Group No 189\n",
        "\n",
        "## Group Member Names:\n",
        "• MAHESH NARAM (2023aa05876): 100%\n",
        "\n",
        "• GIRIJA SHANKAR SAHOO (023AA05235): 100%\n",
        "\n",
        "• SOURAJEET SAHOO (023aa05029): 100%\n",
        "\n",
        "• MANO RANJAN SAHU (2023aa05738): 100%"
      ],
      "metadata": {
        "id": "UABjesYJEcnP"
      }
    },
    {
      "cell_type": "markdown",
      "source": [
        "#Part 2B: Implement the following topics demonstrated (Lab sheets) in the webinar. (4 marks)\n",
        "\n",
        "    1. Deep Neural Networks and Comparative analysis of optimizer performance\n",
        "    2. Convolutional Neural Networks (CNN)\n",
        "    3. Gated Recurrent Units (GRU)\n",
        "    4. Long Short-Term Memory (LSTM)\n"
      ],
      "metadata": {
        "id": "Cq41t0_qEB7Q"
      }
    },
    {
      "cell_type": "markdown",
      "source": [
        "#1. Deep Neural Networks (DNN)"
      ],
      "metadata": {
        "id": "iOK2R-WtEU_m"
      }
    },
    {
      "cell_type": "code",
      "execution_count": 1,
      "metadata": {
        "colab": {
          "base_uri": "https://localhost:8080/"
        },
        "id": "DSIfoZqPD7zz",
        "outputId": "5a013ab7-d9c9-42aa-a535-be1522d8c8cc"
      },
      "outputs": [
        {
          "output_type": "stream",
          "name": "stdout",
          "text": [
            "Downloading data from https://storage.googleapis.com/tensorflow/tf-keras-datasets/mnist.npz\n",
            "\u001b[1m11490434/11490434\u001b[0m \u001b[32m━━━━━━━━━━━━━━━━━━━━\u001b[0m\u001b[37m\u001b[0m \u001b[1m0s\u001b[0m 0us/step\n"
          ]
        },
        {
          "output_type": "stream",
          "name": "stderr",
          "text": [
            "/usr/local/lib/python3.10/dist-packages/keras/src/layers/reshaping/flatten.py:37: UserWarning: Do not pass an `input_shape`/`input_dim` argument to a layer. When using Sequential models, prefer using an `Input(shape)` object as the first layer in the model instead.\n",
            "  super().__init__(**kwargs)\n"
          ]
        },
        {
          "output_type": "stream",
          "name": "stdout",
          "text": [
            "\n",
            "Training with Adam optimizer:\n",
            "Epoch 1/5\n",
            "\u001b[1m1875/1875\u001b[0m \u001b[32m━━━━━━━━━━━━━━━━━━━━\u001b[0m\u001b[37m\u001b[0m \u001b[1m13s\u001b[0m 6ms/step - accuracy: 0.8764 - loss: 0.4246 - val_accuracy: 0.9637 - val_loss: 0.1204\n",
            "Epoch 2/5\n",
            "\u001b[1m1875/1875\u001b[0m \u001b[32m━━━━━━━━━━━━━━━━━━━━\u001b[0m\u001b[37m\u001b[0m \u001b[1m7s\u001b[0m 4ms/step - accuracy: 0.9670 - loss: 0.1082 - val_accuracy: 0.9699 - val_loss: 0.0937\n",
            "Epoch 3/5\n",
            "\u001b[1m1875/1875\u001b[0m \u001b[32m━━━━━━━━━━━━━━━━━━━━\u001b[0m\u001b[37m\u001b[0m \u001b[1m13s\u001b[0m 7ms/step - accuracy: 0.9775 - loss: 0.0718 - val_accuracy: 0.9712 - val_loss: 0.0916\n",
            "Epoch 4/5\n",
            "\u001b[1m1875/1875\u001b[0m \u001b[32m━━━━━━━━━━━━━━━━━━━━\u001b[0m\u001b[37m\u001b[0m \u001b[1m18s\u001b[0m 6ms/step - accuracy: 0.9824 - loss: 0.0542 - val_accuracy: 0.9732 - val_loss: 0.0901\n",
            "Epoch 5/5\n",
            "\u001b[1m1875/1875\u001b[0m \u001b[32m━━━━━━━━━━━━━━━━━━━━\u001b[0m\u001b[37m\u001b[0m \u001b[1m18s\u001b[0m 5ms/step - accuracy: 0.9868 - loss: 0.0401 - val_accuracy: 0.9744 - val_loss: 0.0801\n",
            "\n",
            "Training with SGD optimizer:\n",
            "Epoch 1/5\n",
            "\u001b[1m1875/1875\u001b[0m \u001b[32m━━━━━━━━━━━━━━━━━━━━\u001b[0m\u001b[37m\u001b[0m \u001b[1m6s\u001b[0m 3ms/step - accuracy: 0.7232 - loss: 1.0214 - val_accuracy: 0.9128 - val_loss: 0.3107\n",
            "Epoch 2/5\n",
            "\u001b[1m1875/1875\u001b[0m \u001b[32m━━━━━━━━━━━━━━━━━━━━\u001b[0m\u001b[37m\u001b[0m \u001b[1m10s\u001b[0m 3ms/step - accuracy: 0.9111 - loss: 0.3067 - val_accuracy: 0.9282 - val_loss: 0.2524\n",
            "Epoch 3/5\n",
            "\u001b[1m1875/1875\u001b[0m \u001b[32m━━━━━━━━━━━━━━━━━━━━\u001b[0m\u001b[37m\u001b[0m \u001b[1m10s\u001b[0m 3ms/step - accuracy: 0.9272 - loss: 0.2525 - val_accuracy: 0.9398 - val_loss: 0.2127\n",
            "Epoch 4/5\n",
            "\u001b[1m1875/1875\u001b[0m \u001b[32m━━━━━━━━━━━━━━━━━━━━\u001b[0m\u001b[37m\u001b[0m \u001b[1m6s\u001b[0m 3ms/step - accuracy: 0.9373 - loss: 0.2152 - val_accuracy: 0.9446 - val_loss: 0.1881\n",
            "Epoch 5/5\n",
            "\u001b[1m1875/1875\u001b[0m \u001b[32m━━━━━━━━━━━━━━━━━━━━\u001b[0m\u001b[37m\u001b[0m \u001b[1m9s\u001b[0m 3ms/step - accuracy: 0.9455 - loss: 0.1870 - val_accuracy: 0.9503 - val_loss: 0.1703\n",
            "\n",
            "Training with RMSprop optimizer:\n",
            "Epoch 1/5\n",
            "\u001b[1m1875/1875\u001b[0m \u001b[32m━━━━━━━━━━━━━━━━━━━━\u001b[0m\u001b[37m\u001b[0m \u001b[1m8s\u001b[0m 4ms/step - accuracy: 0.8868 - loss: 0.3928 - val_accuracy: 0.9578 - val_loss: 0.1338\n",
            "Epoch 2/5\n",
            "\u001b[1m1875/1875\u001b[0m \u001b[32m━━━━━━━━━━━━━━━━━━━━\u001b[0m\u001b[37m\u001b[0m \u001b[1m6s\u001b[0m 3ms/step - accuracy: 0.9648 - loss: 0.1157 - val_accuracy: 0.9724 - val_loss: 0.0913\n",
            "Epoch 3/5\n",
            "\u001b[1m1875/1875\u001b[0m \u001b[32m━━━━━━━━━━━━━━━━━━━━\u001b[0m\u001b[37m\u001b[0m \u001b[1m8s\u001b[0m 4ms/step - accuracy: 0.9772 - loss: 0.0754 - val_accuracy: 0.9748 - val_loss: 0.0886\n",
            "Epoch 4/5\n",
            "\u001b[1m1875/1875\u001b[0m \u001b[32m━━━━━━━━━━━━━━━━━━━━\u001b[0m\u001b[37m\u001b[0m \u001b[1m10s\u001b[0m 4ms/step - accuracy: 0.9823 - loss: 0.0607 - val_accuracy: 0.9743 - val_loss: 0.0890\n",
            "Epoch 5/5\n",
            "\u001b[1m1875/1875\u001b[0m \u001b[32m━━━━━━━━━━━━━━━━━━━━\u001b[0m\u001b[37m\u001b[0m \u001b[1m6s\u001b[0m 3ms/step - accuracy: 0.9860 - loss: 0.0470 - val_accuracy: 0.9782 - val_loss: 0.0735\n"
          ]
        }
      ],
      "source": [
        "import tensorflow as tf\n",
        "from tensorflow.keras import layers, models\n",
        "from tensorflow.keras.optimizers import Adam, SGD, RMSprop\n",
        "from tensorflow.keras.datasets import mnist\n",
        "\n",
        "# Load dataset\n",
        "(x_train, y_train), (x_test, y_test) = mnist.load_data()\n",
        "x_train, x_test = x_train / 255.0, x_test / 255.0\n",
        "\n",
        "# Build a simple DNN model\n",
        "def build_dnn():\n",
        "    model = models.Sequential([\n",
        "        layers.Flatten(input_shape=(28, 28)),\n",
        "        layers.Dense(128, activation='relu'),\n",
        "        layers.Dense(64, activation='relu'),\n",
        "        layers.Dense(10, activation='softmax')\n",
        "    ])\n",
        "    return model\n",
        "\n",
        "# Compile and train with different optimizers\n",
        "optimizers = {'Adam': Adam(), 'SGD': SGD(), 'RMSprop': RMSprop()}\n",
        "for name, opt in optimizers.items():\n",
        "    model = build_dnn()\n",
        "    model.compile(optimizer=opt, loss='sparse_categorical_crossentropy', metrics=['accuracy'])\n",
        "    print(f\"\\nTraining with {name} optimizer:\")\n",
        "    model.fit(x_train, y_train, epochs=5, validation_data=(x_test, y_test))\n"
      ]
    },
    {
      "cell_type": "markdown",
      "source": [
        "# 2. Convolutional Neural Networks (CNN)"
      ],
      "metadata": {
        "id": "qSFBjCTkEi3O"
      }
    },
    {
      "cell_type": "code",
      "source": [
        "from tensorflow.keras import layers, models\n",
        "from tensorflow.keras.optimizers import Adam, SGD, RMSprop\n",
        "\n",
        "# Build a simple CNN model\n",
        "def build_cnn():\n",
        "    model = models.Sequential([\n",
        "        layers.Input(shape=(28, 28, 1)),\n",
        "        layers.Conv2D(32, (3, 3), activation='relu'),\n",
        "        layers.MaxPooling2D((2, 2)),\n",
        "        layers.Conv2D(64, (3, 3), activation='relu'),\n",
        "        layers.MaxPooling2D((2, 2)),\n",
        "        layers.Flatten(),\n",
        "        layers.Dense(64, activation='relu'),\n",
        "        layers.Dense(10, activation='softmax')\n",
        "    ])\n",
        "    return model\n",
        "\n",
        "# Prepare the data for CNN\n",
        "x_train_cnn = x_train[..., None]\n",
        "x_test_cnn = x_test[..., None]\n",
        "\n",
        "# Use a fresh optimizer instance for each model\n",
        "optimizer_classes = {'Adam': Adam, 'SGD': SGD, 'RMSprop': RMSprop}\n",
        "\n",
        "for name, optimizer_class in optimizer_classes.items():\n",
        "    model = build_cnn()\n",
        "    opt = optimizer_class()  # Create a new instance of the optimizer\n",
        "    model.compile(optimizer=opt, loss='sparse_categorical_crossentropy', metrics=['accuracy'])\n",
        "    print(f\"\\nTraining CNN with {name} optimizer:\")\n",
        "    model.fit(x_train_cnn, y_train, epochs=5, validation_data=(x_test_cnn, y_test))\n"
      ],
      "metadata": {
        "colab": {
          "base_uri": "https://localhost:8080/"
        },
        "id": "fPxuwpsaEknv",
        "outputId": "b12c1f3d-11ff-45c0-c1da-853cd98b6faf"
      },
      "execution_count": 3,
      "outputs": [
        {
          "output_type": "stream",
          "name": "stdout",
          "text": [
            "\n",
            "Training CNN with Adam optimizer:\n",
            "Epoch 1/5\n",
            "\u001b[1m1875/1875\u001b[0m \u001b[32m━━━━━━━━━━━━━━━━━━━━\u001b[0m\u001b[37m\u001b[0m \u001b[1m60s\u001b[0m 31ms/step - accuracy: 0.9007 - loss: 0.3163 - val_accuracy: 0.9833 - val_loss: 0.0535\n",
            "Epoch 2/5\n",
            "\u001b[1m1875/1875\u001b[0m \u001b[32m━━━━━━━━━━━━━━━━━━━━\u001b[0m\u001b[37m\u001b[0m \u001b[1m81s\u001b[0m 30ms/step - accuracy: 0.9844 - loss: 0.0508 - val_accuracy: 0.9898 - val_loss: 0.0313\n",
            "Epoch 3/5\n",
            "\u001b[1m1875/1875\u001b[0m \u001b[32m━━━━━━━━━━━━━━━━━━━━\u001b[0m\u001b[37m\u001b[0m \u001b[1m84s\u001b[0m 32ms/step - accuracy: 0.9898 - loss: 0.0330 - val_accuracy: 0.9873 - val_loss: 0.0376\n",
            "Epoch 4/5\n",
            "\u001b[1m1875/1875\u001b[0m \u001b[32m━━━━━━━━━━━━━━━━━━━━\u001b[0m\u001b[37m\u001b[0m \u001b[1m79s\u001b[0m 30ms/step - accuracy: 0.9924 - loss: 0.0231 - val_accuracy: 0.9860 - val_loss: 0.0390\n",
            "Epoch 5/5\n",
            "\u001b[1m1875/1875\u001b[0m \u001b[32m━━━━━━━━━━━━━━━━━━━━\u001b[0m\u001b[37m\u001b[0m \u001b[1m81s\u001b[0m 30ms/step - accuracy: 0.9951 - loss: 0.0177 - val_accuracy: 0.9886 - val_loss: 0.0388\n",
            "\n",
            "Training CNN with SGD optimizer:\n",
            "Epoch 1/5\n",
            "\u001b[1m1875/1875\u001b[0m \u001b[32m━━━━━━━━━━━━━━━━━━━━\u001b[0m\u001b[37m\u001b[0m \u001b[1m58s\u001b[0m 31ms/step - accuracy: 0.7113 - loss: 1.0543 - val_accuracy: 0.9467 - val_loss: 0.1802\n",
            "Epoch 2/5\n",
            "\u001b[1m1875/1875\u001b[0m \u001b[32m━━━━━━━━━━━━━━━━━━━━\u001b[0m\u001b[37m\u001b[0m \u001b[1m56s\u001b[0m 30ms/step - accuracy: 0.9488 - loss: 0.1672 - val_accuracy: 0.9653 - val_loss: 0.1125\n",
            "Epoch 3/5\n",
            "\u001b[1m1875/1875\u001b[0m \u001b[32m━━━━━━━━━━━━━━━━━━━━\u001b[0m\u001b[37m\u001b[0m \u001b[1m82s\u001b[0m 30ms/step - accuracy: 0.9693 - loss: 0.1030 - val_accuracy: 0.9766 - val_loss: 0.0735\n",
            "Epoch 4/5\n",
            "\u001b[1m1875/1875\u001b[0m \u001b[32m━━━━━━━━━━━━━━━━━━━━\u001b[0m\u001b[37m\u001b[0m \u001b[1m60s\u001b[0m 32ms/step - accuracy: 0.9760 - loss: 0.0783 - val_accuracy: 0.9811 - val_loss: 0.0602\n",
            "Epoch 5/5\n",
            "\u001b[1m1875/1875\u001b[0m \u001b[32m━━━━━━━━━━━━━━━━━━━━\u001b[0m\u001b[37m\u001b[0m \u001b[1m57s\u001b[0m 31ms/step - accuracy: 0.9790 - loss: 0.0688 - val_accuracy: 0.9807 - val_loss: 0.0622\n",
            "\n",
            "Training CNN with RMSprop optimizer:\n",
            "Epoch 1/5\n",
            "\u001b[1m1875/1875\u001b[0m \u001b[32m━━━━━━━━━━━━━━━━━━━━\u001b[0m\u001b[37m\u001b[0m \u001b[1m58s\u001b[0m 31ms/step - accuracy: 0.9103 - loss: 0.2891 - val_accuracy: 0.9838 - val_loss: 0.0525\n",
            "Epoch 2/5\n",
            "\u001b[1m1875/1875\u001b[0m \u001b[32m━━━━━━━━━━━━━━━━━━━━\u001b[0m\u001b[37m\u001b[0m \u001b[1m81s\u001b[0m 30ms/step - accuracy: 0.9857 - loss: 0.0460 - val_accuracy: 0.9862 - val_loss: 0.0435\n",
            "Epoch 3/5\n",
            "\u001b[1m1875/1875\u001b[0m \u001b[32m━━━━━━━━━━━━━━━━━━━━\u001b[0m\u001b[37m\u001b[0m \u001b[1m83s\u001b[0m 31ms/step - accuracy: 0.9902 - loss: 0.0322 - val_accuracy: 0.9890 - val_loss: 0.0330\n",
            "Epoch 4/5\n",
            "\u001b[1m1875/1875\u001b[0m \u001b[32m━━━━━━━━━━━━━━━━━━━━\u001b[0m\u001b[37m\u001b[0m \u001b[1m81s\u001b[0m 30ms/step - accuracy: 0.9920 - loss: 0.0255 - val_accuracy: 0.9890 - val_loss: 0.0344\n",
            "Epoch 5/5\n",
            "\u001b[1m1875/1875\u001b[0m \u001b[32m━━━━━━━━━━━━━━━━━━━━\u001b[0m\u001b[37m\u001b[0m \u001b[1m81s\u001b[0m 30ms/step - accuracy: 0.9941 - loss: 0.0178 - val_accuracy: 0.9899 - val_loss: 0.0331\n"
          ]
        }
      ]
    },
    {
      "cell_type": "markdown",
      "source": [
        "# 3. Gated Recurrent Units (GRU)"
      ],
      "metadata": {
        "id": "EuW3cDR1EoWu"
      }
    },
    {
      "cell_type": "code",
      "source": [
        "from tensorflow.keras import layers, models\n",
        "from tensorflow.keras.optimizers import Adam, SGD, RMSprop\n",
        "from tensorflow.keras.datasets import imdb\n",
        "from tensorflow.keras.preprocessing import sequence\n",
        "\n",
        "# Load sequential data (e.g., IMDB sentiment analysis dataset)\n",
        "max_features = 20000  # Vocabulary size\n",
        "max_len = 500  # Maximum length of sequence\n",
        "\n",
        "(x_train, y_train), (x_test, y_test) = imdb.load_data(num_words=max_features)\n",
        "x_train = sequence.pad_sequences(x_train, maxlen=max_len)\n",
        "x_test = sequence.pad_sequences(x_test, maxlen=max_len)\n",
        "\n",
        "# Build a GRU model\n",
        "def build_gru():\n",
        "    model = models.Sequential([\n",
        "        layers.Embedding(max_features, 128),\n",
        "        layers.GRU(128, return_sequences=False),\n",
        "        layers.Dense(1, activation='sigmoid')\n",
        "    ])\n",
        "    return model\n",
        "\n",
        "# Use a fresh optimizer instance for each model\n",
        "optimizer_classes = {'Adam': Adam, 'SGD': SGD, 'RMSprop': RMSprop}\n",
        "\n",
        "for name, optimizer_class in optimizer_classes.items():\n",
        "    model = build_gru()\n",
        "    opt = optimizer_class()  # Create a new instance of the optimizer\n",
        "    model.compile(optimizer=opt, loss='binary_crossentropy', metrics=['accuracy'])\n",
        "    print(f\"\\nTraining GRU with {name} optimizer:\")\n",
        "    model.fit(x_train, y_train, epochs=5, validation_data=(x_test, y_test))\n"
      ],
      "metadata": {
        "colab": {
          "base_uri": "https://localhost:8080/"
        },
        "id": "npKY1V7PEpmX",
        "outputId": "4790991e-2df2-43b2-a356-3ad70a43ac09"
      },
      "execution_count": null,
      "outputs": [
        {
          "output_type": "stream",
          "name": "stdout",
          "text": [
            "\n",
            "Training GRU with Adam optimizer:\n",
            "Epoch 1/5\n",
            "\u001b[1m782/782\u001b[0m \u001b[32m━━━━━━━━━━━━━━━━━━━━\u001b[0m\u001b[37m\u001b[0m \u001b[1m757s\u001b[0m 964ms/step - accuracy: 0.7111 - loss: 0.5314 - val_accuracy: 0.6713 - val_loss: 0.6080\n",
            "Epoch 2/5\n",
            "\u001b[1m782/782\u001b[0m \u001b[32m━━━━━━━━━━━━━━━━━━━━\u001b[0m\u001b[37m\u001b[0m \u001b[1m784s\u001b[0m 942ms/step - accuracy: 0.8432 - loss: 0.3650 - val_accuracy: 0.8804 - val_loss: 0.2969\n",
            "Epoch 3/5\n",
            "\u001b[1m782/782\u001b[0m \u001b[32m━━━━━━━━━━━━━━━━━━━━\u001b[0m\u001b[37m\u001b[0m \u001b[1m768s\u001b[0m 975ms/step - accuracy: 0.9491 - loss: 0.1401 - val_accuracy: 0.8822 - val_loss: 0.3408\n",
            "Epoch 4/5\n",
            "\u001b[1m782/782\u001b[0m \u001b[32m━━━━━━━━━━━━━━━━━━━━\u001b[0m\u001b[37m\u001b[0m \u001b[1m800s\u001b[0m 973ms/step - accuracy: 0.9810 - loss: 0.0615 - val_accuracy: 0.8713 - val_loss: 0.3875\n",
            "Epoch 5/5\n",
            "\u001b[1m782/782\u001b[0m \u001b[32m━━━━━━━━━━━━━━━━━━━━\u001b[0m\u001b[37m\u001b[0m \u001b[1m805s\u001b[0m 976ms/step - accuracy: 0.9920 - loss: 0.0269 - val_accuracy: 0.8512 - val_loss: 0.5797\n",
            "\n",
            "Training GRU with SGD optimizer:\n",
            "Epoch 1/5\n",
            "\u001b[1m782/782\u001b[0m \u001b[32m━━━━━━━━━━━━━━━━━━━━\u001b[0m\u001b[37m\u001b[0m \u001b[1m746s\u001b[0m 951ms/step - accuracy: 0.4930 - loss: 0.6933 - val_accuracy: 0.5098 - val_loss: 0.6928\n",
            "Epoch 2/5\n",
            "\u001b[1m782/782\u001b[0m \u001b[32m━━━━━━━━━━━━━━━━━━━━\u001b[0m\u001b[37m\u001b[0m \u001b[1m768s\u001b[0m 908ms/step - accuracy: 0.5107 - loss: 0.6928 - val_accuracy: 0.5247 - val_loss: 0.6923\n",
            "Epoch 3/5\n",
            "\u001b[1m782/782\u001b[0m \u001b[32m━━━━━━━━━━━━━━━━━━━━\u001b[0m\u001b[37m\u001b[0m \u001b[1m743s\u001b[0m 910ms/step - accuracy: 0.5254 - loss: 0.6922 - val_accuracy: 0.5205 - val_loss: 0.6919\n",
            "Epoch 4/5\n",
            "\u001b[1m782/782\u001b[0m \u001b[32m━━━━━━━━━━━━━━━━━━━━\u001b[0m\u001b[37m\u001b[0m \u001b[1m740s\u001b[0m 908ms/step - accuracy: 0.5355 - loss: 0.6916 - val_accuracy: 0.5468 - val_loss: 0.6913\n",
            "Epoch 5/5\n",
            "\u001b[1m782/782\u001b[0m \u001b[32m━━━━━━━━━━━━━━━━━━━━\u001b[0m\u001b[37m\u001b[0m \u001b[1m705s\u001b[0m 902ms/step - accuracy: 0.5454 - loss: 0.6909 - val_accuracy: 0.5488 - val_loss: 0.6907\n",
            "\n",
            "Training GRU with RMSprop optimizer:\n",
            "Epoch 1/5\n",
            "\u001b[1m782/782\u001b[0m \u001b[32m━━━━━━━━━━━━━━━━━━━━\u001b[0m\u001b[37m\u001b[0m \u001b[1m729s\u001b[0m 927ms/step - accuracy: 0.6752 - loss: 0.5736 - val_accuracy: 0.8456 - val_loss: 0.3669\n",
            "Epoch 2/5\n",
            "\u001b[1m782/782\u001b[0m \u001b[32m━━━━━━━━━━━━━━━━━━━━\u001b[0m\u001b[37m\u001b[0m \u001b[1m779s\u001b[0m 976ms/step - accuracy: 0.8687 - loss: 0.3239 - val_accuracy: 0.8793 - val_loss: 0.2906\n",
            "Epoch 3/5\n",
            "\u001b[1m782/782\u001b[0m \u001b[32m━━━━━━━━━━━━━━━━━━━━\u001b[0m\u001b[37m\u001b[0m \u001b[1m806s\u001b[0m 981ms/step - accuracy: 0.9067 - loss: 0.2378 - val_accuracy: 0.8198 - val_loss: 0.4604\n",
            "Epoch 4/5\n",
            "\u001b[1m782/782\u001b[0m \u001b[32m━━━━━━━━━━━━━━━━━━━━\u001b[0m\u001b[37m\u001b[0m \u001b[1m803s\u001b[0m 983ms/step - accuracy: 0.9314 - loss: 0.1862 - val_accuracy: 0.8980 - val_loss: 0.2553\n",
            "Epoch 5/5\n",
            "\u001b[1m256/782\u001b[0m \u001b[32m━━━━━━\u001b[0m\u001b[37m━━━━━━━━━━━━━━\u001b[0m \u001b[1m6:59\u001b[0m 797ms/step - accuracy: 0.9576 - loss: 0.1278"
          ]
        }
      ]
    },
    {
      "cell_type": "markdown",
      "source": [
        "# 4. Long Short-Term Memory (LSTM)"
      ],
      "metadata": {
        "id": "jXpYFEYyEtVm"
      }
    },
    {
      "cell_type": "code",
      "source": [
        "# Build an LSTM model\n",
        "def build_lstm():\n",
        "    model = models.Sequential([\n",
        "        layers.Embedding(max_features, 128, input_length=max_len),\n",
        "        layers.LSTM(128, return_sequences=False),\n",
        "        layers.Dense(1, activation='sigmoid')\n",
        "    ])\n",
        "    return model\n",
        "\n",
        "for name, opt in optimizers.items():\n",
        "    model = build_lstm()\n",
        "    model.compile(optimizer=opt, loss='binary_crossentropy', metrics=['accuracy'])\n",
        "    print(f\"\\nTraining LSTM with {name} optimizer:\")\n",
        "    model.fit(x_train, y_train, epochs=5, validation_data=(x_test, y_test))\n"
      ],
      "metadata": {
        "id": "iR-M88cfEu_1"
      },
      "execution_count": null,
      "outputs": []
    }
  ]
}