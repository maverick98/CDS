{
  "nbformat": 4,
  "nbformat_minor": 0,
  "metadata": {
    "colab": {
      "provenance": [],
      "authorship_tag": "ABX9TyPIA6q5mTLQagqFcWyXvQIA",
      "include_colab_link": true
    },
    "kernelspec": {
      "name": "python3",
      "display_name": "Python 3"
    },
    "language_info": {
      "name": "python"
    }
  },
  "cells": [
    {
      "cell_type": "markdown",
      "metadata": {
        "id": "view-in-github",
        "colab_type": "text"
      },
      "source": [
        "<a href=\"https://colab.research.google.com/github/maverick98/CDS/blob/main/Question17.ipynb\" target=\"_parent\"><img src=\"https://colab.research.google.com/assets/colab-badge.svg\" alt=\"Open In Colab\"/></a>"
      ]
    },
    {
      "cell_type": "code",
      "execution_count": 1,
      "metadata": {
        "colab": {
          "base_uri": "https://localhost:8080/"
        },
        "id": "0QSc0uKJDtVi",
        "outputId": "26ffb74f-f9c8-48fe-eace-6119f0167270"
      },
      "outputs": [
        {
          "output_type": "stream",
          "name": "stdout",
          "text": [
            "Looking in indexes: https://pypi.org/simple, https://us-python.pkg.dev/colab-wheels/public/simple/\n",
            "Collecting pyspark\n",
            "  Downloading pyspark-3.3.1.tar.gz (281.4 MB)\n",
            "\u001b[2K     \u001b[90m━━━━━━━━━━━━━━━━━━━━━━━━━━━━━━━━━━━━━━━\u001b[0m \u001b[32m281.4/281.4 MB\u001b[0m \u001b[31m3.8 MB/s\u001b[0m eta \u001b[36m0:00:00\u001b[0m\n",
            "\u001b[?25h  Preparing metadata (setup.py) ... \u001b[?25l\u001b[?25hdone\n",
            "Collecting py4j==0.10.9.5\n",
            "  Downloading py4j-0.10.9.5-py2.py3-none-any.whl (199 kB)\n",
            "\u001b[2K     \u001b[90m━━━━━━━━━━━━━━━━━━━━━━━━━━━━━━━━━━━━━━\u001b[0m \u001b[32m199.7/199.7 KB\u001b[0m \u001b[31m12.1 MB/s\u001b[0m eta \u001b[36m0:00:00\u001b[0m\n",
            "\u001b[?25hBuilding wheels for collected packages: pyspark\n",
            "  Building wheel for pyspark (setup.py) ... \u001b[?25l\u001b[?25hdone\n",
            "  Created wheel for pyspark: filename=pyspark-3.3.1-py2.py3-none-any.whl size=281845512 sha256=686293455451fa0d742cd82c3f7f7616c7fd1b5fff6b22b1a21b7e099c10b77c\n",
            "  Stored in directory: /root/.cache/pip/wheels/43/dc/11/ec201cd671da62fa9c5cc77078235e40722170ceba231d7598\n",
            "Successfully built pyspark\n",
            "Installing collected packages: py4j, pyspark\n",
            "Successfully installed py4j-0.10.9.5 pyspark-3.3.1\n"
          ]
        }
      ],
      "source": [
        "!pip install pyspark"
      ]
    },
    {
      "cell_type": "code",
      "source": [
        "# Start spark session\n",
        "from pyspark.sql import SparkSession\n",
        "spark = SparkSession.builder.appName('Q17').getOrCreate()\n",
        "sc=spark.sparkContext"
      ],
      "metadata": {
        "id": "wfhrPsOYEGv6"
      },
      "execution_count": 2,
      "outputs": []
    },
    {
      "cell_type": "code",
      "source": [
        "from pyspark.sql import Row\n",
        "from datetime import datetime, date\n",
        "df = spark.createDataFrame([\n",
        "    Row(CityID='BLR',  Date=date(2022, 8, 1),CO2=34,PM10=20.5),\n",
        "    Row(CityID='BLR',  Date=date(2022, 8, 2),CO2=30,PM10=36.1),\n",
        "    Row(CityID='BLR',  Date=date(2022, 8, 3),CO2=39,PM10=12.0),\n",
        "    Row(CityID='DEL',  Date=date(2022, 8, 1),CO2=61,PM10=40.5),\n",
        "    Row(CityID='DEL',  Date=date(2022, 8, 2),CO2=55,PM10=32.8),\n",
        "    Row(CityID='DEL',  Date=date(2022, 8, 3),CO2=45,PM10=35.9)\n",
        "   \n",
        "  ])\n",
        "# show table\n",
        "df.show()\n",
        " \n",
        "# show schema\n",
        "df.printSchema()    "
      ],
      "metadata": {
        "colab": {
          "base_uri": "https://localhost:8080/"
        },
        "id": "olBXDsEuESG2",
        "outputId": "90fcd54b-6c79-41b4-82d2-0beb30a2635b"
      },
      "execution_count": 8,
      "outputs": [
        {
          "output_type": "stream",
          "name": "stdout",
          "text": [
            "+------+----------+---+----+\n",
            "|CityID|      Date|CO2|PM10|\n",
            "+------+----------+---+----+\n",
            "|   BLR|2022-08-01| 34|20.5|\n",
            "|   BLR|2022-08-02| 30|36.1|\n",
            "|   BLR|2022-08-03| 39|12.0|\n",
            "|   DEL|2022-08-01| 61|40.5|\n",
            "|   DEL|2022-08-02| 55|32.8|\n",
            "|   DEL|2022-08-03| 45|35.9|\n",
            "+------+----------+---+----+\n",
            "\n",
            "root\n",
            " |-- CityID: string (nullable = true)\n",
            " |-- Date: date (nullable = true)\n",
            " |-- CO2: long (nullable = true)\n",
            " |-- PM10: double (nullable = true)\n",
            "\n"
          ]
        }
      ]
    },
    {
      "cell_type": "code",
      "source": [
        "df.registerTempTable(\"poll\")"
      ],
      "metadata": {
        "colab": {
          "base_uri": "https://localhost:8080/"
        },
        "id": "Yz0yZ3OgMQUF",
        "outputId": "4adef579-4c51-48de-f4f2-9cc0e5713d0c"
      },
      "execution_count": 10,
      "outputs": [
        {
          "output_type": "stream",
          "name": "stderr",
          "text": [
            "/usr/local/lib/python3.8/dist-packages/pyspark/sql/dataframe.py:229: FutureWarning: Deprecated in 2.0, use createOrReplaceTempView instead.\n",
            "  warnings.warn(\"Deprecated in 2.0, use createOrReplaceTempView instead.\", FutureWarning)\n"
          ]
        }
      ]
    },
    {
      "cell_type": "code",
      "source": [
        "df1=spark.sql(\"select distinct(x.Date) from  (select Date,PM10 from poll where CityID ='BLR') as x  join (select Date,PM10 from poll where CityID ='DEL') as y  where x.PM10 > y.PM10\")\n",
        "df1.show()"
      ],
      "metadata": {
        "colab": {
          "base_uri": "https://localhost:8080/"
        },
        "id": "XGFZvOnZMaiU",
        "outputId": "15154b13-6393-4207-90da-8ca21fe23f4c"
      },
      "execution_count": 22,
      "outputs": [
        {
          "output_type": "stream",
          "name": "stdout",
          "text": [
            "+----------+\n",
            "|      Date|\n",
            "+----------+\n",
            "|2022-08-02|\n",
            "+----------+\n",
            "\n"
          ]
        }
      ]
    },
    {
      "cell_type": "markdown",
      "source": [],
      "metadata": {
        "id": "zv47oPbvOt8O"
      }
    }
  ]
}