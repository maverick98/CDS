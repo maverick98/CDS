{
  "nbformat": 4,
  "nbformat_minor": 0,
  "metadata": {
    "colab": {
      "provenance": [],
      "authorship_tag": "ABX9TyNvQxoAoDTPgsREmpTY3FTq",
      "include_colab_link": true
    },
    "kernelspec": {
      "name": "python3",
      "display_name": "Python 3"
    },
    "language_info": {
      "name": "python"
    }
  },
  "cells": [
    {
      "cell_type": "markdown",
      "metadata": {
        "id": "view-in-github",
        "colab_type": "text"
      },
      "source": [
        "<a href=\"https://colab.research.google.com/github/maverick98/CDS/blob/main/M5_Programming.ipynb\" target=\"_parent\"><img src=\"https://colab.research.google.com/assets/colab-badge.svg\" alt=\"Open In Colab\"/></a>"
      ]
    },
    {
      "cell_type": "markdown",
      "source": [
        "\n",
        "== Programming Question ==\n",
        "\n",
        "You are given a CSV file of the form \"studentID,courseID,marks\" for students in a university. Provide the Spark transformations and actions using RDDs to\n",
        "\n",
        "    (i) calculate the average marks per course,\n",
        "    (ii) average marks per student and\n",
        "    (iii) the number of students in the university.\n",
        "\n"
      ],
      "metadata": {
        "id": "U85mWkZ8MMM0"
      }
    },
    {
      "cell_type": "code",
      "source": [
        "!pip -qq install pyspark"
      ],
      "metadata": {
        "colab": {
          "base_uri": "https://localhost:8080/"
        },
        "id": "Fr3xdJuEMNB7",
        "outputId": "f47a5613-4da1-4295-ccad-685ad00ea91d"
      },
      "execution_count": 1,
      "outputs": [
        {
          "output_type": "stream",
          "name": "stdout",
          "text": [
            "\u001b[2K     \u001b[90m━━━━━━━━━━━━━━━━━━━━━━━━━━━━━━━━━━━━━━━\u001b[0m \u001b[32m281.4/281.4 MB\u001b[0m \u001b[31m4.0 MB/s\u001b[0m eta \u001b[36m0:00:00\u001b[0m\n",
            "\u001b[?25h  Preparing metadata (setup.py) ... \u001b[?25l\u001b[?25hdone\n",
            "\u001b[2K     \u001b[90m━━━━━━━━━━━━━━━━━━━━━━━━━━━━━━━━━━━━━━\u001b[0m \u001b[32m199.7/199.7 KB\u001b[0m \u001b[31m17.1 MB/s\u001b[0m eta \u001b[36m0:00:00\u001b[0m\n",
            "\u001b[?25h  Building wheel for pyspark (setup.py) ... \u001b[?25l\u001b[?25hdone\n"
          ]
        }
      ]
    },
    {
      "cell_type": "code",
      "source": [
        "\n",
        "\n",
        "import numpy as np\n",
        "import pandas as pd\n",
        "from pyspark.sql import SparkSession\n",
        "from pyspark.sql.functions import count, avg\n",
        "from pyspark.sql.functions import *\n",
        "\n"
      ],
      "metadata": {
        "id": "AEuqIHxaMRtC"
      },
      "execution_count": 2,
      "outputs": []
    },
    {
      "cell_type": "code",
      "source": [
        "\n",
        "\n",
        "# Create a dummy students csv file\n",
        "\n",
        "df = pd.DataFrame({\"studentID\": np.random.randint(low = 101, high = 130, size = 50, ),\n",
        "                   \"courseID\": np.random.randint(low = 1001, high = 1009, size = 50),\n",
        "                   \"marks\": np.random.randint(low = 60, high = 95, size = 50)})\n",
        "df['studentID'] = df['studentID'].apply(lambda x: \"S\"+str(x))\n",
        "df['courseID'] = df['courseID'].apply(lambda x: \"C\"+str(x))\n",
        "\n",
        "# Drop combined duplicate entries for 'studentID', 'courseID'\n",
        "df = df.iloc[df[['studentID', 'courseID']].drop_duplicates().index]\n",
        "\n",
        "df.head()\n",
        "\n"
      ],
      "metadata": {
        "colab": {
          "base_uri": "https://localhost:8080/",
          "height": 206
        },
        "id": "CDU2HuGfMWJ0",
        "outputId": "71a4b9ed-2338-42cc-b7e3-5450be218bbf"
      },
      "execution_count": 3,
      "outputs": [
        {
          "output_type": "execute_result",
          "data": {
            "text/plain": [
              "  studentID courseID  marks\n",
              "0      S123    C1001     84\n",
              "1      S118    C1006     75\n",
              "2      S121    C1002     93\n",
              "3      S128    C1006     78\n",
              "4      S107    C1004     82"
            ],
            "text/html": [
              "\n",
              "  <div id=\"df-1d0e6fda-a1c9-4bb8-b0ca-dac675f0ac96\">\n",
              "    <div class=\"colab-df-container\">\n",
              "      <div>\n",
              "<style scoped>\n",
              "    .dataframe tbody tr th:only-of-type {\n",
              "        vertical-align: middle;\n",
              "    }\n",
              "\n",
              "    .dataframe tbody tr th {\n",
              "        vertical-align: top;\n",
              "    }\n",
              "\n",
              "    .dataframe thead th {\n",
              "        text-align: right;\n",
              "    }\n",
              "</style>\n",
              "<table border=\"1\" class=\"dataframe\">\n",
              "  <thead>\n",
              "    <tr style=\"text-align: right;\">\n",
              "      <th></th>\n",
              "      <th>studentID</th>\n",
              "      <th>courseID</th>\n",
              "      <th>marks</th>\n",
              "    </tr>\n",
              "  </thead>\n",
              "  <tbody>\n",
              "    <tr>\n",
              "      <th>0</th>\n",
              "      <td>S123</td>\n",
              "      <td>C1001</td>\n",
              "      <td>84</td>\n",
              "    </tr>\n",
              "    <tr>\n",
              "      <th>1</th>\n",
              "      <td>S118</td>\n",
              "      <td>C1006</td>\n",
              "      <td>75</td>\n",
              "    </tr>\n",
              "    <tr>\n",
              "      <th>2</th>\n",
              "      <td>S121</td>\n",
              "      <td>C1002</td>\n",
              "      <td>93</td>\n",
              "    </tr>\n",
              "    <tr>\n",
              "      <th>3</th>\n",
              "      <td>S128</td>\n",
              "      <td>C1006</td>\n",
              "      <td>78</td>\n",
              "    </tr>\n",
              "    <tr>\n",
              "      <th>4</th>\n",
              "      <td>S107</td>\n",
              "      <td>C1004</td>\n",
              "      <td>82</td>\n",
              "    </tr>\n",
              "  </tbody>\n",
              "</table>\n",
              "</div>\n",
              "      <button class=\"colab-df-convert\" onclick=\"convertToInteractive('df-1d0e6fda-a1c9-4bb8-b0ca-dac675f0ac96')\"\n",
              "              title=\"Convert this dataframe to an interactive table.\"\n",
              "              style=\"display:none;\">\n",
              "        \n",
              "  <svg xmlns=\"http://www.w3.org/2000/svg\" height=\"24px\"viewBox=\"0 0 24 24\"\n",
              "       width=\"24px\">\n",
              "    <path d=\"M0 0h24v24H0V0z\" fill=\"none\"/>\n",
              "    <path d=\"M18.56 5.44l.94 2.06.94-2.06 2.06-.94-2.06-.94-.94-2.06-.94 2.06-2.06.94zm-11 1L8.5 8.5l.94-2.06 2.06-.94-2.06-.94L8.5 2.5l-.94 2.06-2.06.94zm10 10l.94 2.06.94-2.06 2.06-.94-2.06-.94-.94-2.06-.94 2.06-2.06.94z\"/><path d=\"M17.41 7.96l-1.37-1.37c-.4-.4-.92-.59-1.43-.59-.52 0-1.04.2-1.43.59L10.3 9.45l-7.72 7.72c-.78.78-.78 2.05 0 2.83L4 21.41c.39.39.9.59 1.41.59.51 0 1.02-.2 1.41-.59l7.78-7.78 2.81-2.81c.8-.78.8-2.07 0-2.86zM5.41 20L4 18.59l7.72-7.72 1.47 1.35L5.41 20z\"/>\n",
              "  </svg>\n",
              "      </button>\n",
              "      \n",
              "  <style>\n",
              "    .colab-df-container {\n",
              "      display:flex;\n",
              "      flex-wrap:wrap;\n",
              "      gap: 12px;\n",
              "    }\n",
              "\n",
              "    .colab-df-convert {\n",
              "      background-color: #E8F0FE;\n",
              "      border: none;\n",
              "      border-radius: 50%;\n",
              "      cursor: pointer;\n",
              "      display: none;\n",
              "      fill: #1967D2;\n",
              "      height: 32px;\n",
              "      padding: 0 0 0 0;\n",
              "      width: 32px;\n",
              "    }\n",
              "\n",
              "    .colab-df-convert:hover {\n",
              "      background-color: #E2EBFA;\n",
              "      box-shadow: 0px 1px 2px rgba(60, 64, 67, 0.3), 0px 1px 3px 1px rgba(60, 64, 67, 0.15);\n",
              "      fill: #174EA6;\n",
              "    }\n",
              "\n",
              "    [theme=dark] .colab-df-convert {\n",
              "      background-color: #3B4455;\n",
              "      fill: #D2E3FC;\n",
              "    }\n",
              "\n",
              "    [theme=dark] .colab-df-convert:hover {\n",
              "      background-color: #434B5C;\n",
              "      box-shadow: 0px 1px 3px 1px rgba(0, 0, 0, 0.15);\n",
              "      filter: drop-shadow(0px 1px 2px rgba(0, 0, 0, 0.3));\n",
              "      fill: #FFFFFF;\n",
              "    }\n",
              "  </style>\n",
              "\n",
              "      <script>\n",
              "        const buttonEl =\n",
              "          document.querySelector('#df-1d0e6fda-a1c9-4bb8-b0ca-dac675f0ac96 button.colab-df-convert');\n",
              "        buttonEl.style.display =\n",
              "          google.colab.kernel.accessAllowed ? 'block' : 'none';\n",
              "\n",
              "        async function convertToInteractive(key) {\n",
              "          const element = document.querySelector('#df-1d0e6fda-a1c9-4bb8-b0ca-dac675f0ac96');\n",
              "          const dataTable =\n",
              "            await google.colab.kernel.invokeFunction('convertToInteractive',\n",
              "                                                     [key], {});\n",
              "          if (!dataTable) return;\n",
              "\n",
              "          const docLinkHtml = 'Like what you see? Visit the ' +\n",
              "            '<a target=\"_blank\" href=https://colab.research.google.com/notebooks/data_table.ipynb>data table notebook</a>'\n",
              "            + ' to learn more about interactive tables.';\n",
              "          element.innerHTML = '';\n",
              "          dataTable['output_type'] = 'display_data';\n",
              "          await google.colab.output.renderOutput(dataTable, element);\n",
              "          const docLink = document.createElement('div');\n",
              "          docLink.innerHTML = docLinkHtml;\n",
              "          element.appendChild(docLink);\n",
              "        }\n",
              "      </script>\n",
              "    </div>\n",
              "  </div>\n",
              "  "
            ]
          },
          "metadata": {},
          "execution_count": 3
        }
      ]
    },
    {
      "cell_type": "code",
      "source": [
        "\n",
        "\n",
        "df.shape\n",
        "\n"
      ],
      "metadata": {
        "colab": {
          "base_uri": "https://localhost:8080/"
        },
        "id": "ZWliHW7TM2PL",
        "outputId": "622df1af-fd02-4968-cae6-62816fd36b45"
      },
      "execution_count": 4,
      "outputs": [
        {
          "output_type": "execute_result",
          "data": {
            "text/plain": [
              "(44, 3)"
            ]
          },
          "metadata": {},
          "execution_count": 4
        }
      ]
    },
    {
      "cell_type": "code",
      "source": [
        "\n",
        "\n",
        "# Save to csv file\n",
        "df.to_csv(\"students_dataset.csv\", index=False)\n",
        "\n"
      ],
      "metadata": {
        "id": "zUsND6j7M4TD"
      },
      "execution_count": 5,
      "outputs": []
    },
    {
      "cell_type": "markdown",
      "source": [
        "**Using RDDs**"
      ],
      "metadata": {
        "id": "Mh8IkI-zM79W"
      }
    },
    {
      "cell_type": "code",
      "source": [
        "\n",
        "\n",
        "# Create a spark session\n",
        "spark = (SparkSession.builder.appName(\"StudentsData\").getOrCreate())\n",
        "spark\n",
        "\n"
      ],
      "metadata": {
        "colab": {
          "base_uri": "https://localhost:8080/",
          "height": 220
        },
        "id": "lKFjomBzM9S9",
        "outputId": "7b92e6da-ed24-4e1b-bbab-3771c70508fd"
      },
      "execution_count": 6,
      "outputs": [
        {
          "output_type": "execute_result",
          "data": {
            "text/plain": [
              "<pyspark.sql.session.SparkSession at 0x7fd417b6bee0>"
            ],
            "text/html": [
              "\n",
              "            <div>\n",
              "                <p><b>SparkSession - in-memory</b></p>\n",
              "                \n",
              "        <div>\n",
              "            <p><b>SparkContext</b></p>\n",
              "\n",
              "            <p><a href=\"http://9db2e8879559:4040\">Spark UI</a></p>\n",
              "\n",
              "            <dl>\n",
              "              <dt>Version</dt>\n",
              "                <dd><code>v3.3.1</code></dd>\n",
              "              <dt>Master</dt>\n",
              "                <dd><code>local[*]</code></dd>\n",
              "              <dt>AppName</dt>\n",
              "                <dd><code>StudentsData</code></dd>\n",
              "            </dl>\n",
              "        </div>\n",
              "        \n",
              "            </div>\n",
              "        "
            ]
          },
          "metadata": {},
          "execution_count": 6
        }
      ]
    },
    {
      "cell_type": "code",
      "source": [
        "\n",
        "\n",
        "# Accessing sparkContext from sparkSession instance\n",
        "sc = spark.sparkContext\n",
        "\n",
        "\n",
        "\n",
        "# Read data and create rdd\n",
        "dataset = sc.textFile(\"students_dataset.csv\")\n",
        "print(type(dataset))\n",
        "\n",
        "\n",
        "\n",
        "# Filter out header row\n",
        "header = dataset.first()      # extract header\n",
        "rdd_data = dataset.filter(lambda x: x != header)      \n",
        "print(type(rdd_data))\n",
        "\n"
      ],
      "metadata": {
        "colab": {
          "base_uri": "https://localhost:8080/"
        },
        "id": "oL7j9h6KNDT7",
        "outputId": "85d5ab44-d5c6-42b2-ea22-30a697e962c0"
      },
      "execution_count": 7,
      "outputs": [
        {
          "output_type": "stream",
          "name": "stdout",
          "text": [
            "<class 'pyspark.rdd.RDD'>\n",
            "<class 'pyspark.rdd.PipelinedRDD'>\n"
          ]
        }
      ]
    },
    {
      "cell_type": "code",
      "source": [
        "rdd_data.count()"
      ],
      "metadata": {
        "colab": {
          "base_uri": "https://localhost:8080/"
        },
        "id": "dQ2Y0MomNNrz",
        "outputId": "033f22f1-54de-472f-fdba-d0195c4ad26d"
      },
      "execution_count": 8,
      "outputs": [
        {
          "output_type": "execute_result",
          "data": {
            "text/plain": [
              "44"
            ]
          },
          "metadata": {},
          "execution_count": 8
        }
      ]
    },
    {
      "cell_type": "code",
      "source": [
        "\n",
        "\n",
        "# we are creating a new RDD called “rows” by splitting every row in the rdd_data  \n",
        "rows = rdd_data.map(lambda line: line.split(\",\"))\n",
        "type(rows)\n",
        "\n"
      ],
      "metadata": {
        "colab": {
          "base_uri": "https://localhost:8080/"
        },
        "id": "PRCcx7bDNPai",
        "outputId": "b9f5d2d7-c1a4-433e-cce5-ac039197749c"
      },
      "execution_count": 9,
      "outputs": [
        {
          "output_type": "execute_result",
          "data": {
            "text/plain": [
              "pyspark.rdd.PipelinedRDD"
            ]
          },
          "metadata": {},
          "execution_count": 9
        }
      ]
    },
    {
      "cell_type": "code",
      "source": [
        "\n",
        "\n",
        "rows.count()\n",
        "\n"
      ],
      "metadata": {
        "colab": {
          "base_uri": "https://localhost:8080/"
        },
        "id": "sygNFVqjNmA0",
        "outputId": "fb9e0b88-0b3e-4146-969c-4a9419c349de"
      },
      "execution_count": 10,
      "outputs": [
        {
          "output_type": "execute_result",
          "data": {
            "text/plain": [
              "44"
            ]
          },
          "metadata": {},
          "execution_count": 10
        }
      ]
    },
    {
      "cell_type": "code",
      "source": [
        "\n",
        "\n",
        "# Print Data values\n",
        "for row in rows.take(rows.count()):\n",
        "  print(row)\n",
        "\n"
      ],
      "metadata": {
        "id": "2WNGqwXCNoUb"
      },
      "execution_count": null,
      "outputs": []
    },
    {
      "cell_type": "code",
      "source": [
        "course_marks= rows.map(lambda x:(x[1],x[2]))\n",
        "\n",
        "\n",
        "# Calculate total marks per course\n",
        "course_marks_sum = course_marks.reduceByKey(lambda x,y: float(x) + float(y))\n",
        "course_marks_sum.collect()\n",
        "\n"
      ],
      "metadata": {
        "colab": {
          "base_uri": "https://localhost:8080/"
        },
        "id": "aLigau62NqiS",
        "outputId": "fe30e13c-37f4-45c9-f35d-0c0fac8df155"
      },
      "execution_count": 26,
      "outputs": [
        {
          "output_type": "execute_result",
          "data": {
            "text/plain": [
              "[('C1006', 447.0),\n",
              " ('C1002', 471.0),\n",
              " ('C1001', 410.0),\n",
              " ('C1004', 555.0),\n",
              " ('C1005', 479.0),\n",
              " ('C1003', 583.0),\n",
              " ('C1008', 301.0),\n",
              " ('C1007', 145.0)]"
            ]
          },
          "metadata": {},
          "execution_count": 26
        }
      ]
    },
    {
      "cell_type": "code",
      "source": [
        "\n",
        "\n",
        "# Store the count of marks associated with each courseID\n",
        "course_count = course_marks.countByKey()\n",
        "course_count\n",
        "\n"
      ],
      "metadata": {
        "colab": {
          "base_uri": "https://localhost:8080/"
        },
        "id": "TIg_xy7DS6CL",
        "outputId": "5db9b1a2-5adf-413e-a0be-8248e4ed3d6e"
      },
      "execution_count": 27,
      "outputs": [
        {
          "output_type": "execute_result",
          "data": {
            "text/plain": [
              "defaultdict(int,\n",
              "            {'C1001': 5,\n",
              "             'C1006': 6,\n",
              "             'C1002': 6,\n",
              "             'C1004': 7,\n",
              "             'C1005': 6,\n",
              "             'C1003': 8,\n",
              "             'C1008': 4,\n",
              "             'C1007': 2})"
            ]
          },
          "metadata": {},
          "execution_count": 27
        }
      ]
    },
    {
      "cell_type": "code",
      "source": [
        "# Calculate average marks per course\n",
        "avg_mrks_per_course_rdd = course_marks_sum.map(lambda x: (x[0], float(x[1])/course_count[x[0]]))\n",
        "sorted(avg_mrks_per_course_rdd.collect())"
      ],
      "metadata": {
        "colab": {
          "base_uri": "https://localhost:8080/"
        },
        "id": "f9NN0oR7S_cd",
        "outputId": "a864a901-415d-447a-bcf2-414ec7e2bded"
      },
      "execution_count": 28,
      "outputs": [
        {
          "output_type": "execute_result",
          "data": {
            "text/plain": [
              "[('C1001', 82.0),\n",
              " ('C1002', 78.5),\n",
              " ('C1003', 72.875),\n",
              " ('C1004', 79.28571428571429),\n",
              " ('C1005', 79.83333333333333),\n",
              " ('C1006', 74.5),\n",
              " ('C1007', 72.5),\n",
              " ('C1008', 75.25)]"
            ]
          },
          "metadata": {},
          "execution_count": 28
        }
      ]
    },
    {
      "cell_type": "code",
      "source": [
        "\n",
        "\n",
        "# Extract studentID and marks from rdd\n",
        "stdnt_marks = rows.map(lambda x: (x[0], x[2]))\n",
        "type(stdnt_marks)\n",
        "\n"
      ],
      "metadata": {
        "colab": {
          "base_uri": "https://localhost:8080/"
        },
        "id": "y2bdODYsTM_n",
        "outputId": "74bd2004-76ef-40a1-a041-307012624e81"
      },
      "execution_count": 29,
      "outputs": [
        {
          "output_type": "execute_result",
          "data": {
            "text/plain": [
              "pyspark.rdd.PipelinedRDD"
            ]
          },
          "metadata": {},
          "execution_count": 29
        }
      ]
    },
    {
      "cell_type": "code",
      "source": [
        "\n",
        "\n",
        "# Store the count of marks associated with each studentID\n",
        "stdnt_count = stdnt_marks.countByKey()\n",
        "stdnt_count\n",
        "\n"
      ],
      "metadata": {
        "colab": {
          "base_uri": "https://localhost:8080/"
        },
        "id": "97wLayM8TQj1",
        "outputId": "46fc59f7-767f-4e83-841a-f7b5bba51617"
      },
      "execution_count": 30,
      "outputs": [
        {
          "output_type": "execute_result",
          "data": {
            "text/plain": [
              "defaultdict(int,\n",
              "            {'S123': 2,\n",
              "             'S118': 1,\n",
              "             'S121': 4,\n",
              "             'S128': 1,\n",
              "             'S107': 1,\n",
              "             'S115': 2,\n",
              "             'S116': 1,\n",
              "             'S103': 2,\n",
              "             'S125': 2,\n",
              "             'S101': 1,\n",
              "             'S108': 1,\n",
              "             'S113': 2,\n",
              "             'S112': 3,\n",
              "             'S114': 2,\n",
              "             'S111': 3,\n",
              "             'S106': 1,\n",
              "             'S119': 2,\n",
              "             'S117': 1,\n",
              "             'S102': 2,\n",
              "             'S126': 1,\n",
              "             'S120': 2,\n",
              "             'S129': 2,\n",
              "             'S109': 2,\n",
              "             'S105': 1,\n",
              "             'S110': 1,\n",
              "             'S124': 1})"
            ]
          },
          "metadata": {},
          "execution_count": 30
        }
      ]
    },
    {
      "cell_type": "code",
      "source": [
        "# Calculate total marks per student\n",
        "stdnt_marks_sum = stdnt_marks.reduceByKey(lambda x,y: float(x) + float(y))\n",
        "stdnt_marks_sum.collect()"
      ],
      "metadata": {
        "colab": {
          "base_uri": "https://localhost:8080/"
        },
        "id": "6o5SG7oXTTGW",
        "outputId": "2f4e9747-f23a-425f-f332-2146c3ff9aa0"
      },
      "execution_count": 31,
      "outputs": [
        {
          "output_type": "execute_result",
          "data": {
            "text/plain": [
              "[('S123', 145.0),\n",
              " ('S128', '78'),\n",
              " ('S125', 135.0),\n",
              " ('S101', '80'),\n",
              " ('S108', '73'),\n",
              " ('S111', 239.0),\n",
              " ('S106', '91'),\n",
              " ('S119', 151.0),\n",
              " ('S102', 159.0),\n",
              " ('S129', 146.0),\n",
              " ('S105', '73'),\n",
              " ('S110', '87'),\n",
              " ('S124', '71'),\n",
              " ('S118', '75'),\n",
              " ('S121', 334.0),\n",
              " ('S107', '82'),\n",
              " ('S115', 164.0),\n",
              " ('S116', '76'),\n",
              " ('S103', 136.0),\n",
              " ('S113', 138.0),\n",
              " ('S112', 216.0),\n",
              " ('S114', 167.0),\n",
              " ('S117', '92'),\n",
              " ('S126', '83'),\n",
              " ('S120', 140.0),\n",
              " ('S109', 160.0)]"
            ]
          },
          "metadata": {},
          "execution_count": 31
        }
      ]
    },
    {
      "cell_type": "code",
      "source": [
        "\n",
        "\n",
        "# Calculate average marks per student\n",
        "avg_mrks_per_stdnt_rdd = stdnt_marks_sum.map(lambda x: (x[0], float(x[1])/stdnt_count[x[0]]))\n",
        "sorted(avg_mrks_per_stdnt_rdd.collect())\n",
        "\n"
      ],
      "metadata": {
        "colab": {
          "base_uri": "https://localhost:8080/"
        },
        "id": "g_hNXROhTYtC",
        "outputId": "bea6df13-dfd6-4644-da29-1527b4515032"
      },
      "execution_count": 32,
      "outputs": [
        {
          "output_type": "execute_result",
          "data": {
            "text/plain": [
              "[('S101', 80.0),\n",
              " ('S102', 79.5),\n",
              " ('S103', 68.0),\n",
              " ('S105', 73.0),\n",
              " ('S106', 91.0),\n",
              " ('S107', 82.0),\n",
              " ('S108', 73.0),\n",
              " ('S109', 80.0),\n",
              " ('S110', 87.0),\n",
              " ('S111', 79.66666666666667),\n",
              " ('S112', 72.0),\n",
              " ('S113', 69.0),\n",
              " ('S114', 83.5),\n",
              " ('S115', 82.0),\n",
              " ('S116', 76.0),\n",
              " ('S117', 92.0),\n",
              " ('S118', 75.0),\n",
              " ('S119', 75.5),\n",
              " ('S120', 70.0),\n",
              " ('S121', 83.5),\n",
              " ('S123', 72.5),\n",
              " ('S124', 71.0),\n",
              " ('S125', 67.5),\n",
              " ('S126', 83.0),\n",
              " ('S128', 78.0),\n",
              " ('S129', 73.0)]"
            ]
          },
          "metadata": {},
          "execution_count": 32
        }
      ]
    },
    {
      "cell_type": "code",
      "source": [
        "\n",
        "\n",
        "# Store the count of marks associated with each studentID\n",
        "stdnt_count = stdnt_marks.countByKey()\n",
        "n_students = len(stdnt_count.keys())\n",
        "\n",
        "print(\"Total number of students in the university = \", n_students)\n",
        "\n"
      ],
      "metadata": {
        "colab": {
          "base_uri": "https://localhost:8080/"
        },
        "id": "RAk3ECwHTctd",
        "outputId": "63273135-f442-40bd-d3ef-89853f0d9a1e"
      },
      "execution_count": 33,
      "outputs": [
        {
          "output_type": "stream",
          "name": "stdout",
          "text": [
            "Total number of students in the university =  26\n"
          ]
        }
      ]
    },
    {
      "cell_type": "markdown",
      "source": [
        "#(i) calculate the average marks per course"
      ],
      "metadata": {
        "id": "ppMPeFPCSOJ8"
      }
    },
    {
      "cell_type": "code",
      "source": [],
      "metadata": {
        "id": "qAR-g01wSWJ9"
      },
      "execution_count": null,
      "outputs": []
    },
    {
      "cell_type": "markdown",
      "source": [
        "##Using SQL"
      ],
      "metadata": {
        "id": "dw-GUR0RSTXL"
      }
    },
    {
      "cell_type": "markdown",
      "source": [
        "#(i) calculate the average marks per course"
      ],
      "metadata": {
        "id": "P63PM99-Nso6"
      }
    },
    {
      "cell_type": "code",
      "source": [
        "df = spark.read.csv(\"/content/students_dataset.csv\", sep = \",\", header=True, inferSchema = True)   "
      ],
      "metadata": {
        "id": "Ddw9PzLHNtR8"
      },
      "execution_count": 13,
      "outputs": []
    },
    {
      "cell_type": "code",
      "source": [
        "df.toPandas().head()"
      ],
      "metadata": {
        "colab": {
          "base_uri": "https://localhost:8080/",
          "height": 206
        },
        "id": "o5eRtQGJPq67",
        "outputId": "622fe65d-acbb-434d-a014-a46451541912"
      },
      "execution_count": 15,
      "outputs": [
        {
          "output_type": "execute_result",
          "data": {
            "text/plain": [
              "  studentID courseID  marks\n",
              "0      S123    C1001     84\n",
              "1      S118    C1006     75\n",
              "2      S121    C1002     93\n",
              "3      S128    C1006     78\n",
              "4      S107    C1004     82"
            ],
            "text/html": [
              "\n",
              "  <div id=\"df-4f12065f-7cc9-426b-aa73-d4b3ed8204a0\">\n",
              "    <div class=\"colab-df-container\">\n",
              "      <div>\n",
              "<style scoped>\n",
              "    .dataframe tbody tr th:only-of-type {\n",
              "        vertical-align: middle;\n",
              "    }\n",
              "\n",
              "    .dataframe tbody tr th {\n",
              "        vertical-align: top;\n",
              "    }\n",
              "\n",
              "    .dataframe thead th {\n",
              "        text-align: right;\n",
              "    }\n",
              "</style>\n",
              "<table border=\"1\" class=\"dataframe\">\n",
              "  <thead>\n",
              "    <tr style=\"text-align: right;\">\n",
              "      <th></th>\n",
              "      <th>studentID</th>\n",
              "      <th>courseID</th>\n",
              "      <th>marks</th>\n",
              "    </tr>\n",
              "  </thead>\n",
              "  <tbody>\n",
              "    <tr>\n",
              "      <th>0</th>\n",
              "      <td>S123</td>\n",
              "      <td>C1001</td>\n",
              "      <td>84</td>\n",
              "    </tr>\n",
              "    <tr>\n",
              "      <th>1</th>\n",
              "      <td>S118</td>\n",
              "      <td>C1006</td>\n",
              "      <td>75</td>\n",
              "    </tr>\n",
              "    <tr>\n",
              "      <th>2</th>\n",
              "      <td>S121</td>\n",
              "      <td>C1002</td>\n",
              "      <td>93</td>\n",
              "    </tr>\n",
              "    <tr>\n",
              "      <th>3</th>\n",
              "      <td>S128</td>\n",
              "      <td>C1006</td>\n",
              "      <td>78</td>\n",
              "    </tr>\n",
              "    <tr>\n",
              "      <th>4</th>\n",
              "      <td>S107</td>\n",
              "      <td>C1004</td>\n",
              "      <td>82</td>\n",
              "    </tr>\n",
              "  </tbody>\n",
              "</table>\n",
              "</div>\n",
              "      <button class=\"colab-df-convert\" onclick=\"convertToInteractive('df-4f12065f-7cc9-426b-aa73-d4b3ed8204a0')\"\n",
              "              title=\"Convert this dataframe to an interactive table.\"\n",
              "              style=\"display:none;\">\n",
              "        \n",
              "  <svg xmlns=\"http://www.w3.org/2000/svg\" height=\"24px\"viewBox=\"0 0 24 24\"\n",
              "       width=\"24px\">\n",
              "    <path d=\"M0 0h24v24H0V0z\" fill=\"none\"/>\n",
              "    <path d=\"M18.56 5.44l.94 2.06.94-2.06 2.06-.94-2.06-.94-.94-2.06-.94 2.06-2.06.94zm-11 1L8.5 8.5l.94-2.06 2.06-.94-2.06-.94L8.5 2.5l-.94 2.06-2.06.94zm10 10l.94 2.06.94-2.06 2.06-.94-2.06-.94-.94-2.06-.94 2.06-2.06.94z\"/><path d=\"M17.41 7.96l-1.37-1.37c-.4-.4-.92-.59-1.43-.59-.52 0-1.04.2-1.43.59L10.3 9.45l-7.72 7.72c-.78.78-.78 2.05 0 2.83L4 21.41c.39.39.9.59 1.41.59.51 0 1.02-.2 1.41-.59l7.78-7.78 2.81-2.81c.8-.78.8-2.07 0-2.86zM5.41 20L4 18.59l7.72-7.72 1.47 1.35L5.41 20z\"/>\n",
              "  </svg>\n",
              "      </button>\n",
              "      \n",
              "  <style>\n",
              "    .colab-df-container {\n",
              "      display:flex;\n",
              "      flex-wrap:wrap;\n",
              "      gap: 12px;\n",
              "    }\n",
              "\n",
              "    .colab-df-convert {\n",
              "      background-color: #E8F0FE;\n",
              "      border: none;\n",
              "      border-radius: 50%;\n",
              "      cursor: pointer;\n",
              "      display: none;\n",
              "      fill: #1967D2;\n",
              "      height: 32px;\n",
              "      padding: 0 0 0 0;\n",
              "      width: 32px;\n",
              "    }\n",
              "\n",
              "    .colab-df-convert:hover {\n",
              "      background-color: #E2EBFA;\n",
              "      box-shadow: 0px 1px 2px rgba(60, 64, 67, 0.3), 0px 1px 3px 1px rgba(60, 64, 67, 0.15);\n",
              "      fill: #174EA6;\n",
              "    }\n",
              "\n",
              "    [theme=dark] .colab-df-convert {\n",
              "      background-color: #3B4455;\n",
              "      fill: #D2E3FC;\n",
              "    }\n",
              "\n",
              "    [theme=dark] .colab-df-convert:hover {\n",
              "      background-color: #434B5C;\n",
              "      box-shadow: 0px 1px 3px 1px rgba(0, 0, 0, 0.15);\n",
              "      filter: drop-shadow(0px 1px 2px rgba(0, 0, 0, 0.3));\n",
              "      fill: #FFFFFF;\n",
              "    }\n",
              "  </style>\n",
              "\n",
              "      <script>\n",
              "        const buttonEl =\n",
              "          document.querySelector('#df-4f12065f-7cc9-426b-aa73-d4b3ed8204a0 button.colab-df-convert');\n",
              "        buttonEl.style.display =\n",
              "          google.colab.kernel.accessAllowed ? 'block' : 'none';\n",
              "\n",
              "        async function convertToInteractive(key) {\n",
              "          const element = document.querySelector('#df-4f12065f-7cc9-426b-aa73-d4b3ed8204a0');\n",
              "          const dataTable =\n",
              "            await google.colab.kernel.invokeFunction('convertToInteractive',\n",
              "                                                     [key], {});\n",
              "          if (!dataTable) return;\n",
              "\n",
              "          const docLinkHtml = 'Like what you see? Visit the ' +\n",
              "            '<a target=\"_blank\" href=https://colab.research.google.com/notebooks/data_table.ipynb>data table notebook</a>'\n",
              "            + ' to learn more about interactive tables.';\n",
              "          element.innerHTML = '';\n",
              "          dataTable['output_type'] = 'display_data';\n",
              "          await google.colab.output.renderOutput(dataTable, element);\n",
              "          const docLink = document.createElement('div');\n",
              "          docLink.innerHTML = docLinkHtml;\n",
              "          element.appendChild(docLink);\n",
              "        }\n",
              "      </script>\n",
              "    </div>\n",
              "  </div>\n",
              "  "
            ]
          },
          "metadata": {},
          "execution_count": 15
        }
      ]
    },
    {
      "cell_type": "code",
      "source": [
        "df.groupby('courseId').avg().show()"
      ],
      "metadata": {
        "colab": {
          "base_uri": "https://localhost:8080/"
        },
        "id": "Up9zozLlPzir",
        "outputId": "8c3944a8-b669-48e3-ae3a-ae160e939ea7"
      },
      "execution_count": 19,
      "outputs": [
        {
          "output_type": "stream",
          "name": "stdout",
          "text": [
            "+--------+-----------------+\n",
            "|courseId|       avg(marks)|\n",
            "+--------+-----------------+\n",
            "|   C1001|             82.0|\n",
            "|   C1008|            75.25|\n",
            "|   C1004|79.28571428571429|\n",
            "|   C1007|             72.5|\n",
            "|   C1005|79.83333333333333|\n",
            "|   C1003|           72.875|\n",
            "|   C1002|             78.5|\n",
            "|   C1006|             74.5|\n",
            "+--------+-----------------+\n",
            "\n"
          ]
        }
      ]
    },
    {
      "cell_type": "code",
      "source": [
        "\n",
        "\n",
        "# (i) calculate the average marks per course\n",
        "avg_mrks_per_course = (df.select(\"courseID\", \"Marks\").groupBy(\"courseID\").agg(avg(\"Marks\").alias(\"Avg_Marks\")).orderBy(\"Avg_Marks\", ascending=False))\n",
        "avg_mrks_per_course.show(truncate=False)\n",
        "\n"
      ],
      "metadata": {
        "colab": {
          "base_uri": "https://localhost:8080/"
        },
        "id": "KapDnkMsQW1S",
        "outputId": "a363c7c8-4b19-40c0-c3d4-92a32e0b0864"
      },
      "execution_count": 17,
      "outputs": [
        {
          "output_type": "stream",
          "name": "stdout",
          "text": [
            "+--------+-----------------+\n",
            "|courseID|Avg_Marks        |\n",
            "+--------+-----------------+\n",
            "|C1001   |82.0             |\n",
            "|C1005   |79.83333333333333|\n",
            "|C1004   |79.28571428571429|\n",
            "|C1002   |78.5             |\n",
            "|C1008   |75.25            |\n",
            "|C1006   |74.5             |\n",
            "|C1003   |72.875           |\n",
            "|C1007   |72.5             |\n",
            "+--------+-----------------+\n",
            "\n"
          ]
        }
      ]
    },
    {
      "cell_type": "markdown",
      "source": [
        "# (ii) average marks per student"
      ],
      "metadata": {
        "id": "J1UbCOckQtYr"
      }
    },
    {
      "cell_type": "code",
      "source": [
        "df.toPandas().head()"
      ],
      "metadata": {
        "colab": {
          "base_uri": "https://localhost:8080/",
          "height": 206
        },
        "id": "4REY5ICGQuKx",
        "outputId": "fe8c3d46-c61c-49fb-bef0-cbd7c01e2073"
      },
      "execution_count": 20,
      "outputs": [
        {
          "output_type": "execute_result",
          "data": {
            "text/plain": [
              "  studentID courseID  marks\n",
              "0      S123    C1001     84\n",
              "1      S118    C1006     75\n",
              "2      S121    C1002     93\n",
              "3      S128    C1006     78\n",
              "4      S107    C1004     82"
            ],
            "text/html": [
              "\n",
              "  <div id=\"df-3585376b-d768-4b7e-8eb9-4d78c11679ea\">\n",
              "    <div class=\"colab-df-container\">\n",
              "      <div>\n",
              "<style scoped>\n",
              "    .dataframe tbody tr th:only-of-type {\n",
              "        vertical-align: middle;\n",
              "    }\n",
              "\n",
              "    .dataframe tbody tr th {\n",
              "        vertical-align: top;\n",
              "    }\n",
              "\n",
              "    .dataframe thead th {\n",
              "        text-align: right;\n",
              "    }\n",
              "</style>\n",
              "<table border=\"1\" class=\"dataframe\">\n",
              "  <thead>\n",
              "    <tr style=\"text-align: right;\">\n",
              "      <th></th>\n",
              "      <th>studentID</th>\n",
              "      <th>courseID</th>\n",
              "      <th>marks</th>\n",
              "    </tr>\n",
              "  </thead>\n",
              "  <tbody>\n",
              "    <tr>\n",
              "      <th>0</th>\n",
              "      <td>S123</td>\n",
              "      <td>C1001</td>\n",
              "      <td>84</td>\n",
              "    </tr>\n",
              "    <tr>\n",
              "      <th>1</th>\n",
              "      <td>S118</td>\n",
              "      <td>C1006</td>\n",
              "      <td>75</td>\n",
              "    </tr>\n",
              "    <tr>\n",
              "      <th>2</th>\n",
              "      <td>S121</td>\n",
              "      <td>C1002</td>\n",
              "      <td>93</td>\n",
              "    </tr>\n",
              "    <tr>\n",
              "      <th>3</th>\n",
              "      <td>S128</td>\n",
              "      <td>C1006</td>\n",
              "      <td>78</td>\n",
              "    </tr>\n",
              "    <tr>\n",
              "      <th>4</th>\n",
              "      <td>S107</td>\n",
              "      <td>C1004</td>\n",
              "      <td>82</td>\n",
              "    </tr>\n",
              "  </tbody>\n",
              "</table>\n",
              "</div>\n",
              "      <button class=\"colab-df-convert\" onclick=\"convertToInteractive('df-3585376b-d768-4b7e-8eb9-4d78c11679ea')\"\n",
              "              title=\"Convert this dataframe to an interactive table.\"\n",
              "              style=\"display:none;\">\n",
              "        \n",
              "  <svg xmlns=\"http://www.w3.org/2000/svg\" height=\"24px\"viewBox=\"0 0 24 24\"\n",
              "       width=\"24px\">\n",
              "    <path d=\"M0 0h24v24H0V0z\" fill=\"none\"/>\n",
              "    <path d=\"M18.56 5.44l.94 2.06.94-2.06 2.06-.94-2.06-.94-.94-2.06-.94 2.06-2.06.94zm-11 1L8.5 8.5l.94-2.06 2.06-.94-2.06-.94L8.5 2.5l-.94 2.06-2.06.94zm10 10l.94 2.06.94-2.06 2.06-.94-2.06-.94-.94-2.06-.94 2.06-2.06.94z\"/><path d=\"M17.41 7.96l-1.37-1.37c-.4-.4-.92-.59-1.43-.59-.52 0-1.04.2-1.43.59L10.3 9.45l-7.72 7.72c-.78.78-.78 2.05 0 2.83L4 21.41c.39.39.9.59 1.41.59.51 0 1.02-.2 1.41-.59l7.78-7.78 2.81-2.81c.8-.78.8-2.07 0-2.86zM5.41 20L4 18.59l7.72-7.72 1.47 1.35L5.41 20z\"/>\n",
              "  </svg>\n",
              "      </button>\n",
              "      \n",
              "  <style>\n",
              "    .colab-df-container {\n",
              "      display:flex;\n",
              "      flex-wrap:wrap;\n",
              "      gap: 12px;\n",
              "    }\n",
              "\n",
              "    .colab-df-convert {\n",
              "      background-color: #E8F0FE;\n",
              "      border: none;\n",
              "      border-radius: 50%;\n",
              "      cursor: pointer;\n",
              "      display: none;\n",
              "      fill: #1967D2;\n",
              "      height: 32px;\n",
              "      padding: 0 0 0 0;\n",
              "      width: 32px;\n",
              "    }\n",
              "\n",
              "    .colab-df-convert:hover {\n",
              "      background-color: #E2EBFA;\n",
              "      box-shadow: 0px 1px 2px rgba(60, 64, 67, 0.3), 0px 1px 3px 1px rgba(60, 64, 67, 0.15);\n",
              "      fill: #174EA6;\n",
              "    }\n",
              "\n",
              "    [theme=dark] .colab-df-convert {\n",
              "      background-color: #3B4455;\n",
              "      fill: #D2E3FC;\n",
              "    }\n",
              "\n",
              "    [theme=dark] .colab-df-convert:hover {\n",
              "      background-color: #434B5C;\n",
              "      box-shadow: 0px 1px 3px 1px rgba(0, 0, 0, 0.15);\n",
              "      filter: drop-shadow(0px 1px 2px rgba(0, 0, 0, 0.3));\n",
              "      fill: #FFFFFF;\n",
              "    }\n",
              "  </style>\n",
              "\n",
              "      <script>\n",
              "        const buttonEl =\n",
              "          document.querySelector('#df-3585376b-d768-4b7e-8eb9-4d78c11679ea button.colab-df-convert');\n",
              "        buttonEl.style.display =\n",
              "          google.colab.kernel.accessAllowed ? 'block' : 'none';\n",
              "\n",
              "        async function convertToInteractive(key) {\n",
              "          const element = document.querySelector('#df-3585376b-d768-4b7e-8eb9-4d78c11679ea');\n",
              "          const dataTable =\n",
              "            await google.colab.kernel.invokeFunction('convertToInteractive',\n",
              "                                                     [key], {});\n",
              "          if (!dataTable) return;\n",
              "\n",
              "          const docLinkHtml = 'Like what you see? Visit the ' +\n",
              "            '<a target=\"_blank\" href=https://colab.research.google.com/notebooks/data_table.ipynb>data table notebook</a>'\n",
              "            + ' to learn more about interactive tables.';\n",
              "          element.innerHTML = '';\n",
              "          dataTable['output_type'] = 'display_data';\n",
              "          await google.colab.output.renderOutput(dataTable, element);\n",
              "          const docLink = document.createElement('div');\n",
              "          docLink.innerHTML = docLinkHtml;\n",
              "          element.appendChild(docLink);\n",
              "        }\n",
              "      </script>\n",
              "    </div>\n",
              "  </div>\n",
              "  "
            ]
          },
          "metadata": {},
          "execution_count": 20
        }
      ]
    },
    {
      "cell_type": "code",
      "source": [
        "avg_mrks_per_student = (df.select(\"studentID\", \"marks\").groupBy(\"studentID\").agg(avg(\"Marks\").alias(\"Avg_Marks\")).orderBy(\"Avg_Marks\", ascending=False))\n",
        "avg_mrks_per_student.show(truncate=False)"
      ],
      "metadata": {
        "colab": {
          "base_uri": "https://localhost:8080/"
        },
        "id": "VbcMaUi1Q3oi",
        "outputId": "fc753cca-6610-4d50-8d5c-53b3e0e6a353"
      },
      "execution_count": 23,
      "outputs": [
        {
          "output_type": "stream",
          "name": "stdout",
          "text": [
            "+---------+-----------------+\n",
            "|studentID|Avg_Marks        |\n",
            "+---------+-----------------+\n",
            "|S117     |92.0             |\n",
            "|S106     |91.0             |\n",
            "|S110     |87.0             |\n",
            "|S121     |83.5             |\n",
            "|S114     |83.5             |\n",
            "|S126     |83.0             |\n",
            "|S115     |82.0             |\n",
            "|S107     |82.0             |\n",
            "|S101     |80.0             |\n",
            "|S109     |80.0             |\n",
            "|S111     |79.66666666666667|\n",
            "|S102     |79.5             |\n",
            "|S128     |78.0             |\n",
            "|S116     |76.0             |\n",
            "|S119     |75.5             |\n",
            "|S118     |75.0             |\n",
            "|S108     |73.0             |\n",
            "|S105     |73.0             |\n",
            "|S129     |73.0             |\n",
            "|S123     |72.5             |\n",
            "+---------+-----------------+\n",
            "only showing top 20 rows\n",
            "\n"
          ]
        }
      ]
    },
    {
      "cell_type": "code",
      "source": [
        "df.groupby('studentID').avg().show()"
      ],
      "metadata": {
        "colab": {
          "base_uri": "https://localhost:8080/"
        },
        "id": "uP2G2RxxROcj",
        "outputId": "3f399939-63b3-44f7-e934-29a69e303f52"
      },
      "execution_count": 24,
      "outputs": [
        {
          "output_type": "stream",
          "name": "stdout",
          "text": [
            "+---------+----------+\n",
            "|studentID|avg(marks)|\n",
            "+---------+----------+\n",
            "|     S105|      73.0|\n",
            "|     S106|      91.0|\n",
            "|     S102|      79.5|\n",
            "|     S120|      70.0|\n",
            "|     S119|      75.5|\n",
            "|     S115|      82.0|\n",
            "|     S107|      82.0|\n",
            "|     S110|      87.0|\n",
            "|     S118|      75.0|\n",
            "|     S101|      80.0|\n",
            "|     S129|      73.0|\n",
            "|     S126|      83.0|\n",
            "|     S125|      67.5|\n",
            "|     S108|      73.0|\n",
            "|     S109|      80.0|\n",
            "|     S112|      72.0|\n",
            "|     S103|      68.0|\n",
            "|     S113|      69.0|\n",
            "|     S123|      72.5|\n",
            "|     S117|      92.0|\n",
            "+---------+----------+\n",
            "only showing top 20 rows\n",
            "\n"
          ]
        }
      ]
    },
    {
      "cell_type": "markdown",
      "source": [
        "\n",
        "\n",
        "#  (iii) the number of students in the university"
      ],
      "metadata": {
        "id": "MfD_VP8LRUWJ"
      }
    },
    {
      "cell_type": "code",
      "source": [
        "n_stdnts = df.select(\"studentID\").distinct().count()\n",
        "print(\"Total number of students in the university = \", n_stdnts)"
      ],
      "metadata": {
        "colab": {
          "base_uri": "https://localhost:8080/"
        },
        "id": "zlT7VtvSRVbq",
        "outputId": "bb49259b-a409-4fb6-ad8e-6e382f5197ce"
      },
      "execution_count": 25,
      "outputs": [
        {
          "output_type": "stream",
          "name": "stdout",
          "text": [
            "Total number of students in the university =  26\n"
          ]
        }
      ]
    },
    {
      "cell_type": "code",
      "source": [],
      "metadata": {
        "id": "miXXE9RvTmj2"
      },
      "execution_count": null,
      "outputs": []
    },
    {
      "cell_type": "markdown",
      "source": [
        "# Using temp table..Easiest one"
      ],
      "metadata": {
        "id": "47dfyH71TnjO"
      }
    },
    {
      "cell_type": "code",
      "source": [
        "df.registerTempTable(\"student\")\n",
        "df2 = spark.sql(\"select * from student\")\n",
        "df2.show(5)"
      ],
      "metadata": {
        "colab": {
          "base_uri": "https://localhost:8080/"
        },
        "id": "OAjmLgvCTrne",
        "outputId": "353abd47-d37e-4dbc-c5ec-9846b5371d14"
      },
      "execution_count": 35,
      "outputs": [
        {
          "output_type": "stream",
          "name": "stdout",
          "text": [
            "+---------+--------+-----+\n",
            "|studentID|courseID|marks|\n",
            "+---------+--------+-----+\n",
            "|     S123|   C1001|   84|\n",
            "|     S118|   C1006|   75|\n",
            "|     S121|   C1002|   93|\n",
            "|     S128|   C1006|   78|\n",
            "|     S107|   C1004|   82|\n",
            "+---------+--------+-----+\n",
            "only showing top 5 rows\n",
            "\n"
          ]
        }
      ]
    },
    {
      "cell_type": "markdown",
      "source": [
        "#(i) calculate the average marks per course, "
      ],
      "metadata": {
        "id": "GUexd-MNUL71"
      }
    },
    {
      "cell_type": "code",
      "source": [
        "df3=spark.sql(\"select courseID,avg(marks) from student group by courseID\")\n",
        "df3.show()"
      ],
      "metadata": {
        "colab": {
          "base_uri": "https://localhost:8080/"
        },
        "id": "0Q-KAdCCUJyx",
        "outputId": "193aaae9-b998-47aa-fa04-7e68469c7a66"
      },
      "execution_count": 38,
      "outputs": [
        {
          "output_type": "stream",
          "name": "stdout",
          "text": [
            "+--------+-----------------+\n",
            "|courseID|       avg(marks)|\n",
            "+--------+-----------------+\n",
            "|   C1001|             82.0|\n",
            "|   C1008|            75.25|\n",
            "|   C1004|79.28571428571429|\n",
            "|   C1007|             72.5|\n",
            "|   C1005|79.83333333333333|\n",
            "|   C1003|           72.875|\n",
            "|   C1002|             78.5|\n",
            "|   C1006|             74.5|\n",
            "+--------+-----------------+\n",
            "\n"
          ]
        }
      ]
    },
    {
      "cell_type": "markdown",
      "source": [
        "#(ii) average marks per student and "
      ],
      "metadata": {
        "id": "V9l-CLhzVA_9"
      }
    },
    {
      "cell_type": "code",
      "source": [
        "df3=spark.sql(\"select studentID,avg(marks) from student group by studentID\")\n",
        "df3.show()"
      ],
      "metadata": {
        "colab": {
          "base_uri": "https://localhost:8080/"
        },
        "id": "iF8TNCD7VB9d",
        "outputId": "98990b2f-a737-4203-e049-fe4442d4dbda"
      },
      "execution_count": 39,
      "outputs": [
        {
          "output_type": "stream",
          "name": "stdout",
          "text": [
            "+---------+----------+\n",
            "|studentID|avg(marks)|\n",
            "+---------+----------+\n",
            "|     S105|      73.0|\n",
            "|     S106|      91.0|\n",
            "|     S102|      79.5|\n",
            "|     S120|      70.0|\n",
            "|     S119|      75.5|\n",
            "|     S115|      82.0|\n",
            "|     S107|      82.0|\n",
            "|     S110|      87.0|\n",
            "|     S118|      75.0|\n",
            "|     S101|      80.0|\n",
            "|     S129|      73.0|\n",
            "|     S126|      83.0|\n",
            "|     S125|      67.5|\n",
            "|     S108|      73.0|\n",
            "|     S109|      80.0|\n",
            "|     S112|      72.0|\n",
            "|     S103|      68.0|\n",
            "|     S113|      69.0|\n",
            "|     S123|      72.5|\n",
            "|     S117|      92.0|\n",
            "+---------+----------+\n",
            "only showing top 20 rows\n",
            "\n"
          ]
        }
      ]
    },
    {
      "cell_type": "code",
      "source": [
        "df5=spark.sql(\"select count(distinct(studentID)) from student\")\n",
        "df5.show()"
      ],
      "metadata": {
        "colab": {
          "base_uri": "https://localhost:8080/"
        },
        "id": "pt29ZPp0VGy8",
        "outputId": "e2400878-739c-4eee-a485-ed8ed886791e"
      },
      "execution_count": 47,
      "outputs": [
        {
          "output_type": "stream",
          "name": "stdout",
          "text": [
            "+-------------------------+\n",
            "|count(DISTINCT studentID)|\n",
            "+-------------------------+\n",
            "|                       26|\n",
            "+-------------------------+\n",
            "\n"
          ]
        }
      ]
    }
  ]
}