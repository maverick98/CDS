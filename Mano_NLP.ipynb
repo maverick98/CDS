{
  "nbformat": 4,
  "nbformat_minor": 0,
  "metadata": {
    "colab": {
      "provenance": [],
      "authorship_tag": "ABX9TyP97je2QUacai266vZSpQzu",
      "include_colab_link": true
    },
    "kernelspec": {
      "name": "python3",
      "display_name": "Python 3"
    },
    "language_info": {
      "name": "python"
    }
  },
  "cells": [
    {
      "cell_type": "markdown",
      "metadata": {
        "id": "view-in-github",
        "colab_type": "text"
      },
      "source": [
        "<a href=\"https://colab.research.google.com/github/maverick98/CDS/blob/main/Mano_NLP.ipynb\" target=\"_parent\"><img src=\"https://colab.research.google.com/assets/colab-badge.svg\" alt=\"Open In Colab\"/></a>"
      ]
    },
    {
      "cell_type": "code",
      "execution_count": 2,
      "metadata": {
        "id": "mQP8PtKPGF1u"
      },
      "outputs": [],
      "source": [
        "import numpy as np\n",
        "from tensorflow.keras.preprocessing.text import one_hot\n",
        "from tensorflow.keras.preprocessing.sequence import pad_sequences\n",
        "from tensorflow.keras.models import Sequential\n",
        "from tensorflow.keras.layers import Dense\n",
        "from tensorflow.keras.layers import Flatten\n",
        "from tensorflow.keras.layers import Embedding\n"
      ]
    },
    {
      "cell_type": "code",
      "source": [
        "reviews=np.array(['nice food','amazing restaurant','too good','just loved it ','will go again','horrible food','never go there',\n",
        "         'poor service','poor quality','needs improvement'])\n",
        "sentiment=np.array([1,1,1,1,1,0,0,0,0,0])\n"
      ],
      "metadata": {
        "id": "zmtzAG3QGbd-"
      },
      "execution_count": 20,
      "outputs": []
    },
    {
      "cell_type": "code",
      "source": [
        "one_hot('nice food',500)"
      ],
      "metadata": {
        "colab": {
          "base_uri": "https://localhost:8080/"
        },
        "id": "X199IGCMHVat",
        "outputId": "b485ffc3-1601-43d0-fd0e-6f5b6538fd64"
      },
      "execution_count": 21,
      "outputs": [
        {
          "output_type": "execute_result",
          "data": {
            "text/plain": [
              "[325, 152]"
            ]
          },
          "metadata": {},
          "execution_count": 21
        }
      ]
    },
    {
      "cell_type": "code",
      "source": [
        "vocab_size=30\n",
        "encoded_reviews=[one_hot(d,vocab_size) for d in reviews]\n",
        "encoded_reviews"
      ],
      "metadata": {
        "colab": {
          "base_uri": "https://localhost:8080/"
        },
        "id": "NeuzteoUHfAN",
        "outputId": "ac2e2bfe-7e93-43b2-b89c-9eefd27f7484"
      },
      "execution_count": 22,
      "outputs": [
        {
          "output_type": "execute_result",
          "data": {
            "text/plain": [
              "[[22, 3],\n",
              " [11, 6],\n",
              " [23, 1],\n",
              " [27, 23, 7],\n",
              " [26, 29, 24],\n",
              " [26, 3],\n",
              " [28, 29, 18],\n",
              " [17, 22],\n",
              " [17, 1],\n",
              " [8, 13]]"
            ]
          },
          "metadata": {},
          "execution_count": 22
        }
      ]
    },
    {
      "cell_type": "code",
      "source": [
        "max_length=3\n",
        "padded_reviews=pad_sequences(encoded_reviews,maxlen=max_length,padding='post')\n",
        "padded_reviews"
      ],
      "metadata": {
        "colab": {
          "base_uri": "https://localhost:8080/"
        },
        "id": "Z2RhnGSDHryt",
        "outputId": "59a2ec24-f070-4ec3-d3bf-8d213a898cc4"
      },
      "execution_count": 23,
      "outputs": [
        {
          "output_type": "execute_result",
          "data": {
            "text/plain": [
              "array([[22,  3,  0],\n",
              "       [11,  6,  0],\n",
              "       [23,  1,  0],\n",
              "       [27, 23,  7],\n",
              "       [26, 29, 24],\n",
              "       [26,  3,  0],\n",
              "       [28, 29, 18],\n",
              "       [17, 22,  0],\n",
              "       [17,  1,  0],\n",
              "       [ 8, 13,  0]], dtype=int32)"
            ]
          },
          "metadata": {},
          "execution_count": 23
        }
      ]
    },
    {
      "cell_type": "code",
      "source": [
        "embedded_vector_size=4\n",
        "model=Sequential()\n",
        "model.add(Embedding(vocab_size,embedded_vector_size,input_length=max_length,name=\"embedding\"))\n",
        "model.add(Flatten())\n",
        "model.add(Dense(1,activation='softmax'))"
      ],
      "metadata": {
        "id": "mRHXIpXxIKnc"
      },
      "execution_count": 24,
      "outputs": []
    },
    {
      "cell_type": "code",
      "source": [
        "X=padded_reviews\n",
        "y=sentiment"
      ],
      "metadata": {
        "id": "MPGAkSOOIkvk"
      },
      "execution_count": 25,
      "outputs": []
    },
    {
      "cell_type": "code",
      "source": [
        "type(X),type(y)"
      ],
      "metadata": {
        "colab": {
          "base_uri": "https://localhost:8080/"
        },
        "id": "diactz5RKJSK",
        "outputId": "262d3ef6-4ffb-4e44-9bf1-034c21d72c7f"
      },
      "execution_count": 26,
      "outputs": [
        {
          "output_type": "execute_result",
          "data": {
            "text/plain": [
              "(numpy.ndarray, numpy.ndarray)"
            ]
          },
          "metadata": {},
          "execution_count": 26
        }
      ]
    },
    {
      "cell_type": "code",
      "source": [
        "model.compile(optimizer='adam',loss='binary_crossentropy',metrics='accuracy')\n",
        "model.summary()"
      ],
      "metadata": {
        "colab": {
          "base_uri": "https://localhost:8080/"
        },
        "id": "2ALC0c-sIpEz",
        "outputId": "7bb29c0e-4d02-4b2c-b5be-f9f02aeca281"
      },
      "execution_count": 27,
      "outputs": [
        {
          "output_type": "stream",
          "name": "stdout",
          "text": [
            "Model: \"sequential_2\"\n",
            "_________________________________________________________________\n",
            " Layer (type)                Output Shape              Param #   \n",
            "=================================================================\n",
            " embedding (Embedding)       (None, 3, 4)              120       \n",
            "                                                                 \n",
            " flatten_2 (Flatten)         (None, 12)                0         \n",
            "                                                                 \n",
            " dense_2 (Dense)             (None, 1)                 13        \n",
            "                                                                 \n",
            "=================================================================\n",
            "Total params: 133\n",
            "Trainable params: 133\n",
            "Non-trainable params: 0\n",
            "_________________________________________________________________\n"
          ]
        }
      ]
    },
    {
      "cell_type": "code",
      "source": [
        "model.fit(X,y,epochs=50,verbose=1)"
      ],
      "metadata": {
        "colab": {
          "base_uri": "https://localhost:8080/"
        },
        "id": "ExYbzPTzJE7K",
        "outputId": "f9d6adb8-c958-4ded-b954-2cb04e0a748c"
      },
      "execution_count": 29,
      "outputs": [
        {
          "output_type": "stream",
          "name": "stdout",
          "text": [
            "Epoch 1/50\n",
            "1/1 [==============================] - 0s 7ms/step - loss: 0.6508 - accuracy: 0.5000\n",
            "Epoch 2/50\n",
            "1/1 [==============================] - 0s 11ms/step - loss: 0.6498 - accuracy: 0.5000\n",
            "Epoch 3/50\n",
            "1/1 [==============================] - 0s 6ms/step - loss: 0.6487 - accuracy: 0.5000\n",
            "Epoch 4/50\n",
            "1/1 [==============================] - 0s 7ms/step - loss: 0.6477 - accuracy: 0.5000\n",
            "Epoch 5/50\n",
            "1/1 [==============================] - 0s 6ms/step - loss: 0.6466 - accuracy: 0.5000\n",
            "Epoch 6/50\n",
            "1/1 [==============================] - 0s 6ms/step - loss: 0.6456 - accuracy: 0.5000\n",
            "Epoch 7/50\n",
            "1/1 [==============================] - 0s 5ms/step - loss: 0.6445 - accuracy: 0.5000\n",
            "Epoch 8/50\n",
            "1/1 [==============================] - 0s 9ms/step - loss: 0.6434 - accuracy: 0.5000\n",
            "Epoch 9/50\n",
            "1/1 [==============================] - 0s 14ms/step - loss: 0.6423 - accuracy: 0.5000\n",
            "Epoch 10/50\n",
            "1/1 [==============================] - 0s 6ms/step - loss: 0.6412 - accuracy: 0.5000\n",
            "Epoch 11/50\n",
            "1/1 [==============================] - 0s 5ms/step - loss: 0.6401 - accuracy: 0.5000\n",
            "Epoch 12/50\n",
            "1/1 [==============================] - 0s 5ms/step - loss: 0.6390 - accuracy: 0.5000\n",
            "Epoch 13/50\n",
            "1/1 [==============================] - 0s 4ms/step - loss: 0.6379 - accuracy: 0.5000\n",
            "Epoch 14/50\n",
            "1/1 [==============================] - 0s 10ms/step - loss: 0.6368 - accuracy: 0.5000\n",
            "Epoch 15/50\n",
            "1/1 [==============================] - 0s 6ms/step - loss: 0.6356 - accuracy: 0.5000\n",
            "Epoch 16/50\n",
            "1/1 [==============================] - 0s 6ms/step - loss: 0.6345 - accuracy: 0.5000\n",
            "Epoch 17/50\n",
            "1/1 [==============================] - 0s 8ms/step - loss: 0.6333 - accuracy: 0.5000\n",
            "Epoch 18/50\n",
            "1/1 [==============================] - 0s 6ms/step - loss: 0.6322 - accuracy: 0.5000\n",
            "Epoch 19/50\n",
            "1/1 [==============================] - 0s 9ms/step - loss: 0.6310 - accuracy: 0.5000\n",
            "Epoch 20/50\n",
            "1/1 [==============================] - 0s 10ms/step - loss: 0.6298 - accuracy: 0.5000\n",
            "Epoch 21/50\n",
            "1/1 [==============================] - 0s 9ms/step - loss: 0.6287 - accuracy: 0.5000\n",
            "Epoch 22/50\n",
            "1/1 [==============================] - 0s 9ms/step - loss: 0.6275 - accuracy: 0.5000\n",
            "Epoch 23/50\n",
            "1/1 [==============================] - 0s 7ms/step - loss: 0.6263 - accuracy: 0.5000\n",
            "Epoch 24/50\n",
            "1/1 [==============================] - 0s 8ms/step - loss: 0.6251 - accuracy: 0.5000\n",
            "Epoch 25/50\n",
            "1/1 [==============================] - 0s 8ms/step - loss: 0.6239 - accuracy: 0.5000\n",
            "Epoch 26/50\n",
            "1/1 [==============================] - 0s 6ms/step - loss: 0.6227 - accuracy: 0.5000\n",
            "Epoch 27/50\n",
            "1/1 [==============================] - 0s 6ms/step - loss: 0.6214 - accuracy: 0.5000\n",
            "Epoch 28/50\n",
            "1/1 [==============================] - 0s 8ms/step - loss: 0.6202 - accuracy: 0.5000\n",
            "Epoch 29/50\n",
            "1/1 [==============================] - 0s 7ms/step - loss: 0.6190 - accuracy: 0.5000\n",
            "Epoch 30/50\n",
            "1/1 [==============================] - 0s 5ms/step - loss: 0.6177 - accuracy: 0.5000\n",
            "Epoch 31/50\n",
            "1/1 [==============================] - 0s 5ms/step - loss: 0.6165 - accuracy: 0.5000\n",
            "Epoch 32/50\n",
            "1/1 [==============================] - 0s 5ms/step - loss: 0.6152 - accuracy: 0.5000\n",
            "Epoch 33/50\n",
            "1/1 [==============================] - 0s 10ms/step - loss: 0.6139 - accuracy: 0.5000\n",
            "Epoch 34/50\n",
            "1/1 [==============================] - 0s 5ms/step - loss: 0.6127 - accuracy: 0.5000\n",
            "Epoch 35/50\n",
            "1/1 [==============================] - 0s 5ms/step - loss: 0.6114 - accuracy: 0.5000\n",
            "Epoch 36/50\n",
            "1/1 [==============================] - 0s 5ms/step - loss: 0.6101 - accuracy: 0.5000\n",
            "Epoch 37/50\n",
            "1/1 [==============================] - 0s 5ms/step - loss: 0.6088 - accuracy: 0.5000\n",
            "Epoch 38/50\n",
            "1/1 [==============================] - 0s 5ms/step - loss: 0.6075 - accuracy: 0.5000\n",
            "Epoch 39/50\n",
            "1/1 [==============================] - 0s 5ms/step - loss: 0.6062 - accuracy: 0.5000\n",
            "Epoch 40/50\n",
            "1/1 [==============================] - 0s 9ms/step - loss: 0.6049 - accuracy: 0.5000\n",
            "Epoch 41/50\n",
            "1/1 [==============================] - 0s 5ms/step - loss: 0.6036 - accuracy: 0.5000\n",
            "Epoch 42/50\n",
            "1/1 [==============================] - 0s 5ms/step - loss: 0.6023 - accuracy: 0.5000\n",
            "Epoch 43/50\n",
            "1/1 [==============================] - 0s 5ms/step - loss: 0.6009 - accuracy: 0.5000\n",
            "Epoch 44/50\n",
            "1/1 [==============================] - 0s 5ms/step - loss: 0.5996 - accuracy: 0.5000\n",
            "Epoch 45/50\n",
            "1/1 [==============================] - 0s 9ms/step - loss: 0.5983 - accuracy: 0.5000\n",
            "Epoch 46/50\n",
            "1/1 [==============================] - 0s 5ms/step - loss: 0.5969 - accuracy: 0.5000\n",
            "Epoch 47/50\n",
            "1/1 [==============================] - 0s 5ms/step - loss: 0.5956 - accuracy: 0.5000\n",
            "Epoch 48/50\n",
            "1/1 [==============================] - 0s 5ms/step - loss: 0.5942 - accuracy: 0.5000\n",
            "Epoch 49/50\n",
            "1/1 [==============================] - 0s 5ms/step - loss: 0.5928 - accuracy: 0.5000\n",
            "Epoch 50/50\n",
            "1/1 [==============================] - 0s 4ms/step - loss: 0.5915 - accuracy: 0.5000\n"
          ]
        },
        {
          "output_type": "execute_result",
          "data": {
            "text/plain": [
              "<keras.callbacks.History at 0x7f1d4abc0df0>"
            ]
          },
          "metadata": {},
          "execution_count": 29
        }
      ]
    },
    {
      "cell_type": "code",
      "source": [
        "loss,accuracy=model.evaluate(X,y)"
      ],
      "metadata": {
        "colab": {
          "base_uri": "https://localhost:8080/"
        },
        "id": "4fZiTk0RJXzx",
        "outputId": "fbb35c2f-1a83-43f4-93aa-a3a966a8bd96"
      },
      "execution_count": 30,
      "outputs": [
        {
          "output_type": "stream",
          "name": "stdout",
          "text": [
            "1/1 [==============================] - 0s 116ms/step - loss: 0.5901 - accuracy: 0.5000\n"
          ]
        }
      ]
    },
    {
      "cell_type": "code",
      "source": [
        "w= model.get_layer('embedding').get_weights()[0]"
      ],
      "metadata": {
        "id": "eXw2VoiKJk_M"
      },
      "execution_count": 32,
      "outputs": []
    },
    {
      "cell_type": "code",
      "source": [
        "w.shape"
      ],
      "metadata": {
        "colab": {
          "base_uri": "https://localhost:8080/"
        },
        "id": "ShkLj5rsKuOB",
        "outputId": "4ef0a388-15be-4da4-d407-e22f1267d220"
      },
      "execution_count": 33,
      "outputs": [
        {
          "output_type": "execute_result",
          "data": {
            "text/plain": [
              "(30, 4)"
            ]
          },
          "metadata": {},
          "execution_count": 33
        }
      ]
    },
    {
      "cell_type": "code",
      "source": [
        "w"
      ],
      "metadata": {
        "colab": {
          "base_uri": "https://localhost:8080/"
        },
        "id": "6bIg1f47Kwaz",
        "outputId": "70f758c6-d86b-4d39-a03c-82f6922eda2e"
      },
      "execution_count": 34,
      "outputs": [
        {
          "output_type": "execute_result",
          "data": {
            "text/plain": [
              "array([[-0.13133547, -0.1418903 ,  0.15780926,  0.09606059],\n",
              "       [-0.04311099,  0.06793039,  0.08456603,  0.01475853],\n",
              "       [-0.00652031,  0.00548106,  0.01587671,  0.0071613 ],\n",
              "       [-0.0494345 ,  0.05373088,  0.02945036, -0.01207835],\n",
              "       [-0.02250293, -0.0019855 , -0.04389826,  0.00033361],\n",
              "       [-0.03626977, -0.01462107,  0.03231854, -0.02834734],\n",
              "       [-0.12411834,  0.06293465,  0.07105608,  0.11593522],\n",
              "       [ 0.08486505,  0.05938827, -0.07607222, -0.05371181],\n",
              "       [ 0.06452999,  0.11132415,  0.11623827,  0.12491959],\n",
              "       [-0.01866298,  0.04598905,  0.02937568,  0.02741287],\n",
              "       [-0.00871216, -0.02527915,  0.0284082 ,  0.0244582 ],\n",
              "       [-0.10744473, -0.12675364, -0.11649871, -0.15515079],\n",
              "       [ 0.03969535,  0.00345206,  0.04788213,  0.0412018 ],\n",
              "       [ 0.05193432, -0.11774468, -0.14376153, -0.07087089],\n",
              "       [ 0.01489023,  0.01138628, -0.00873343, -0.0062135 ],\n",
              "       [-0.04254736,  0.01276689,  0.00193463, -0.00690796],\n",
              "       [-0.0421594 ,  0.00479994,  0.00945442, -0.03332354],\n",
              "       [ 0.1531368 ,  0.11113165,  0.11566766,  0.07697254],\n",
              "       [-0.11221299, -0.06888673,  0.10859559,  0.08974444],\n",
              "       [-0.01202781,  0.04598444, -0.01238483,  0.04327048],\n",
              "       [-0.01102623,  0.03321649, -0.01261986, -0.03128072],\n",
              "       [-0.00962929, -0.0082642 , -0.02861002,  0.02624455],\n",
              "       [ 0.1026248 , -0.09563806, -0.08086336, -0.13280514],\n",
              "       [-0.127709  ,  0.10253718, -0.02869898,  0.08317255],\n",
              "       [ 0.0963321 ,  0.10295584, -0.16641566, -0.06599292],\n",
              "       [ 0.01473093,  0.01226922, -0.04611344, -0.00631185],\n",
              "       [ 0.10031268,  0.04809543,  0.10479619,  0.09520256],\n",
              "       [-0.09280193, -0.09307759, -0.0922695 , -0.11340625],\n",
              "       [ 0.15334286,  0.12439469,  0.06432215,  0.09491052],\n",
              "       [ 0.01950642,  0.00721556,  0.03343816,  0.0176994 ]],\n",
              "      dtype=float32)"
            ]
          },
          "metadata": {},
          "execution_count": 34
        }
      ]
    },
    {
      "cell_type": "code",
      "source": [
        "# 'nice food' paddings\n",
        "padded_reviews[0]"
      ],
      "metadata": {
        "colab": {
          "base_uri": "https://localhost:8080/"
        },
        "id": "m2DVB4vOL5Q1",
        "outputId": "52ef5773-26c4-4510-bfa7-39ffd1425623"
      },
      "execution_count": 43,
      "outputs": [
        {
          "output_type": "execute_result",
          "data": {
            "text/plain": [
              "array([22,  3,  0], dtype=int32)"
            ]
          },
          "metadata": {},
          "execution_count": 43
        }
      ]
    },
    {
      "cell_type": "code",
      "source": [
        "#nice's embedding\n",
        "w[padded_reviews[0][0]]"
      ],
      "metadata": {
        "colab": {
          "base_uri": "https://localhost:8080/"
        },
        "id": "c6CzH7pPLz4J",
        "outputId": "9a6f555f-4e5d-44ac-d24b-7b6dd16d860c"
      },
      "execution_count": 40,
      "outputs": [
        {
          "output_type": "execute_result",
          "data": {
            "text/plain": [
              "array([ 0.1026248 , -0.09563806, -0.08086336, -0.13280514], dtype=float32)"
            ]
          },
          "metadata": {},
          "execution_count": 40
        }
      ]
    },
    {
      "cell_type": "code",
      "source": [
        "#Food's embedding\n",
        "w[padded_reviews[0][1]]"
      ],
      "metadata": {
        "colab": {
          "base_uri": "https://localhost:8080/"
        },
        "id": "RTJcHRm-LfjI",
        "outputId": "7316bdf9-e4dc-48ea-88b5-fa90f0a36c34"
      },
      "execution_count": 39,
      "outputs": [
        {
          "output_type": "execute_result",
          "data": {
            "text/plain": [
              "array([ 0.1026248 , -0.09563806, -0.08086336, -0.13280514], dtype=float32)"
            ]
          },
          "metadata": {},
          "execution_count": 39
        }
      ]
    }
  ]
}