{
  "nbformat": 4,
  "nbformat_minor": 0,
  "metadata": {
    "colab": {
      "provenance": [],
      "authorship_tag": "ABX9TyNgegn+Yi2BWQ+q5AdUfaWf",
      "include_colab_link": true
    },
    "kernelspec": {
      "name": "python3",
      "display_name": "Python 3"
    },
    "language_info": {
      "name": "python"
    }
  },
  "cells": [
    {
      "cell_type": "markdown",
      "metadata": {
        "id": "view-in-github",
        "colab_type": "text"
      },
      "source": [
        "<a href=\"https://colab.research.google.com/github/maverick98/CDS/blob/main/Question16.ipynb\" target=\"_parent\"><img src=\"https://colab.research.google.com/assets/colab-badge.svg\" alt=\"Open In Colab\"/></a>"
      ]
    },
    {
      "cell_type": "code",
      "execution_count": 1,
      "metadata": {
        "colab": {
          "base_uri": "https://localhost:8080/"
        },
        "id": "0QSc0uKJDtVi",
        "outputId": "6bd816f3-c475-423e-9e8b-647166100abc"
      },
      "outputs": [
        {
          "output_type": "stream",
          "name": "stdout",
          "text": [
            "Looking in indexes: https://pypi.org/simple, https://us-python.pkg.dev/colab-wheels/public/simple/\n",
            "Collecting pyspark\n",
            "  Downloading pyspark-3.3.1.tar.gz (281.4 MB)\n",
            "\u001b[2K     \u001b[90m━━━━━━━━━━━━━━━━━━━━━━━━━━━━━━━━━━━━━━━\u001b[0m \u001b[32m281.4/281.4 MB\u001b[0m \u001b[31m3.2 MB/s\u001b[0m eta \u001b[36m0:00:00\u001b[0m\n",
            "\u001b[?25h  Preparing metadata (setup.py) ... \u001b[?25l\u001b[?25hdone\n",
            "Collecting py4j==0.10.9.5\n",
            "  Downloading py4j-0.10.9.5-py2.py3-none-any.whl (199 kB)\n",
            "\u001b[2K     \u001b[90m━━━━━━━━━━━━━━━━━━━━━━━━━━━━━━━━━━━━━━\u001b[0m \u001b[32m199.7/199.7 KB\u001b[0m \u001b[31m11.5 MB/s\u001b[0m eta \u001b[36m0:00:00\u001b[0m\n",
            "\u001b[?25hBuilding wheels for collected packages: pyspark\n",
            "  Building wheel for pyspark (setup.py) ... \u001b[?25l\u001b[?25hdone\n",
            "  Created wheel for pyspark: filename=pyspark-3.3.1-py2.py3-none-any.whl size=281845512 sha256=54afe3100747a38345255a640aee77ad134583a279efdd8db859991a8bb4a192\n",
            "  Stored in directory: /root/.cache/pip/wheels/43/dc/11/ec201cd671da62fa9c5cc77078235e40722170ceba231d7598\n",
            "Successfully built pyspark\n",
            "Installing collected packages: py4j, pyspark\n",
            "Successfully installed py4j-0.10.9.5 pyspark-3.3.1\n"
          ]
        }
      ],
      "source": [
        "!pip install pyspark"
      ]
    },
    {
      "cell_type": "code",
      "source": [
        "# Start spark session\n",
        "from pyspark.sql import SparkSession\n",
        "spark = SparkSession.builder.appName('Q16').getOrCreate()\n",
        "sc=spark.sparkContext"
      ],
      "metadata": {
        "id": "wfhrPsOYEGv6"
      },
      "execution_count": 2,
      "outputs": []
    },
    {
      "cell_type": "code",
      "source": [
        "marksRDD=sc.parallelize([(1,'DA256',78),(2,'DA256',95),(3,'DA256',90),(2,'DA201',95),(3,'DA201',100),(3,'DA231',70)])\n",
        "marksRDD.collect()"
      ],
      "metadata": {
        "colab": {
          "base_uri": "https://localhost:8080/"
        },
        "id": "olBXDsEuESG2",
        "outputId": "1b439627-7b57-4acd-b39a-2623843e7468"
      },
      "execution_count": 3,
      "outputs": [
        {
          "output_type": "execute_result",
          "data": {
            "text/plain": [
              "[(1, 'DA256', 78),\n",
              " (2, 'DA256', 95),\n",
              " (3, 'DA256', 90),\n",
              " (2, 'DA201', 95),\n",
              " (3, 'DA201', 100),\n",
              " (3, 'DA231', 70)]"
            ]
          },
          "metadata": {},
          "execution_count": 3
        }
      ]
    },
    {
      "cell_type": "code",
      "source": [
        "def countMoreThan(list1, val):\n",
        "    counter=0\n",
        "    for x in list1:\n",
        "        if x> val:\n",
        "            counter=counter+1\n",
        "    return counter"
      ],
      "metadata": {
        "id": "TtzdtaGeIDoa"
      },
      "execution_count": 19,
      "outputs": []
    },
    {
      "cell_type": "code",
      "source": [
        "countMoreThan([78, 95, 90],79)"
      ],
      "metadata": {
        "colab": {
          "base_uri": "https://localhost:8080/"
        },
        "id": "-yx_efbFI3Jn",
        "outputId": "e18b7053-8f01-4019-8f9b-40e467db76ae"
      },
      "execution_count": 21,
      "outputs": [
        {
          "output_type": "execute_result",
          "data": {
            "text/plain": [
              "2"
            ]
          },
          "metadata": {},
          "execution_count": 21
        }
      ]
    },
    {
      "cell_type": "code",
      "source": [
        "r1=marksRDD.map(lambda x: (x[1],x[2]))\n",
        "print(r1.collect())\n",
        "r2=r1.groupByKey().mapValues(list)\n",
        "print(sorted(r2.collect()))\n",
        "r3=r2.map(lambda x: (x[0], countMoreThan(x[1],90) ))\n",
        "r3.collect()"
      ],
      "metadata": {
        "colab": {
          "base_uri": "https://localhost:8080/"
        },
        "id": "K1nDI2-aGRVy",
        "outputId": "9ceca991-4723-46d5-c646-5f40584f9b27"
      },
      "execution_count": 22,
      "outputs": [
        {
          "output_type": "stream",
          "name": "stdout",
          "text": [
            "[('DA256', 78), ('DA256', 95), ('DA256', 90), ('DA201', 95), ('DA201', 100), ('DA231', 70)]\n",
            "[('DA201', [95, 100]), ('DA231', [70]), ('DA256', [78, 95, 90])]\n"
          ]
        },
        {
          "output_type": "execute_result",
          "data": {
            "text/plain": [
              "[('DA201', 2), ('DA256', 1), ('DA231', 0)]"
            ]
          },
          "metadata": {},
          "execution_count": 22
        }
      ]
    },
    {
      "cell_type": "markdown",
      "source": [
        "Thus the final answers is in r3"
      ],
      "metadata": {
        "id": "cSNO21pEJSk5"
      }
    },
    {
      "cell_type": "code",
      "source": [
        "r3.collect()"
      ],
      "metadata": {
        "colab": {
          "base_uri": "https://localhost:8080/"
        },
        "id": "RNL-F2o-FRf3",
        "outputId": "c056002b-af10-4577-d079-4e5fac310067"
      },
      "execution_count": 25,
      "outputs": [
        {
          "output_type": "execute_result",
          "data": {
            "text/plain": [
              "[('DA201', 2), ('DA256', 1), ('DA231', 0)]"
            ]
          },
          "metadata": {},
          "execution_count": 25
        }
      ]
    }
  ]
}