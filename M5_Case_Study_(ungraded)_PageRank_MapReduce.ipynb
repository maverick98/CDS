{
  "nbformat": 4,
  "nbformat_minor": 0,
  "metadata": {
    "colab": {
      "provenance": [],
      "include_colab_link": true
    },
    "kernelspec": {
      "name": "python3",
      "display_name": "Python 3"
    },
    "language_info": {
      "name": "python"
    }
  },
  "cells": [
    {
      "cell_type": "markdown",
      "metadata": {
        "id": "view-in-github",
        "colab_type": "text"
      },
      "source": [
        "<a href=\"https://colab.research.google.com/github/maverick98/CDS/blob/main/M5_Case_Study_(ungraded)_PageRank_MapReduce.ipynb\" target=\"_parent\"><img src=\"https://colab.research.google.com/assets/colab-badge.svg\" alt=\"Open In Colab\"/></a>"
      ]
    },
    {
      "cell_type": "markdown",
      "source": [
        "# Advanced Certification Program in Computational Data Science\n",
        "## A program by IISc and TalentSprint\n",
        "## Case Study : PageRank on MapReduce\n",
        "(ungraded)"
      ],
      "metadata": {
        "id": "j2LG7BITuc6w"
      }
    },
    {
      "cell_type": "markdown",
      "source": [
        "## Learning Objectives\n"
      ],
      "metadata": {
        "id": "DdhpaVdWuwOd"
      }
    },
    {
      "cell_type": "markdown",
      "source": [
        "At the end of the case study, you will be able to\n",
        "\n",
        "* Obtain a brief overview of MapReduce\n",
        "* Understand the concept of Page Rank used by Google\n",
        "* Implement Page Rank algorithm by using the approach of MapReduce:\n",
        "  * Perform transformation operations using MapReduce\n",
        "  * Calculate the rank of a webpage using pyspark and MapReduce"
      ],
      "metadata": {
        "id": "Z1lVwUv6v6fU"
      }
    },
    {
      "cell_type": "markdown",
      "source": [
        "## Information"
      ],
      "metadata": {
        "id": "Tfiy2tTkwAMv"
      }
    },
    {
      "cell_type": "markdown",
      "source": [
        "**Parallel Processing:-** To deal with massive data or Big data as it is popularly known. The idea is to reduce the run time, cost and memory constraints while dealing with this huge data.\n",
        "\n",
        "In this process, the task is broken down into multiple parts with a help of a tool. Each part is assigned to a different computational unit for processing.\n",
        "Once the computation is done by different units, the solution is re-assembled to give a final solution."
      ],
      "metadata": {
        "id": "eogRxAMH1rcJ"
      }
    },
    {
      "cell_type": "markdown",
      "source": [
        "**Map Reduce:-** This is a programming model that allows the user to perform parallel processing on Big data.\n",
        "\n",
        "To read more about MapReduce [Click Here](https://taylankabbani96.medium.com/mapreduce-programming-model-a7534aca599b)"
      ],
      "metadata": {
        "id": "drRvh-_bEceM"
      }
    },
    {
      "cell_type": "markdown",
      "source": [
        "### **Page Rank**"
      ],
      "metadata": {
        "id": "4jY-pTPdGJy_"
      }
    },
    {
      "cell_type": "markdown",
      "source": [
        "**A brief history:-** Early searching engines used to search through the web and create an inverted index of all the terms found in each page. While querying, an old search engine would return the pages that contain the term the user entered and rank the pages based on the frequency of occurrence of the term entered by the user, in each page. \n",
        "\n",
        "The naivety of this simple approach, gave spammers an opportunity to exploit the searching engines. By exploiting it, they could lead people to their pages (spam).\n",
        "\n",
        "  - **For example:-** A spammer would write an irrelevant term multiple times, say \"movie\", where the page actually sells clothes!! \n",
        "To prevent the term \"movie\" from appearing on the spam page, they could give it the same color as the background. \n",
        "By using this technique, spammers managed to put their pages on the top of the search results of the search engine.This paralyzed Web searching engines and made them almost useless.\n",
        "\n",
        "  To prevent those spam pages from having so much influence, Google proposed **Page Rank** as a way to define the importance of a page. It is not wrong to say that this algorithm is what made **Google** then a very powerful engine."
      ],
      "metadata": {
        "id": "VeQLYEXQGQSl"
      }
    },
    {
      "cell_type": "markdown",
      "source": [
        "### What is Page Rank?"
      ],
      "metadata": {
        "id": "No-RTVZ7I8BK"
      }
    },
    {
      "cell_type": "markdown",
      "source": [
        "**Page rank or PR**, is a recursive algorithm developed by Google, founded by Larry Page to assign a real number to each page in the web so that they can be ranked based on this score. \n",
        "The higher the score of a page, the more importance assigned to it."
      ],
      "metadata": {
        "id": "AFpkTtRhGMTJ"
      }
    },
    {
      "cell_type": "markdown",
      "source": [
        "**Importance:-** The importance score of a page directly depends on the number of other pages pointing to it. \n",
        "\n",
        "To understand the concept of pointing, suppose if a movie-page’s link is being displayed on many other pages, it is said that these pages are pointing or voting to that particular movie-page, and thus:"
      ],
      "metadata": {
        "id": "prqVXPuHWZf6"
      }
    },
    {
      "cell_type": "markdown",
      "source": [
        "**Understanding \"Importance\" with the help of an example:-**\n"
      ],
      "metadata": {
        "id": "7ZRCRcS_Xgha"
      }
    },
    {
      "cell_type": "markdown",
      "source": [
        "How does somebody decide if a person on twitter is important or not? \n",
        "  1. The first thing to check is the number of followers, the more followers a particular person has, the higher likelihood of that person being famous. \n",
        "  2. The second step is to check the importance of that person’s followers, if the president for example is following him/her, the higher the importance of that person."
      ],
      "metadata": {
        "id": "lPdGaeheXtHK"
      }
    },
    {
      "cell_type": "markdown",
      "source": [
        "### **Page Rank Algorithm**"
      ],
      "metadata": {
        "id": "wvGI9Du3ZBj0"
      }
    },
    {
      "cell_type": "markdown",
      "source": [
        "Consider a tiny version of the web with only five pages. To rank these pages based on their importance using page rank algorithm. Consider the graph to understand the concept, where nodes represent pages and arrows represent links between pages.\n",
        "\n",
        "\n",
        "To calculate the importance score of page C, let R denote the importance score of a page, then the importance score of the page C can be calculated as:\n",
        "$R_{c} = R_{B}/3 + R_{A}/4$\n",
        "\n",
        "Page C’s own importance is the sum of the votes on its in-links, and if page $A$ with importance $R_{A}$ has $n$ out-links, each link gets $R_{A}/n$ votes."
      ],
      "metadata": {
        "id": "33SXTWJAZhqM"
      }
    },
    {
      "cell_type": "markdown",
      "source": [
        "![img](https://miro.medium.com/max/526/1*Mgnh6M7DUhJIuO1_btIU1A.png)"
      ],
      "metadata": {
        "id": "3QJdQFnga9U3"
      }
    },
    {
      "cell_type": "markdown",
      "source": [
        "**Steps Involved**"
      ],
      "metadata": {
        "id": "SQeFOibEakoa"
      }
    },
    {
      "cell_type": "markdown",
      "source": [
        "1. Initialize each page’s importance or rank as 1/number of pages.\n",
        "2. Update each page’s rank according to the following formulation:\n",
        "   $$R_j = \\sum_{i}^{j} \\frac{r_i}{d_i}$$\n",
        "   \n",
        "\n",
        "3. Repeat above steps until the page ranks stabilize."
      ],
      "metadata": {
        "id": "VVygt7jIaolo"
      }
    },
    {
      "cell_type": "markdown",
      "source": [
        "### Implementation of Page Rank using MapReduce\n",
        "\n",
        "\n",
        "The number of pages on the Web is enormously huge and using a simple approach to recursively update ranking of millions of pages will be very expensive and time consuming as as well. MapReduce tackles the problem by taking the advantage of running on a cluster (parallelization) "
      ],
      "metadata": {
        "id": "HspQ0A_LgGmJ"
      }
    },
    {
      "cell_type": "markdown",
      "source": [
        "### Installing the pyspark package"
      ],
      "metadata": {
        "id": "lEHmdHG1dEt6"
      }
    },
    {
      "cell_type": "code",
      "execution_count": 17,
      "metadata": {
        "id": "f968njsRtt4g",
        "colab": {
          "base_uri": "https://localhost:8080/"
        },
        "outputId": "99821d77-5a1c-43b7-b063-2f0da38f49c8"
      },
      "outputs": [
        {
          "output_type": "stream",
          "name": "stdout",
          "text": [
            "Looking in indexes: https://pypi.org/simple, https://us-python.pkg.dev/colab-wheels/public/simple/\n",
            "Requirement already satisfied: pyspark in /usr/local/lib/python3.8/dist-packages (3.3.1)\n",
            "Requirement already satisfied: py4j==0.10.9.5 in /usr/local/lib/python3.8/dist-packages (from pyspark) (0.10.9.5)\n"
          ]
        }
      ],
      "source": [
        "!pip install pyspark"
      ]
    },
    {
      "cell_type": "markdown",
      "source": [
        "### Creating a spark session"
      ],
      "metadata": {
        "id": "M7poK8AddKQM"
      }
    },
    {
      "cell_type": "code",
      "source": [
        "from pyspark.sql import SparkSession\n",
        "from pyspark.sql.functions import col, udf  # User Defined Functions\n",
        "from pyspark.sql.types import StringType\n",
        "spark = SparkSession.builder.appName('MapReduce').getOrCreate()\n",
        "print(type(spark))\n",
        "spark\n"
      ],
      "metadata": {
        "id": "h3MZeCKddM-t",
        "colab": {
          "base_uri": "https://localhost:8080/",
          "height": 238
        },
        "outputId": "d4e6cca4-147a-4b10-f6ad-83942e29f576"
      },
      "execution_count": 27,
      "outputs": [
        {
          "output_type": "stream",
          "name": "stdout",
          "text": [
            "<class 'pyspark.sql.session.SparkSession'>\n"
          ]
        },
        {
          "output_type": "execute_result",
          "data": {
            "text/plain": [
              "<pyspark.sql.session.SparkSession at 0x7f243bfc4cd0>"
            ],
            "text/html": [
              "\n",
              "            <div>\n",
              "                <p><b>SparkSession - in-memory</b></p>\n",
              "                \n",
              "        <div>\n",
              "            <p><b>SparkContext</b></p>\n",
              "\n",
              "            <p><a href=\"http://b8e4384d0b52:4040\">Spark UI</a></p>\n",
              "\n",
              "            <dl>\n",
              "              <dt>Version</dt>\n",
              "                <dd><code>v3.3.1</code></dd>\n",
              "              <dt>Master</dt>\n",
              "                <dd><code>local[*]</code></dd>\n",
              "              <dt>AppName</dt>\n",
              "                <dd><code>MapReduce</code></dd>\n",
              "            </dl>\n",
              "        </div>\n",
              "        \n",
              "            </div>\n",
              "        "
            ]
          },
          "metadata": {},
          "execution_count": 27
        }
      ]
    },
    {
      "cell_type": "code",
      "source": [
        "# Accessing sparkContext from sparkSession instance.\n",
        "sc = spark.sparkContext"
      ],
      "metadata": {
        "id": "bf5yxPDkdSdl"
      },
      "execution_count": 19,
      "outputs": []
    },
    {
      "cell_type": "markdown",
      "source": [
        "### Creating links.txt file"
      ],
      "metadata": {
        "id": "un5ebKq2dVlW"
      }
    },
    {
      "cell_type": "markdown",
      "source": [
        "An adjacency list representation, info: where ‘A B C’ means that A node (page) out-links to B & C.\n",
        "\n",
        "\n"
      ],
      "metadata": {
        "id": "Jx3csMmudY_V"
      }
    },
    {
      "cell_type": "markdown",
      "source": [
        "Consider this as a mini internet where A, B, C, D are web pages.\n",
        "\n",
        "![img](https://miro.medium.com/max/344/1*7C9YQPLxjVk_oGlnOq185w.png)"
      ],
      "metadata": {
        "id": "OQEx_nEb3ylH"
      }
    },
    {
      "cell_type": "code",
      "source": [
        "# Create/Open the text file\n",
        "f = open(\"links.txt\",\"w+\")\n",
        "\n",
        "# Enter data into the file\n",
        "lst = [\"A B C\", \"B C D\", \"C D\", \"D A\"]          # links \n",
        "for i in lst:\n",
        "    f.write(i + \"\\r\\n\")\n",
        "\n",
        "# Close the file instance  \n",
        "f.close()"
      ],
      "metadata": {
        "id": "nDfAoR7cdWL1"
      },
      "execution_count": 20,
      "outputs": []
    },
    {
      "cell_type": "markdown",
      "source": [
        "### Open the links.txt file back and read the contents"
      ],
      "metadata": {
        "id": "kdnLwcuhdgIq"
      }
    },
    {
      "cell_type": "code",
      "source": [
        "f = open(\"links.txt\", \"r\")\n",
        "if f.mode == 'r':\n",
        "    contents = f.read()\n",
        "    print(contents)"
      ],
      "metadata": {
        "id": "ulK5jTd4dgr_",
        "colab": {
          "base_uri": "https://localhost:8080/"
        },
        "outputId": "459b345b-18e7-4148-ff2b-c521bec8c42f"
      },
      "execution_count": 21,
      "outputs": [
        {
          "output_type": "stream",
          "name": "stdout",
          "text": [
            "A B C\n",
            "B C D\n",
            "C D\n",
            "D A\n",
            "\n"
          ]
        }
      ]
    },
    {
      "cell_type": "code",
      "source": [
        "# Adjacency list\n",
        "links = sc.textFile('links.txt')\n",
        "links.collect()\n",
        "#print(links)"
      ],
      "metadata": {
        "id": "6iDOru8Ldle1",
        "colab": {
          "base_uri": "https://localhost:8080/"
        },
        "outputId": "4cba3df8-33e3-4f34-f950-5a4a00beb74a"
      },
      "execution_count": 25,
      "outputs": [
        {
          "output_type": "execute_result",
          "data": {
            "text/plain": [
              "['A B C', 'B C D', 'C D', 'D A']"
            ]
          },
          "metadata": {},
          "execution_count": 25
        }
      ]
    },
    {
      "cell_type": "code",
      "source": [
        "# Key/value pairs: the key is the name of the page and the value consists of out-links from the page\n",
        "links = links.map(lambda x: (x.split(' ')[0], x.split(' ')[1:]))\n",
        "print(links.collect())\n",
        "\n",
        "# Find node count\n",
        "N = links.count()\n",
        "print(N)\n",
        "\n",
        "# İnitiate PageRank values (ranks) as 1/(number of pages).\n",
        "ranks = links.map(lambda node: (node[0],1.0/N))\n",
        "print(ranks.collect())"
      ],
      "metadata": {
        "id": "R62ttcudd3zm",
        "colab": {
          "base_uri": "https://localhost:8080/"
        },
        "outputId": "1a0ad1af-abd5-4669-e9ea-7655cf0315ff"
      },
      "execution_count": 30,
      "outputs": [
        {
          "output_type": "stream",
          "name": "stdout",
          "text": [
            "[('A', ['B', 'C']), ('B', ['C', 'D']), ('C', ['D']), ('D', ['A'])]\n",
            "4\n",
            "[('A', 0.25), ('B', 0.25), ('C', 0.25), ('D', 0.25)]\n"
          ]
        }
      ]
    },
    {
      "cell_type": "code",
      "source": [
        "m1=links.join(ranks)"
      ],
      "metadata": {
        "id": "dkIGGdkFZzU3"
      },
      "execution_count": 35,
      "outputs": []
    },
    {
      "cell_type": "code",
      "source": [
        "m1.collect()"
      ],
      "metadata": {
        "colab": {
          "base_uri": "https://localhost:8080/"
        },
        "id": "oLCQnmQ1ajJv",
        "outputId": "bfb18238-cdc0-43bc-fd87-267f5033d957"
      },
      "execution_count": 36,
      "outputs": [
        {
          "output_type": "execute_result",
          "data": {
            "text/plain": [
              "[('A', (['B', 'C'], 0.25)),\n",
              " ('B', (['C', 'D'], 0.25)),\n",
              " ('C', (['D'], 0.25)),\n",
              " ('D', (['A'], 0.25))]"
            ]
          },
          "metadata": {},
          "execution_count": 36
        }
      ]
    },
    {
      "cell_type": "code",
      "source": [
        "m2=m1.map(lambda x: x[0])\n",
        "m2.collect()\n",
        "m3=m1.map(lambda x: x[1])\n",
        "print(\"map \",m3.collect())\n",
        "m4=m1.flatMap(lambda x: x[1])\n",
        "print(\"flatmap x[1] \",m4.collect())\n",
        "\n",
        "m5=m1.flatMap(lambda x: x[1][0])\n",
        "print(\"flatmap x[1][0]\",m5.collect())\n",
        "\n",
        "m6=m1.flatMap(lambda x: [  (i, float(x[1][1])/len(x[1][0])) for i in x[1][0]  ])\n",
        "print(\"flatmap x\",m6.collect())"
      ],
      "metadata": {
        "colab": {
          "base_uri": "https://localhost:8080/"
        },
        "id": "4mgT-oSbaoGR",
        "outputId": "a4d67ede-a02c-4013-e141-bd44bb7a29cf"
      },
      "execution_count": 46,
      "outputs": [
        {
          "output_type": "stream",
          "name": "stdout",
          "text": [
            "map  [(['B', 'C'], 0.25), (['C', 'D'], 0.25), (['D'], 0.25), (['A'], 0.25)]\n",
            "flatmap x[1]  [['B', 'C'], 0.25, ['C', 'D'], 0.25, ['D'], 0.25, ['A'], 0.25]\n",
            "flatmap x[1][0] ['B', 'C', 'C', 'D', 'D', 'A']\n",
            "flatmap x [('B', 0.125), ('C', 0.125), ('C', 0.125), ('D', 0.125), ('D', 0.25), ('A', 0.25)]\n"
          ]
        }
      ]
    },
    {
      "cell_type": "markdown",
      "source": [
        "### Perform Map and Reduce steps"
      ],
      "metadata": {
        "id": "gBJlW2SWd-jJ"
      }
    },
    {
      "cell_type": "code",
      "source": [
        "# Map: For each node i, calculate vote for each out-link of i and propagate to adjacent nodes\n",
        "# Reduce: For each node i, sum the upcoming votes and update the Rank value\n",
        "# Repeat this map reduce step until rank values converge\n",
        "\n",
        "ITERATIONS=20\n",
        "for i in range(ITERATIONS):\n",
        "    # Join graph info with rank info and propogate to all neighbors rank scores (rank/(number of neighbors)\n",
        "    # And add up ranks from all in-coming edges\n",
        "    ranks = links.join(ranks).flatMap(lambda x : [  (i, float(x[1][1])/len(x[1][0])) for i in x[1][0]  ])\\\n",
        "    .reduceByKey(lambda x,y: x+y)\n",
        "    print(ranks.sortByKey().collect())"
      ],
      "metadata": {
        "id": "ei_u_owgd_NE",
        "colab": {
          "base_uri": "https://localhost:8080/"
        },
        "outputId": "5b244e32-acac-4bc5-cf2c-f747c653177a"
      },
      "execution_count": 16,
      "outputs": [
        {
          "output_type": "stream",
          "name": "stdout",
          "text": [
            "[('A', 0.25), ('B', 0.125), ('C', 0.25), ('D', 0.375)]\n",
            "[('A', 0.375), ('B', 0.125), ('C', 0.1875), ('D', 0.3125)]\n",
            "[('A', 0.3125), ('B', 0.1875), ('C', 0.25), ('D', 0.25)]\n",
            "[('A', 0.25), ('B', 0.15625), ('C', 0.25), ('D', 0.34375)]\n",
            "[('A', 0.34375), ('B', 0.125), ('C', 0.203125), ('D', 0.328125)]\n",
            "[('A', 0.328125), ('B', 0.171875), ('C', 0.234375), ('D', 0.265625)]\n",
            "[('A', 0.265625), ('B', 0.1640625), ('C', 0.25), ('D', 0.3203125)]\n",
            "[('A', 0.3203125), ('B', 0.1328125), ('C', 0.21484375), ('D', 0.33203125)]\n",
            "[('A', 0.33203125), ('B', 0.16015625), ('C', 0.2265625), ('D', 0.28125)]\n",
            "[('A', 0.28125), ('B', 0.166015625), ('C', 0.24609375), ('D', 0.306640625)]\n",
            "[('A', 0.306640625), ('B', 0.140625), ('C', 0.2236328125), ('D', 0.3291015625)]\n",
            "[('A', 0.3291015625), ('B', 0.1533203125), ('C', 0.2236328125), ('D', 0.2939453125)]\n",
            "[('A', 0.2939453125), ('B', 0.16455078125), ('C', 0.2412109375), ('D', 0.30029296875)]\n",
            "[('A', 0.30029296875), ('B', 0.14697265625), ('C', 0.229248046875), ('D', 0.323486328125)]\n",
            "[('A', 0.323486328125), ('B', 0.150146484375), ('C', 0.2236328125), ('D', 0.302734375)]\n",
            "[('A', 0.302734375), ('B', 0.1617431640625), ('C', 0.23681640625), ('D', 0.2987060546875)]\n",
            "[('A', 0.2987060546875), ('B', 0.1513671875), ('C', 0.23223876953125), ('D', 0.31768798828125)]\n",
            "[('A', 0.31768798828125), ('B', 0.14935302734375), ('C', 0.22503662109375), ('D', 0.30792236328125)]\n",
            "[('A', 0.30792236328125), ('B', 0.158843994140625), ('C', 0.2335205078125), ('D', 0.299713134765625)]\n",
            "[('A', 0.299713134765625), ('B', 0.153961181640625), ('C', 0.2333831787109375), ('D', 0.3129425048828125)]\n"
          ]
        }
      ]
    },
    {
      "cell_type": "markdown",
      "source": [
        "* It is evident that out of four dummy web pages under consideration, D has the highest importance or rank.\n",
        "* Web page B has the lowest rank.\n",
        "* It will be best to trust web page D rather than B, for information on it "
      ],
      "metadata": {
        "id": "XFcOYGY-326f"
      }
    },
    {
      "cell_type": "markdown",
      "source": [
        "**References**:\n",
        "1. Taylan Kabbani, 2020. PageRank on MapReduce. *Medium*."
      ],
      "metadata": {
        "id": "hp-2_n4_IWZt"
      }
    }
  ]
}