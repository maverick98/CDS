{
  "cells": [
    {
      "cell_type": "markdown",
      "metadata": {
        "id": "view-in-github",
        "colab_type": "text"
      },
      "source": [
        "<a href=\"https://colab.research.google.com/github/maverick98/CDS/blob/main/CH02.ipynb\" target=\"_parent\"><img src=\"https://colab.research.google.com/assets/colab-badge.svg\" alt=\"Open In Colab\"/></a>"
      ]
    },
    {
      "cell_type": "code",
      "execution_count": 1,
      "id": "average-clothing",
      "metadata": {
        "id": "average-clothing"
      },
      "outputs": [],
      "source": [
        "import pandas as pd\n",
        "import numpy as np\n",
        "import matplotlib.pyplot as plt\n",
        "\n",
        "pd.options.mode.chained_assignment = None"
      ]
    },
    {
      "cell_type": "code",
      "source": [
        "!wget https://raw.githubusercontent.com/marcopeix/TimeSeriesForecastingInPython/master/data/jj.csv"
      ],
      "metadata": {
        "colab": {
          "base_uri": "https://localhost:8080/"
        },
        "id": "qo3HSNOLHEQf",
        "outputId": "38dec303-0013-43d4-ebb1-7ff446dfcbbe"
      },
      "id": "qo3HSNOLHEQf",
      "execution_count": 7,
      "outputs": [
        {
          "output_type": "stream",
          "name": "stdout",
          "text": [
            "--2023-03-13 08:37:28--  https://raw.githubusercontent.com/marcopeix/TimeSeriesForecastingInPython/master/data/jj.csv\n",
            "Resolving raw.githubusercontent.com (raw.githubusercontent.com)... 185.199.108.133, 185.199.109.133, 185.199.110.133, ...\n",
            "Connecting to raw.githubusercontent.com (raw.githubusercontent.com)|185.199.108.133|:443... connected.\n",
            "HTTP request sent, awaiting response... 200 OK\n",
            "Length: 1524 (1.5K) [text/plain]\n",
            "Saving to: ‘jj.csv’\n",
            "\n",
            "\rjj.csv                0%[                    ]       0  --.-KB/s               \rjj.csv              100%[===================>]   1.49K  --.-KB/s    in 0s      \n",
            "\n",
            "2023-03-13 08:37:28 (26.6 MB/s) - ‘jj.csv’ saved [1524/1524]\n",
            "\n"
          ]
        }
      ]
    },
    {
      "cell_type": "code",
      "execution_count": 8,
      "id": "pressing-spanish",
      "metadata": {
        "id": "pressing-spanish",
        "outputId": "c337efbd-b08e-42d1-f2e4-27f4a595a6b1",
        "colab": {
          "base_uri": "https://localhost:8080/",
          "height": 206
        }
      },
      "outputs": [
        {
          "output_type": "execute_result",
          "data": {
            "text/plain": [
              "         date  data\n",
              "0  1960-01-01  0.71\n",
              "1  1960-04-01  0.63\n",
              "2  1960-07-02  0.85\n",
              "3  1960-10-01  0.44\n",
              "4  1961-01-01  0.61"
            ],
            "text/html": [
              "\n",
              "  <div id=\"df-29a3e6e9-fe62-4ecf-9120-4c6f0a9c95aa\">\n",
              "    <div class=\"colab-df-container\">\n",
              "      <div>\n",
              "<style scoped>\n",
              "    .dataframe tbody tr th:only-of-type {\n",
              "        vertical-align: middle;\n",
              "    }\n",
              "\n",
              "    .dataframe tbody tr th {\n",
              "        vertical-align: top;\n",
              "    }\n",
              "\n",
              "    .dataframe thead th {\n",
              "        text-align: right;\n",
              "    }\n",
              "</style>\n",
              "<table border=\"1\" class=\"dataframe\">\n",
              "  <thead>\n",
              "    <tr style=\"text-align: right;\">\n",
              "      <th></th>\n",
              "      <th>date</th>\n",
              "      <th>data</th>\n",
              "    </tr>\n",
              "  </thead>\n",
              "  <tbody>\n",
              "    <tr>\n",
              "      <th>0</th>\n",
              "      <td>1960-01-01</td>\n",
              "      <td>0.71</td>\n",
              "    </tr>\n",
              "    <tr>\n",
              "      <th>1</th>\n",
              "      <td>1960-04-01</td>\n",
              "      <td>0.63</td>\n",
              "    </tr>\n",
              "    <tr>\n",
              "      <th>2</th>\n",
              "      <td>1960-07-02</td>\n",
              "      <td>0.85</td>\n",
              "    </tr>\n",
              "    <tr>\n",
              "      <th>3</th>\n",
              "      <td>1960-10-01</td>\n",
              "      <td>0.44</td>\n",
              "    </tr>\n",
              "    <tr>\n",
              "      <th>4</th>\n",
              "      <td>1961-01-01</td>\n",
              "      <td>0.61</td>\n",
              "    </tr>\n",
              "  </tbody>\n",
              "</table>\n",
              "</div>\n",
              "      <button class=\"colab-df-convert\" onclick=\"convertToInteractive('df-29a3e6e9-fe62-4ecf-9120-4c6f0a9c95aa')\"\n",
              "              title=\"Convert this dataframe to an interactive table.\"\n",
              "              style=\"display:none;\">\n",
              "        \n",
              "  <svg xmlns=\"http://www.w3.org/2000/svg\" height=\"24px\"viewBox=\"0 0 24 24\"\n",
              "       width=\"24px\">\n",
              "    <path d=\"M0 0h24v24H0V0z\" fill=\"none\"/>\n",
              "    <path d=\"M18.56 5.44l.94 2.06.94-2.06 2.06-.94-2.06-.94-.94-2.06-.94 2.06-2.06.94zm-11 1L8.5 8.5l.94-2.06 2.06-.94-2.06-.94L8.5 2.5l-.94 2.06-2.06.94zm10 10l.94 2.06.94-2.06 2.06-.94-2.06-.94-.94-2.06-.94 2.06-2.06.94z\"/><path d=\"M17.41 7.96l-1.37-1.37c-.4-.4-.92-.59-1.43-.59-.52 0-1.04.2-1.43.59L10.3 9.45l-7.72 7.72c-.78.78-.78 2.05 0 2.83L4 21.41c.39.39.9.59 1.41.59.51 0 1.02-.2 1.41-.59l7.78-7.78 2.81-2.81c.8-.78.8-2.07 0-2.86zM5.41 20L4 18.59l7.72-7.72 1.47 1.35L5.41 20z\"/>\n",
              "  </svg>\n",
              "      </button>\n",
              "      \n",
              "  <style>\n",
              "    .colab-df-container {\n",
              "      display:flex;\n",
              "      flex-wrap:wrap;\n",
              "      gap: 12px;\n",
              "    }\n",
              "\n",
              "    .colab-df-convert {\n",
              "      background-color: #E8F0FE;\n",
              "      border: none;\n",
              "      border-radius: 50%;\n",
              "      cursor: pointer;\n",
              "      display: none;\n",
              "      fill: #1967D2;\n",
              "      height: 32px;\n",
              "      padding: 0 0 0 0;\n",
              "      width: 32px;\n",
              "    }\n",
              "\n",
              "    .colab-df-convert:hover {\n",
              "      background-color: #E2EBFA;\n",
              "      box-shadow: 0px 1px 2px rgba(60, 64, 67, 0.3), 0px 1px 3px 1px rgba(60, 64, 67, 0.15);\n",
              "      fill: #174EA6;\n",
              "    }\n",
              "\n",
              "    [theme=dark] .colab-df-convert {\n",
              "      background-color: #3B4455;\n",
              "      fill: #D2E3FC;\n",
              "    }\n",
              "\n",
              "    [theme=dark] .colab-df-convert:hover {\n",
              "      background-color: #434B5C;\n",
              "      box-shadow: 0px 1px 3px 1px rgba(0, 0, 0, 0.15);\n",
              "      filter: drop-shadow(0px 1px 2px rgba(0, 0, 0, 0.3));\n",
              "      fill: #FFFFFF;\n",
              "    }\n",
              "  </style>\n",
              "\n",
              "      <script>\n",
              "        const buttonEl =\n",
              "          document.querySelector('#df-29a3e6e9-fe62-4ecf-9120-4c6f0a9c95aa button.colab-df-convert');\n",
              "        buttonEl.style.display =\n",
              "          google.colab.kernel.accessAllowed ? 'block' : 'none';\n",
              "\n",
              "        async function convertToInteractive(key) {\n",
              "          const element = document.querySelector('#df-29a3e6e9-fe62-4ecf-9120-4c6f0a9c95aa');\n",
              "          const dataTable =\n",
              "            await google.colab.kernel.invokeFunction('convertToInteractive',\n",
              "                                                     [key], {});\n",
              "          if (!dataTable) return;\n",
              "\n",
              "          const docLinkHtml = 'Like what you see? Visit the ' +\n",
              "            '<a target=\"_blank\" href=https://colab.research.google.com/notebooks/data_table.ipynb>data table notebook</a>'\n",
              "            + ' to learn more about interactive tables.';\n",
              "          element.innerHTML = '';\n",
              "          dataTable['output_type'] = 'display_data';\n",
              "          await google.colab.output.renderOutput(dataTable, element);\n",
              "          const docLink = document.createElement('div');\n",
              "          docLink.innerHTML = docLinkHtml;\n",
              "          element.appendChild(docLink);\n",
              "        }\n",
              "      </script>\n",
              "    </div>\n",
              "  </div>\n",
              "  "
            ]
          },
          "metadata": {},
          "execution_count": 8
        }
      ],
      "source": [
        "df = pd.read_csv('/content/jj.csv')\n",
        "df.head()"
      ]
    },
    {
      "cell_type": "code",
      "execution_count": 9,
      "id": "antique-cleaner",
      "metadata": {
        "id": "antique-cleaner",
        "outputId": "ca77cae8-5795-41dd-c3fe-a19b083ec162",
        "colab": {
          "base_uri": "https://localhost:8080/",
          "height": 206
        }
      },
      "outputs": [
        {
          "output_type": "execute_result",
          "data": {
            "text/plain": [
              "          date   data\n",
              "79  1979-10-01   9.99\n",
              "80  1980-01-01  16.20\n",
              "81  1980-04-01  14.67\n",
              "82  1980-07-02  16.02\n",
              "83  1980-10-01  11.61"
            ],
            "text/html": [
              "\n",
              "  <div id=\"df-03b8cd34-ad7a-4c9f-85b8-5ca9bc7e325c\">\n",
              "    <div class=\"colab-df-container\">\n",
              "      <div>\n",
              "<style scoped>\n",
              "    .dataframe tbody tr th:only-of-type {\n",
              "        vertical-align: middle;\n",
              "    }\n",
              "\n",
              "    .dataframe tbody tr th {\n",
              "        vertical-align: top;\n",
              "    }\n",
              "\n",
              "    .dataframe thead th {\n",
              "        text-align: right;\n",
              "    }\n",
              "</style>\n",
              "<table border=\"1\" class=\"dataframe\">\n",
              "  <thead>\n",
              "    <tr style=\"text-align: right;\">\n",
              "      <th></th>\n",
              "      <th>date</th>\n",
              "      <th>data</th>\n",
              "    </tr>\n",
              "  </thead>\n",
              "  <tbody>\n",
              "    <tr>\n",
              "      <th>79</th>\n",
              "      <td>1979-10-01</td>\n",
              "      <td>9.99</td>\n",
              "    </tr>\n",
              "    <tr>\n",
              "      <th>80</th>\n",
              "      <td>1980-01-01</td>\n",
              "      <td>16.20</td>\n",
              "    </tr>\n",
              "    <tr>\n",
              "      <th>81</th>\n",
              "      <td>1980-04-01</td>\n",
              "      <td>14.67</td>\n",
              "    </tr>\n",
              "    <tr>\n",
              "      <th>82</th>\n",
              "      <td>1980-07-02</td>\n",
              "      <td>16.02</td>\n",
              "    </tr>\n",
              "    <tr>\n",
              "      <th>83</th>\n",
              "      <td>1980-10-01</td>\n",
              "      <td>11.61</td>\n",
              "    </tr>\n",
              "  </tbody>\n",
              "</table>\n",
              "</div>\n",
              "      <button class=\"colab-df-convert\" onclick=\"convertToInteractive('df-03b8cd34-ad7a-4c9f-85b8-5ca9bc7e325c')\"\n",
              "              title=\"Convert this dataframe to an interactive table.\"\n",
              "              style=\"display:none;\">\n",
              "        \n",
              "  <svg xmlns=\"http://www.w3.org/2000/svg\" height=\"24px\"viewBox=\"0 0 24 24\"\n",
              "       width=\"24px\">\n",
              "    <path d=\"M0 0h24v24H0V0z\" fill=\"none\"/>\n",
              "    <path d=\"M18.56 5.44l.94 2.06.94-2.06 2.06-.94-2.06-.94-.94-2.06-.94 2.06-2.06.94zm-11 1L8.5 8.5l.94-2.06 2.06-.94-2.06-.94L8.5 2.5l-.94 2.06-2.06.94zm10 10l.94 2.06.94-2.06 2.06-.94-2.06-.94-.94-2.06-.94 2.06-2.06.94z\"/><path d=\"M17.41 7.96l-1.37-1.37c-.4-.4-.92-.59-1.43-.59-.52 0-1.04.2-1.43.59L10.3 9.45l-7.72 7.72c-.78.78-.78 2.05 0 2.83L4 21.41c.39.39.9.59 1.41.59.51 0 1.02-.2 1.41-.59l7.78-7.78 2.81-2.81c.8-.78.8-2.07 0-2.86zM5.41 20L4 18.59l7.72-7.72 1.47 1.35L5.41 20z\"/>\n",
              "  </svg>\n",
              "      </button>\n",
              "      \n",
              "  <style>\n",
              "    .colab-df-container {\n",
              "      display:flex;\n",
              "      flex-wrap:wrap;\n",
              "      gap: 12px;\n",
              "    }\n",
              "\n",
              "    .colab-df-convert {\n",
              "      background-color: #E8F0FE;\n",
              "      border: none;\n",
              "      border-radius: 50%;\n",
              "      cursor: pointer;\n",
              "      display: none;\n",
              "      fill: #1967D2;\n",
              "      height: 32px;\n",
              "      padding: 0 0 0 0;\n",
              "      width: 32px;\n",
              "    }\n",
              "\n",
              "    .colab-df-convert:hover {\n",
              "      background-color: #E2EBFA;\n",
              "      box-shadow: 0px 1px 2px rgba(60, 64, 67, 0.3), 0px 1px 3px 1px rgba(60, 64, 67, 0.15);\n",
              "      fill: #174EA6;\n",
              "    }\n",
              "\n",
              "    [theme=dark] .colab-df-convert {\n",
              "      background-color: #3B4455;\n",
              "      fill: #D2E3FC;\n",
              "    }\n",
              "\n",
              "    [theme=dark] .colab-df-convert:hover {\n",
              "      background-color: #434B5C;\n",
              "      box-shadow: 0px 1px 3px 1px rgba(0, 0, 0, 0.15);\n",
              "      filter: drop-shadow(0px 1px 2px rgba(0, 0, 0, 0.3));\n",
              "      fill: #FFFFFF;\n",
              "    }\n",
              "  </style>\n",
              "\n",
              "      <script>\n",
              "        const buttonEl =\n",
              "          document.querySelector('#df-03b8cd34-ad7a-4c9f-85b8-5ca9bc7e325c button.colab-df-convert');\n",
              "        buttonEl.style.display =\n",
              "          google.colab.kernel.accessAllowed ? 'block' : 'none';\n",
              "\n",
              "        async function convertToInteractive(key) {\n",
              "          const element = document.querySelector('#df-03b8cd34-ad7a-4c9f-85b8-5ca9bc7e325c');\n",
              "          const dataTable =\n",
              "            await google.colab.kernel.invokeFunction('convertToInteractive',\n",
              "                                                     [key], {});\n",
              "          if (!dataTable) return;\n",
              "\n",
              "          const docLinkHtml = 'Like what you see? Visit the ' +\n",
              "            '<a target=\"_blank\" href=https://colab.research.google.com/notebooks/data_table.ipynb>data table notebook</a>'\n",
              "            + ' to learn more about interactive tables.';\n",
              "          element.innerHTML = '';\n",
              "          dataTable['output_type'] = 'display_data';\n",
              "          await google.colab.output.renderOutput(dataTable, element);\n",
              "          const docLink = document.createElement('div');\n",
              "          docLink.innerHTML = docLinkHtml;\n",
              "          element.appendChild(docLink);\n",
              "        }\n",
              "      </script>\n",
              "    </div>\n",
              "  </div>\n",
              "  "
            ]
          },
          "metadata": {},
          "execution_count": 9
        }
      ],
      "source": [
        "df.tail()"
      ]
    },
    {
      "cell_type": "markdown",
      "id": "unique-arrival",
      "metadata": {
        "id": "unique-arrival"
      },
      "source": [
        "# Plot data with train/test split "
      ]
    },
    {
      "cell_type": "code",
      "execution_count": 11,
      "id": "numerical-letters",
      "metadata": {
        "id": "numerical-letters",
        "outputId": "e5242f69-cfa2-42e5-b918-517de06b924f",
        "colab": {
          "base_uri": "https://localhost:8080/",
          "height": 297
        }
      },
      "outputs": [
        {
          "output_type": "display_data",
          "data": {
            "text/plain": [
              "<Figure size 432x288 with 1 Axes>"
            ],
            "image/png": "[encoded data removed]"
          },
          "metadata": {
            "needs_background": "light"
          }
        }
      ],
      "source": [
        "fig, ax = plt.subplots()\n",
        "\n",
        "ax.plot(df['date'], df['data'])\n",
        "ax.set_xlabel('Date')\n",
        "ax.set_ylabel('Earnings per share (USD)')\n",
        "ax.axvspan(80, 83, color='#808080', alpha=0.2)\n",
        "\n",
        "plt.xticks(np.arange(0, 81, 8), [1960, 1962, 1964, 1966, 1968, 1970, 1972, 1974, 1976, 1978, 1980])\n",
        "\n",
        "fig.autofmt_xdate()\n",
        "plt.tight_layout()\n",
        "\n",
        "#plt.savefig('figures/CH02_F01_peixeiro.png', dpi=300)"
      ]
    },
    {
      "cell_type": "markdown",
      "id": "religious-barrel",
      "metadata": {
        "id": "religious-barrel"
      },
      "source": [
        "# Split to train/test "
      ]
    },
    {
      "cell_type": "code",
      "execution_count": 12,
      "id": "meaning-thinking",
      "metadata": {
        "id": "meaning-thinking"
      },
      "outputs": [],
      "source": [
        "train = df[:-4]\n",
        "test = df[-4:]"
      ]
    },
    {
      "cell_type": "markdown",
      "id": "quick-prisoner",
      "metadata": {
        "id": "quick-prisoner"
      },
      "source": [
        "# Predict historical mean "
      ]
    },
    {
      "cell_type": "code",
      "execution_count": 13,
      "id": "compact-grounds",
      "metadata": {
        "id": "compact-grounds",
        "outputId": "7b3de733-6367-42ae-c5af-3b516d7e9221",
        "colab": {
          "base_uri": "https://localhost:8080/"
        }
      },
      "outputs": [
        {
          "output_type": "execute_result",
          "data": {
            "text/plain": [
              "4.308499987499999"
            ]
          },
          "metadata": {},
          "execution_count": 13
        }
      ],
      "source": [
        "historical_mean = np.mean(train['data'])\n",
        "historical_mean"
      ]
    },
    {
      "cell_type": "code",
      "execution_count": 14,
      "id": "4c486fcd",
      "metadata": {
        "id": "4c486fcd",
        "outputId": "d881b2a8-afbf-4cd7-942b-1a91d6da03da",
        "colab": {
          "base_uri": "https://localhost:8080/",
          "height": 175
        }
      },
      "outputs": [
        {
          "output_type": "execute_result",
          "data": {
            "text/plain": [
              "          date   data  pred_mean\n",
              "80  1980-01-01  16.20     4.3085\n",
              "81  1980-04-01  14.67     4.3085\n",
              "82  1980-07-02  16.02     4.3085\n",
              "83  1980-10-01  11.61     4.3085"
            ],
            "text/html": [
              "\n",
              "  <div id=\"df-f8e727b0-fac7-4f18-a0d6-c6cbdaeecd9b\">\n",
              "    <div class=\"colab-df-container\">\n",
              "      <div>\n",
              "<style scoped>\n",
              "    .dataframe tbody tr th:only-of-type {\n",
              "        vertical-align: middle;\n",
              "    }\n",
              "\n",
              "    .dataframe tbody tr th {\n",
              "        vertical-align: top;\n",
              "    }\n",
              "\n",
              "    .dataframe thead th {\n",
              "        text-align: right;\n",
              "    }\n",
              "</style>\n",
              "<table border=\"1\" class=\"dataframe\">\n",
              "  <thead>\n",
              "    <tr style=\"text-align: right;\">\n",
              "      <th></th>\n",
              "      <th>date</th>\n",
              "      <th>data</th>\n",
              "      <th>pred_mean</th>\n",
              "    </tr>\n",
              "  </thead>\n",
              "  <tbody>\n",
              "    <tr>\n",
              "      <th>80</th>\n",
              "      <td>1980-01-01</td>\n",
              "      <td>16.20</td>\n",
              "      <td>4.3085</td>\n",
              "    </tr>\n",
              "    <tr>\n",
              "      <th>81</th>\n",
              "      <td>1980-04-01</td>\n",
              "      <td>14.67</td>\n",
              "      <td>4.3085</td>\n",
              "    </tr>\n",
              "    <tr>\n",
              "      <th>82</th>\n",
              "      <td>1980-07-02</td>\n",
              "      <td>16.02</td>\n",
              "      <td>4.3085</td>\n",
              "    </tr>\n",
              "    <tr>\n",
              "      <th>83</th>\n",
              "      <td>1980-10-01</td>\n",
              "      <td>11.61</td>\n",
              "      <td>4.3085</td>\n",
              "    </tr>\n",
              "  </tbody>\n",
              "</table>\n",
              "</div>\n",
              "      <button class=\"colab-df-convert\" onclick=\"convertToInteractive('df-f8e727b0-fac7-4f18-a0d6-c6cbdaeecd9b')\"\n",
              "              title=\"Convert this dataframe to an interactive table.\"\n",
              "              style=\"display:none;\">\n",
              "        \n",
              "  <svg xmlns=\"http://www.w3.org/2000/svg\" height=\"24px\"viewBox=\"0 0 24 24\"\n",
              "       width=\"24px\">\n",
              "    <path d=\"M0 0h24v24H0V0z\" fill=\"none\"/>\n",
              "    <path d=\"M18.56 5.44l.94 2.06.94-2.06 2.06-.94-2.06-.94-.94-2.06-.94 2.06-2.06.94zm-11 1L8.5 8.5l.94-2.06 2.06-.94-2.06-.94L8.5 2.5l-.94 2.06-2.06.94zm10 10l.94 2.06.94-2.06 2.06-.94-2.06-.94-.94-2.06-.94 2.06-2.06.94z\"/><path d=\"M17.41 7.96l-1.37-1.37c-.4-.4-.92-.59-1.43-.59-.52 0-1.04.2-1.43.59L10.3 9.45l-7.72 7.72c-.78.78-.78 2.05 0 2.83L4 21.41c.39.39.9.59 1.41.59.51 0 1.02-.2 1.41-.59l7.78-7.78 2.81-2.81c.8-.78.8-2.07 0-2.86zM5.41 20L4 18.59l7.72-7.72 1.47 1.35L5.41 20z\"/>\n",
              "  </svg>\n",
              "      </button>\n",
              "      \n",
              "  <style>\n",
              "    .colab-df-container {\n",
              "      display:flex;\n",
              "      flex-wrap:wrap;\n",
              "      gap: 12px;\n",
              "    }\n",
              "\n",
              "    .colab-df-convert {\n",
              "      background-color: #E8F0FE;\n",
              "      border: none;\n",
              "      border-radius: 50%;\n",
              "      cursor: pointer;\n",
              "      display: none;\n",
              "      fill: #1967D2;\n",
              "      height: 32px;\n",
              "      padding: 0 0 0 0;\n",
              "      width: 32px;\n",
              "    }\n",
              "\n",
              "    .colab-df-convert:hover {\n",
              "      background-color: #E2EBFA;\n",
              "      box-shadow: 0px 1px 2px rgba(60, 64, 67, 0.3), 0px 1px 3px 1px rgba(60, 64, 67, 0.15);\n",
              "      fill: #174EA6;\n",
              "    }\n",
              "\n",
              "    [theme=dark] .colab-df-convert {\n",
              "      background-color: #3B4455;\n",
              "      fill: #D2E3FC;\n",
              "    }\n",
              "\n",
              "    [theme=dark] .colab-df-convert:hover {\n",
              "      background-color: #434B5C;\n",
              "      box-shadow: 0px 1px 3px 1px rgba(0, 0, 0, 0.15);\n",
              "      filter: drop-shadow(0px 1px 2px rgba(0, 0, 0, 0.3));\n",
              "      fill: #FFFFFF;\n",
              "    }\n",
              "  </style>\n",
              "\n",
              "      <script>\n",
              "        const buttonEl =\n",
              "          document.querySelector('#df-f8e727b0-fac7-4f18-a0d6-c6cbdaeecd9b button.colab-df-convert');\n",
              "        buttonEl.style.display =\n",
              "          google.colab.kernel.accessAllowed ? 'block' : 'none';\n",
              "\n",
              "        async function convertToInteractive(key) {\n",
              "          const element = document.querySelector('#df-f8e727b0-fac7-4f18-a0d6-c6cbdaeecd9b');\n",
              "          const dataTable =\n",
              "            await google.colab.kernel.invokeFunction('convertToInteractive',\n",
              "                                                     [key], {});\n",
              "          if (!dataTable) return;\n",
              "\n",
              "          const docLinkHtml = 'Like what you see? Visit the ' +\n",
              "            '<a target=\"_blank\" href=https://colab.research.google.com/notebooks/data_table.ipynb>data table notebook</a>'\n",
              "            + ' to learn more about interactive tables.';\n",
              "          element.innerHTML = '';\n",
              "          dataTable['output_type'] = 'display_data';\n",
              "          await google.colab.output.renderOutput(dataTable, element);\n",
              "          const docLink = document.createElement('div');\n",
              "          docLink.innerHTML = docLinkHtml;\n",
              "          element.appendChild(docLink);\n",
              "        }\n",
              "      </script>\n",
              "    </div>\n",
              "  </div>\n",
              "  "
            ]
          },
          "metadata": {},
          "execution_count": 14
        }
      ],
      "source": [
        "test.loc[:, 'pred_mean'] = historical_mean\n",
        "\n",
        "test"
      ]
    },
    {
      "cell_type": "code",
      "execution_count": 15,
      "id": "numeric-insight",
      "metadata": {
        "id": "numeric-insight"
      },
      "outputs": [],
      "source": [
        "def mape(y_true, y_pred):\n",
        "    return np.mean(np.abs((y_true - y_pred) / y_true)) * 100"
      ]
    },
    {
      "cell_type": "code",
      "execution_count": 16,
      "id": "accepting-looking",
      "metadata": {
        "id": "accepting-looking",
        "outputId": "165d99cc-0713-4135-8d25-d6147c86a082",
        "colab": {
          "base_uri": "https://localhost:8080/"
        }
      },
      "outputs": [
        {
          "output_type": "execute_result",
          "data": {
            "text/plain": [
              "70.00752579965119"
            ]
          },
          "metadata": {},
          "execution_count": 16
        }
      ],
      "source": [
        "mape_hist_mean = mape(test['data'], test['pred_mean'])\n",
        "mape_hist_mean"
      ]
    },
    {
      "cell_type": "code",
      "execution_count": 18,
      "id": "tropical-newport",
      "metadata": {
        "id": "tropical-newport",
        "outputId": "afbf59bb-5432-48e4-bb9c-ab663bc2c8ce",
        "colab": {
          "base_uri": "https://localhost:8080/",
          "height": 297
        }
      },
      "outputs": [
        {
          "output_type": "display_data",
          "data": {
            "text/plain": [
              "<Figure size 432x288 with 1 Axes>"
            ],
            "image/png": "[encoded data removed]"
          },
          "metadata": {
            "needs_background": "light"
          }
        }
      ],
      "source": [
        "fig, ax = plt.subplots()\n",
        "\n",
        "ax.plot(train['date'], train['data'], 'g-.', label='Train')\n",
        "ax.plot(test['date'], test['data'], 'b-', label='Test')\n",
        "ax.plot(test['date'], test['pred_mean'], 'r--', label='Predicted')\n",
        "ax.set_xlabel('Date')\n",
        "ax.set_ylabel('Earnings per share (USD)')\n",
        "ax.axvspan(80, 83, color='#808080', alpha=0.2)\n",
        "ax.legend(loc=2)\n",
        "\n",
        "plt.xticks(np.arange(0, 85, 8), [1960, 1962, 1964, 1966, 1968, 1970, 1972, 1974, 1976, 1978, 1980])\n",
        "\n",
        "fig.autofmt_xdate()\n",
        "plt.tight_layout()\n",
        "\n",
        "#plt.savefig('figures/CH02_F06_peixeiro.png', dpi=300)"
      ]
    },
    {
      "cell_type": "markdown",
      "id": "limiting-database",
      "metadata": {
        "id": "limiting-database"
      },
      "source": [
        "# Predict last year mean "
      ]
    },
    {
      "cell_type": "code",
      "execution_count": 19,
      "id": "incorporate-seattle",
      "metadata": {
        "id": "incorporate-seattle",
        "outputId": "4295877a-1b8a-4942-e8f1-fb43d78b8caa",
        "colab": {
          "base_uri": "https://localhost:8080/"
        }
      },
      "outputs": [
        {
          "output_type": "execute_result",
          "data": {
            "text/plain": [
              "12.96"
            ]
          },
          "metadata": {},
          "execution_count": 19
        }
      ],
      "source": [
        "last_year_mean = np.mean(train['data'][-4:])\n",
        "last_year_mean"
      ]
    },
    {
      "cell_type": "code",
      "execution_count": 20,
      "id": "e9281c29",
      "metadata": {
        "id": "e9281c29",
        "outputId": "c93db2aa-a85b-4208-fa45-7c7bca5e8e16",
        "colab": {
          "base_uri": "https://localhost:8080/",
          "height": 175
        }
      },
      "outputs": [
        {
          "output_type": "execute_result",
          "data": {
            "text/plain": [
              "          date   data  pred_mean  pred__last_yr_mean\n",
              "80  1980-01-01  16.20     4.3085               12.96\n",
              "81  1980-04-01  14.67     4.3085               12.96\n",
              "82  1980-07-02  16.02     4.3085               12.96\n",
              "83  1980-10-01  11.61     4.3085               12.96"
            ],
            "text/html": [
              "\n",
              "  <div id=\"df-76369589-84c4-42a1-9aee-1f4dda30e263\">\n",
              "    <div class=\"colab-df-container\">\n",
              "      <div>\n",
              "<style scoped>\n",
              "    .dataframe tbody tr th:only-of-type {\n",
              "        vertical-align: middle;\n",
              "    }\n",
              "\n",
              "    .dataframe tbody tr th {\n",
              "        vertical-align: top;\n",
              "    }\n",
              "\n",
              "    .dataframe thead th {\n",
              "        text-align: right;\n",
              "    }\n",
              "</style>\n",
              "<table border=\"1\" class=\"dataframe\">\n",
              "  <thead>\n",
              "    <tr style=\"text-align: right;\">\n",
              "      <th></th>\n",
              "      <th>date</th>\n",
              "      <th>data</th>\n",
              "      <th>pred_mean</th>\n",
              "      <th>pred__last_yr_mean</th>\n",
              "    </tr>\n",
              "  </thead>\n",
              "  <tbody>\n",
              "    <tr>\n",
              "      <th>80</th>\n",
              "      <td>1980-01-01</td>\n",
              "      <td>16.20</td>\n",
              "      <td>4.3085</td>\n",
              "      <td>12.96</td>\n",
              "    </tr>\n",
              "    <tr>\n",
              "      <th>81</th>\n",
              "      <td>1980-04-01</td>\n",
              "      <td>14.67</td>\n",
              "      <td>4.3085</td>\n",
              "      <td>12.96</td>\n",
              "    </tr>\n",
              "    <tr>\n",
              "      <th>82</th>\n",
              "      <td>1980-07-02</td>\n",
              "      <td>16.02</td>\n",
              "      <td>4.3085</td>\n",
              "      <td>12.96</td>\n",
              "    </tr>\n",
              "    <tr>\n",
              "      <th>83</th>\n",
              "      <td>1980-10-01</td>\n",
              "      <td>11.61</td>\n",
              "      <td>4.3085</td>\n",
              "      <td>12.96</td>\n",
              "    </tr>\n",
              "  </tbody>\n",
              "</table>\n",
              "</div>\n",
              "      <button class=\"colab-df-convert\" onclick=\"convertToInteractive('df-76369589-84c4-42a1-9aee-1f4dda30e263')\"\n",
              "              title=\"Convert this dataframe to an interactive table.\"\n",
              "              style=\"display:none;\">\n",
              "        \n",
              "  <svg xmlns=\"http://www.w3.org/2000/svg\" height=\"24px\"viewBox=\"0 0 24 24\"\n",
              "       width=\"24px\">\n",
              "    <path d=\"M0 0h24v24H0V0z\" fill=\"none\"/>\n",
              "    <path d=\"M18.56 5.44l.94 2.06.94-2.06 2.06-.94-2.06-.94-.94-2.06-.94 2.06-2.06.94zm-11 1L8.5 8.5l.94-2.06 2.06-.94-2.06-.94L8.5 2.5l-.94 2.06-2.06.94zm10 10l.94 2.06.94-2.06 2.06-.94-2.06-.94-.94-2.06-.94 2.06-2.06.94z\"/><path d=\"M17.41 7.96l-1.37-1.37c-.4-.4-.92-.59-1.43-.59-.52 0-1.04.2-1.43.59L10.3 9.45l-7.72 7.72c-.78.78-.78 2.05 0 2.83L4 21.41c.39.39.9.59 1.41.59.51 0 1.02-.2 1.41-.59l7.78-7.78 2.81-2.81c.8-.78.8-2.07 0-2.86zM5.41 20L4 18.59l7.72-7.72 1.47 1.35L5.41 20z\"/>\n",
              "  </svg>\n",
              "      </button>\n",
              "      \n",
              "  <style>\n",
              "    .colab-df-container {\n",
              "      display:flex;\n",
              "      flex-wrap:wrap;\n",
              "      gap: 12px;\n",
              "    }\n",
              "\n",
              "    .colab-df-convert {\n",
              "      background-color: #E8F0FE;\n",
              "      border: none;\n",
              "      border-radius: 50%;\n",
              "      cursor: pointer;\n",
              "      display: none;\n",
              "      fill: #1967D2;\n",
              "      height: 32px;\n",
              "      padding: 0 0 0 0;\n",
              "      width: 32px;\n",
              "    }\n",
              "\n",
              "    .colab-df-convert:hover {\n",
              "      background-color: #E2EBFA;\n",
              "      box-shadow: 0px 1px 2px rgba(60, 64, 67, 0.3), 0px 1px 3px 1px rgba(60, 64, 67, 0.15);\n",
              "      fill: #174EA6;\n",
              "    }\n",
              "\n",
              "    [theme=dark] .colab-df-convert {\n",
              "      background-color: #3B4455;\n",
              "      fill: #D2E3FC;\n",
              "    }\n",
              "\n",
              "    [theme=dark] .colab-df-convert:hover {\n",
              "      background-color: #434B5C;\n",
              "      box-shadow: 0px 1px 3px 1px rgba(0, 0, 0, 0.15);\n",
              "      filter: drop-shadow(0px 1px 2px rgba(0, 0, 0, 0.3));\n",
              "      fill: #FFFFFF;\n",
              "    }\n",
              "  </style>\n",
              "\n",
              "      <script>\n",
              "        const buttonEl =\n",
              "          document.querySelector('#df-76369589-84c4-42a1-9aee-1f4dda30e263 button.colab-df-convert');\n",
              "        buttonEl.style.display =\n",
              "          google.colab.kernel.accessAllowed ? 'block' : 'none';\n",
              "\n",
              "        async function convertToInteractive(key) {\n",
              "          const element = document.querySelector('#df-76369589-84c4-42a1-9aee-1f4dda30e263');\n",
              "          const dataTable =\n",
              "            await google.colab.kernel.invokeFunction('convertToInteractive',\n",
              "                                                     [key], {});\n",
              "          if (!dataTable) return;\n",
              "\n",
              "          const docLinkHtml = 'Like what you see? Visit the ' +\n",
              "            '<a target=\"_blank\" href=https://colab.research.google.com/notebooks/data_table.ipynb>data table notebook</a>'\n",
              "            + ' to learn more about interactive tables.';\n",
              "          element.innerHTML = '';\n",
              "          dataTable['output_type'] = 'display_data';\n",
              "          await google.colab.output.renderOutput(dataTable, element);\n",
              "          const docLink = document.createElement('div');\n",
              "          docLink.innerHTML = docLinkHtml;\n",
              "          element.appendChild(docLink);\n",
              "        }\n",
              "      </script>\n",
              "    </div>\n",
              "  </div>\n",
              "  "
            ]
          },
          "metadata": {},
          "execution_count": 20
        }
      ],
      "source": [
        "test.loc[:, 'pred__last_yr_mean'] = last_year_mean\n",
        "\n",
        "test"
      ]
    },
    {
      "cell_type": "code",
      "execution_count": 21,
      "id": "resident-sleeve",
      "metadata": {
        "id": "resident-sleeve",
        "outputId": "c9422450-0864-4d5e-837c-9d0e5a2a6f13",
        "colab": {
          "base_uri": "https://localhost:8080/"
        }
      },
      "outputs": [
        {
          "output_type": "execute_result",
          "data": {
            "text/plain": [
              "15.5963680725103"
            ]
          },
          "metadata": {},
          "execution_count": 21
        }
      ],
      "source": [
        "mape_last_year_mean = mape(test['data'], test['pred__last_yr_mean'])\n",
        "mape_last_year_mean"
      ]
    },
    {
      "cell_type": "code",
      "execution_count": 22,
      "id": "effective-spirituality",
      "metadata": {
        "id": "effective-spirituality",
        "outputId": "63e09ff7-1559-460b-c70a-e9713cea6138",
        "colab": {
          "base_uri": "https://localhost:8080/",
          "height": 297
        }
      },
      "outputs": [
        {
          "output_type": "display_data",
          "data": {
            "text/plain": [
              "<Figure size 432x288 with 1 Axes>"
            ],
            "image/png": "[encoded data removed]"
          },
          "metadata": {
            "needs_background": "light"
          }
        }
      ],
      "source": [
        "fig, ax = plt.subplots()\n",
        "\n",
        "ax.plot(train['date'], train['data'], 'g-.', label='Train')\n",
        "ax.plot(test['date'], test['data'], 'b-', label='Test')\n",
        "ax.plot(test['date'], test['pred__last_yr_mean'], 'r--', label='Predicted')\n",
        "ax.set_xlabel('Date')\n",
        "ax.set_ylabel('Earnings per share (USD)')\n",
        "ax.axvspan(80, 83, color='#808080', alpha=0.2)\n",
        "ax.legend(loc=2)\n",
        "\n",
        "plt.xticks(np.arange(0, 85, 8), [1960, 1962, 1964, 1966, 1968, 1970, 1972, 1974, 1976, 1978, 1980])\n",
        "\n",
        "fig.autofmt_xdate()\n",
        "plt.tight_layout()\n",
        "\n",
        "#plt.savefig('figures/CH02_F07_peixeiro.png', dpi=300)"
      ]
    },
    {
      "cell_type": "markdown",
      "id": "expressed-gallery",
      "metadata": {
        "id": "expressed-gallery"
      },
      "source": [
        "# Predict last know value "
      ]
    },
    {
      "cell_type": "code",
      "execution_count": 23,
      "id": "hundred-field",
      "metadata": {
        "id": "hundred-field",
        "outputId": "d8d6d6ba-4ef5-4c6c-f1e8-13d7bde8444d",
        "colab": {
          "base_uri": "https://localhost:8080/"
        }
      },
      "outputs": [
        {
          "output_type": "execute_result",
          "data": {
            "text/plain": [
              "9.99"
            ]
          },
          "metadata": {},
          "execution_count": 23
        }
      ],
      "source": [
        "last = train['data'].iloc[-1]\n",
        "last"
      ]
    },
    {
      "cell_type": "code",
      "execution_count": 24,
      "id": "e3a4093c",
      "metadata": {
        "id": "e3a4093c",
        "outputId": "f78e8ed3-0795-4e63-a68e-6deaf59a99c4",
        "colab": {
          "base_uri": "https://localhost:8080/",
          "height": 175
        }
      },
      "outputs": [
        {
          "output_type": "execute_result",
          "data": {
            "text/plain": [
              "          date   data  pred_mean  pred__last_yr_mean  pred_last\n",
              "80  1980-01-01  16.20     4.3085               12.96       9.99\n",
              "81  1980-04-01  14.67     4.3085               12.96       9.99\n",
              "82  1980-07-02  16.02     4.3085               12.96       9.99\n",
              "83  1980-10-01  11.61     4.3085               12.96       9.99"
            ],
            "text/html": [
              "\n",
              "  <div id=\"df-7eb4e7ec-93f3-44da-9251-196713904d2d\">\n",
              "    <div class=\"colab-df-container\">\n",
              "      <div>\n",
              "<style scoped>\n",
              "    .dataframe tbody tr th:only-of-type {\n",
              "        vertical-align: middle;\n",
              "    }\n",
              "\n",
              "    .dataframe tbody tr th {\n",
              "        vertical-align: top;\n",
              "    }\n",
              "\n",
              "    .dataframe thead th {\n",
              "        text-align: right;\n",
              "    }\n",
              "</style>\n",
              "<table border=\"1\" class=\"dataframe\">\n",
              "  <thead>\n",
              "    <tr style=\"text-align: right;\">\n",
              "      <th></th>\n",
              "      <th>date</th>\n",
              "      <th>data</th>\n",
              "      <th>pred_mean</th>\n",
              "      <th>pred__last_yr_mean</th>\n",
              "      <th>pred_last</th>\n",
              "    </tr>\n",
              "  </thead>\n",
              "  <tbody>\n",
              "    <tr>\n",
              "      <th>80</th>\n",
              "      <td>1980-01-01</td>\n",
              "      <td>16.20</td>\n",
              "      <td>4.3085</td>\n",
              "      <td>12.96</td>\n",
              "      <td>9.99</td>\n",
              "    </tr>\n",
              "    <tr>\n",
              "      <th>81</th>\n",
              "      <td>1980-04-01</td>\n",
              "      <td>14.67</td>\n",
              "      <td>4.3085</td>\n",
              "      <td>12.96</td>\n",
              "      <td>9.99</td>\n",
              "    </tr>\n",
              "    <tr>\n",
              "      <th>82</th>\n",
              "      <td>1980-07-02</td>\n",
              "      <td>16.02</td>\n",
              "      <td>4.3085</td>\n",
              "      <td>12.96</td>\n",
              "      <td>9.99</td>\n",
              "    </tr>\n",
              "    <tr>\n",
              "      <th>83</th>\n",
              "      <td>1980-10-01</td>\n",
              "      <td>11.61</td>\n",
              "      <td>4.3085</td>\n",
              "      <td>12.96</td>\n",
              "      <td>9.99</td>\n",
              "    </tr>\n",
              "  </tbody>\n",
              "</table>\n",
              "</div>\n",
              "      <button class=\"colab-df-convert\" onclick=\"convertToInteractive('df-7eb4e7ec-93f3-44da-9251-196713904d2d')\"\n",
              "              title=\"Convert this dataframe to an interactive table.\"\n",
              "              style=\"display:none;\">\n",
              "        \n",
              "  <svg xmlns=\"http://www.w3.org/2000/svg\" height=\"24px\"viewBox=\"0 0 24 24\"\n",
              "       width=\"24px\">\n",
              "    <path d=\"M0 0h24v24H0V0z\" fill=\"none\"/>\n",
              "    <path d=\"M18.56 5.44l.94 2.06.94-2.06 2.06-.94-2.06-.94-.94-2.06-.94 2.06-2.06.94zm-11 1L8.5 8.5l.94-2.06 2.06-.94-2.06-.94L8.5 2.5l-.94 2.06-2.06.94zm10 10l.94 2.06.94-2.06 2.06-.94-2.06-.94-.94-2.06-.94 2.06-2.06.94z\"/><path d=\"M17.41 7.96l-1.37-1.37c-.4-.4-.92-.59-1.43-.59-.52 0-1.04.2-1.43.59L10.3 9.45l-7.72 7.72c-.78.78-.78 2.05 0 2.83L4 21.41c.39.39.9.59 1.41.59.51 0 1.02-.2 1.41-.59l7.78-7.78 2.81-2.81c.8-.78.8-2.07 0-2.86zM5.41 20L4 18.59l7.72-7.72 1.47 1.35L5.41 20z\"/>\n",
              "  </svg>\n",
              "      </button>\n",
              "      \n",
              "  <style>\n",
              "    .colab-df-container {\n",
              "      display:flex;\n",
              "      flex-wrap:wrap;\n",
              "      gap: 12px;\n",
              "    }\n",
              "\n",
              "    .colab-df-convert {\n",
              "      background-color: #E8F0FE;\n",
              "      border: none;\n",
              "      border-radius: 50%;\n",
              "      cursor: pointer;\n",
              "      display: none;\n",
              "      fill: #1967D2;\n",
              "      height: 32px;\n",
              "      padding: 0 0 0 0;\n",
              "      width: 32px;\n",
              "    }\n",
              "\n",
              "    .colab-df-convert:hover {\n",
              "      background-color: #E2EBFA;\n",
              "      box-shadow: 0px 1px 2px rgba(60, 64, 67, 0.3), 0px 1px 3px 1px rgba(60, 64, 67, 0.15);\n",
              "      fill: #174EA6;\n",
              "    }\n",
              "\n",
              "    [theme=dark] .colab-df-convert {\n",
              "      background-color: #3B4455;\n",
              "      fill: #D2E3FC;\n",
              "    }\n",
              "\n",
              "    [theme=dark] .colab-df-convert:hover {\n",
              "      background-color: #434B5C;\n",
              "      box-shadow: 0px 1px 3px 1px rgba(0, 0, 0, 0.15);\n",
              "      filter: drop-shadow(0px 1px 2px rgba(0, 0, 0, 0.3));\n",
              "      fill: #FFFFFF;\n",
              "    }\n",
              "  </style>\n",
              "\n",
              "      <script>\n",
              "        const buttonEl =\n",
              "          document.querySelector('#df-7eb4e7ec-93f3-44da-9251-196713904d2d button.colab-df-convert');\n",
              "        buttonEl.style.display =\n",
              "          google.colab.kernel.accessAllowed ? 'block' : 'none';\n",
              "\n",
              "        async function convertToInteractive(key) {\n",
              "          const element = document.querySelector('#df-7eb4e7ec-93f3-44da-9251-196713904d2d');\n",
              "          const dataTable =\n",
              "            await google.colab.kernel.invokeFunction('convertToInteractive',\n",
              "                                                     [key], {});\n",
              "          if (!dataTable) return;\n",
              "\n",
              "          const docLinkHtml = 'Like what you see? Visit the ' +\n",
              "            '<a target=\"_blank\" href=https://colab.research.google.com/notebooks/data_table.ipynb>data table notebook</a>'\n",
              "            + ' to learn more about interactive tables.';\n",
              "          element.innerHTML = '';\n",
              "          dataTable['output_type'] = 'display_data';\n",
              "          await google.colab.output.renderOutput(dataTable, element);\n",
              "          const docLink = document.createElement('div');\n",
              "          docLink.innerHTML = docLinkHtml;\n",
              "          element.appendChild(docLink);\n",
              "        }\n",
              "      </script>\n",
              "    </div>\n",
              "  </div>\n",
              "  "
            ]
          },
          "metadata": {},
          "execution_count": 24
        }
      ],
      "source": [
        "test.loc[:, 'pred_last'] = last\n",
        "\n",
        "test"
      ]
    },
    {
      "cell_type": "code",
      "execution_count": 25,
      "id": "satisfactory-strain",
      "metadata": {
        "id": "satisfactory-strain",
        "outputId": "0698d824-4a3e-42a7-fbc9-f1d9fed8e4db",
        "colab": {
          "base_uri": "https://localhost:8080/"
        }
      },
      "outputs": [
        {
          "output_type": "execute_result",
          "data": {
            "text/plain": [
              "30.457277908606535"
            ]
          },
          "metadata": {},
          "execution_count": 25
        }
      ],
      "source": [
        "mape_last = mape(test['data'], test['pred_last'])\n",
        "mape_last"
      ]
    },
    {
      "cell_type": "code",
      "execution_count": 27,
      "id": "british-trunk",
      "metadata": {
        "id": "british-trunk",
        "outputId": "0d222ec4-84dd-4731-d879-ae81d4d15b82",
        "colab": {
          "base_uri": "https://localhost:8080/",
          "height": 297
        }
      },
      "outputs": [
        {
          "output_type": "display_data",
          "data": {
            "text/plain": [
              "<Figure size 432x288 with 1 Axes>"
            ],
            "image/png": "[encoded data removed]"
          },
          "metadata": {
            "needs_background": "light"
          }
        }
      ],
      "source": [
        "fig, ax = plt.subplots()\n",
        "\n",
        "ax.plot(train['date'], train['data'], 'g-.', label='Train')\n",
        "ax.plot(test['date'], test['data'], 'b-', label='Test')\n",
        "ax.plot(test['date'], test['pred_last'], 'r--', label='Predicted')\n",
        "ax.set_xlabel('Date')\n",
        "ax.set_ylabel('Earnings per share (USD)')\n",
        "ax.axvspan(80, 83, color='#808080', alpha=0.2)\n",
        "ax.legend(loc=2)\n",
        "\n",
        "plt.xticks(np.arange(0, 85, 8), [1960, 1962, 1964, 1966, 1968, 1970, 1972, 1974, 1976, 1978, 1980])\n",
        "\n",
        "fig.autofmt_xdate()\n",
        "plt.tight_layout()\n",
        "\n",
        "#plt.savefig('figures/CH02_F08_peixeiro.png', dpi=300)"
      ]
    },
    {
      "cell_type": "markdown",
      "id": "known-emphasis",
      "metadata": {
        "id": "known-emphasis"
      },
      "source": [
        "# Naive seasonal forecast "
      ]
    },
    {
      "cell_type": "code",
      "execution_count": 28,
      "id": "4ce0b77f",
      "metadata": {
        "id": "4ce0b77f",
        "outputId": "57e2a372-d301-4b2b-8b36-c377a46150d1",
        "colab": {
          "base_uri": "https://localhost:8080/",
          "height": 175
        }
      },
      "outputs": [
        {
          "output_type": "execute_result",
          "data": {
            "text/plain": [
              "          date   data  pred_mean  pred__last_yr_mean  pred_last  \\\n",
              "80  1980-01-01  16.20     4.3085               12.96       9.99   \n",
              "81  1980-04-01  14.67     4.3085               12.96       9.99   \n",
              "82  1980-07-02  16.02     4.3085               12.96       9.99   \n",
              "83  1980-10-01  11.61     4.3085               12.96       9.99   \n",
              "\n",
              "    pred_last_season  \n",
              "80             14.04  \n",
              "81             12.96  \n",
              "82             14.85  \n",
              "83              9.99  "
            ],
            "text/html": [
              "\n",
              "  <div id=\"df-c19a4d04-f60a-44f4-9dee-49e16d753703\">\n",
              "    <div class=\"colab-df-container\">\n",
              "      <div>\n",
              "<style scoped>\n",
              "    .dataframe tbody tr th:only-of-type {\n",
              "        vertical-align: middle;\n",
              "    }\n",
              "\n",
              "    .dataframe tbody tr th {\n",
              "        vertical-align: top;\n",
              "    }\n",
              "\n",
              "    .dataframe thead th {\n",
              "        text-align: right;\n",
              "    }\n",
              "</style>\n",
              "<table border=\"1\" class=\"dataframe\">\n",
              "  <thead>\n",
              "    <tr style=\"text-align: right;\">\n",
              "      <th></th>\n",
              "      <th>date</th>\n",
              "      <th>data</th>\n",
              "      <th>pred_mean</th>\n",
              "      <th>pred__last_yr_mean</th>\n",
              "      <th>pred_last</th>\n",
              "      <th>pred_last_season</th>\n",
              "    </tr>\n",
              "  </thead>\n",
              "  <tbody>\n",
              "    <tr>\n",
              "      <th>80</th>\n",
              "      <td>1980-01-01</td>\n",
              "      <td>16.20</td>\n",
              "      <td>4.3085</td>\n",
              "      <td>12.96</td>\n",
              "      <td>9.99</td>\n",
              "      <td>14.04</td>\n",
              "    </tr>\n",
              "    <tr>\n",
              "      <th>81</th>\n",
              "      <td>1980-04-01</td>\n",
              "      <td>14.67</td>\n",
              "      <td>4.3085</td>\n",
              "      <td>12.96</td>\n",
              "      <td>9.99</td>\n",
              "      <td>12.96</td>\n",
              "    </tr>\n",
              "    <tr>\n",
              "      <th>82</th>\n",
              "      <td>1980-07-02</td>\n",
              "      <td>16.02</td>\n",
              "      <td>4.3085</td>\n",
              "      <td>12.96</td>\n",
              "      <td>9.99</td>\n",
              "      <td>14.85</td>\n",
              "    </tr>\n",
              "    <tr>\n",
              "      <th>83</th>\n",
              "      <td>1980-10-01</td>\n",
              "      <td>11.61</td>\n",
              "      <td>4.3085</td>\n",
              "      <td>12.96</td>\n",
              "      <td>9.99</td>\n",
              "      <td>9.99</td>\n",
              "    </tr>\n",
              "  </tbody>\n",
              "</table>\n",
              "</div>\n",
              "      <button class=\"colab-df-convert\" onclick=\"convertToInteractive('df-c19a4d04-f60a-44f4-9dee-49e16d753703')\"\n",
              "              title=\"Convert this dataframe to an interactive table.\"\n",
              "              style=\"display:none;\">\n",
              "        \n",
              "  <svg xmlns=\"http://www.w3.org/2000/svg\" height=\"24px\"viewBox=\"0 0 24 24\"\n",
              "       width=\"24px\">\n",
              "    <path d=\"M0 0h24v24H0V0z\" fill=\"none\"/>\n",
              "    <path d=\"M18.56 5.44l.94 2.06.94-2.06 2.06-.94-2.06-.94-.94-2.06-.94 2.06-2.06.94zm-11 1L8.5 8.5l.94-2.06 2.06-.94-2.06-.94L8.5 2.5l-.94 2.06-2.06.94zm10 10l.94 2.06.94-2.06 2.06-.94-2.06-.94-.94-2.06-.94 2.06-2.06.94z\"/><path d=\"M17.41 7.96l-1.37-1.37c-.4-.4-.92-.59-1.43-.59-.52 0-1.04.2-1.43.59L10.3 9.45l-7.72 7.72c-.78.78-.78 2.05 0 2.83L4 21.41c.39.39.9.59 1.41.59.51 0 1.02-.2 1.41-.59l7.78-7.78 2.81-2.81c.8-.78.8-2.07 0-2.86zM5.41 20L4 18.59l7.72-7.72 1.47 1.35L5.41 20z\"/>\n",
              "  </svg>\n",
              "      </button>\n",
              "      \n",
              "  <style>\n",
              "    .colab-df-container {\n",
              "      display:flex;\n",
              "      flex-wrap:wrap;\n",
              "      gap: 12px;\n",
              "    }\n",
              "\n",
              "    .colab-df-convert {\n",
              "      background-color: #E8F0FE;\n",
              "      border: none;\n",
              "      border-radius: 50%;\n",
              "      cursor: pointer;\n",
              "      display: none;\n",
              "      fill: #1967D2;\n",
              "      height: 32px;\n",
              "      padding: 0 0 0 0;\n",
              "      width: 32px;\n",
              "    }\n",
              "\n",
              "    .colab-df-convert:hover {\n",
              "      background-color: #E2EBFA;\n",
              "      box-shadow: 0px 1px 2px rgba(60, 64, 67, 0.3), 0px 1px 3px 1px rgba(60, 64, 67, 0.15);\n",
              "      fill: #174EA6;\n",
              "    }\n",
              "\n",
              "    [theme=dark] .colab-df-convert {\n",
              "      background-color: #3B4455;\n",
              "      fill: #D2E3FC;\n",
              "    }\n",
              "\n",
              "    [theme=dark] .colab-df-convert:hover {\n",
              "      background-color: #434B5C;\n",
              "      box-shadow: 0px 1px 3px 1px rgba(0, 0, 0, 0.15);\n",
              "      filter: drop-shadow(0px 1px 2px rgba(0, 0, 0, 0.3));\n",
              "      fill: #FFFFFF;\n",
              "    }\n",
              "  </style>\n",
              "\n",
              "      <script>\n",
              "        const buttonEl =\n",
              "          document.querySelector('#df-c19a4d04-f60a-44f4-9dee-49e16d753703 button.colab-df-convert');\n",
              "        buttonEl.style.display =\n",
              "          google.colab.kernel.accessAllowed ? 'block' : 'none';\n",
              "\n",
              "        async function convertToInteractive(key) {\n",
              "          const element = document.querySelector('#df-c19a4d04-f60a-44f4-9dee-49e16d753703');\n",
              "          const dataTable =\n",
              "            await google.colab.kernel.invokeFunction('convertToInteractive',\n",
              "                                                     [key], {});\n",
              "          if (!dataTable) return;\n",
              "\n",
              "          const docLinkHtml = 'Like what you see? Visit the ' +\n",
              "            '<a target=\"_blank\" href=https://colab.research.google.com/notebooks/data_table.ipynb>data table notebook</a>'\n",
              "            + ' to learn more about interactive tables.';\n",
              "          element.innerHTML = '';\n",
              "          dataTable['output_type'] = 'display_data';\n",
              "          await google.colab.output.renderOutput(dataTable, element);\n",
              "          const docLink = document.createElement('div');\n",
              "          docLink.innerHTML = docLinkHtml;\n",
              "          element.appendChild(docLink);\n",
              "        }\n",
              "      </script>\n",
              "    </div>\n",
              "  </div>\n",
              "  "
            ]
          },
          "metadata": {},
          "execution_count": 28
        }
      ],
      "source": [
        "test.loc[:, 'pred_last_season'] = train['data'][-4:].values\n",
        "\n",
        "test"
      ]
    },
    {
      "cell_type": "code",
      "execution_count": 29,
      "id": "ecological-gibraltar",
      "metadata": {
        "id": "ecological-gibraltar",
        "outputId": "af344d72-6172-48b1-c25d-e90521bdd0e7",
        "colab": {
          "base_uri": "https://localhost:8080/"
        }
      },
      "outputs": [
        {
          "output_type": "execute_result",
          "data": {
            "text/plain": [
              "11.561658552433654"
            ]
          },
          "metadata": {},
          "execution_count": 29
        }
      ],
      "source": [
        "mape_naive_seasonal = mape(test['data'], test['pred_last_season'])\n",
        "mape_naive_seasonal"
      ]
    },
    {
      "cell_type": "code",
      "execution_count": 30,
      "id": "joint-replication",
      "metadata": {
        "id": "joint-replication",
        "outputId": "e219100b-04b0-42dc-c198-16ccb2f7dcb8",
        "colab": {
          "base_uri": "https://localhost:8080/",
          "height": 297
        }
      },
      "outputs": [
        {
          "output_type": "display_data",
          "data": {
            "text/plain": [
              "<Figure size 432x288 with 1 Axes>"
            ],
            "image/png": "[encoded data removed]"
          },
          "metadata": {
            "needs_background": "light"
          }
        }
      ],
      "source": [
        "fig, ax = plt.subplots()\n",
        "\n",
        "ax.plot(train['date'], train['data'], 'g-.', label='Train')\n",
        "ax.plot(test['date'], test['data'], 'b-', label='Test')\n",
        "ax.plot(test['date'], test['pred_last_season'], 'r--', label='Predicted')\n",
        "ax.set_xlabel('Date')\n",
        "ax.set_ylabel('Earnings per share (USD)')\n",
        "ax.axvspan(80, 83, color='#808080', alpha=0.2)\n",
        "ax.legend(loc=2)\n",
        "\n",
        "plt.xticks(np.arange(0, 85, 8), [1960, 1962, 1964, 1966, 1968, 1970, 1972, 1974, 1976, 1978, 1980])\n",
        "\n",
        "fig.autofmt_xdate()\n",
        "plt.tight_layout()\n",
        "\n",
        "#plt.savefig('figures/CH02_F09_peixeiro.png', dpi=300)"
      ]
    },
    {
      "cell_type": "code",
      "execution_count": 31,
      "id": "silent-bradford",
      "metadata": {
        "id": "silent-bradford",
        "outputId": "db6a6774-072b-4be3-b75d-495f67c9bd62",
        "colab": {
          "base_uri": "https://localhost:8080/",
          "height": 297
        }
      },
      "outputs": [
        {
          "output_type": "display_data",
          "data": {
            "text/plain": [
              "<Figure size 432x288 with 1 Axes>"
            ],
            "image/png": "[encoded data removed]"
          },
          "metadata": {
            "needs_background": "light"
          }
        }
      ],
      "source": [
        "fig, ax = plt.subplots()\n",
        "\n",
        "x = ['hist_mean', 'last_year_mean', 'last', 'naive_seasonal']\n",
        "y = [70.00, 15.60, 30.46, 11.56]\n",
        "\n",
        "ax.bar(x, y, width=0.4)\n",
        "ax.set_xlabel('Baselines')\n",
        "ax.set_ylabel('MAPE (%)')\n",
        "ax.set_ylim(0, 75)\n",
        "\n",
        "for index, value in enumerate(y):\n",
        "    plt.text(x=index, y=value + 1, s=str(value), ha='center')\n",
        "\n",
        "plt.tight_layout()\n",
        "\n",
        "#plt.savefig('figures/CH02_F10_peixeiro.png', dpi=300)"
      ]
    },
    {
      "cell_type": "code",
      "execution_count": null,
      "id": "prerequisite-million",
      "metadata": {
        "id": "prerequisite-million"
      },
      "outputs": [],
      "source": []
    }
  ],
  "metadata": {
    "kernelspec": {
      "display_name": "Python 3 (ipykernel)",
      "language": "python",
      "name": "python3"
    },
    "language_info": {
      "codemirror_mode": {
        "name": "ipython",
        "version": 3
      },
      "file_extension": ".py",
      "mimetype": "text/x-python",
      "name": "python",
      "nbconvert_exporter": "python",
      "pygments_lexer": "ipython3",
      "version": "3.7.4"
    },
    "colab": {
      "provenance": [],
      "collapsed_sections": [
        "expressed-gallery"
      ],
      "include_colab_link": true
    }
  },
  "nbformat": 4,
  "nbformat_minor": 5
}