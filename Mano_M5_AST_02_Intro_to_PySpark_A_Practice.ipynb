{
  "nbformat": 4,
  "nbformat_minor": 0,
  "metadata": {
    "kernelspec": {
      "display_name": "Python 3",
      "language": "python",
      "name": "python3"
    },
    "language_info": {
      "codemirror_mode": {
        "name": "ipython",
        "version": 3
      },
      "file_extension": ".py",
      "mimetype": "text/x-python",
      "name": "python",
      "nbconvert_exporter": "python",
      "pygments_lexer": "ipython3",
      "version": "3.8.5"
    },
    "colab": {
      "provenance": [],
      "collapsed_sections": [
        "qfm30-_ghbz1",
        "fe2TqI_7hbz3",
        "qI55eNtchb0A"
      ],
      "include_colab_link": true
    }
  },
  "cells": [
    {
      "cell_type": "markdown",
      "metadata": {
        "id": "view-in-github",
        "colab_type": "text"
      },
      "source": [
        "<a href=\"https://colab.research.google.com/github/maverick98/CDS/blob/main/Mano_M5_AST_02_Intro_to_PySpark_A_Practice.ipynb\" target=\"_parent\"><img src=\"https://colab.research.google.com/assets/colab-badge.svg\" alt=\"Open In Colab\"/></a>"
      ]
    },
    {
      "cell_type": "markdown",
      "metadata": {
        "id": "Nr6L0U0ahbzr"
      },
      "source": [
        "# Advanced Certification Program in Computational Data Science\n",
        "## A program by IISc and TalentSprint\n",
        "### Assignment 2: Intro to PySpark"
      ]
    },
    {
      "cell_type": "markdown",
      "metadata": {
        "id": "hJ-wAYVIhbzu"
      },
      "source": [
        "## Learning Objectives"
      ]
    },
    {
      "cell_type": "markdown",
      "metadata": {
        "id": "vnSM9v-nhbzv"
      },
      "source": [
        "At the end of the experiment, you will be able to\n",
        "\n",
        "* interact with Spark using python\n",
        "* understand Spark dataframes\n",
        "* implement linear regression using PySpark"
      ]
    },
    {
      "cell_type": "markdown",
      "metadata": {
        "id": "O3T1Tj2fhbzw"
      },
      "source": [
        "### Dataset"
      ]
    },
    {
      "cell_type": "markdown",
      "metadata": {
        "id": "m8LVD5gchbzw"
      },
      "source": [
        "The dataset chosen for this assignment is [Ecommerce customers](https://www.kaggle.com/srolka/ecommerce-customers). The dataset is made up of 500 records and 8 columns. It has customer information, such as e-mail, address, and their color avatar. Then it also has numerical value columns.\n",
        "\n",
        "* Avg Session Length: Average session of in-store style advice sessions\n",
        "* Time on App: Average time spent on App in minutes\n",
        "* Time on Website: Average time spent on Website in minutes\n",
        "* Length of Membership: How many years the customer has been a member.\n",
        "* Yearly Amount Spent\n",
        "\n",
        "Here, we will be using the first four features to perform linear regression using spark and predict Yearly Amount Spent by each customer."
      ]
    },
    {
      "cell_type": "markdown",
      "metadata": {
        "id": "jS6X9xQQhbzx"
      },
      "source": [
        "### Information"
      ]
    },
    {
      "cell_type": "markdown",
      "metadata": {
        "id": "FLUYa2jkhbzx"
      },
      "source": [
        "**Why do we need Spark?**\n",
        "\n",
        "Spark is one of the latest technologies being used to quickly and easily handle Big Data. Spark is an open-source distributed computing framework that promises a clean and pleasurable experience similar to that of Pandas, while scaling to large data sets via a distributed architecture under the hood. \n",
        "\n",
        "Apache Spark is a powerful cluster computing engine, therefore it is designed for fast computation of big data. Spark runs on Memory (RAM), and that makes the processing much faster than on Disk. It includes \"MLlib\" library to perform Machine Learning tasks using the Spark framework."
      ]
    },
    {
      "cell_type": "markdown",
      "metadata": {
        "id": "yP0oxBKKhbzx"
      },
      "source": [
        "### Introduction"
      ]
    },
    {
      "cell_type": "markdown",
      "metadata": {
        "id": "b-MIetu-hbzy"
      },
      "source": [
        "Apache Spark is known as a fast, easy to use and general engine for big data processing, with built-in modules for streaming, SQL, machine learning and graph processing. It’s well-known for its speed, ease of use, generality and the ability to run virtually everywhere. And even though Spark is one of the most asked tools for data engineers, also data scientists can benefit from Spark when doing exploratory data analysis, feature extraction, supervised learning and model evaluation.\n",
        "\n",
        "Spark is a platform for cluster computing that lets you spread data and computations over clusters with multiple nodes (think of each node as a separate computer). Splitting up your data makes it easier to work with very large datasets because each node only works with a small amount of data.\n",
        "\n",
        "As each node works on its own subset of the total data, it also carries out a part of the total calculations required, so that both data processing and computation are performed in parallel over the nodes in the cluster. It is a fact that parallel computation can make certain types of programming tasks much faster."
      ]
    },
    {
      "cell_type": "markdown",
      "metadata": {
        "id": "BNLA8HiKxQhc"
      },
      "source": [
        "### Setup Steps:"
      ]
    },
    {
      "cell_type": "code",
      "metadata": {
        "id": "2YzfoPvJDiTX"
      },
      "source": [
        "#@title Please enter your registration id to start: { run: \"auto\", display-mode: \"form\" }\n",
        "Id = \"2202500\" #@param {type:\"string\"}"
      ],
      "execution_count": null,
      "outputs": []
    },
    {
      "cell_type": "code",
      "metadata": {
        "id": "AjoZJWGErxGf"
      },
      "source": [
        "#@title Please enter your password (your registered phone number) to continue: { run: \"auto\", display-mode: \"form\" }\n",
        "password = \"9740319263\" #@param {type:\"string\"}"
      ],
      "execution_count": null,
      "outputs": []
    },
    {
      "cell_type": "code",
      "metadata": {
        "id": "WBPPuGmBlDIN",
        "cellView": "form",
        "colab": {
          "base_uri": "https://localhost:8080/"
        },
        "outputId": "2d5bf2ac-0ed8-48fb-8f5b-7536c0e945c7"
      },
      "source": [
        "#@title Run this cell to complete the setup for this Notebook\n",
        "from IPython import get_ipython\n",
        "\n",
        "ipython = get_ipython()\n",
        "  \n",
        "notebook= \"M5_AST_02_Intro_to_PySpark_A\" #name of the notebook\n",
        "\n",
        "def setup():\n",
        "#  ipython.magic(\"sx pip3 install torch\")\n",
        "    ipython.magic(\"sx wget https://cdn.iisc.talentsprint.com/CDS/Datasets/ecommerce_customers_.csv\")  \n",
        "    from IPython.display import HTML, display\n",
        "    display(HTML('<script src=\"https://dashboard.talentsprint.com/aiml/record_ip.html?traineeId={0}&recordId={1}\"></script>'.format(getId(),submission_id)))\n",
        "    print(\"Setup completed successfully\")\n",
        "    return\n",
        "\n",
        "def submit_notebook():\n",
        "    ipython.magic(\"notebook -e \"+ notebook + \".ipynb\")\n",
        "    \n",
        "    import requests, json, base64, datetime\n",
        "\n",
        "    url = \"https://dashboard.talentsprint.com/xp/app/save_notebook_attempts\"\n",
        "    if not submission_id:\n",
        "      data = {\"id\" : getId(), \"notebook\" : notebook, \"mobile\" : getPassword()}\n",
        "      r = requests.post(url, data = data)\n",
        "      r = json.loads(r.text)\n",
        "\n",
        "      if r[\"status\"] == \"Success\":\n",
        "          return r[\"record_id\"]\n",
        "      elif \"err\" in r:        \n",
        "        print(r[\"err\"])\n",
        "        return None        \n",
        "      else:\n",
        "        print (\"Something is wrong, the notebook will not be submitted for grading\")\n",
        "        return None\n",
        "    \n",
        "    elif getAnswer() and getComplexity() and getAdditional() and getConcepts() and getComments() and getMentorSupport():\n",
        "      f = open(notebook + \".ipynb\", \"rb\")\n",
        "      file_hash = base64.b64encode(f.read())\n",
        "\n",
        "      data = {\"complexity\" : Complexity, \"additional\" :Additional, \n",
        "              \"concepts\" : Concepts, \"record_id\" : submission_id, \n",
        "              \"answer\" : Answer, \"id\" : Id, \"file_hash\" : file_hash,\n",
        "              \"notebook\" : notebook,\n",
        "              \"feedback_experiments_input\" : Comments,\n",
        "              \"feedback_mentor_support\": Mentor_support}\n",
        "      r = requests.post(url, data = data)\n",
        "      r = json.loads(r.text)\n",
        "      if \"err\" in r:        \n",
        "        print(r[\"err\"])\n",
        "        return None   \n",
        "      else:\n",
        "        print(\"Your submission is successful.\")\n",
        "        print(\"Ref Id:\", submission_id)\n",
        "        print(\"Date of submission: \", r[\"date\"])\n",
        "        print(\"Time of submission: \", r[\"time\"])\n",
        "        print(\"View your submissions: https://cds.iisc.talentsprint.com/notebook_submissions\")\n",
        "        #print(\"For any queries/discrepancies, please connect with mentors through the chat icon in LMS dashboard.\")\n",
        "        return submission_id\n",
        "    else: submission_id\n",
        "    \n",
        "\n",
        "def getAdditional():\n",
        "  try:\n",
        "    if not Additional: \n",
        "      raise NameError\n",
        "    else:\n",
        "      return Additional  \n",
        "  except NameError:\n",
        "    print (\"Please answer Additional Question\")\n",
        "    return None\n",
        "\n",
        "def getComplexity():\n",
        "  try:\n",
        "    if not Complexity:\n",
        "      raise NameError\n",
        "    else:\n",
        "      return Complexity\n",
        "  except NameError:\n",
        "    print (\"Please answer Complexity Question\")\n",
        "    return None\n",
        "  \n",
        "def getConcepts():\n",
        "  try:\n",
        "    if not Concepts:\n",
        "      raise NameError\n",
        "    else:\n",
        "      return Concepts\n",
        "  except NameError:\n",
        "    print (\"Please answer Concepts Question\")\n",
        "    return None\n",
        "  \n",
        "  \n",
        "# def getWalkthrough():\n",
        "#   try:\n",
        "#     if not Walkthrough:\n",
        "#       raise NameError\n",
        "#     else:\n",
        "#       return Walkthrough\n",
        "#   except NameError:\n",
        "#     print (\"Please answer Walkthrough Question\")\n",
        "#     return None\n",
        "  \n",
        "def getComments():\n",
        "  try:\n",
        "    if not Comments:\n",
        "      raise NameError\n",
        "    else:\n",
        "      return Comments\n",
        "  except NameError:\n",
        "    print (\"Please answer Comments Question\")\n",
        "    return None\n",
        "  \n",
        "\n",
        "def getMentorSupport():\n",
        "  try:\n",
        "    if not Mentor_support:\n",
        "      raise NameError\n",
        "    else:\n",
        "      return Mentor_support\n",
        "  except NameError:\n",
        "    print (\"Please answer Mentor support Question\")\n",
        "    return None\n",
        "\n",
        "def getAnswer():\n",
        "  try:\n",
        "    if not Answer:\n",
        "      raise NameError \n",
        "    else: \n",
        "      return Answer\n",
        "  except NameError:\n",
        "    print (\"Please answer Question\")\n",
        "    return None\n",
        "  \n",
        "\n",
        "def getId():\n",
        "  try: \n",
        "    return Id if Id else None\n",
        "  except NameError:\n",
        "    return None\n",
        "\n",
        "def getPassword():\n",
        "  try:\n",
        "    return password if password else None\n",
        "  except NameError:\n",
        "    return None\n",
        "\n",
        "submission_id = None\n",
        "### Setup \n",
        "if getPassword() and getId():\n",
        "  submission_id = submit_notebook()\n",
        "  if submission_id:\n",
        "    setup() \n",
        "else:\n",
        "  print (\"Please complete Id and Password cells before running setup\")\n",
        "\n"
      ],
      "execution_count": null,
      "outputs": [
        {
          "output_type": "stream",
          "name": "stdout",
          "text": [
            "Please complete Id and Password cells before running setup\n"
          ]
        }
      ]
    },
    {
      "cell_type": "markdown",
      "metadata": {
        "id": "dxCv5teXYANs"
      },
      "source": [
        "### Importing required packages"
      ]
    },
    {
      "cell_type": "code",
      "metadata": {
        "id": "ZB8vMNkUYANt"
      },
      "source": [
        "import matplotlib.pyplot as plt\n",
        "import seaborn as sns"
      ],
      "execution_count": 1,
      "outputs": []
    },
    {
      "cell_type": "markdown",
      "metadata": {
        "id": "4dwQCqpwhbzy"
      },
      "source": [
        "### PySpark"
      ]
    },
    {
      "cell_type": "markdown",
      "metadata": {
        "id": "GYVoE0nThbzz"
      },
      "source": [
        "PySpark is an interface for Apache Spark in Python. It not only allows you to write Spark applications using Python APIs, but also provides the PySpark shell for interactively analyzing your data in a distributed environment. PySpark supports most of Spark’s features such as Spark SQL, DataFrame, Streaming, MLlib (Machine Learning) and Spark Core.\n",
        "\n",
        "<figure>\n",
        "<img src='https://cdn.iisc.talentsprint.com/CDS/Images/pyspark_components.png' width = 700 px/>\n",
        "</figure>\n",
        "\n",
        "**Spark SQL and DataFrame**\n",
        "\n",
        "Spark SQL is a Spark module for structured data processing. It provides a programming abstraction called DataFrame and can also act as distributed SQL query engine.\n",
        "\n",
        "**Streaming**\n",
        "\n",
        "Running on top of Spark, the streaming feature in Apache Spark enables powerful interactive and analytical applications across both streaming and historical data, while inheriting Spark’s ease of use and fault tolerance characteristics.\n",
        "\n",
        "**MLlib**\n",
        "\n",
        "Built on top of Spark, MLlib is a scalable machine learning library that provides a uniform set of high-level APIs that help users create and tune practical machine learning pipelines.\n",
        "\n",
        "**Spark Core**\n",
        "\n",
        "Spark Core is the underlying general execution engine for the Spark platform that all other functionality is built on top of. It provides an RDD (Resilient Distributed Dataset) and in-memory computing capabilities."
      ]
    },
    {
      "cell_type": "markdown",
      "metadata": {
        "id": "tuVyxDSAhbzz"
      },
      "source": [
        "#### Install PySpark"
      ]
    },
    {
      "cell_type": "code",
      "metadata": {
        "id": "dpbyJFSZhbzz",
        "colab": {
          "base_uri": "https://localhost:8080/"
        },
        "outputId": "7cd2e2fe-a629-4e29-c089-225fd72c1cfc"
      },
      "source": [
        "!pip install pyspark"
      ],
      "execution_count": 2,
      "outputs": [
        {
          "output_type": "stream",
          "name": "stdout",
          "text": [
            "Looking in indexes: https://pypi.org/simple, https://us-python.pkg.dev/colab-wheels/public/simple/\n",
            "Collecting pyspark\n",
            "  Downloading pyspark-3.3.1.tar.gz (281.4 MB)\n",
            "\u001b[2K     \u001b[90m━━━━━━━━━━━━━━━━━━━━━━━━━━━━━━━━━━━━━━━\u001b[0m \u001b[32m281.4/281.4 MB\u001b[0m \u001b[31m3.5 MB/s\u001b[0m eta \u001b[36m0:00:00\u001b[0m\n",
            "\u001b[?25h  Preparing metadata (setup.py) ... \u001b[?25l\u001b[?25hdone\n",
            "Collecting py4j==0.10.9.5\n",
            "  Downloading py4j-0.10.9.5-py2.py3-none-any.whl (199 kB)\n",
            "\u001b[2K     \u001b[90m━━━━━━━━━━━━━━━━━━━━━━━━━━━━━━━━━━━━━━\u001b[0m \u001b[32m199.7/199.7 KB\u001b[0m \u001b[31m20.0 MB/s\u001b[0m eta \u001b[36m0:00:00\u001b[0m\n",
            "\u001b[?25hBuilding wheels for collected packages: pyspark\n",
            "  Building wheel for pyspark (setup.py) ... \u001b[?25l\u001b[?25hdone\n",
            "  Created wheel for pyspark: filename=pyspark-3.3.1-py2.py3-none-any.whl size=281845512 sha256=4aeaa9f3cbd7789ee8e2d6ad97299660d5032b4195dcdd0a1271b5ab32ef1c80\n",
            "  Stored in directory: /root/.cache/pip/wheels/43/dc/11/ec201cd671da62fa9c5cc77078235e40722170ceba231d7598\n",
            "Successfully built pyspark\n",
            "Installing collected packages: py4j, pyspark\n",
            "Successfully installed py4j-0.10.9.5 pyspark-3.3.1\n"
          ]
        }
      ]
    },
    {
      "cell_type": "markdown",
      "metadata": {
        "id": "1-JqQmojhbz0"
      },
      "source": [
        "#### Start a Spark Session"
      ]
    },
    {
      "cell_type": "markdown",
      "metadata": {
        "id": "Vju8S9ZWhbz0"
      },
      "source": [
        "Spark session is a combined entry point of a Spark application, which came into implementation from Spark 2.0. It provides a way to interact with various spark’s functionality with a lesser number of constructs. Instead of having spark context, hive context, SQL context, now everything is encapsulated in a Spark session."
      ]
    },
    {
      "cell_type": "code",
      "metadata": {
        "id": "bdlUo9HFhbz0",
        "colab": {
          "base_uri": "https://localhost:8080/",
          "height": 220
        },
        "outputId": "d5d96946-d5f4-4fa1-9e3c-1d321278f0ec"
      },
      "source": [
        "# Start spark session\n",
        "from pyspark.sql import SparkSession\n",
        "spark = SparkSession.builder.appName('LinearRegression').getOrCreate()\n",
        "spark"
      ],
      "execution_count": 3,
      "outputs": [
        {
          "output_type": "execute_result",
          "data": {
            "text/plain": [
              "<pyspark.sql.session.SparkSession at 0x7f32c10c4d90>"
            ],
            "text/html": [
              "\n",
              "            <div>\n",
              "                <p><b>SparkSession - in-memory</b></p>\n",
              "                \n",
              "        <div>\n",
              "            <p><b>SparkContext</b></p>\n",
              "\n",
              "            <p><a href=\"http://5468c7e2f6dd:4040\">Spark UI</a></p>\n",
              "\n",
              "            <dl>\n",
              "              <dt>Version</dt>\n",
              "                <dd><code>v3.3.1</code></dd>\n",
              "              <dt>Master</dt>\n",
              "                <dd><code>local[*]</code></dd>\n",
              "              <dt>AppName</dt>\n",
              "                <dd><code>LinearRegression</code></dd>\n",
              "            </dl>\n",
              "        </div>\n",
              "        \n",
              "            </div>\n",
              "        "
            ]
          },
          "metadata": {},
          "execution_count": 3
        }
      ]
    },
    {
      "cell_type": "markdown",
      "metadata": {
        "id": "ryDcIBTYhbz1"
      },
      "source": [
        "### Data Processing using Pyspark"
      ]
    },
    {
      "cell_type": "markdown",
      "source": [
        "![image.png](data:image/png;base64,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)"
      ],
      "metadata": {
        "id": "9QyPlocbfPYk"
      }
    },
    {
      "cell_type": "code",
      "source": [
        "type(spark.sparkContext)\n",
        "sc=spark.sparkContext\n",
        "lines = sc.parallelize([\"pandas\", \"i like pandas\"])\n",
        "lines"
      ],
      "metadata": {
        "colab": {
          "base_uri": "https://localhost:8080/"
        },
        "id": "2kcyY9NvcSXb",
        "outputId": "0fb75537-0851-4e5a-8948-ba26de65d8ed"
      },
      "execution_count": 4,
      "outputs": [
        {
          "output_type": "execute_result",
          "data": {
            "text/plain": [
              "ParallelCollectionRDD[0] at readRDDFromFile at PythonRDD.scala:274"
            ]
          },
          "metadata": {},
          "execution_count": 4
        }
      ]
    },
    {
      "cell_type": "code",
      "source": [
        "inputRDD = sc.parallelize({1,2,3,4})\n",
        "mappedRDD=inputRDD.map(lambda x:x*x)\n",
        "filteredRDD=inputRDD.filter(lambda x: x%2==0)\n",
        "print(mappedRDD.collect())\n",
        "print(filteredRDD.collect())"
      ],
      "metadata": {
        "colab": {
          "base_uri": "https://localhost:8080/"
        },
        "id": "F9B5JdfIdntE",
        "outputId": "a3d96338-e79d-4ed5-ceeb-61faccf14fad"
      },
      "execution_count": 5,
      "outputs": [
        {
          "output_type": "stream",
          "name": "stdout",
          "text": [
            "[1, 4, 9, 16]\n",
            "[2, 4]\n"
          ]
        }
      ]
    },
    {
      "cell_type": "code",
      "source": [
        "lines = sc.parallelize([\"hello world\", \"hi\"])\n",
        "flat_words = lines.flatMap(lambda line: line.split(\" \"))\n",
        "print(flat_words.collect())\n",
        "\n",
        "words = lines.map(lambda line: line.split(\" \"))\n",
        "print(words.collect())\n"
      ],
      "metadata": {
        "colab": {
          "base_uri": "https://localhost:8080/"
        },
        "id": "f9Kr6tz_ejyo",
        "outputId": "66fc3a58-6150-4a82-9bcb-91471e585c9f"
      },
      "execution_count": 6,
      "outputs": [
        {
          "output_type": "stream",
          "name": "stdout",
          "text": [
            "['hello', 'world', 'hi']\n",
            "[['hello', 'world'], ['hi']]\n"
          ]
        }
      ]
    },
    {
      "cell_type": "code",
      "source": [
        "rdd1=sc.parallelize(['coffee','coffee','panda','monkey','tea'])\n",
        "rdd2=sc.parallelize(['coffee','monkey','kitty'])\n",
        "print(rdd1.distinct().collect()) #requires shuffle\n",
        "print(rdd1.union(rdd2).collect()) #shuffle not required\n",
        "print(rdd1.intersection(rdd2).collect()) #requires shuffle\n",
        "print(rdd1.subtract(rdd2).collect()) #requires shuffle"
      ],
      "metadata": {
        "colab": {
          "base_uri": "https://localhost:8080/"
        },
        "id": "xcbqCbA8fOQd",
        "outputId": "a5e025e5-61d2-4c56-8b81-6617cb349dfc"
      },
      "execution_count": 7,
      "outputs": [
        {
          "output_type": "stream",
          "name": "stdout",
          "text": [
            "['panda', 'coffee', 'monkey', 'tea']\n",
            "['coffee', 'coffee', 'panda', 'monkey', 'tea', 'coffee', 'monkey', 'kitty']\n",
            "['coffee', 'monkey']\n",
            "['panda', 'tea']\n"
          ]
        }
      ]
    },
    {
      "cell_type": "code",
      "source": [
        "NO_OF_PARTITIONS=100\n",
        "rdd=sc.parallelize([2,3,4],NO_OF_PARTITIONS) \n",
        "print(rdd.reduce(lambda x,y:x+y))#reduce is an action\n",
        "PARTITION_INIT_VALUE=1\n",
        "print(rdd.fold(PARTITION_INIT_VALUE,lambda x,y:x+y))#fold is an action\n",
        "# Thus number of partitions is 100\n",
        "# For each paritition it starts with an initial value of 1.\n",
        "# Assume 2,3,4 are in same  parition.Without loss of generality we can take it \n",
        "# to be partition#1\n",
        "# its sum would be 1+[2+3+4]=10\n",
        "# For remaining 99 partitions the values 99*1=99\n",
        "# Common sense prevailing it has to start with initial value of 1\n",
        "# Thus final answers would be 1+ 10+99=110\n",
        "# \n",
        "#\n",
        "#\n"
      ],
      "metadata": {
        "colab": {
          "base_uri": "https://localhost:8080/"
        },
        "id": "MV5nYC8nj6Rt",
        "outputId": "8bf89aa0-ba4c-456b-9ece-898180535be5"
      },
      "execution_count": 11,
      "outputs": [
        {
          "output_type": "stream",
          "name": "stdout",
          "text": [
            "9\n",
            "110\n"
          ]
        }
      ]
    },
    {
      "cell_type": "code",
      "source": [
        "NO_OF_PARTITIONS=100\n",
        "rdd=sc.parallelize([2,3,4],NO_OF_PARTITIONS) \n",
        "print(rdd.reduce(lambda x,y:x+y))#reduce is an action\n",
        "PARTITION_INIT_VALUE=7\n",
        "print(rdd.fold(PARTITION_INIT_VALUE,lambda x,y:x+y))#fold is an action\n",
        "# Thus number of partitions is 100\n",
        "# For each paritition it starts with an initial value of 7.\n",
        "# Assume 2,3,4 are in same  parition.Without loss of generality we can take it \n",
        "# to be partition#1\n",
        "# its sum would be 7+[2+3+4]=16\n",
        "# For remaining 99 partitions the values 99*7=693\n",
        "# Common sense prevailing it has to start with initial value of 1\n",
        "# Thus final answers would be 7+ 16+693=716\n",
        "# \n",
        "#\n",
        "#"
      ],
      "metadata": {
        "colab": {
          "base_uri": "https://localhost:8080/"
        },
        "id": "GyDZPbbTSJjw",
        "outputId": "89470c59-d36a-4e06-8d5d-e1f8db951f3f"
      },
      "execution_count": 12,
      "outputs": [
        {
          "output_type": "stream",
          "name": "stdout",
          "text": [
            "9\n",
            "716\n"
          ]
        }
      ]
    },
    {
      "cell_type": "markdown",
      "source": [
        "The way fold works is this... "
      ],
      "metadata": {
        "id": "xpKDb_kKRAow"
      }
    },
    {
      "cell_type": "code",
      "source": [
        "nums=sc.parallelize([1,2,3,4,5,6,7,8,9,10])\n",
        "def seqOp(acc,value):\n",
        "    return acc[0] + value, acc[1] + 1\n",
        "def combOp(acc1,acc2):\n",
        "    return (acc1[0] + acc2[0], acc1[1] + acc2[1])\n",
        "\n",
        "\n",
        "sumCount = nums.aggregate( (10, 0), seqOp, combOp)\n",
        "print(sumCount[0])\n",
        "print(sumCount[0] / float(sumCount[1]))"
      ],
      "metadata": {
        "colab": {
          "base_uri": "https://localhost:8080/"
        },
        "id": "cnrQMrY6tapB",
        "outputId": "b54fa3fe-3e7d-41a9-a7e0-1f57a49771fc"
      },
      "execution_count": 9,
      "outputs": [
        {
          "output_type": "stream",
          "name": "stdout",
          "text": [
            "85\n",
            "8.5\n"
          ]
        }
      ]
    },
    {
      "cell_type": "code",
      "source": [
        "nums=sc.parallelize([1,2,3,4,5,6,7,8,9,10])\n",
        "def seqOp(acc,value):\n",
        "    return acc + value\n",
        "def combOp(acc1,acc2):\n",
        "    return acc1+ acc2\n",
        "\n",
        "\n",
        "sumCount = nums.aggregate( 0, seqOp, combOp)\n",
        "print(sumCount)\n",
        "#print(sumCount[0] / float(sumCount[1]))"
      ],
      "metadata": {
        "colab": {
          "base_uri": "https://localhost:8080/"
        },
        "id": "YmEzwM2jv8WL",
        "outputId": "82f37e65-7f01-4bca-aa13-4a976c6627f6"
      },
      "execution_count": 10,
      "outputs": [
        {
          "output_type": "stream",
          "name": "stdout",
          "text": [
            "55\n"
          ]
        }
      ]
    },
    {
      "cell_type": "markdown",
      "source": [
        "![image.png](data:image/png;base64,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)"
      ],
      "metadata": {
        "id": "lrE6X0ew09Tj"
      }
    },
    {
      "cell_type": "code",
      "source": [],
      "metadata": {
        "id": "2azWBfJJ0l8y"
      },
      "execution_count": null,
      "outputs": []
    },
    {
      "cell_type": "markdown",
      "metadata": {
        "id": "qfm30-_ghbz1"
      },
      "source": [
        "#### Loading data into PySpark"
      ]
    },
    {
      "cell_type": "markdown",
      "metadata": {
        "id": "2YyXV9pthbz1"
      },
      "source": [
        "To load the dataset we will use the `read.csv` module.  The `inferSchema` parameter provided will enable Spark to automatically determine the data type for each column. Also, `header` and `sep` parameters are given as the dataset contains header, and values are separated using vertical bar."
      ]
    },
    {
      "cell_type": "code",
      "metadata": {
        "id": "5g1oX-k0hbz2"
      },
      "source": [
        "df = spark.read.csv(\"ecommerce_customers_.csv\", sep = \"|\", header=True, inferSchema = True)           # creating spark data frame"
      ],
      "execution_count": null,
      "outputs": []
    },
    {
      "cell_type": "markdown",
      "metadata": {
        "id": "fe2TqI_7hbz3"
      },
      "source": [
        "#### Data exploration with PySpark"
      ]
    },
    {
      "cell_type": "markdown",
      "metadata": {
        "id": "6MOtesQghbz3"
      },
      "source": [
        "* Display data types of dataframe columns"
      ]
    },
    {
      "cell_type": "code",
      "metadata": {
        "id": "z_xCliuMhbz4",
        "colab": {
          "base_uri": "https://localhost:8080/"
        },
        "outputId": "95d0580b-b035-4d2f-f18c-f6961bf61c1c"
      },
      "source": [
        "# Print the data types \n",
        "# YOUR CODE HERE\n",
        "df.dtypes"
      ],
      "execution_count": null,
      "outputs": [
        {
          "output_type": "execute_result",
          "data": {
            "text/plain": [
              "[('Email', 'string'),\n",
              " ('Address', 'string'),\n",
              " ('Avatar', 'string'),\n",
              " ('Avg Session Length', 'double'),\n",
              " ('Time on App', 'double'),\n",
              " ('Time on Website', 'double'),\n",
              " ('Length of Membership', 'double'),\n",
              " ('Yearly Amount Spent', 'double')]"
            ]
          },
          "metadata": {},
          "execution_count": 8
        }
      ]
    },
    {
      "cell_type": "markdown",
      "metadata": {
        "id": "EfpmyItPhbz4"
      },
      "source": [
        "* Display column details"
      ]
    },
    {
      "cell_type": "code",
      "metadata": {
        "id": "KOnGCTXZhbz4",
        "colab": {
          "base_uri": "https://localhost:8080/"
        },
        "outputId": "50155c05-b0f2-4b82-8567-b93eb84f353e"
      },
      "source": [
        "# Print the Schema of the DataFrame\n",
        "# YOUR CODE HERE\n",
        "print(df.columns)\n",
        "print(df.printSchema())"
      ],
      "execution_count": null,
      "outputs": [
        {
          "output_type": "stream",
          "name": "stdout",
          "text": [
            "['Email', 'Address', 'Avatar', 'Avg Session Length', 'Time on App', 'Time on Website', 'Length of Membership', 'Yearly Amount Spent']\n",
            "root\n",
            " |-- Email: string (nullable = true)\n",
            " |-- Address: string (nullable = true)\n",
            " |-- Avatar: string (nullable = true)\n",
            " |-- Avg Session Length: double (nullable = true)\n",
            " |-- Time on App: double (nullable = true)\n",
            " |-- Time on Website: double (nullable = true)\n",
            " |-- Length of Membership: double (nullable = true)\n",
            " |-- Yearly Amount Spent: double (nullable = true)\n",
            "\n",
            "None\n"
          ]
        }
      ]
    },
    {
      "cell_type": "markdown",
      "metadata": {
        "id": "nRI0Hi6phbz5"
      },
      "source": [
        "* Display rows"
      ]
    },
    {
      "cell_type": "code",
      "metadata": {
        "id": "B4pNnsfwhbz5",
        "colab": {
          "base_uri": "https://localhost:8080/"
        },
        "outputId": "a5283d2a-34d1-4914-8098-13468f7ef139"
      },
      "source": [
        "df.show(5)"
      ],
      "execution_count": null,
      "outputs": [
        {
          "output_type": "stream",
          "name": "stdout",
          "text": [
            "+--------------------+--------------------+----------------+------------------+------------------+------------------+--------------------+-------------------+\n",
            "|               Email|             Address|          Avatar|Avg Session Length|       Time on App|   Time on Website|Length of Membership|Yearly Amount Spent|\n",
            "+--------------------+--------------------+----------------+------------------+------------------+------------------+--------------------+-------------------+\n",
            "|mstephenson@ferna...|835 Frank TunnelW...|          Violet| 34.49726772511229| 12.65565114916675| 39.57766801952616|  4.0826206329529615|  587.9510539684005|\n",
            "|   hduke@hotmail.com|4547 Archer Commo...|       DarkGreen| 31.92627202636016|11.109460728682564|37.268958868297744|    2.66403418213262|  392.2049334443264|\n",
            "|    pallen@yahoo.com|24645 Valerie Uni...|          Bisque|33.000914755642675|11.330278057777512|37.110597442120856|   4.104543202376424| 487.54750486747207|\n",
            "|riverarebecca@gma...|1414 David Throug...|     SaddleBrown| 34.30555662975554|13.717513665142507| 36.72128267790313|   3.120178782748092|  581.8523440352177|\n",
            "|mstephens@davidso...|14023 Rodriguez P...|MediumAquaMarine| 33.33067252364639|12.795188551078114| 37.53665330059473|   4.446308318351434|  599.4060920457634|\n",
            "+--------------------+--------------------+----------------+------------------+------------------+------------------+--------------------+-------------------+\n",
            "only showing top 5 rows\n",
            "\n"
          ]
        }
      ]
    },
    {
      "cell_type": "markdown",
      "metadata": {
        "id": "OicqJUYfhbz5"
      },
      "source": [
        "* Display total number of rows"
      ]
    },
    {
      "cell_type": "code",
      "metadata": {
        "id": "iVMYaotJhbz5",
        "colab": {
          "base_uri": "https://localhost:8080/"
        },
        "outputId": "2111a9f6-cafe-4262-b5cb-20f577a44dd0"
      },
      "source": [
        "# YOUR CODE HERE to count the rows \n",
        "df.count()"
      ],
      "execution_count": null,
      "outputs": [
        {
          "output_type": "execute_result",
          "data": {
            "text/plain": [
              "500"
            ]
          },
          "metadata": {},
          "execution_count": 11
        }
      ]
    },
    {
      "cell_type": "markdown",
      "metadata": {
        "id": "IJLKs8i3hbz6"
      },
      "source": [
        "* Display column labels"
      ]
    },
    {
      "cell_type": "code",
      "metadata": {
        "id": "0CbPm_VUhbz6",
        "colab": {
          "base_uri": "https://localhost:8080/"
        },
        "outputId": "d24bb803-f853-4ce0-9c57-fced1317fb00"
      },
      "source": [
        "# YOUR CODE HERE to display column labels\n",
        "df.columns"
      ],
      "execution_count": null,
      "outputs": [
        {
          "output_type": "execute_result",
          "data": {
            "text/plain": [
              "['Email',\n",
              " 'Address',\n",
              " 'Avatar',\n",
              " 'Avg Session Length',\n",
              " 'Time on App',\n",
              " 'Time on Website',\n",
              " 'Length of Membership',\n",
              " 'Yearly Amount Spent']"
            ]
          },
          "metadata": {},
          "execution_count": 12
        }
      ]
    },
    {
      "cell_type": "markdown",
      "metadata": {
        "id": "Tbp-QZ3fhbz6"
      },
      "source": [
        "* Display specific columns"
      ]
    },
    {
      "cell_type": "code",
      "metadata": {
        "id": "uicyXLDAhbz6",
        "colab": {
          "base_uri": "https://localhost:8080/"
        },
        "outputId": "17af368b-065b-402e-a9b0-fe5392b07b45"
      },
      "source": [
        "columns = [\"Email\",\"Time on App\",\"Time on Website\"]\n",
        "df.select(columns).show(5)"
      ],
      "execution_count": null,
      "outputs": [
        {
          "output_type": "stream",
          "name": "stdout",
          "text": [
            "+--------------------+------------------+------------------+\n",
            "|               Email|       Time on App|   Time on Website|\n",
            "+--------------------+------------------+------------------+\n",
            "|mstephenson@ferna...| 12.65565114916675| 39.57766801952616|\n",
            "|   hduke@hotmail.com|11.109460728682564|37.268958868297744|\n",
            "|    pallen@yahoo.com|11.330278057777512|37.110597442120856|\n",
            "|riverarebecca@gma...|13.717513665142507| 36.72128267790313|\n",
            "|mstephens@davidso...|12.795188551078114| 37.53665330059473|\n",
            "+--------------------+------------------+------------------+\n",
            "only showing top 5 rows\n",
            "\n"
          ]
        }
      ]
    },
    {
      "cell_type": "markdown",
      "metadata": {
        "id": "zyJyBM-Chbz6"
      },
      "source": [
        "* Display the statistics of dataframe"
      ]
    },
    {
      "cell_type": "code",
      "metadata": {
        "id": "qEcVV2Achbz7",
        "colab": {
          "base_uri": "https://localhost:8080/"
        },
        "outputId": "4aefc05b-0a92-4c13-d820-d5e0cdef1c5b"
      },
      "source": [
        "# YOUR CODE HERE\n",
        "df.describe().show()"
      ],
      "execution_count": null,
      "outputs": [
        {
          "output_type": "stream",
          "name": "stdout",
          "text": [
            "+-------+-----------------+--------------------+-----------+------------------+------------------+------------------+--------------------+-------------------+\n",
            "|summary|            Email|             Address|     Avatar|Avg Session Length|       Time on App|   Time on Website|Length of Membership|Yearly Amount Spent|\n",
            "+-------+-----------------+--------------------+-----------+------------------+------------------+------------------+--------------------+-------------------+\n",
            "|  count|              500|                 500|        500|               500|               500|               500|                 500|                500|\n",
            "|   mean|             null|                null|       null| 33.05319351819619|12.052487937166134| 37.06044542094859|   3.533461555915055|  499.3140382585909|\n",
            "| stddev|             null|                null|       null|0.9925631110845354|0.9942156084725424|1.0104889067564033|  0.9992775024112585|   79.3147815497068|\n",
            "|    min|aaron04@yahoo.com|0001 Mack MillNor...|  AliceBlue|29.532428967057943| 8.508152176032603| 33.91384724758464|  0.2699010899842742| 256.67058229005585|\n",
            "|    max|zscott@wright.com|Unit 7502 Box 834...|YellowGreen| 36.13966248879052|15.126994288792467|40.005181638101895|   6.922689335035808|  765.5184619388373|\n",
            "+-------+-----------------+--------------------+-----------+------------------+------------------+------------------+--------------------+-------------------+\n",
            "\n"
          ]
        }
      ]
    },
    {
      "cell_type": "markdown",
      "metadata": {
        "id": "S7ncz4X2hbz7"
      },
      "source": [
        "* Display total distinct values in *Avatar* column"
      ]
    },
    {
      "cell_type": "code",
      "metadata": {
        "id": "u3IUdO7Ohbz7",
        "colab": {
          "base_uri": "https://localhost:8080/"
        },
        "outputId": "0432f9d0-4f6b-4a20-cc00-71013e9f1cdc"
      },
      "source": [
        "# Distinct value count\n",
        "# YOUR CODE HERE\n",
        "df.select('Avatar').distinct().count()"
      ],
      "execution_count": null,
      "outputs": [
        {
          "output_type": "execute_result",
          "data": {
            "text/plain": [
              "138"
            ]
          },
          "metadata": {},
          "execution_count": 15
        }
      ]
    },
    {
      "cell_type": "markdown",
      "metadata": {
        "id": "tDwuxwbfhbz8"
      },
      "source": [
        "* Display count of distinct values in *Avatar* column"
      ]
    },
    {
      "cell_type": "code",
      "metadata": {
        "id": "up-ef7XNhbz8",
        "colab": {
          "base_uri": "https://localhost:8080/"
        },
        "outputId": "29ab16ad-fde0-4b12-f913-8028f8f42606"
      },
      "source": [
        "# YOUR CODE HERE\n",
        "df.groupby('Avatar').count().show(10) "
      ],
      "execution_count": null,
      "outputs": [
        {
          "output_type": "stream",
          "name": "stdout",
          "text": [
            "+-----------+-----+\n",
            "|     Avatar|count|\n",
            "+-----------+-----+\n",
            "|ForestGreen|    2|\n",
            "|    DimGray|    4|\n",
            "|   SeaGreen|    4|\n",
            "|       Aqua|    6|\n",
            "|       Teal|    7|\n",
            "| DodgerBlue|    3|\n",
            "|  MintCream|    3|\n",
            "|      Khaki|    2|\n",
            "|  LightGray|    3|\n",
            "|  LightBlue|    2|\n",
            "+-----------+-----+\n",
            "only showing top 10 rows\n",
            "\n"
          ]
        }
      ]
    },
    {
      "cell_type": "markdown",
      "metadata": {
        "id": "W5bUrhKkhbz8"
      },
      "source": [
        "* Plot the count of distinct values in *Avatar* column"
      ]
    },
    {
      "cell_type": "code",
      "metadata": {
        "id": "fY39dnmohbz8",
        "colab": {
          "base_uri": "https://localhost:8080/"
        },
        "outputId": "4b8b9641-ec35-4eb4-8d5c-6688ef69d40b"
      },
      "source": [
        "DF = df.groupby('Avatar').count().sort(\"count\", ascending= False)\n",
        "DF.show(8)"
      ],
      "execution_count": null,
      "outputs": [
        {
          "output_type": "stream",
          "name": "stdout",
          "text": [
            "+------------+-----+\n",
            "|      Avatar|count|\n",
            "+------------+-----+\n",
            "|   CadetBlue|    7|\n",
            "|   SlateBlue|    7|\n",
            "| GreenYellow|    7|\n",
            "|        Cyan|    7|\n",
            "|        Teal|    7|\n",
            "|   PeachPuff|    6|\n",
            "|      Purple|    6|\n",
            "|LightSkyBlue|    6|\n",
            "+------------+-----+\n",
            "only showing top 8 rows\n",
            "\n"
          ]
        }
      ]
    },
    {
      "cell_type": "code",
      "metadata": {
        "id": "Uy5htH2Rhbz9",
        "colab": {
          "base_uri": "https://localhost:8080/",
          "height": 375
        },
        "outputId": "5b4bbcfd-2af8-444d-d8e3-b6e073385bbe"
      },
      "source": [
        "plt.figure(figsize= (24,4))\n",
        "x = DF.toPandas()['Avatar']\n",
        "y = DF.toPandas()['count']\n",
        "# YOUR CODE HERE to create y \n",
        "sns.barplot(x, y)\n",
        "plt.xticks(rotation= 90)\n",
        "plt.show()"
      ],
      "execution_count": null,
      "outputs": [
        {
          "output_type": "stream",
          "name": "stderr",
          "text": [
            "/usr/local/lib/python3.8/dist-packages/seaborn/_decorators.py:36: FutureWarning: Pass the following variables as keyword args: x, y. From version 0.12, the only valid positional argument will be `data`, and passing other arguments without an explicit keyword will result in an error or misinterpretation.\n",
            "  warnings.warn(\n"
          ]
        },
        {
          "output_type": "display_data",
          "data": {
            "text/plain": [
              "<Figure size 1728x288 with 1 Axes>"
            ],
            "image/png": "[encoded data removed]"
          },
          "metadata": {
            "needs_background": "light"
          }
        }
      ]
    },
    {
      "cell_type": "markdown",
      "metadata": {
        "id": "WwFMYWqKhbz9"
      },
      "source": [
        "* Display average time spent on app by users having different *Avatar*"
      ]
    },
    {
      "cell_type": "code",
      "source": [
        "df.groupby('Avatar').avg().show(5)"
      ],
      "metadata": {
        "colab": {
          "base_uri": "https://localhost:8080/"
        },
        "id": "Nun4QPqFldVm",
        "outputId": "cd32d07c-f320-482b-b804-81b7b3ad68d0"
      },
      "execution_count": null,
      "outputs": [
        {
          "output_type": "stream",
          "name": "stdout",
          "text": [
            "+-----------+-----------------------+------------------+--------------------+-------------------------+------------------------+\n",
            "|     Avatar|avg(Avg Session Length)|  avg(Time on App)|avg(Time on Website)|avg(Length of Membership)|avg(Yearly Amount Spent)|\n",
            "+-----------+-----------------------+------------------+--------------------+-------------------------+------------------------+\n",
            "|ForestGreen|      33.66620298327996|11.801835104426386|   38.29864870813893|       3.7945562478573645|       537.3072387025538|\n",
            "|    DimGray|      32.15263955744399|12.013773141157184|   37.51024821612914|        3.772339774838163|       496.4398111120196|\n",
            "|   SeaGreen|     33.728089779775644|11.352012316138753|  36.262078279192636|         3.43260251812538|      484.97371365643994|\n",
            "|       Aqua|      33.04922697007228|12.207605304482167|  36.257160995557825|       3.5963576675676467|       502.6440323918085|\n",
            "|       Teal|      32.96479415468682| 11.77888239909872|   37.34427641257988|       3.1931182237432294|       458.1109670290833|\n",
            "+-----------+-----------------------+------------------+--------------------+-------------------------+------------------------+\n",
            "only showing top 5 rows\n",
            "\n"
          ]
        }
      ]
    },
    {
      "cell_type": "code",
      "metadata": {
        "id": "2Wi64y0Qhbz9",
        "colab": {
          "base_uri": "https://localhost:8080/"
        },
        "outputId": "da9cdc80-b308-409b-9db3-621a1b4cfcb8"
      },
      "source": [
        "df.groupby('Avatar').avg().select(['Avatar', 'avg(Time on App)']).show(5)"
      ],
      "execution_count": null,
      "outputs": [
        {
          "output_type": "stream",
          "name": "stdout",
          "text": [
            "+-----------+------------------+\n",
            "|     Avatar|  avg(Time on App)|\n",
            "+-----------+------------------+\n",
            "|ForestGreen|11.801835104426386|\n",
            "|    DimGray|12.013773141157184|\n",
            "|   SeaGreen|11.352012316138753|\n",
            "|       Aqua|12.207605304482167|\n",
            "|       Teal| 11.77888239909872|\n",
            "+-----------+------------------+\n",
            "only showing top 5 rows\n",
            "\n"
          ]
        }
      ]
    },
    {
      "cell_type": "markdown",
      "metadata": {
        "id": "dcCKpLhYhbz-"
      },
      "source": [
        "* Display the records where average time spent on website by user is greater than 37 minutes"
      ]
    },
    {
      "cell_type": "code",
      "metadata": {
        "id": "nLD3pmpQhbz-",
        "colab": {
          "base_uri": "https://localhost:8080/"
        },
        "outputId": "d24fc777-d5f6-4925-c4a9-261a474e94a8"
      },
      "source": [
        "df.filter(df['Time on Website'] > 37).show(5) "
      ],
      "execution_count": null,
      "outputs": [
        {
          "output_type": "stream",
          "name": "stdout",
          "text": [
            "+--------------------+--------------------+----------------+------------------+------------------+------------------+--------------------+-------------------+\n",
            "|               Email|             Address|          Avatar|Avg Session Length|       Time on App|   Time on Website|Length of Membership|Yearly Amount Spent|\n",
            "+--------------------+--------------------+----------------+------------------+------------------+------------------+--------------------+-------------------+\n",
            "|mstephenson@ferna...|835 Frank TunnelW...|          Violet| 34.49726772511229| 12.65565114916675| 39.57766801952616|  4.0826206329529615|  587.9510539684005|\n",
            "|   hduke@hotmail.com|4547 Archer Commo...|       DarkGreen| 31.92627202636016|11.109460728682564|37.268958868297744|    2.66403418213262|  392.2049334443264|\n",
            "|    pallen@yahoo.com|24645 Valerie Uni...|          Bisque|33.000914755642675|11.330278057777512|37.110597442120856|   4.104543202376424| 487.54750486747207|\n",
            "|mstephens@davidso...|14023 Rodriguez P...|MediumAquaMarine| 33.33067252364639|12.795188551078114| 37.53665330059473|   4.446308318351434|  599.4060920457634|\n",
            "|  awatkins@yahoo.com|Unit 6538 Box 898...|            Aqua|32.739142938380326| 12.35195897300293| 37.37335885854755|  4.4342734348999375|  549.9041461052942|\n",
            "+--------------------+--------------------+----------------+------------------+------------------+------------------+--------------------+-------------------+\n",
            "only showing top 5 rows\n",
            "\n"
          ]
        }
      ]
    },
    {
      "cell_type": "markdown",
      "metadata": {
        "id": "-nB82Y8vhbz-"
      },
      "source": [
        "* Display the minimum Yearly Amount Spent where average time spent on website by user is greater than 39 minutes"
      ]
    },
    {
      "cell_type": "code",
      "metadata": {
        "id": "V7caT8Lvhbz_",
        "colab": {
          "base_uri": "https://localhost:8080/"
        },
        "outputId": "18b97637-f3c1-4e79-b3a9-4ed4c9bde83a"
      },
      "source": [
        "from pyspark.sql.functions import col, min\n",
        "df.filter(col('Time on Website')>39).agg(min('Yearly Amount Spent')).show()"
      ],
      "execution_count": null,
      "outputs": [
        {
          "output_type": "stream",
          "name": "stdout",
          "text": [
            "+------------------------+\n",
            "|min(Yearly Amount Spent)|\n",
            "+------------------------+\n",
            "|      350.05820016384513|\n",
            "+------------------------+\n",
            "\n"
          ]
        }
      ]
    },
    {
      "cell_type": "code",
      "source": [
        "from pyspark.sql.functions import col\n",
        "df1=df.filter(col('Time on App')>13)"
      ],
      "metadata": {
        "id": "u3FiYb8C_vgw"
      },
      "execution_count": null,
      "outputs": []
    },
    {
      "cell_type": "code",
      "source": [
        "df1.count()"
      ],
      "metadata": {
        "colab": {
          "base_uri": "https://localhost:8080/"
        },
        "id": "-d20WGN8ACNC",
        "outputId": "3aecf792-5471-4bc7-be28-4a14828e9820"
      },
      "execution_count": null,
      "outputs": [
        {
          "output_type": "execute_result",
          "data": {
            "text/plain": [
              "92"
            ]
          },
          "metadata": {},
          "execution_count": 27
        }
      ]
    },
    {
      "cell_type": "markdown",
      "metadata": {
        "id": "S1hUIVRAhbz_"
      },
      "source": [
        "* Display the records where average time spent on app by user is greater than 12 minutes and average time spent on website is smaller than 37 minutes"
      ]
    },
    {
      "cell_type": "code",
      "metadata": {
        "id": "tJ-Hib-Bhbz_",
        "colab": {
          "base_uri": "https://localhost:8080/"
        },
        "outputId": "dfac12f3-f024-4198-c2d1-a1547f0a78f3"
      },
      "source": [
        "from pyspark.sql.functions import col\n",
        "df.filter((col('Time on App')>12) &(col('Time on Website') < 37)).show(10, truncate=False)"
      ],
      "execution_count": null,
      "outputs": [
        {
          "output_type": "stream",
          "name": "stdout",
          "text": [
            "+-----------------------------+------------------------------------------------------+-----------+------------------+------------------+------------------+--------------------+-------------------+\n",
            "|Email                        |Address                                               |Avatar     |Avg Session Length|Time on App       |Time on Website   |Length of Membership|Yearly Amount Spent|\n",
            "+-----------------------------+------------------------------------------------------+-----------+------------------+------------------+------------------+--------------------+-------------------+\n",
            "|riverarebecca@gmail.com      |1414 David ThroughwayPort Jason, OH 22070-1220        |SaddleBrown|34.30555662975554 |13.717513665142507|36.72128267790313 |3.120178782748092   |581.8523440352177  |\n",
            "|alvareznancy@lucas.biz       |645 Martha Park Apt. 611Jeffreychester, MN 67218-7250 |FloralWhite|33.871037879341976|12.026925339755056|34.47687762925054 |5.493507201364199   |637.102447915074   |\n",
            "|wrightpeter@yahoo.com        |05302 Dunlap FerryNew Stephaniehaven, MP 42268        |Bisque     |33.19033404372265 |12.959226091609382|36.144666700041924|3.918541839158999   |573.4158673313865  |\n",
            "|taylormason@gmail.com        |7773 Powell Springs Suite 190Samanthaland, ND 44358   |DarkBlue   |32.387975853153876|13.148725692056516|36.61995708279922 |2.494543646659249   |470.4527333009554  |\n",
            "|jstark@anderson.com          |49558 Ramirez Road Suite 399Phillipstad, OH 35641-3238|Peru       |30.737720372628182|12.636606052000127|36.213763093698624|3.3578468423262944  |461.7807421962299  |\n",
            "|ijones@schaefer-carr.net     |657 Judith CrossroadHancockchester, VI 75658-5788     |Linen      |33.54123131310037 |12.783891784275019|36.430649621049305|4.6481993164286015  |619.8956398616367  |\n",
            "|jenniferbarnett@gmail.com    |0772 Michael Isle Suite 617Meyerstown, WA 45449-6768  |SeaGreen   |33.24190043446127 |12.305417813429447|36.16364817104465 |3.0623681453116887  |497.5866713004408  |\n",
            "|briancarlson@page-fleming.com|USCGC GillFPO AA 26496                                |DarkMagenta|32.175501237949376|13.387492105579696|35.69417498569782 |4.343062915388998   |588.7126055095755  |\n",
            "|teresaallen@hill-leach.info  |1958 Robert Bridge Apt. 250Malloryland, ID 03393-5336 |WhiteSmoke |32.567230480275114|12.489013215743663|36.371479814068536|4.22243622534277    |537.8461952695957  |\n",
            "|christopher20@gmail.com      |USNV FullerFPO AE 32122-5711                          |Snow       |32.04448612744043 |13.414934735851688|36.11243501077792 |2.2586863869468434  |448.22982918655    |\n",
            "+-----------------------------+------------------------------------------------------+-----------+------------------+------------------+------------------+--------------------+-------------------+\n",
            "only showing top 10 rows\n",
            "\n"
          ]
        }
      ]
    },
    {
      "cell_type": "markdown",
      "metadata": {
        "id": "LORVLYUMhb0A"
      },
      "source": [
        "To know more about other `pyspark.sql.functions` operation click [here](https://spark.apache.org/docs/2.4.0/api/python/pyspark.sql.html#module-pyspark.sql.functions)."
      ]
    },
    {
      "cell_type": "markdown",
      "metadata": {
        "id": "qI55eNtchb0A"
      },
      "source": [
        "### Linear Regression Model"
      ]
    },
    {
      "cell_type": "markdown",
      "metadata": {
        "id": "0SQI5Rq3hb0A"
      },
      "source": [
        "Linear Regression model is one of the oldest and widely used machine learning approach which assumes a relationship between dependent and independent variables. It consists of the best fitting line through the scattered points on the graph and this best fitting line is known as the regression line."
      ]
    },
    {
      "cell_type": "markdown",
      "metadata": {
        "id": "Ij78EczBhb0B"
      },
      "source": [
        "#### Setting Up DataFrame for Model"
      ]
    },
    {
      "cell_type": "markdown",
      "metadata": {
        "id": "exKHqPx4hb0B"
      },
      "source": [
        "For Spark to accept the data, it needs to be in the form of two columns (\"labels\", \"features\")\n",
        "\n",
        "* Features are data points of all the attributes to be used for prediction\n",
        "* Labels are output for each data point\n",
        "* We will be predicting Label from Features"
      ]
    },
    {
      "cell_type": "markdown",
      "metadata": {
        "id": "aCZCS-R4hb0B"
      },
      "source": [
        "For the linear regression model, we need to import two modules from Pyspark i.e. Vector Assembler and Linear Regression. Vector Assembler is a transformer that assembles all the features into one vector from multiple columns that contain type double.\n",
        "\n",
        "To know more about vector assembler click [here](https://spark.apache.org/docs/2.1.0/ml-features.html#vectorassembler)."
      ]
    },
    {
      "cell_type": "code",
      "metadata": {
        "id": "3gHmgn46hb0C"
      },
      "source": [
        "from pyspark.ml.feature import VectorAssembler\n",
        "from pyspark.ml.regression import LinearRegression"
      ],
      "execution_count": null,
      "outputs": []
    },
    {
      "cell_type": "code",
      "metadata": {
        "id": "S26ufGiZhb0C"
      },
      "source": [
        "assembler = VectorAssembler(\n",
        "                            inputCols= [\"Avg Session Length\", \"Time on App\", \"Time on Website\",'Length of Membership'],\n",
        "                            outputCol= \"features\")       # features is the name of output columns which combines all the columns"
      ],
      "execution_count": null,
      "outputs": []
    },
    {
      "cell_type": "code",
      "metadata": {
        "id": "i9umLjr7hb0C"
      },
      "source": [
        "output = assembler.transform(df)            # A new column 'features' will be created along with the existing columns\n",
        "                                            # features column will include all the values combined in one list"
      ],
      "execution_count": null,
      "outputs": []
    },
    {
      "cell_type": "code",
      "metadata": {
        "id": "WOxDfY4uhb0D"
      },
      "source": [
        "# YOUR CODE HERE to display first 10 rows of output\n",
        "output.show(10)"
      ],
      "execution_count": null,
      "outputs": []
    },
    {
      "cell_type": "code",
      "metadata": {
        "id": "5l3IvdYNhb0D",
        "colab": {
          "base_uri": "https://localhost:8080/"
        },
        "outputId": "d71def70-4800-45a4-ef6c-d7238b3b44a8"
      },
      "source": [
        "output.select(\"features\").show(10, truncate= False)          # displays only the features column (which includes all other column values in a list)"
      ],
      "execution_count": null,
      "outputs": [
        {
          "output_type": "stream",
          "name": "stdout",
          "text": [
            "+----------------------------------------------------------------------------+\n",
            "|features                                                                    |\n",
            "+----------------------------------------------------------------------------+\n",
            "|[34.49726772511229,12.65565114916675,39.57766801952616,4.0826206329529615]  |\n",
            "|[31.92627202636016,11.109460728682564,37.268958868297744,2.66403418213262]  |\n",
            "|[33.000914755642675,11.330278057777512,37.110597442120856,4.104543202376424]|\n",
            "|[34.30555662975554,13.717513665142507,36.72128267790313,3.120178782748092]  |\n",
            "|[33.33067252364639,12.795188551078114,37.53665330059473,4.446308318351434]  |\n",
            "|[33.871037879341976,12.026925339755056,34.47687762925054,5.493507201364199] |\n",
            "|[32.02159550138701,11.366348309710526,36.68377615286961,4.685017246570912]  |\n",
            "|[32.739142938380326,12.35195897300293,37.37335885854755,4.4342734348999375] |\n",
            "|[33.98777289568564,13.386235275676436,37.534497341555735,3.2734335777477144]|\n",
            "|[31.936548618448917,11.814128294972196,37.14516822352819,3.202806071553459] |\n",
            "+----------------------------------------------------------------------------+\n",
            "only showing top 10 rows\n",
            "\n"
          ]
        }
      ]
    },
    {
      "cell_type": "code",
      "metadata": {
        "id": "MsMl8o7Yhb0E"
      },
      "source": [
        "# Complete dataset is represented in 2 columns\n",
        "final_data = output.select(\"features\",'Yearly Amount Spent') "
      ],
      "execution_count": null,
      "outputs": []
    },
    {
      "cell_type": "code",
      "source": [
        "final_data.show()"
      ],
      "metadata": {
        "colab": {
          "base_uri": "https://localhost:8080/"
        },
        "id": "W08Oy8PI5b6p",
        "outputId": "cba974bf-2310-45c2-aa49-41932b943c3f"
      },
      "execution_count": null,
      "outputs": [
        {
          "output_type": "stream",
          "name": "stdout",
          "text": [
            "+--------------------+-------------------+\n",
            "|            features|Yearly Amount Spent|\n",
            "+--------------------+-------------------+\n",
            "|[34.4972677251122...|  587.9510539684005|\n",
            "|[31.9262720263601...|  392.2049334443264|\n",
            "|[33.0009147556426...| 487.54750486747207|\n",
            "|[34.3055566297555...|  581.8523440352177|\n",
            "|[33.3306725236463...|  599.4060920457634|\n",
            "|[33.8710378793419...|   637.102447915074|\n",
            "|[32.0215955013870...|  521.5721747578274|\n",
            "|[32.7391429383803...|  549.9041461052942|\n",
            "|[33.9877728956856...|  570.2004089636196|\n",
            "|[31.9365486184489...|  427.1993848953282|\n",
            "|[33.9925727749537...|  492.6060127179966|\n",
            "|[33.8793608248049...|  522.3374046069357|\n",
            "|[29.5324289670579...|  408.6403510726275|\n",
            "|[33.1903340437226...|  573.4158673313865|\n",
            "|[32.3879758531538...|  470.4527333009554|\n",
            "|[30.7377203726281...|  461.7807421962299|\n",
            "|[32.1253868972878...| 457.84769594494855|\n",
            "|[32.3388993230671...| 407.70454754954415|\n",
            "|[32.1878120459321...|  452.3156754800354|\n",
            "|[32.6178560628234...|   605.061038804892|\n",
            "+--------------------+-------------------+\n",
            "only showing top 20 rows\n",
            "\n"
          ]
        }
      ]
    },
    {
      "cell_type": "markdown",
      "metadata": {
        "id": "8dyT5lLehb0E"
      },
      "source": [
        "#### Splitting the data into Training and Test set"
      ]
    },
    {
      "cell_type": "code",
      "metadata": {
        "id": "cznY4s_Ahb0F"
      },
      "source": [
        "# Splitting the data in Train and Test set(70% training data, 30% testing data)\n",
        "# YOUR CODE HERE to create train_data, test_data\n",
        "train_data,test_data = final_data.randomSplit([0.7,0.3])"
      ],
      "execution_count": null,
      "outputs": []
    },
    {
      "cell_type": "code",
      "metadata": {
        "id": "fQzau_Pvhb0F",
        "colab": {
          "base_uri": "https://localhost:8080/"
        },
        "outputId": "cdf951be-0170-4b29-b592-2a514bfd14ea"
      },
      "source": [
        "train_data.describe().show()"
      ],
      "execution_count": null,
      "outputs": [
        {
          "output_type": "stream",
          "name": "stdout",
          "text": [
            "+-------+-------------------+\n",
            "|summary|Yearly Amount Spent|\n",
            "+-------+-------------------+\n",
            "|  count|                366|\n",
            "|   mean| 502.49556714715413|\n",
            "| stddev|  77.35332762644552|\n",
            "|    min|   266.086340948469|\n",
            "|    max|  725.5848140556806|\n",
            "+-------+-------------------+\n",
            "\n"
          ]
        }
      ]
    },
    {
      "cell_type": "code",
      "metadata": {
        "id": "FrdTvsmVhb0F",
        "colab": {
          "base_uri": "https://localhost:8080/"
        },
        "outputId": "cf917919-991e-424e-cfda-8307de5914b7"
      },
      "source": [
        "# YOUR CODE HERE to describe test_data\n",
        "test_data.describe().show()"
      ],
      "execution_count": null,
      "outputs": [
        {
          "output_type": "stream",
          "name": "stdout",
          "text": [
            "+-------+-------------------+\n",
            "|summary|Yearly Amount Spent|\n",
            "+-------+-------------------+\n",
            "|  count|                134|\n",
            "|   mean|  490.6241906972915|\n",
            "| stddev|  84.12807272012247|\n",
            "|    min| 256.67058229005585|\n",
            "|    max|  765.5184619388373|\n",
            "+-------+-------------------+\n",
            "\n"
          ]
        }
      ]
    },
    {
      "cell_type": "markdown",
      "metadata": {
        "id": "LW62eB6Hhb0G"
      },
      "source": [
        "#### Create a Linear Regression Model object and fit on train data"
      ]
    },
    {
      "cell_type": "code",
      "metadata": {
        "id": "86V5LekMhb0G"
      },
      "source": [
        "regressor = LinearRegression(featuresCol=\"features\", labelCol=\"Yearly Amount Spent\") \n",
        "\n",
        "# Learn to fit the model from training set\n",
        "# YOUR CODE HERE to fit regressor on train_data and create model\n",
        "model = regressor.fit(train_data) "
      ],
      "execution_count": null,
      "outputs": []
    },
    {
      "cell_type": "markdown",
      "metadata": {
        "id": "YVH4X80nhb0G"
      },
      "source": [
        "#### Predicting the Test set results"
      ]
    },
    {
      "cell_type": "code",
      "metadata": {
        "id": "DCrfunGbhb0G",
        "colab": {
          "base_uri": "https://localhost:8080/"
        },
        "outputId": "79e90179-da84-49a7-e747-dd149e83bdd2"
      },
      "source": [
        "predict = model.transform(test_data)\n",
        "\n",
        "predict.select(predict.columns[:]).show(10)"
      ],
      "execution_count": null,
      "outputs": [
        {
          "output_type": "stream",
          "name": "stdout",
          "text": [
            "+--------------------+-------------------+------------------+\n",
            "|            features|Yearly Amount Spent|        prediction|\n",
            "+--------------------+-------------------+------------------+\n",
            "|[30.3931845423455...|  319.9288698031936| 332.1948968726797|\n",
            "|[30.4925366965402...|  282.4712457199145|288.14237149669384|\n",
            "|[30.9716756438877...|  494.6386097568927|488.39263643191634|\n",
            "|[31.0662181616375...| 448.93329320767435| 462.4348749667952|\n",
            "|[31.3662121671876...|  430.5888825564849| 427.3439627561286|\n",
            "|[31.3895854806643...|  410.0696110599829|  410.135056477169|\n",
            "|[31.4252268808548...|  530.7667186547619| 535.3712811973403|\n",
            "|[31.4459724827577...| 484.87696493512857| 482.6905959082537|\n",
            "|[31.4474464941278...|   418.602742095224|426.88545067754944|\n",
            "|[31.5147378578019...|  489.8124879964614| 496.1034751848101|\n",
            "+--------------------+-------------------+------------------+\n",
            "only showing top 10 rows\n",
            "\n"
          ]
        }
      ]
    },
    {
      "cell_type": "markdown",
      "metadata": {
        "id": "VHlcdOtThb0G"
      },
      "source": [
        "#### Evaluating Model Performance"
      ]
    },
    {
      "cell_type": "code",
      "metadata": {
        "id": "41ftFH8Ohb0H",
        "colab": {
          "base_uri": "https://localhost:8080/"
        },
        "outputId": "855b62ad-884e-4b7d-b15a-c2d3c3335cb2"
      },
      "source": [
        "# YOUR CODE HERE to create metrics                            # Using evaluate method we can verify our model's performance\n",
        "\n",
        "# YOUR CODE HERE\n",
        "metrics = model.evaluate(test_data)                             # Using evaluate method we can verify our model's performance\n",
        "\n",
        "print('Mean absolute error: {}'.format(metrics.meanAbsoluteError))\n",
        "print('Root mean squared error: {}'.format(metrics.rootMeanSquaredError))\n",
        "print('R_squared value: {}'.format(metrics.r2))"
      ],
      "execution_count": null,
      "outputs": [
        {
          "output_type": "stream",
          "name": "stdout",
          "text": [
            "Mean absolute error: 8.222743719393083\n",
            "Root mean squared error: 10.138800983665798\n",
            "R_squared value: 0.9853666259365389\n"
          ]
        }
      ]
    },
    {
      "cell_type": "markdown",
      "metadata": {
        "id": "VcCSeWV3hb0H"
      },
      "source": [
        "To know more about other operations in pyspark click [here](https://cdn.iisc.talentsprint.com/CDS/cheatSheet_pyspark.pdf)."
      ]
    },
    {
      "cell_type": "markdown",
      "metadata": {
        "id": "VHfHdGCP_n6Y"
      },
      "source": [
        "### Please answer the questions below to complete the experiment:\n",
        "\n",
        "\n"
      ]
    },
    {
      "cell_type": "code",
      "metadata": {
        "id": "VgSwVENIPcM6"
      },
      "source": [
        "# @title In the above given spark dataframe (df), what is the total number of records where average time spent on app by user is greater than 13 minutes? { run: \"auto\", form-width: \"500px\", display-mode: \"form\" }\n",
        "Answer = \"92\" #@param [\"\",\"90\",\"91\", \"92\"]"
      ],
      "execution_count": null,
      "outputs": []
    },
    {
      "cell_type": "code",
      "metadata": {
        "id": "NMzKSbLIgFzQ"
      },
      "source": [
        "#@title How was the experiment? { run: \"auto\", form-width: \"500px\", display-mode: \"form\" }\n",
        "Complexity = \"Too Difficult for me\" #@param [\"\",\"Too Simple, I am wasting time\", \"Good, But Not Challenging for me\", \"Good and Challenging for me\", \"Was Tough, but I did it\", \"Too Difficult for me\"]\n"
      ],
      "execution_count": null,
      "outputs": []
    },
    {
      "cell_type": "code",
      "metadata": {
        "id": "DjcH1VWSFI2l"
      },
      "source": [
        "#@title If it was too easy, what more would you have liked to be added? If it was very difficult, what would you have liked to have been removed? { run: \"auto\", display-mode: \"form\" }\n",
        "Additional = \"Good\" #@param {type:\"string\"}\n"
      ],
      "execution_count": null,
      "outputs": []
    },
    {
      "cell_type": "code",
      "metadata": {
        "id": "4VBk_4VTAxCM"
      },
      "source": [
        "#@title Can you identify the concepts from the lecture which this experiment covered? { run: \"auto\", vertical-output: true, display-mode: \"form\" }\n",
        "Concepts = \"Yes\" #@param [\"\",\"Yes\", \"No\"]\n"
      ],
      "execution_count": null,
      "outputs": []
    },
    {
      "cell_type": "code",
      "metadata": {
        "id": "XH91cL1JWH7m"
      },
      "source": [
        "#@title  Text and image description/explanation and code comments within the experiment: { run: \"auto\", vertical-output: true, display-mode: \"form\" }\n",
        "Comments = \"Very Useful\" #@param [\"\",\"Very Useful\", \"Somewhat Useful\", \"Not Useful\", \"Didn't use\"]\n"
      ],
      "execution_count": null,
      "outputs": []
    },
    {
      "cell_type": "code",
      "metadata": {
        "id": "z8xLqj7VWIKW"
      },
      "source": [
        "#@title Mentor Support: { run: \"auto\", vertical-output: true, display-mode: \"form\" }\n",
        "Mentor_support = \"Didn't use\" #@param [\"\",\"Very Useful\", \"Somewhat Useful\", \"Not Useful\", \"Didn't use\"]\n"
      ],
      "execution_count": null,
      "outputs": []
    },
    {
      "cell_type": "code",
      "metadata": {
        "id": "FzAZHt1zw-Y-",
        "cellView": "form",
        "colab": {
          "base_uri": "https://localhost:8080/"
        },
        "outputId": "4dac4447-539d-4877-c909-f5379affb3ea"
      },
      "source": [
        "#@title Run this cell to submit your notebook for grading { vertical-output: true }\n",
        "try:\n",
        "  if submission_id:\n",
        "      return_id = submit_notebook()\n",
        "      if return_id : submission_id = return_id\n",
        "  else:\n",
        "      print(\"Please complete the setup first.\")\n",
        "except NameError:\n",
        "  print (\"Please complete the setup first.\")"
      ],
      "execution_count": null,
      "outputs": [
        {
          "output_type": "stream",
          "name": "stdout",
          "text": [
            "Your submission is successful.\n",
            "Ref Id: 7026\n",
            "Date of submission:  16 Jan 2023\n",
            "Time of submission:  19:34:43\n",
            "View your submissions: https://cds.iisc.talentsprint.com/notebook_submissions\n"
          ]
        }
      ]
    }
  ]
}