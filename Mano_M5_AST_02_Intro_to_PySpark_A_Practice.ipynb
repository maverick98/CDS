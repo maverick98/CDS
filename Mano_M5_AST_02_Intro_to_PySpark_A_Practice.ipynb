{
  "nbformat": 4,
  "nbformat_minor": 0,
  "metadata": {
    "kernelspec": {
      "display_name": "Python 3",
      "language": "python",
      "name": "python3"
    },
    "language_info": {
      "codemirror_mode": {
        "name": "ipython",
        "version": 3
      },
      "file_extension": ".py",
      "mimetype": "text/x-python",
      "name": "python",
      "nbconvert_exporter": "python",
      "pygments_lexer": "ipython3",
      "version": "3.8.5"
    },
    "colab": {
      "provenance": [],
      "collapsed_sections": [
        "qfm30-_ghbz1",
        "fe2TqI_7hbz3",
        "qI55eNtchb0A"
      ],
      "include_colab_link": true
    }
  },
  "cells": [
    {
      "cell_type": "markdown",
      "metadata": {
        "id": "view-in-github",
        "colab_type": "text"
      },
      "source": [
        "<a href=\"https://colab.research.google.com/github/maverick98/CDS/blob/main/Mano_M5_AST_02_Intro_to_PySpark_A_Practice.ipynb\" target=\"_parent\"><img src=\"https://colab.research.google.com/assets/colab-badge.svg\" alt=\"Open In Colab\"/></a>"
      ]
    },
    {
      "cell_type": "markdown",
      "metadata": {
        "id": "dxCv5teXYANs"
      },
      "source": [
        "### Importing required packages"
      ]
    },
    {
      "cell_type": "code",
      "metadata": {
        "id": "ZB8vMNkUYANt"
      },
      "source": [
        "import matplotlib.pyplot as plt\n",
        "import seaborn as sns"
      ],
      "execution_count": 146,
      "outputs": []
    },
    {
      "cell_type": "markdown",
      "metadata": {
        "id": "4dwQCqpwhbzy"
      },
      "source": [
        "### PySpark"
      ]
    },
    {
      "cell_type": "markdown",
      "metadata": {
        "id": "tuVyxDSAhbzz"
      },
      "source": [
        "#### Install PySpark"
      ]
    },
    {
      "cell_type": "code",
      "metadata": {
        "id": "dpbyJFSZhbzz",
        "colab": {
          "base_uri": "https://localhost:8080/"
        },
        "outputId": "9b5fe8ce-7842-445d-efd8-a8368f9116cf"
      },
      "source": [
        "!pip install pyspark"
      ],
      "execution_count": 147,
      "outputs": [
        {
          "output_type": "stream",
          "name": "stdout",
          "text": [
            "Looking in indexes: https://pypi.org/simple, https://us-python.pkg.dev/colab-wheels/public/simple/\n",
            "Requirement already satisfied: pyspark in /usr/local/lib/python3.8/dist-packages (3.3.1)\n",
            "Requirement already satisfied: py4j==0.10.9.5 in /usr/local/lib/python3.8/dist-packages (from pyspark) (0.10.9.5)\n"
          ]
        }
      ]
    },
    {
      "cell_type": "code",
      "metadata": {
        "id": "bdlUo9HFhbz0",
        "colab": {
          "base_uri": "https://localhost:8080/",
          "height": 220
        },
        "outputId": "110e466f-79c9-4ade-b848-0632bf2e9de8"
      },
      "source": [
        "# Start spark session\n",
        "from pyspark.sql import SparkSession\n",
        "spark = SparkSession.builder.appName('LinearRegression').getOrCreate()\n",
        "spark"
      ],
      "execution_count": 148,
      "outputs": [
        {
          "output_type": "execute_result",
          "data": {
            "text/plain": [
              "<pyspark.sql.session.SparkSession at 0x7f3f625c20a0>"
            ],
            "text/html": [
              "\n",
              "            <div>\n",
              "                <p><b>SparkSession - in-memory</b></p>\n",
              "                \n",
              "        <div>\n",
              "            <p><b>SparkContext</b></p>\n",
              "\n",
              "            <p><a href=\"http://dc539cb94a4d:4040\">Spark UI</a></p>\n",
              "\n",
              "            <dl>\n",
              "              <dt>Version</dt>\n",
              "                <dd><code>v3.3.1</code></dd>\n",
              "              <dt>Master</dt>\n",
              "                <dd><code>local[*]</code></dd>\n",
              "              <dt>AppName</dt>\n",
              "                <dd><code>LinearRegression</code></dd>\n",
              "            </dl>\n",
              "        </div>\n",
              "        \n",
              "            </div>\n",
              "        "
            ]
          },
          "metadata": {},
          "execution_count": 148
        }
      ]
    },
    {
      "cell_type": "markdown",
      "metadata": {
        "id": "ryDcIBTYhbz1"
      },
      "source": [
        "### Data Processing using Pyspark"
      ]
    },
    {
      "cell_type": "markdown",
      "source": [
        "![image.png](data:image/png;base64,iVBORw0KGgoAAAANSUhEUgAAARAAAABCCAYAAACfO4ldAAASeElEQVR4Xu1dC7hN1RYe5O1yqOMc4XrnXR6p6xGhSOmBSj436oboeX0npPNwuI5HyO2Jcgs9bkmKHldxc1GKSB4d73C8XwfhekXu+qc71jfXOmvtvfY+y7H32WN+X19sa8015z/H/OeYY4w5ZoHMzA0XSIogIAgIAmEgUEAIJAzU5BVBQBBQCAiBiCAIAoJA2AgIgYQNnbwoCAgCQiAiA4KAIBA2AhFJIFlZWXTo0EH6/fffw+6YvCgICAL+IFCwYEGKjy9HVapUyVFhxBEIyOPAgf3+9FxqEQQEAd8QSEhIzEEiEUcgP/64QjQP34ZcKhIE/EMAmsj11ze1VBhxBLJ8+Q/+9VhqEgQEAV8RuOGGG4VAfEVUKhMEYggBIZAYGmzpqiDgNwJCIH4jKvUJAjGEgK8Esnr1amrYsKGv8PlpA1mxYjm9++47NGjQs1SxYkVf2ymVCQJ+I3Du3DlKT0+jUqVK05Ahz/ldvS/1+UogDRrUpU6d7qSkpGcoMbG8Lw30SiDZ2dn06adzaMOGDXTmzGnz20WLFqMePXoYxNaIYpVAvvlmMS1YsICOHDmscClcuDA1atSY7r+/GxUpUiTkcXrjjcm0bt06y3tc591332MIfKmQ65QXciJw8uRJGjlyROwQSP36dRQKxYoVo0ce6UO9e/dRf85N8UIgX331Jc2d+y+64oorqGrVaso3DeLYvXsX7d+/n9q3b09Nm94QEQSydetWmjHjA+rV66E804LGjXte4VKpUiU1FGvWrKH169dRQkICJSenhjw8TCAPPNBdvXvw4EHatGkT7dq10xjv4pSSkiokEjKq0fmCrxoIEwhDAS0E2gi0kgIFCoSFUDACgdaxYMHXVKtWberTp2/AFTUSNJBIaAMG4sMPZ9B33y2hJ598imrWvCaksWECefHFly3vcd9uuqkV3Xff/SHVKQ9HJwKXlEAYkuuua0jPPZdM+H+oJRCB7N69m7C61qtXjx59tH/QqiNh8kZCGwAUt+PBB3sq7SyU4kYgqGP48GFUokQJw840OJQq5dkoRSBPCATYQAMJxz4SiECmTZtqqOOrDaHFPjH4vlufvFlZ22nOnDnKXoL9e6tWrQn7d71AzZ89e7ahoh9Q0bDYFnXp0pWaNWtmPqbXuXPnTmMr9QX9+uuvajsFrahHjz+bbRsw4OkcYnLVVfGUljZU/Q6jGbY3q1b9RL/99ptpq8BWoVChQua7qKddu1uMLUgizZo1Uz0bqmGYt33p6cOpbNmyIYlvIAIZMeJvRt8Lmlsj/D0xMYFat25D7733Lh0/fox00rJjjLGARqTjxo07evSowmfTpo10/vx5ZRvo2vVeWr58mbLJsEbEY5KUNJC+/vrftHbtGqOPV5o4exlX1mzHj59A77zzNv3881r1zRo1alK/fv0JUZj67+XKlaO+ffupbSEX7nvnzl3pzTf/YWyn9ym56NDhNrrtto7GEY0D5u+o79prr6OePXtZxprr0BdIHn8Q//Tp01S9eL9ateqqbXa7FjRNjDfkEs/Vrl1HteGll/6u5Mgu96EIQ54RCDeqTJky9P77H1LlypU9tTMQgaSmJqtJ9PTTf/VUFwsWNJZ9+y7aRlAALoTz3nvvU0SCwtpNhQoVzN/4uV69HqYmTZqo57hODMSyZUvVRClduhTB1oG2Q6AGDx6ihOL7778jnO1ZuvR76tjxdoqLi6PixUsYBs1GijzGjh1jHBo8RG3atCUIJNqAwb/66gqWFR0CVLFiJePd4obm1S8kQygMc8uWLaPPPptDt9xyqyL1UIsbgcAWAqMfwpsxEVAwASDQFy5coP79HyOMP5cvvvic5s+fR1deeZWBW2uDoIsq3HB8oUiRohZbyvHjx426MwyyPEs339xG4YPvLVq00CDaInT69KkcBAKMMMnatm1rftPruDKBQFZQf506dZSBfvXqVUrjRTlx4r/UvHlzOnbsuCFDc1WbMzJGmgSAvpcq9QfKzj5M2NZBLubPn0+HD2fTPfd0UXLXtGlTZQsDAYLodOwYPxCwnUBAAlu3/kK33tpB1cvvg3yxLeXC/dDlGEb1w4ePKMyihkAuhQaCidSiRUvq1u0BT3OAJ7s+qfEihBPuMn2iQtAwQEwo/FxaWopi8Mcee9xCINAksE3TNQUM1KxZH6lJ2r59B8vzdo2BBxqrpk6uS5cupQ8++Kda3erXr6/qQL8xKUeNGmP5XiAQIMzZ2YfUI1jlIZDXXBOa7YPrtxMIyA8Tf/r0qXTq1CkDhxQ1wXkC4LspKWnmb/g90PZzx44dBhlMUFvehx/+i6oH38QEHjAgyYIPPwsN0a6BwNPE73PbvY4rj4ddvrjvdhlijU4fJ8ZctzOBwIcNG0pnz57NMXmff36MGqOxY8ebQ+mmgUCTsGPx8ssvKZllrTIQxtyPqCCQS2UDYVXOqwrGBNK9ew/LNgSjBfCh4vF2wm0yYkBR+DmuU9de9HcHDx6oVEs74dgJxE2bwuQcODDJImzot05iXthz1apVxuQ+aWzZzhgr3Vr65ZctaosFDUYnPS91Oblx8V7JkiUNQ/ajRn+rWSYAJnd6+jBL1WzEtROLTlIgjAkTXlTaGXDUCUWvbNKkibRx44YcBOI0zl7H1Y3QeVGwjzeIbMKE8ZbFArLi1Hee6FgAYC/i8sknHyuNSt9WuhGI0/hDm4NWx4sQ98EJY25vRBPIpfbCJCUNMFbRWubkDCb8+t7YvoVyUssRW7Jkybe0Z88ew0W5S9lLYG/Q7RaB6uQV2Ilw7ATiZB/R+6MbivEs1HjYY8It+tbLKwHrkxsqM7tx8TswqVWrVo7mYALEx8fnGCPgDSHOyBjl2AUW/iFDkpXtAcZyN5K2j12wMfEyrvx9N0+T3fjMq70+IZ0mPzrrtgXkb+qyEcgGYh83u2E8EMZO7Q1Hli6JDSSv4kDGjRurDJxeVflAHhD7oPL+HIbT2rVrK5sD9prz5s1Thii7BuJmxIQAAA/2Sri1AaQAMmTbin0w9QkaqublJhjwmBQuXCjkWJBARlT7twJNolAJxE2jcCMQpzHxOq75hUD27t2XQ/vDGEUkgeR1JOqSJUto5swZng1BXgmEVWYn7QaTzolAnNyh2O8mJw+xGMbc2gAVvVKlP3oyCPtJIOG4XP0gEC9bmC1btih7wL59+2jMmFGu9i7eEthtIHYCCWVc8wOBwPMDw6x9qwQC2bJlM7366iue547bIuSrBnI5zsKMGpWh3GG3336Hco0FKl4JhAXWvk1g0J22MNWr16DHH3/CYk/gSaIb1rgNuicHbYZLGu5buxHVqT9+EAi3wwtu9jb4QSDbtm1TbkSnGB42jDZu3MT05gwdmqa8Bmlp6RaXPewkkydPVE0MRiChjGt+IBBeYO1yDCKdOPE1ZXCNKBtIOHuoYO8Ei0SFB+W11141Vqm9yrtQt24947+6yrWGUHbEZnTq1CloKLt9UkBgT5w4bnGp/vTTSuWqc9JAYJU/d+686RqGq3T79m05Jgirjni+bdt2SpVE1Ca7Kc+ePaM0lurVqytoYHtB6PmIERkmVKEQCIhi4cKFKsYAWzCUFStWKCNq+fJXGwbaQSbpYcVaty5TkVigw4Z+EAjawZPUyY0Luwm7v/HsypUr6e23p6lQeeDGrnK0Fx6f7du3ByUQ1ON1XPMDgaC/vMDCYN64cWNlRF+8eLEx9onK9RvzBMKzCvESixYtMoO+8DuCdkqXjlOrGCakVw0E7+pBPvg7thcIlX/llYvh23YbCCYd4kAQ4wGjH2wn7dq1c9SKYC3/8su5ZmDSU09dDDCzB0qBqOLiyhgxEjdbYhlCIRDElUC72bt3j/oeCuJP2rRpZ7ioW1k0prwmELQF3qE5c2abB/2AW8uWLemOOzrl8A5B24CnggOnKlSoqM4UzZ79sWMgmZMNxOu45hcCsQcnslw2aHCtMkwLgZjr8uX5Q6SEpl+e3kfGV+HG3bx5k3L5SvGGALtxEZ8UTjAhf8VXG4i3pof2VLAtTGi1+f+0EIj/mIZSI1ZYGKrLlUuQ8zchAOcU+BbC6+ajQiDhoKa9IwSSSwBz+TpvNfRo31xWme9fZ3sbOqqH3ofTcSGQcFATAsklaqG/DpvR5s2bVfQsDKgwBv7wwzIV5Fe5chWVNkJKTgRwRAMBfvASosAoDzsdzib17t3XPB4RLnZCIOEi9//3RAPJJYAeX8/MzFReG9xQyMZgnLCFgdluDPZYZUw8NnXqW8o+hJgkFD7tfNdddxMO2OW2CIHkFkF5XxCIYQSEQGJ48KXrgkBuEYhJAkGC4c8//9RIbNPL9eyJDqzbeY7cgi/vCwLRjkBMEggMcvPmfZVnBMJ2EruwYA+P8Hs9wxmecTouj6CyEiVKqmsz4LvXE/NwvXrOD/6Ng+kQhYgkRuFkYY92IZf2XzoEYpJA3OBElCmS7GCi+amBMIE0a9bcvM18/fr1KjM60gPYg3nsWc/1sHy+msHpDAsIBCkHODAIGbsQiYozPDCigYR69nxIhTRLEQT8QEAIREPRLUQ8t1sYtwTGCIIaPXqUCuPWoygDnTVBLovXX5+kQu3t+THsyY50AYH7DqcvcSAtnEzsfgib1JH/EBACuYwEgk87JZEJdlgNxJOammJkuzpvyYUSiEDwLWgko0ePVJd+PfvskPwnzdKjPEcgagkEGbGRfNee64AnpH6EHqhyujg8jxOc+hWXbin6+DAWayDdunVXmbi3bduqUtVhIuLyLD0Tt9MIBrpCQW8Xp7cLRiD4hlsOTvxboLSMnDaA0+bxYSuc+MX2B9scHFLDKV0pgkAwBKKWQHCdw1tvvWm5IgCdRZYyHOO3J8PF78j6jQzu9uAv3KqGZLa4MqBOnbrm/b64DhOTmrNrYwVHjgocdccx/G+//Uad9h06ND1gXlE3AuGQYtwYp2fS9kIgbin0ghGIvS3ABakQOnToqCI80Ufk/Rw37oVgsiP/LghQ1BIIZ5fSk84cOXLEuCMmXaUfPH36tLkSc2YwPi8RKK2g0/Fm9m7Ys445JQwKpIHoRlQkX0KEIA6BPfHEk5YkOV4IxCnZcrAtDNrGpzDRF6QoQKYve8IZZAwXb42wgxcEopZA0DkYBbF6cmJerJxQ7Tt37qK2KKymM2FwdupwCMQpuzZnKAt2u5ubG/fOO+8y7vW4eDeNXrwQCJOlPYlvMA0EIeFTpryuNLd69eobtpRklfR44MDBQhpeZow8Y0EgqgmEU+yzrQK5McuXL0+YmDjizV4K2C2QsSpYIuRAXhinzOJeE9Patw3QiCZPnqQuo3Y60OSFQJi8dE+MFw2EMWNPDJIb4WJyFFwVAC2NL+GWuSIIBEMgqgmEV2EIPdLcITExT0js7ePiSqsLlJAIGWkO+QKqcDQQ++1gADZcAsG77EnBn+1Hqr0QyEcfzVQ2GP3ODy8EAq1tx44si/cGhIZs5TjdirgUpD+EcViKIBAMgagmEHSOjaMtWrRQN87zrV5YWfEfbkmDXUSPfYgEAkHbOc+n3QYRjEA46TCuW9SvPAxGIMHuggGpAUMQSbBtWTDBkn+PDQSinkDgtl248D/KO4Jj3nyVIWsHN974J5XtXL8uMBCBOK2+boFkudFAWLyw7ULy5WeeGWQmMg5EIIhenT59uno9JSXVYnwNRCDIGQutRU9WDMJA0W+mc7phLTamgvQyHASinkB4EqPz9lUTBkJ4FGrWrGlZqd0IBBMQUaG48evEiROmy/ZSEgja/8IL4yz38rqFsm/cuFHFaiCLOdzR9vMwTqHsSLiDDOzYmlStWk1dPcEeFnwbd9Di/l++yxaXPx89Cm/WCAs5hSNc8k7+RyDqCQRDBKLAPh5ahr6acrCZnVjcCASr75QpbxhXLBxTiVeSk1OpbNmyKg7EbxuILlrsDmaDqFNgG9qDwDXcNI9rH5yK02E6ZOGGURRZzmvUuJiVigsww/0gnLEdB+9AMriyMlhwXP6fGtJDLwjkCwLx0lF5RhAQBPxHQAjEf0ylRkEgZhAQAomZoZaOCgL+IyAE4j+mUqMgEDMICIHEzFBLRwUB/xEQAvEfU6lREIgZBIRAYmaopaOCgP8ICIH4j6nUKAjEDAIRTyDIOoaj9FIEAUEgshBA9jp7UGOBzMwNFyKpmVlZWUYC4f2R1CRpiyAgCBgIJCQkmrcMMCARRyBoGEgEd6KKJiJyKwhcfgSgecTHl8tBHmhZRBLI5YdMWiAICAJeEBAC8YKSPCMICAKOCAiBiGAIAoJA2AgIgYQNnbwoCAgCQiAiA4KAIBA2AkIgYUMnLwoCgsD/ABMvGle+SRp3AAAAAElFTkSuQmCC)"
      ],
      "metadata": {
        "id": "9QyPlocbfPYk"
      }
    },
    {
      "cell_type": "code",
      "source": [
        "type(spark.sparkContext)\n",
        "sc=spark.sparkContext\n",
        "lines = sc.parallelize([\"pandas\", \"i like pandas\"])\n",
        "lines"
      ],
      "metadata": {
        "colab": {
          "base_uri": "https://localhost:8080/"
        },
        "id": "2kcyY9NvcSXb",
        "outputId": "6d3a9a81-7d08-40b4-bdd0-4296a9988bb1"
      },
      "execution_count": 149,
      "outputs": [
        {
          "output_type": "execute_result",
          "data": {
            "text/plain": [
              "ParallelCollectionRDD[1084] at readRDDFromFile at PythonRDD.scala:274"
            ]
          },
          "metadata": {},
          "execution_count": 149
        }
      ]
    },
    {
      "cell_type": "code",
      "source": [
        "inputRDD = sc.parallelize({1,2,3,4})\n",
        "mappedRDD=inputRDD.map(lambda x:x*x)\n",
        "filteredRDD=inputRDD.filter(lambda x: x%2==0)\n",
        "print(mappedRDD.collect())\n",
        "print(filteredRDD.collect())"
      ],
      "metadata": {
        "colab": {
          "base_uri": "https://localhost:8080/"
        },
        "id": "F9B5JdfIdntE",
        "outputId": "eb5bbe3e-ee39-44d6-ad8a-05b07cddb433"
      },
      "execution_count": 150,
      "outputs": [
        {
          "output_type": "stream",
          "name": "stdout",
          "text": [
            "[1, 4, 9, 16]\n",
            "[2, 4]\n"
          ]
        }
      ]
    },
    {
      "cell_type": "code",
      "source": [
        "lines = sc.parallelize([\"hello world\", \"hi\"])\n",
        "flat_words = lines.flatMap(lambda line: line.split(\" \"))\n",
        "print(flat_words.collect())\n",
        "\n",
        "words = lines.map(lambda line: line.split(\" \"))\n",
        "print(words.collect())\n"
      ],
      "metadata": {
        "colab": {
          "base_uri": "https://localhost:8080/"
        },
        "id": "f9Kr6tz_ejyo",
        "outputId": "cfe6ba0c-976a-4e3b-9bc4-7bd1941c6765"
      },
      "execution_count": 151,
      "outputs": [
        {
          "output_type": "stream",
          "name": "stdout",
          "text": [
            "['hello', 'world', 'hi']\n",
            "[['hello', 'world'], ['hi']]\n"
          ]
        }
      ]
    },
    {
      "cell_type": "code",
      "source": [
        "rdd1=sc.parallelize(['coffee','coffee','panda','monkey','tea'])\n",
        "rdd2=sc.parallelize(['coffee','monkey','kitty'])\n",
        "print(rdd1.distinct().collect()) #requires shuffle\n",
        "print(rdd1.union(rdd2).collect()) #shuffle not required\n",
        "print(rdd1.intersection(rdd2).collect()) #requires shuffle\n",
        "print(rdd1.subtract(rdd2).collect()) #requires shuffle"
      ],
      "metadata": {
        "colab": {
          "base_uri": "https://localhost:8080/"
        },
        "id": "xcbqCbA8fOQd",
        "outputId": "b9e545ad-4126-495d-95a8-fe725d51ec83"
      },
      "execution_count": 152,
      "outputs": [
        {
          "output_type": "stream",
          "name": "stdout",
          "text": [
            "['panda', 'coffee', 'monkey', 'tea']\n",
            "['coffee', 'coffee', 'panda', 'monkey', 'tea', 'coffee', 'monkey', 'kitty']\n",
            "['coffee', 'monkey']\n",
            "['panda', 'tea']\n"
          ]
        }
      ]
    },
    {
      "cell_type": "code",
      "source": [
        "NO_OF_PARTITIONS=100\n",
        "rdd=sc.parallelize([2,3,4],NO_OF_PARTITIONS) \n",
        "print(rdd.reduce(lambda x,y:x+y))#reduce is an action\n",
        "PARTITION_INIT_VALUE=1\n",
        "print(rdd.fold(PARTITION_INIT_VALUE,lambda x,y:x+y))#fold is an action\n",
        "# Thus number of partitions is 100\n",
        "# For each paritition it starts with an initial value of 1.\n",
        "# Assume 2,3,4 are in same  parition.Without loss of generality we can take it \n",
        "# to be partition#1\n",
        "# its sum would be 1+[2+3+4]=10\n",
        "# For remaining 99 partitions the values 99*1=99\n",
        "# Common sense prevailing it has to start with initial value of 1\n",
        "# Thus final answers would be 1+ 10+99=110\n",
        "# \n",
        "#\n",
        "#\n"
      ],
      "metadata": {
        "colab": {
          "base_uri": "https://localhost:8080/"
        },
        "id": "MV5nYC8nj6Rt",
        "outputId": "b785f78e-84be-4af1-89f8-2a37d0a11d53"
      },
      "execution_count": 153,
      "outputs": [
        {
          "output_type": "stream",
          "name": "stdout",
          "text": [
            "9\n",
            "110\n"
          ]
        }
      ]
    },
    {
      "cell_type": "code",
      "source": [
        "NO_OF_PARTITIONS=100\n",
        "rdd=sc.parallelize([2,3,4],NO_OF_PARTITIONS) \n",
        "print(rdd.reduce(lambda x,y:x+y))#reduce is an action\n",
        "PARTITION_INIT_VALUE=7\n",
        "print(rdd.fold(PARTITION_INIT_VALUE,lambda x,y:x+y))#fold is an action\n",
        "# Thus number of partitions is 100\n",
        "# For each paritition it starts with an initial value of 7.\n",
        "# Assume 2,3,4 are in same  parition.Without loss of generality we can take it \n",
        "# to be partition#1\n",
        "# its sum would be 7+[2+3+4]=16\n",
        "# For remaining 99 partitions the values 99*7=693\n",
        "# Common sense prevailing it has to start with initial value of 1\n",
        "# Thus final answers would be 7+ 16+693=716\n",
        "# \n",
        "#\n",
        "#"
      ],
      "metadata": {
        "colab": {
          "base_uri": "https://localhost:8080/"
        },
        "id": "GyDZPbbTSJjw",
        "outputId": "d6c24841-b48b-46e3-8f48-ec0f0fd24d8d"
      },
      "execution_count": 154,
      "outputs": [
        {
          "output_type": "stream",
          "name": "stdout",
          "text": [
            "9\n",
            "716\n"
          ]
        }
      ]
    },
    {
      "cell_type": "markdown",
      "source": [
        "The way fold works is this... "
      ],
      "metadata": {
        "id": "xpKDb_kKRAow"
      }
    },
    {
      "cell_type": "code",
      "source": [
        "nums=sc.parallelize([1,2,3,4,5,6,7,8,9,10])\n",
        "def seqOp(acc,value):\n",
        "    return acc[0] + value, acc[1] + 1\n",
        "def combOp(acc1,acc2):\n",
        "    return (acc1[0] + acc2[0], acc1[1] + acc2[1])\n",
        "\n",
        "\n",
        "sumCount = nums.aggregate( (10, 0), seqOp, combOp)\n",
        "print(sumCount[0])\n",
        "print(sumCount[0] / float(sumCount[1]))"
      ],
      "metadata": {
        "colab": {
          "base_uri": "https://localhost:8080/"
        },
        "id": "cnrQMrY6tapB",
        "outputId": "1e70ff27-a0c7-47d7-fe49-eb0523bbc84f"
      },
      "execution_count": 155,
      "outputs": [
        {
          "output_type": "stream",
          "name": "stdout",
          "text": [
            "85\n",
            "8.5\n"
          ]
        }
      ]
    },
    {
      "cell_type": "code",
      "source": [
        "nums=sc.parallelize([1,2,3,4,5,6,7,8,9,10])\n",
        "def seqOp(acc,value):\n",
        "    return acc + value\n",
        "def combOp(acc1,acc2):\n",
        "    return acc1+ acc2\n",
        "\n",
        "\n",
        "sumCount = nums.aggregate( 0, seqOp, combOp)\n",
        "print(sumCount)\n",
        "#print(sumCount[0] / float(sumCount[1]))"
      ],
      "metadata": {
        "colab": {
          "base_uri": "https://localhost:8080/"
        },
        "id": "YmEzwM2jv8WL",
        "outputId": "579b2b61-87f5-4edc-ac5b-3266bd3f35bf"
      },
      "execution_count": 156,
      "outputs": [
        {
          "output_type": "stream",
          "name": "stdout",
          "text": [
            "55\n"
          ]
        }
      ]
    },
    {
      "cell_type": "markdown",
      "source": [
        "![image.png](data:image/png;base64,iVBORw0KGgoAAAANSUhEUgAAAQYAAABHCAYAAADlRulBAAAUWUlEQVR4Xu1dB7gURRIuko/4RDgFBBHEAIJgBhUDKiBJJIhnIINwROEJDx9BMoZDEZV7JAH9lCOLeIcoAuJ5gIgnIgoqJzkqShQU4eZvrtbe3pmd2X1hZt2a7+MDdme7q//u/ruquro6z8aNm86QPIKAICAIaAjkEWKQ8SAICAImAkIMMiYEAUEgAgEhBhkUgoAgIMQgY0AQEATcERCNwR0jeUMQSDoEhBiSrsulwYKAOwK+EsPBgz/Q0aPH6PTp0+6SyhuCgCCQowjkzZuXihYtQiVKlCTfiAGkcPjwkRxtqBQuCAgCsSOQmlrMP2LYvn27aAqx95n8QhDIcQSgOfimMWzdujXHGygVCAKCQHwICDHEh5v8ShD4QyMgxPCH7l5pnCAQHwJCDPHhJr8SBP7QCHgihvXr11ONGjWyFYjs9DF89NG/KDNzAo0aNYbKl784W+WUwvxDoHXrh6hx4yb0wAMPOgoxaVImrVr1bxo2bERC9f2pU6eoZ8/uVLx4cRoz5mlXkGfNmklvv72IXnvtDdd3s+MFT8RQrVoVatSoMfXtm0alSpXOjnrJKzEcOHCAZs58nb74YgP9/PPPoboLFSpEnTt3oRtuuJGEGM7Csn//PkpL60Pnn38BPffcOM/99MMP39Njj/WiK66oTIMGDbH9XadO7dXnU6ZMs/2+bdtH6KKLytPIkaM91+v2ohdiePHFF+jTT9clHDEcO3aMHn+8b2ITQ9WqlVUfFixYkDp06EQdO3ZS/87K44UYFiyYT/Pnz6X8+fPTpZdeav25jFJSCtK2bVtpz5491KTJvXTLLbUDQQzffPM1TZ06hbp16+7byjV27LP02Wf/iZkY0I99+z5GIIipU6crvPXnq6++pNGjR6qPMjIGUZUqV9p+77a6xzpevBBDrGUG/X1oPzNnvkHjx78UJmogNQYmBpYUWgO0B2gRefLkiQtrN2JgIKpVu4r69OlL55yT4lhPEDQGv2UAITz//FgqUKAApaaeG5PGAGAZ77S0fnT11ddEDMoPPlhBR44coVatHrAIuantoLUjjbgGx/9/lIzE4EQACUEM3NnVq9egJ57IIPwd6xONGLZv30YDBz6hBigGqtvj96SEfH7KAHu1e/eudNttt9O6desUXLGYEniftYI777yL2rfvGAZ5RkY6FS5chHbv3kUXXlg2wtwYNCiD9u7d42hmuPWf0/dCDL8jk1DEALGhMcTjf4hGDC+9NJ7Wrv2YXnzxZbX6uT36pNyyZYvyScAfAS2jXr16Ec6r9es/U+ranj27VfQl/BWPPNLamlh3hKrSy9y69TuaO3cu/fjjQaVmX3llVerSpWtINgxg89HtfEzcV16ZQmvWrKFffjmp5KpZs6Yyy3S1nSdCmTJlaMaMGepdLw5VmBC7du2iZ575K/Xv/3hcxIAfwY9gahvsf4CmsGPHDqsNq8PMDdjKXbt2DiNxtHfRordoyZJ36Nixo0qeIkWKUv3691CzZs3DoIIJU7ZsWfVdZubf6NChn6zyuikT0Y4Y2FxizcVuwnCZHTp0pAkTXqavv96s+rls2XKUnj6AzjuvRJgMPB527dqpPq9QoaLSiHv16hF1cWJsTDJF+zt2bBfhc8Hn7du3IX6f5cTix4uhOY54ceR2Tpv2Ks2bN4feffddNT7sxq7bfPHyvSfno2lK2BUM7+rMmbMt+7q8l3qjOh+7detiuzI5FcyTGCBigtx771lVd8GCeXTw4EFq06Yd1a1bT33GHQA569atH/Ze9+49qVatm9RnXCbs5hUrVqiBizZikH344UrC5B09+mk1sVesWE7ffvsNQd1u1qyFdQilhDURiijHKAYDVtx9+/ZRw4aNlPMWPpJly96PGDiYCBdfXEF1dr9+/aOaT4wF5IRnfujQ4VSx4iXKV4AnVo0BvwEhY+KPGzeeSpb8kyrnvffepVdfna4ICsSA3R/d3IAJg8nKGKO9gwcPpJ07dyhNEhicLWeJhf32iIkGeQsWTKEzVubR/v3TwyatSQzTpk1VuDVteh+1bNlKletEDKmpqQrzWrVqKUyB+dKl79G55xa32jkhNJS4n0HkWEQKFiykFiX05/Hjx121VvTtiRMnw/BmTFBJZuZkNRbw8OdscunEAIJFvR9/vIY2bPjcIpbO6jcXXHCBWoi4nRjjeBfa4YkTP1tjfL6SM7vNuCwTQ05oDBgQdiptqDeNf3Dn6pMVrxw+fEhtCenechDD5s2bQ0TB73Xv/he66qrq1uAcEEYMGDBYifWVnSeLbm87mRLcocOHj1QTl5+VK1fQ5MmTwiYZ2p2SkqIGk+kAtGv7d9/91yKEIYpweEsvK8TAbeAVG3Vi0m/Z8q218k5UAxLagd43PFmZTLi9ehksO3/Xu3cfuv76G9THkPfAgf1WPc9bk6BUWDN1YuDfmg5OJ2JAmaYMLCsTG9rTu3cPReRM8qasbuYs16+T6YQJL1lm125FRroMqB8Y886OTgxmvea2pE4MunnNJuBNN91sOb57OE2RmD/PEjHklI8hVtuSB3Tnzo+GmQNAY+TI4UprcFtBzQnFZeraho4u1O7LL78igkhM1d9J+2G1Uh/oaLdOTtF6E6TXr1+akkEfKFkhBp74+iBDO6+99rrQoIM/ASsU42nWh/ZCs8JEMx9Wsa+55lpre7RviBjOnDltOU7HR7zP4wDHgKG13HNPA3r44dZh7zkRg12ZvGLzOOE+1omKC+f+cSMG7EYNHz40TCsFBtAcFy/+p9pN4wkLrC655BLq0aNXqO0wo/T+c3M+mgsMCkJ9lSpd6skf55Uh4iKGnN6VwJ541arVQpPOrTHcwXagsU2qMzBiI5YtW2ox+jbF6lAFYa/pfoFoZfJKh795gjhpDHb+B709+sDDu3aD326CQYXFY650WSEGlIeJjyPx0BB4NdJXPX2FxPuIf9A1CDdtD/Llz5/P0sLGhiZH6dKlbfsaZUELxNZ0zZq1QhNKxyOaj8F0XLMZyWTMv9XVfb1s1O9GDObEZMxQ5uzZf1fmAbBkf4SOZTwaA3wMpjaZ1T63m18xEUNuxTGwl9urSh1tR8AkhrlzZ9PChW8qOx7kA/sTK9zChQssR2pe14nOIKIzChcuHAroiUYMqId9F2YnsA2Jz71qSlyXG2F6GdRmGRw7As3n/feXKv+JHtvAAx+aVErKObbmUDQz0I4YzFWTZWINCqYMxt6IEaMinNHZQQx2k437wwuGMB0QZAUTAfJs2LBBjQvWUIAlHNgwHXUSiocY7CIffSOG3I58xICcPv0V13BYHkBeiYFVWTttpE+fXrbEYGcr26ncTjJAFYeX2ymi0FyhvAQJwX7euHGjLS9glcLTqtWfQ44rNwLRv+dVFf6T5cuXK/vblB1tQpATyBUTQidwL6YEVn9dvY5GDMDjxhtrKl9KqVKl1ITTY1qyQgy8SNg57ux2W5xw1J2KmPx16tQJxXoAKzhL4biFSatjmfDE4MdZif7905QK2bx5y4gtLrODvBID9uHT0/tFqOu8CtqZEggTHjAgI0x9M51YkIdl0Hc28Dl7+u3MHLMdXjWGaBM9O1YP9ots3rzJNqCJHZJwlJYrd1GYbTtjxjTl/Y/mfNR3Newmh64xMFHy7gvIQTefskIM7B+w8+tMnjyRVq78wJMpwQsOtlixY6U7UoHVb7/9pjSGBg0ahgWHRSOGp59+Vu3M8RMtjiE7+twcU55MiVhWHK/vukU+wrk2Zsxote2FFaJ69erWQa6r6aefflJ+Afy+Zcv7XUOiTVOiR49uVgTf4bCtw9WrV6stMztTAjbuqVO/hbZAMVgwoEwVk1davN+wYWMlY9u27dXOCJyEJ06cULLCWYgH369duzZs6yyniGHcuOcIe/VeDxpBNUZoLh67OArW6PC96Zzl7VmQut12pakReSUGnXz13aesEAPKBDbr1n2iYhzg38GDrVU4PKEJeDEl8BuncHTsYEHGkycjY1Ls2s4LTOXKVdR4+f77A2prVojBYJbly5epQBkORsLXcL4UL36eOpdw2WWXR406NIkB5bzwwjgr3iE8mGXEiOGqZtOZiJUeZABbG4Me6nODBo1stZhFixZaZzvmqffQsQMHDlZlIjBqypTJ9OWXG9V3SJ2FgVe/fn1rMDYMtTgoxPDJJ2stjJ6nYsWKKceZ+bCafXZi/R7zwO+hja+//prqFz74honXvHkLZRboTyzEgN+x+g9NBT4HBPuYpw6dyjSdjywH/CqLF/8jFBTHwWcIRvJKDLyFbRIfOx3tDrY5yYm4FGCHoKy77rqb2rXrIMQQMQp9+sDPEGefmizVagjwduV1110f2lpNJoACa0r43QlCDH73gL/1s9Zkd2jMX8lyp3YhBgechRhyZwAGsRY9jP3ZZ8dGRGQGUebslkmIQYghu8dUQpU3ZMgg61xISeXYxrNv3151Nubo0SP04IMPKUdyMj5CDEIMyTjuQ22eM2eWciwfPnxYfQbHNhybrVu3Ce0gJSNAQgzJ2OvSZkHABQEhBhkigoAgEIGAEIPPg+KP5OREMlpEluI0Zs+evX1GVqrPCgKBJAanQBQ0VI8MS09/wlPegqwABA81chAgEe3GjV/Q3XfXVRGNTg9HBSIoBcEpbo/fxMD5EHQ5EcQF2Vu0uD8mfNFvTz45WIjBrdMT4PuEIgZOTGLGy+ckzjzREf+ekTFAZfjRMwCZdY8aNUJleULEIGfuiSZfEIgBmYBw6AoPQrWRqn/v3r1hWapyEmMpO3gIJAwx8JkDQIi9ZS+5ILMDbuQ9QL5ChDfz4akhQ4aqUGzz4VBhp9wBdvIEgRggl5nIhmPzvWo+2YG1lBEcBBKCGDjg5NChQ7lKCnz6jjP88P+d8g3grMTs2bOsdGG/py5z6+qgEgOHBGd3yjA3POT7YCCQEMSAg1Cff74+lPDUhM4tCzObA07hrThxmZpaLCIdGY5Mb9q0Kcx0wLtQve1uZIJ2gdOffPAo1mzUfL2e02EqJxKBNjVxYmbokFa0g14mdtGO7EIOPiuADFfTp08jhArjYBQOguGkaM+evcK0N1N2PRMWDjvh90g0Cw2F+00vExjgcJQ8/iIQeGLYuXOnIoVHH+2qjqHakYJbFmZ2IJYuXSbiCjVOsmGqzDALkJfgvvuah52k5AxH5sUsfD0cOydjzUatH2+OhRh0EwunPpGNClmGkW3Yy2rvRAzmWQGQM3wPOJrMma6RdwFHoDlNG/rGiRiQKat27dphp0mRqQunXJs2babkRtQh0qJPnWp/DZ6/UyW5ag80MSB1GhKP4v6FOnXutO0Zr1mYOYGImY0YWgHIwUwjBwJ48835EU5EJgDTj8By8ASPNRt1vMSACYtEM1iBdb8Ljj2/885i22PROpAmMUAzQH6CSZMmWnkwzqGXX85UOxM47lyvXv2wOjiZiZ6ExokYTLyckubwvRvJNQ2D19pAEwMy62CLMNouhNcszLyC6xmhOPMOfAbmFiRMhsqVK9smILXLSelkjrip7nbmgVeNwS6dO9eHHRycA7DLpGQSA1LFmQ/yBwwePCTichb9Pbt0807EYGbwZo3MLl1b8KZJ8kkUaGJA0gvEreOSk0qVKln58p6M2FePJQuzeTkI+x7MLEWsRjvtPnBSDtMpafowYslGHY/G4HR7kT6M3XJIQmPQtyvx24oVK6okufoDEoVJh9RlyM6ELFh8vkAnn2g+Bv1eDZQNZ+3cuXNUNbijFPiZ9SbflAxGiwNPDLhIxemyDbZpvWZhZiLgCY87J44fPxbhdEQsAq5Ws7sbAXXyaofUZfA1YBsTB3H02IWsZKP2qjEwMdSufau6wt7uqVChgkpG6/R4yRcIP0Z6en+FFZyD5cqVU/Xt2LHd8gksCdNKnIjB6ao9mIo4yLRy5UqVwj9ZE6MEgw5+lyIhiAHicoo2cwWMJQszOyFvvfU2lZgzLa2PSpulRyiyD8Ft/553SpBaHZGRWA05lVs82ahNjcFugph+DKe7E2MZZF6Iwc2P40VjcLuDE5iBYJFGz838iaV98m58CCQMMehJRvUEpLFkYQZEeB+5F2+//Q51L6PpdISTEuqy250WbG7A84/EqXrsQjzZqPWJA79J3rz5lOOQLxdB+3G5Cy591d+FebR///4I56PX4eCFGDhhqnn/AjQuZJKOhxjQHjz65SnsF0nWrEle+yw33ksYYgAYvDUH9ZMHYyxZmFEGBylhx+Pmm28JczrqGkW08xAoh9/99ddfqUCBAhFEEms2an2ysxkCByAu6IUPANed4f+YiPq7HCaOuALeSoR8eA+XyOLdaI8XYmATTM+k/NZbC9WFO+b9jF5NCZhBw4YNVRfJYvsTD8qEFuT1lvPcmCDJWkdCEQM6CVmecfkI0rHzDc9eszBzJ2OVxQUgpnNRPxdhXrBqN0A4RNouEjLWbNSmqg31HXv6vH3Xtm1bypcvv3LEmu8ixT4CnDDZkFkYqzAmm11WZrMdXogBvzHladmypdq6hDzxaAzw0zz11NnrAUCykBkH1XB1fZkyFybrfAxMuwNJDDmNjn7vo16Xfi4ip2WQ8gWBICOQdMTApoTpXDTPRQS500Q2QSCnEUg6YnCKdMxpoKV8QSCREEgKYoDtvWrVKst7v0+dITCj8BKpw0RWQSA3EEgKYuDtQzi44JBr0qRpbmArdQgCCYtAUhBDwvaOCC4I+ISAEINPwEu1gkCQERBiCHLviGyCgE8I+EYMiMpDMI48goAgECwEEEXrGzEcPPiDFeJ8JFiIiDSCgCCg0hz6RgzAH+Rw9Ogx0RxkMAoCAUAAmkLRokWoRImS/hJDALAQEQQBQcAGAV81BukRQUAQCCYCQgzB7BeRShDwFQEhBl/hl8oFgWAiIMQQzH4RqQQBXxEQYvAVfqlcEAgmAkIMwewXkUoQ8BUBIQZf4ZfKBYFgIiDEEMx+EakEAV8R+B821rJuMn/ABAAAAABJRU5ErkJggg==)"
      ],
      "metadata": {
        "id": "lrE6X0ew09Tj"
      }
    },
    {
      "cell_type": "code",
      "source": [
        "lines=sc.parallelize('Python')\n",
        "pairs = lines.map(lambda x: (x.split(\" \")[0], x))\n",
        "print(pairs.collect())"
      ],
      "metadata": {
        "id": "2azWBfJJ0l8y",
        "colab": {
          "base_uri": "https://localhost:8080/"
        },
        "outputId": "d98dd16c-871c-475c-aa8a-74dc46386963"
      },
      "execution_count": 157,
      "outputs": [
        {
          "output_type": "stream",
          "name": "stdout",
          "text": [
            "[('P', 'P'), ('y', 'y'), ('t', 't'), ('h', 'h'), ('o', 'o'), ('n', 'n')]\n"
          ]
        }
      ]
    },
    {
      "cell_type": "code",
      "source": [
        "rdd=sc.parallelize({(1, 2), (3, 4), (3, 6)})\n",
        "rdd1=rdd.reduceByKey(lambda x,y:x+y)\n",
        "print(rdd1.collect())\n",
        "rdd1=rdd.groupByKey()\n",
        "print(rdd1.collect())\n",
        "print(rdd.mapValues(lambda x:  x+1).collect())\n",
        "print(rdd.flatMapValues(lambda x: range(x,6,1)).collect())\n",
        "print(rdd.keys().collect())\n",
        "print(rdd.values().collect())\n",
        "print(rdd.sortByKey().collect())\n"
      ],
      "metadata": {
        "colab": {
          "base_uri": "https://localhost:8080/"
        },
        "id": "YTneNbHyW-y3",
        "outputId": "34367911-09f2-42ca-b378-a8617ee33812"
      },
      "execution_count": 158,
      "outputs": [
        {
          "output_type": "stream",
          "name": "stdout",
          "text": [
            "[(1, 2), (3, 10)]\n",
            "[(1, <pyspark.resultiterable.ResultIterable object at 0x7f3f611460d0>), (3, <pyspark.resultiterable.ResultIterable object at 0x7f3f61905550>)]\n",
            "[(1, 3), (3, 5), (3, 7)]\n",
            "[(1, 2), (1, 3), (1, 4), (1, 5), (3, 4), (3, 5)]\n",
            "[1, 3, 3]\n",
            "[2, 4, 6]\n",
            "[(1, 2), (3, 4), (3, 6)]\n"
          ]
        }
      ]
    },
    {
      "cell_type": "code",
      "source": [
        "rdd = sc.parallelize({(1, 2), (3, 4), (3, 6)})\n",
        "other=sc.parallelize({(3, 9)})\n",
        "print(rdd.subtractByKey(other).collect())\n",
        "print(rdd.join(other).collect())\n",
        "print(rdd.rightOuterJoin(other).collect())\n",
        "print(rdd.leftOuterJoin(other).collect())\n",
        "print(rdd.cogroup(other).collect())\n",
        "\n"
      ],
      "metadata": {
        "colab": {
          "base_uri": "https://localhost:8080/"
        },
        "id": "OPxPDZ8xY_DN",
        "outputId": "d25ca95b-bd79-45d6-c9a7-7d984915d386"
      },
      "execution_count": 159,
      "outputs": [
        {
          "output_type": "stream",
          "name": "stdout",
          "text": [
            "[(1, 2)]\n",
            "[(3, (4, 9)), (3, (6, 9))]\n",
            "[(3, (4, 9)), (3, (6, 9))]\n",
            "[(1, (2, None)), (3, (4, 9)), (3, (6, 9))]\n",
            "[(1, (<pyspark.resultiterable.ResultIterable object at 0x7f3f61b1d820>, <pyspark.resultiterable.ResultIterable object at 0x7f3f61867340>)), (3, (<pyspark.resultiterable.ResultIterable object at 0x7f3f618fcdc0>, <pyspark.resultiterable.ResultIterable object at 0x7f3f618e3220>))]\n"
          ]
        }
      ]
    },
    {
      "cell_type": "code",
      "source": [
        "rdd=sc.parallelize({('panda', 0), ('pink', 3), ('pirate', 3),('panda', 1),('pink', 4)})\n",
        "print(rdd.mapValues(lambda x:(x,1)).reduceByKey(lambda x,y:(x[0]+y[0],x[1]+y[1])).collect())"
      ],
      "metadata": {
        "colab": {
          "base_uri": "https://localhost:8080/"
        },
        "id": "ktHYwEMlcTTm",
        "outputId": "6d6054b4-8d40-4c47-c960-8d4556c9a0bc"
      },
      "execution_count": 160,
      "outputs": [
        {
          "output_type": "stream",
          "name": "stdout",
          "text": [
            "[('panda', (1, 2)), ('pink', (7, 2)), ('pirate', (3, 1))]\n"
          ]
        }
      ]
    },
    {
      "cell_type": "markdown",
      "source": [
        "![image.png](data:image/png;base64,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)"
      ],
      "metadata": {
        "id": "0i8wl7wvR7yb"
      }
    },
    {
      "cell_type": "markdown",
      "source": [
        "1 Given an input Key-Value RDD consisting of URL string as key and English text (string) as value,return an inverted index key-value RDD from each word in the text as key to the list of URLs as the value. [4 points]"
      ],
      "metadata": {
        "id": "L-fqDyJVSEij"
      }
    },
    {
      "cell_type": "code",
      "source": [
        "urlTextRDD=sc.parallelize([('www.google.com','Module5 is boring'),('www.yahoo.com','yahoo is defunct'),('www.sun.com','sun is defunct'),('www.oracle.com','oracle took over sun')])\n",
        "urlTextRDD.collect()"
      ],
      "metadata": {
        "colab": {
          "base_uri": "https://localhost:8080/"
        },
        "id": "f7HduX61SJTn",
        "outputId": "51acd5ee-93a3-400c-c51d-8e66d4bd1ab2"
      },
      "execution_count": 161,
      "outputs": [
        {
          "output_type": "execute_result",
          "data": {
            "text/plain": [
              "[('www.google.com', 'Module5 is boring'),\n",
              " ('www.yahoo.com', 'yahoo is defunct'),\n",
              " ('www.sun.com', 'sun is defunct'),\n",
              " ('www.oracle.com', 'oracle took over sun')]"
            ]
          },
          "metadata": {},
          "execution_count": 161
        }
      ]
    },
    {
      "cell_type": "code",
      "source": [
        "invertedIndexRDD= urlTextRDD.flatMapValues(lambda v: v.split(' ')).map(lambda  x:(x[1],x[0])).groupByKey().map(lambda x:(x[0],list(x[1])))\n",
        "invertedIndexRDD.collect()"
      ],
      "metadata": {
        "colab": {
          "base_uri": "https://localhost:8080/"
        },
        "id": "nds0l510S9Qz",
        "outputId": "a5958a0d-b48a-4c57-9191-835d441aef70"
      },
      "execution_count": 162,
      "outputs": [
        {
          "output_type": "execute_result",
          "data": {
            "text/plain": [
              "[('is', ['www.google.com', 'www.yahoo.com', 'www.sun.com']),\n",
              " ('boring', ['www.google.com']),\n",
              " ('defunct', ['www.yahoo.com', 'www.sun.com']),\n",
              " ('sun', ['www.sun.com', 'www.oracle.com']),\n",
              " ('oracle', ['www.oracle.com']),\n",
              " ('took', ['www.oracle.com']),\n",
              " ('Module5', ['www.google.com']),\n",
              " ('yahoo', ['www.yahoo.com']),\n",
              " ('over', ['www.oracle.com'])]"
            ]
          },
          "metadata": {},
          "execution_count": 162
        }
      ]
    },
    {
      "cell_type": "markdown",
      "source": [
        "2 . Given an inverted Index key-value RDD from keyword (key) to list of URLs (value), a PageRank\n",
        "key-value RDD from URL (key) to PageRank of that URL (float value) and a query string variable with\n",
        "one or more keywords, return the URLs having the top-10 largest Page Rank values containing all the\n",
        "keywords in the given query string, and with the URLs sorted in descending order by PageRank value.\n",
        "[8 points]"
      ],
      "metadata": {
        "id": "u0FOlJ4KWUFf"
      }
    },
    {
      "cell_type": "code",
      "source": [
        "urlPagerankRDD=sc.parallelize([('www.google.com',0.25),('www.yahoo.com',0.01),('www.sun.com',0.09),('www.oracle.com',0.19)])\n",
        "urlPagerankRDD.collect()\n",
        "queryStr='defunct is'\n",
        "queryKeys = queryStr.split(' ')\n",
        "#print('----------') \n",
        "#print(queryKeys[0])\n",
        "matchURLRDD =invertedIndexRDD.filter(lambda x: x[0]==queryKeys[0]).flatMap(lambda x:list(x[1]))\n",
        "#print(matchURLRDD.collect())\n",
        "#print('----------') \n",
        "for query in queryKeys:\n",
        "    #print('----------') \n",
        "    #print(query)\n",
        "    matchOtherURLRDD =invertedIndexRDD.filter(lambda x: x[0]==query).flatMap(lambda x:list(x[1]))\n",
        "    #print(matchOtherURLRDD.collect())\n",
        "    matchURLRDD = matchURLRDD.intersection(matchOtherURLRDD)\n",
        "    #print(matchURLRDD.collect())\n",
        "    #print('----------') \n",
        "#print('*********')    \n",
        "#print(matchURLRDD .collect()) \n",
        "\n",
        "\n",
        "matchURLNulRDD = matchURLRDD.map( lambda x : (x, 0))\n",
        "#print('*********')    \n",
        "#print(matchURLNulRDD .collect()) \n",
        "\n",
        "\n",
        "matchURLPagerankRDD = matchURLNulRDD.join(urlPagerankRDD).map( lambda x : (x[0],x[1]))\n",
        "matchPagerankURLRDD = matchURLPagerankRDD.map(lambda x : (x[1],x[0]))\n",
        "#Sort and return URLs with top 10 Pagerank values\n",
        "top10PagerankURL = matchPagerankURLRDD.sortByKey().top(10)\n",
        "\n",
        "print(\"Final output ......\",top10PagerankURL)\n"
      ],
      "metadata": {
        "colab": {
          "base_uri": "https://localhost:8080/"
        },
        "id": "60uRfDCjXFQL",
        "outputId": "ccbe97ca-21a8-4c7d-9f69-fe48d60f4256"
      },
      "execution_count": 163,
      "outputs": [
        {
          "output_type": "stream",
          "name": "stdout",
          "text": [
            "Final output ...... [((0, 0.09), 'www.sun.com'), ((0, 0.01), 'www.yahoo.com')]\n"
          ]
        }
      ]
    },
    {
      "cell_type": "markdown",
      "source": [
        "3 Given a key-value RDD from URL (key) to PageRank (float value), and a URL title RDD from URL\n",
        "(key) to webpage title (string value), return an output containing the inner join of the two RDDs by\n",
        "URL and in sorted order of PageRank. [4 points]"
      ],
      "metadata": {
        "id": "djPylWTmsduu"
      }
    },
    {
      "cell_type": "code",
      "source": [
        "urlPagerankRDD=sc.parallelize([('www.google.com',0.25),('www.yahoo.com',0.01),('www.sun.com',0.09),('www.oracle.com',0.19)])\n",
        "urlTitleRDD=sc.parallelize([('www.google.com','Module5 is boring'),('www.yahoo.com','yahoo is defunct'),('www.sun.com','sun is defunct'),('www.oracle.com','oracle took over sun')])"
      ],
      "metadata": {
        "id": "cU4YaTbHsfC7"
      },
      "execution_count": 164,
      "outputs": []
    },
    {
      "cell_type": "code",
      "source": [
        "urlRankTitleRDD = urlPagerankRDD.join(urlTitleRDD)\n",
        "rankUrlTitlesRDD = urlRankTitleRDD.map( lambda x : (x[1][0],x[0]))\n",
        "print(rankUrlTitlesRDD.sortByKey(False).collect())"
      ],
      "metadata": {
        "colab": {
          "base_uri": "https://localhost:8080/"
        },
        "id": "QXSKF9UPtD7M",
        "outputId": "bf64336f-cde9-4088-bcfb-64a9bc8260d8"
      },
      "execution_count": 165,
      "outputs": [
        {
          "output_type": "stream",
          "name": "stdout",
          "text": [
            "[(0.25, 'www.google.com'), (0.19, 'www.oracle.com'), (0.09, 'www.sun.com'), (0.01, 'www.yahoo.com')]\n"
          ]
        }
      ]
    },
    {
      "cell_type": "markdown",
      "source": [
        "4 Describe how you will implement reduceByKey transformation using a combineByKey\n",
        "transformation. [4 points]"
      ],
      "metadata": {
        "id": "3g0zezRkuWYH"
      }
    },
    {
      "cell_type": "code",
      "source": [
        "rdd=sc.parallelize({('Einstein', 2), ('Bohr', 4), ('Bohr', 6),('Newton',1)})\n",
        "def funcAgg(x,y):\n",
        "    return x+y\n",
        "rdd1=rdd.reduceByKey(funcAgg)\n",
        "print(rdd1.collect())\n",
        "\n",
        "def createCombiner(value):\n",
        "    return value\n",
        "def mergeValue(acc,value):\n",
        "    return  acc+value\n",
        "    \n",
        "def mergeCombiners(acc1,acc2):\n",
        "    return acc1+acc2\n",
        "           \n",
        "rdd2 = rdd.combineByKey(createCombiner,mergeValue,mergeCombiners)\n",
        "print(rdd2.collect())\n"
      ],
      "metadata": {
        "colab": {
          "base_uri": "https://localhost:8080/"
        },
        "id": "Kjye5Y-2uXsS",
        "outputId": "c8c26210-76c1-4c29-d902-3eac683afdff"
      },
      "execution_count": 166,
      "outputs": [
        {
          "output_type": "stream",
          "name": "stdout",
          "text": [
            "[('Bohr', 10), ('Newton', 1), ('Einstein', 2)]\n",
            "[('Bohr', 10), ('Newton', 1), ('Einstein', 2)]\n"
          ]
        }
      ]
    },
    {
      "cell_type": "code",
      "source": [
        "\n",
        "\n",
        "def createCombiner(value):\n",
        "    return (value,1)\n",
        "def mergeValue(acc,value):\n",
        "    return  (acc[0]+value,acc[1]+1)\n",
        "    \n",
        "def mergeCombiners(acc1,acc2):\n",
        "    return (acc1[0]+acc2[0],acc1[1]+acc2[1])\n",
        "           \n",
        "rdd2 = rdd.combineByKey(createCombiner,mergeValue,mergeCombiners)\n",
        "print(rdd2.collect())"
      ],
      "metadata": {
        "colab": {
          "base_uri": "https://localhost:8080/"
        },
        "id": "Z_LCjpE91eIr",
        "outputId": "80f9faf9-7b8b-4821-d624-c0ec1fc52ea8"
      },
      "execution_count": 167,
      "outputs": [
        {
          "output_type": "stream",
          "name": "stdout",
          "text": [
            "[('Bohr', (10, 2)), ('Newton', (1, 1)), ('Einstein', (2, 1))]\n"
          ]
        }
      ]
    }
  ]
}